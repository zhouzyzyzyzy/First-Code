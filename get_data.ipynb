{
 "cells": [
  {
   "cell_type": "code",
   "execution_count": 298,
   "metadata": {},
   "outputs": [],
   "source": [
    "import requests\n",
    "import datetime\n",
    "import pymysql\n",
    "import json\n",
    "from elasticsearch import Elasticsearch\n",
    "from pandas.io.json import json_normalize\n",
    "import pandas as pd\n",
    "import numpy as np\n",
    "import progressbar\n",
    "import redis\n",
    "import matplotlib.pyplot as plt\n",
    "import seaborn as sns; sns.set()\n",
    "def to_date(s):\n",
    "    dt = datetime.datetime.fromtimestamp(s / 1e3)\n",
    "    return dt.strftime(\"%Y-%m-%d-%H\")\n",
    "def utc_to_date(s):\n",
    "    dt = datetime.datetime.utcfromtimestamp(s / 1e3)\n",
    "    return dt.strftime(\"%Y-%m-%d-%H\")"
   ]
  },
  {
   "cell_type": "code",
   "execution_count": 209,
   "metadata": {},
   "outputs": [
    {
     "data": {
      "text/plain": [
       "'2'"
      ]
     },
     "execution_count": 209,
     "metadata": {},
     "output_type": "execute_result"
    }
   ],
   "source": [
    "sql = \"select `shop_id`, `shop_redpacket_id`,`user_id`,`price`,`status`,`source_type`,`order_id` FROM `shop_redpacket_record` WHERE `source_type`= 'vip_wake_up_giving'\"\n",
    "\n",
    "connect=pymysql.connect(\n",
    "        host='rr-wz9cfug0i86qf0x9i.mysql.rds.aliyuncs.com',\n",
    "        port=3306,\n",
    "        user='bi_chenhao',\n",
    "        password='Chenhao765123',\n",
    "        database='shop-pro'\n",
    ")\n",
    "df_1 = pd.read_sql(sql,con = connect)\n",
    "df_1['status'][0]"
   ]
  },
  {
   "cell_type": "code",
   "execution_count": 276,
   "metadata": {},
   "outputs": [],
   "source": [
    "r = redis.Redis(host='47.112.147.187',port=6379,password='muxing2018',db=4,decode_responses=True)\n",
    "result = r.get('hongbao_lv1')\n",
    "result = json.loads(result)\n",
    "result = {int(k):v for k ,v in result.items()}            #result字典集\n",
    "\n",
    "group_0,group_1,group_2,group_3=[],[],[],[]\n",
    "\n",
    "for item,value in result.items():\n",
    "    if value == 0:                                  #对照组\n",
    "        group_0.append(item)\n",
    "    elif value == 1:                                #100-20\n",
    "        group_1.append(item)\n",
    "    elif value == 2:                                #3-3\n",
    "        group_2.append(item)\n",
    "    elif value == 3:                                #5-3\n",
    "        group_3.append(item)"
   ]
  },
  {
   "cell_type": "code",
   "execution_count": 268,
   "metadata": {},
   "outputs": [
    {
     "data": {
      "text/plain": [
       "272385"
      ]
     },
     "execution_count": 268,
     "metadata": {},
     "output_type": "execute_result"
    }
   ],
   "source": [
    "group_1[0]"
   ]
  },
  {
   "cell_type": "code",
   "execution_count": 86,
   "metadata": {},
   "outputs": [],
   "source": [
    "df_already=df_1[df_1['status']=='2']"
   ]
  },
  {
   "cell_type": "code",
   "execution_count": 87,
   "metadata": {},
   "outputs": [
    {
     "data": {
      "text/html": [
       "<div>\n",
       "<style scoped>\n",
       "    .dataframe tbody tr th:only-of-type {\n",
       "        vertical-align: middle;\n",
       "    }\n",
       "\n",
       "    .dataframe tbody tr th {\n",
       "        vertical-align: top;\n",
       "    }\n",
       "\n",
       "    .dataframe thead th {\n",
       "        text-align: right;\n",
       "    }\n",
       "</style>\n",
       "<table border=\"1\" class=\"dataframe\">\n",
       "  <thead>\n",
       "    <tr style=\"text-align: right;\">\n",
       "      <th></th>\n",
       "      <th>shop_id</th>\n",
       "      <th>shop_redpacket_id</th>\n",
       "      <th>user_id</th>\n",
       "      <th>price</th>\n",
       "      <th>status</th>\n",
       "      <th>source_type</th>\n",
       "      <th>order_id</th>\n",
       "    </tr>\n",
       "  </thead>\n",
       "  <tbody>\n",
       "    <tr>\n",
       "      <th>0</th>\n",
       "      <td>9997</td>\n",
       "      <td>0</td>\n",
       "      <td>155111</td>\n",
       "      <td>6000</td>\n",
       "      <td>2</td>\n",
       "      <td>vip_wake_up_giving</td>\n",
       "      <td>2161838</td>\n",
       "    </tr>\n",
       "    <tr>\n",
       "      <th>2</th>\n",
       "      <td>9997</td>\n",
       "      <td>0</td>\n",
       "      <td>155797</td>\n",
       "      <td>300</td>\n",
       "      <td>2</td>\n",
       "      <td>vip_wake_up_giving</td>\n",
       "      <td>2156361</td>\n",
       "    </tr>\n",
       "    <tr>\n",
       "      <th>14</th>\n",
       "      <td>9997</td>\n",
       "      <td>0</td>\n",
       "      <td>557156</td>\n",
       "      <td>300</td>\n",
       "      <td>2</td>\n",
       "      <td>vip_wake_up_giving</td>\n",
       "      <td>2162351</td>\n",
       "    </tr>\n",
       "    <tr>\n",
       "      <th>22</th>\n",
       "      <td>9997</td>\n",
       "      <td>0</td>\n",
       "      <td>688269</td>\n",
       "      <td>300</td>\n",
       "      <td>2</td>\n",
       "      <td>vip_wake_up_giving</td>\n",
       "      <td>2173141</td>\n",
       "    </tr>\n",
       "    <tr>\n",
       "      <th>32</th>\n",
       "      <td>9997</td>\n",
       "      <td>0</td>\n",
       "      <td>393400</td>\n",
       "      <td>300</td>\n",
       "      <td>2</td>\n",
       "      <td>vip_wake_up_giving</td>\n",
       "      <td>2159867</td>\n",
       "    </tr>\n",
       "  </tbody>\n",
       "</table>\n",
       "</div>"
      ],
      "text/plain": [
       "    shop_id  shop_redpacket_id  user_id  price status         source_type  \\\n",
       "0      9997                  0   155111   6000      2  vip_wake_up_giving   \n",
       "2      9997                  0   155797    300      2  vip_wake_up_giving   \n",
       "14     9997                  0   557156    300      2  vip_wake_up_giving   \n",
       "22     9997                  0   688269    300      2  vip_wake_up_giving   \n",
       "32     9997                  0   393400    300      2  vip_wake_up_giving   \n",
       "\n",
       "    order_id  \n",
       "0    2161838  \n",
       "2    2156361  \n",
       "14   2162351  \n",
       "22   2173141  \n",
       "32   2159867  "
      ]
     },
     "execution_count": 87,
     "metadata": {},
     "output_type": "execute_result"
    }
   ],
   "source": [
    "df_already.head()"
   ]
  },
  {
   "cell_type": "code",
   "execution_count": 103,
   "metadata": {},
   "outputs": [],
   "source": [
    "order_list=df_already['order_id'].tolist()"
   ]
  },
  {
   "cell_type": "code",
   "execution_count": 213,
   "metadata": {},
   "outputs": [],
   "source": [
    "dsl ={'aggs': {'my_buckets': {'aggregations': {'折前GMV': {'sum': {'field': 'skutotal_price'}}},\n",
    "                             'composite': {'size': 9999999,\n",
    "                                           'sources': [{'品类': {'terms': {'field': 'group_category_name'}}},\n",
    "                                                       {'商家':{'terms':{'field':'shop_id'}}},\n",
    "                                                       {'会员ID':{'terms':{'field':'user_id'}}},\n",
    "                                                       {'日期': {'date_histogram': {'field': 'paytime',\n",
    "                                                                                  'interval': '1d',\n",
    "                                                                                  'time_zone': '+00:00'}}}\n",
    "                                                      ]}}},\n",
    "     'query': {'bool': {'must': [ {'terms': {'user_id': group_0}},\n",
    "                                 {'terms': {'order_status': ['done',\n",
    "                                                             'fulfilled',\n",
    "                                                             'confirmed']}}]\n",
    "                       }}}\n",
    "es = Elasticsearch(['http://172.18.198.27:9200/'], timeout=30)\n",
    "res = es.search(index='es_order_table', doc_type='order', body=dsl,\n",
    "                                _source=False, explain=False, track_scores=False, track_total_hits=False, size=0,\n",
    "                                search_type='query_then_fetch')\n",
    "df = json_normalize(res['aggregations']['my_buckets']['buckets'])"
   ]
  },
  {
   "cell_type": "code",
   "execution_count": 217,
   "metadata": {},
   "outputs": [
    {
     "data": {
      "text/html": [
       "<div>\n",
       "<style scoped>\n",
       "    .dataframe tbody tr th:only-of-type {\n",
       "        vertical-align: middle;\n",
       "    }\n",
       "\n",
       "    .dataframe tbody tr th {\n",
       "        vertical-align: top;\n",
       "    }\n",
       "\n",
       "    .dataframe thead th {\n",
       "        text-align: right;\n",
       "    }\n",
       "</style>\n",
       "<table border=\"1\" class=\"dataframe\">\n",
       "  <thead>\n",
       "    <tr style=\"text-align: right;\">\n",
       "      <th></th>\n",
       "      <th>doc_count</th>\n",
       "      <th>key.会员ID</th>\n",
       "      <th>key.品类</th>\n",
       "      <th>key.商家</th>\n",
       "      <th>key.日期</th>\n",
       "      <th>折前GMV.value</th>\n",
       "    </tr>\n",
       "  </thead>\n",
       "  <tbody>\n",
       "    <tr>\n",
       "      <th>0</th>\n",
       "      <td>2</td>\n",
       "      <td>486044</td>\n",
       "      <td>ktv</td>\n",
       "      <td>11033</td>\n",
       "      <td>2019-05-20 08:00:00</td>\n",
       "      <td>98.0</td>\n",
       "    </tr>\n",
       "    <tr>\n",
       "      <th>1</th>\n",
       "      <td>1</td>\n",
       "      <td>595640</td>\n",
       "      <td>ktv</td>\n",
       "      <td>11033</td>\n",
       "      <td>2019-05-11 08:00:00</td>\n",
       "      <td>98.0</td>\n",
       "    </tr>\n",
       "    <tr>\n",
       "      <th>2</th>\n",
       "      <td>1</td>\n",
       "      <td>428685</td>\n",
       "      <td>ktv</td>\n",
       "      <td>11205</td>\n",
       "      <td>2019-05-23 08:00:00</td>\n",
       "      <td>99.0</td>\n",
       "    </tr>\n",
       "    <tr>\n",
       "      <th>3</th>\n",
       "      <td>1</td>\n",
       "      <td>706102</td>\n",
       "      <td>ktv</td>\n",
       "      <td>11205</td>\n",
       "      <td>2019-05-22 08:00:00</td>\n",
       "      <td>99.0</td>\n",
       "    </tr>\n",
       "    <tr>\n",
       "      <th>4</th>\n",
       "      <td>1</td>\n",
       "      <td>270235</td>\n",
       "      <td>null</td>\n",
       "      <td>365</td>\n",
       "      <td>2019-05-16 08:00:00</td>\n",
       "      <td>8.0</td>\n",
       "    </tr>\n",
       "  </tbody>\n",
       "</table>\n",
       "</div>"
      ],
      "text/plain": [
       "   doc_count  key.会员ID key.品类  key.商家              key.日期  折前GMV.value\n",
       "0          2    486044    ktv   11033 2019-05-20 08:00:00         98.0\n",
       "1          1    595640    ktv   11033 2019-05-11 08:00:00         98.0\n",
       "2          1    428685    ktv   11205 2019-05-23 08:00:00         99.0\n",
       "3          1    706102    ktv   11205 2019-05-22 08:00:00         99.0\n",
       "4          1    270235   null     365 2019-05-16 08:00:00          8.0"
      ]
     },
     "execution_count": 217,
     "metadata": {},
     "output_type": "execute_result"
    }
   ],
   "source": [
    "df['key.日期'] = df['key.日期'].apply(to_date)\n",
    "df['key.日期'] = pd.to_datetime(df['key.日期'])\n",
    "df.head()"
   ]
  },
  {
   "cell_type": "code",
   "execution_count": null,
   "metadata": {},
   "outputs": [],
   "source": [
    "df['品类']"
   ]
  },
  {
   "cell_type": "code",
   "execution_count": 54,
   "metadata": {},
   "outputs": [
    {
     "data": {
      "text/plain": [
       "3.0     770\n",
       "20.0     25\n",
       "60.0      1\n",
       "Name: 红包.value, dtype: int64"
      ]
     },
     "execution_count": 54,
     "metadata": {},
     "output_type": "execute_result"
    }
   ],
   "source": [
    "df['红包.value'].value_counts()"
   ]
  },
  {
   "cell_type": "code",
   "execution_count": 55,
   "metadata": {},
   "outputs": [],
   "source": [
    "df_twenty=df[df['红包.value']==20]"
   ]
  },
  {
   "cell_type": "code",
   "execution_count": 69,
   "metadata": {},
   "outputs": [
    {
     "data": {
      "text/plain": [
       "粤菜/早茶      9\n",
       "蛋糕/甜点      4\n",
       "麻辣烫/串串香    3\n",
       "衣物/皮具洗护    2\n",
       "港式/茶餐厅     2\n",
       "饮品店        1\n",
       "客家菜        1\n",
       "湘菜         1\n",
       "东南亚菜       1\n",
       "川菜         1\n",
       "Name: 品类, dtype: int64"
      ]
     },
     "execution_count": 69,
     "metadata": {},
     "output_type": "execute_result"
    }
   ],
   "source": [
    "df_twenty['品类'].value_counts()"
   ]
  },
  {
   "cell_type": "code",
   "execution_count": 70,
   "metadata": {},
   "outputs": [],
   "source": [
    "df_three=df[df['红包.value']==3]"
   ]
  },
  {
   "cell_type": "code",
   "execution_count": 71,
   "metadata": {},
   "outputs": [
    {
     "data": {
      "text/plain": [
       "蛋糕/甜点      553\n",
       "饮品店         46\n",
       "快餐          35\n",
       "西餐          29\n",
       "早餐档         25\n",
       "下午茶         18\n",
       "粤菜/早茶       12\n",
       "麻辣烫/串串香      9\n",
       "小吃           8\n",
       "日本料理         7\n",
       "null         6\n",
       "网咖           3\n",
       "港式/茶餐厅       3\n",
       "甜品店          2\n",
       "超市/便利店       2\n",
       "小火锅          2\n",
       "衣物/皮具洗护      2\n",
       "酸菜鱼          2\n",
       "音乐餐吧         2\n",
       "海鲜           1\n",
       "创意菜/特色菜      1\n",
       "鱼火锅          1\n",
       "川味/重庆火锅      1\n",
       "Name: 品类, dtype: int64"
      ]
     },
     "execution_count": 71,
     "metadata": {},
     "output_type": "execute_result"
    }
   ],
   "source": [
    "df_three['品类'].value_counts()"
   ]
  },
  {
   "cell_type": "code",
   "execution_count": 336,
   "metadata": {},
   "outputs": [],
   "source": [
    "begin = '2019-06-14 18:00:00'\n",
    "end = '2019-06-17 10:00:00'\n",
    "form = 'yyyy-MM-dd HH:mm:ss'"
   ]
  },
  {
   "cell_type": "code",
   "execution_count": 337,
   "metadata": {},
   "outputs": [],
   "source": [
    "dsl ={'aggs': {'my_buckets': {'aggregations': {'折前GMV': {'sum': {'field': 'skutotal_price'}}},\n",
    "                             'composite': {'size': 9999999,\n",
    "                                           'sources': [{'日期': {'date_histogram': {'field': 'paytime',\n",
    "                                                                                  'interval': '4h',\n",
    "                                                                                  'time_zone': '+00:00'}}}\n",
    "                                                      ]}}},\n",
    "     'query': {'bool': {'must': [{'range': {'paytime': {'gte': begin,\n",
    "                                                     'lte': end,\n",
    "                                                   'format': form}}},\n",
    "                                {'terms': {'user_id':  group_0}},\n",
    "                                 {'terms': {'order_status': ['done',\n",
    "                                                             'fulfilled',\n",
    "                                                             'confirmed']}}\n",
    "                       ]}}}\n",
    "es0 = Elasticsearch(['http://172.18.198.27:9200/'], timeout=30)\n",
    "res0 = es0.search(index='es_order_table', doc_type='order', body=dsl,\n",
    "                                _source=False, explain=False, track_scores=False, track_total_hits=False, size=0,\n",
    "                                search_type='query_then_fetch')\n",
    "df0 = json_normalize(res0['aggregations']['my_buckets']['buckets'])"
   ]
  },
  {
   "cell_type": "code",
   "execution_count": 338,
   "metadata": {},
   "outputs": [],
   "source": [
    "#df0.columns = map(lambda x: x.split('key.')[-1] if x.startswith('key.') else x, list(df0.columns))\n",
    "df0['key.日期'] = df0['key.日期'].apply(utc_to_date)\n",
    "df0['key.日期'] = pd.to_datetime(df0['key.日期'])"
   ]
  },
  {
   "cell_type": "code",
   "execution_count": 339,
   "metadata": {},
   "outputs": [
    {
     "data": {
      "text/html": [
       "<div>\n",
       "<style scoped>\n",
       "    .dataframe tbody tr th:only-of-type {\n",
       "        vertical-align: middle;\n",
       "    }\n",
       "\n",
       "    .dataframe tbody tr th {\n",
       "        vertical-align: top;\n",
       "    }\n",
       "\n",
       "    .dataframe thead th {\n",
       "        text-align: right;\n",
       "    }\n",
       "</style>\n",
       "<table border=\"1\" class=\"dataframe\">\n",
       "  <thead>\n",
       "    <tr style=\"text-align: right;\">\n",
       "      <th></th>\n",
       "      <th>doc_count</th>\n",
       "      <th>key.日期</th>\n",
       "      <th>折前GMV.value</th>\n",
       "    </tr>\n",
       "  </thead>\n",
       "  <tbody>\n",
       "    <tr>\n",
       "      <th>0</th>\n",
       "      <td>29</td>\n",
       "      <td>2019-06-14 16:00:00</td>\n",
       "      <td>597.160001</td>\n",
       "    </tr>\n",
       "    <tr>\n",
       "      <th>1</th>\n",
       "      <td>30</td>\n",
       "      <td>2019-06-14 20:00:00</td>\n",
       "      <td>2167.519995</td>\n",
       "    </tr>\n",
       "    <tr>\n",
       "      <th>2</th>\n",
       "      <td>2</td>\n",
       "      <td>2019-06-15 00:00:00</td>\n",
       "      <td>56.000000</td>\n",
       "    </tr>\n",
       "    <tr>\n",
       "      <th>3</th>\n",
       "      <td>13</td>\n",
       "      <td>2019-06-15 04:00:00</td>\n",
       "      <td>208.100001</td>\n",
       "    </tr>\n",
       "    <tr>\n",
       "      <th>4</th>\n",
       "      <td>61</td>\n",
       "      <td>2019-06-15 08:00:00</td>\n",
       "      <td>1391.700000</td>\n",
       "    </tr>\n",
       "  </tbody>\n",
       "</table>\n",
       "</div>"
      ],
      "text/plain": [
       "   doc_count              key.日期  折前GMV.value\n",
       "0         29 2019-06-14 16:00:00   597.160001\n",
       "1         30 2019-06-14 20:00:00  2167.519995\n",
       "2          2 2019-06-15 00:00:00    56.000000\n",
       "3         13 2019-06-15 04:00:00   208.100001\n",
       "4         61 2019-06-15 08:00:00  1391.700000"
      ]
     },
     "execution_count": 339,
     "metadata": {},
     "output_type": "execute_result"
    }
   ],
   "source": [
    "dsl ={'aggs': {'my_buckets': {'aggregations': {'折前GMV': {'sum': {'field': 'skutotal_price'}}},\n",
    "                             'composite': {'size': 9999999,\n",
    "                                           'sources': [{'日期': {'date_histogram': {'field': 'paytime',\n",
    "                                                                                  'interval': '4h',\n",
    "                                                                                  'time_zone': '+00:00'}}}\n",
    "                                                      ]}}},\n",
    "     'query': {'bool': {'must': [{'range': {'paytime': {'format': form,\n",
    "                                                           'gte': begin,\n",
    "                                                           'lte': end}}},\n",
    "                                 {'terms': {'user_id': group_1}},\n",
    "                                 {'terms': {'order_status': ['done',\n",
    "                                                             'fulfilled',\n",
    "                                                             'confirmed']}}]\n",
    "                       }}}\n",
    "es1 = Elasticsearch(['http://172.18.198.27:9200/'], timeout=30)\n",
    "res1 = es1.search(index='es_order_table', doc_type='order', body=dsl,\n",
    "                    _source=False, explain=False, track_scores=False, track_total_hits=False, size=0,\n",
    "                    search_type='query_then_fetch')\n",
    "df1 = json_normalize(res1['aggregations']['my_buckets']['buckets'])\n",
    "#df1.columns = map(lambda x: x.split('key.')[-1] if x.startswith('key.') else x, list(df1.columns))\n",
    "df1['key.日期'] = df1['key.日期'].apply(utc_to_date)\n",
    "df1['key.日期'] = pd.to_datetime(df1['key.日期'])\n",
    "df1.head()"
   ]
  },
  {
   "cell_type": "code",
   "execution_count": 340,
   "metadata": {},
   "outputs": [
    {
     "data": {
      "text/html": [
       "<div>\n",
       "<style scoped>\n",
       "    .dataframe tbody tr th:only-of-type {\n",
       "        vertical-align: middle;\n",
       "    }\n",
       "\n",
       "    .dataframe tbody tr th {\n",
       "        vertical-align: top;\n",
       "    }\n",
       "\n",
       "    .dataframe thead th {\n",
       "        text-align: right;\n",
       "    }\n",
       "</style>\n",
       "<table border=\"1\" class=\"dataframe\">\n",
       "  <thead>\n",
       "    <tr style=\"text-align: right;\">\n",
       "      <th></th>\n",
       "      <th>doc_count</th>\n",
       "      <th>key.日期</th>\n",
       "      <th>折前GMV.value</th>\n",
       "    </tr>\n",
       "  </thead>\n",
       "  <tbody>\n",
       "    <tr>\n",
       "      <th>0</th>\n",
       "      <td>40</td>\n",
       "      <td>2019-06-14 16:00:00</td>\n",
       "      <td>1362.399998</td>\n",
       "    </tr>\n",
       "    <tr>\n",
       "      <th>1</th>\n",
       "      <td>49</td>\n",
       "      <td>2019-06-14 20:00:00</td>\n",
       "      <td>1798.400001</td>\n",
       "    </tr>\n",
       "    <tr>\n",
       "      <th>2</th>\n",
       "      <td>4</td>\n",
       "      <td>2019-06-15 00:00:00</td>\n",
       "      <td>797.000000</td>\n",
       "    </tr>\n",
       "    <tr>\n",
       "      <th>3</th>\n",
       "      <td>22</td>\n",
       "      <td>2019-06-15 04:00:00</td>\n",
       "      <td>296.899998</td>\n",
       "    </tr>\n",
       "    <tr>\n",
       "      <th>4</th>\n",
       "      <td>73</td>\n",
       "      <td>2019-06-15 08:00:00</td>\n",
       "      <td>1401.699993</td>\n",
       "    </tr>\n",
       "  </tbody>\n",
       "</table>\n",
       "</div>"
      ],
      "text/plain": [
       "   doc_count              key.日期  折前GMV.value\n",
       "0         40 2019-06-14 16:00:00  1362.399998\n",
       "1         49 2019-06-14 20:00:00  1798.400001\n",
       "2          4 2019-06-15 00:00:00   797.000000\n",
       "3         22 2019-06-15 04:00:00   296.899998\n",
       "4         73 2019-06-15 08:00:00  1401.699993"
      ]
     },
     "execution_count": 340,
     "metadata": {},
     "output_type": "execute_result"
    }
   ],
   "source": [
    "dsl ={'aggs': {'my_buckets': {'aggregations': {'折前GMV': {'sum': {'field': 'skutotal_price'}}},\n",
    "                             'composite': {'size': 9999999,\n",
    "                                           'sources': [{'日期': {'date_histogram': {'field': 'paytime',\n",
    "                                                                                  'interval': '4h',\n",
    "                                                                                  'time_zone': '+00:00'}}}\n",
    "                                                      ]}}},\n",
    "     'query': {'bool': {'must': [ {'range': {'paytime': {'format': form,\n",
    "                                                           'gte': begin,\n",
    "                                                           'lte': end}}},\n",
    "                                 {'terms': {'user_id': group_2}},\n",
    "                                 {'terms': {'order_status': ['done',\n",
    "                                                             'fulfilled',\n",
    "                                                             'confirmed']}}]\n",
    "                       }}}\n",
    "es2 = Elasticsearch(['http://172.18.198.27:9200/'], timeout=30)\n",
    "res2 = es2.search(index='es_order_table', doc_type='order', body=dsl,\n",
    "                                _source=False, explain=False, track_scores=False, track_total_hits=False, size=0,\n",
    "                                search_type='query_then_fetch')\n",
    "df2 = json_normalize(res2['aggregations']['my_buckets']['buckets'])\n",
    "#df.columns = map(lambda x: x.split('key.')[-1] if x.startswith('key.') else x, list(df2.columns))\n",
    "df2['key.日期'] = df2['key.日期'].apply(utc_to_date)\n",
    "df2['key.日期'] = pd.to_datetime(df2['key.日期'])\n",
    "df2.head()"
   ]
  },
  {
   "cell_type": "code",
   "execution_count": 341,
   "metadata": {},
   "outputs": [
    {
     "data": {
      "text/html": [
       "<div>\n",
       "<style scoped>\n",
       "    .dataframe tbody tr th:only-of-type {\n",
       "        vertical-align: middle;\n",
       "    }\n",
       "\n",
       "    .dataframe tbody tr th {\n",
       "        vertical-align: top;\n",
       "    }\n",
       "\n",
       "    .dataframe thead th {\n",
       "        text-align: right;\n",
       "    }\n",
       "</style>\n",
       "<table border=\"1\" class=\"dataframe\">\n",
       "  <thead>\n",
       "    <tr style=\"text-align: right;\">\n",
       "      <th></th>\n",
       "      <th>doc_count</th>\n",
       "      <th>key.日期</th>\n",
       "      <th>折前GMV.value</th>\n",
       "    </tr>\n",
       "  </thead>\n",
       "  <tbody>\n",
       "    <tr>\n",
       "      <th>0</th>\n",
       "      <td>33</td>\n",
       "      <td>2019-06-14 16:00:00</td>\n",
       "      <td>1462.699998</td>\n",
       "    </tr>\n",
       "    <tr>\n",
       "      <th>1</th>\n",
       "      <td>41</td>\n",
       "      <td>2019-06-14 20:00:00</td>\n",
       "      <td>1623.040002</td>\n",
       "    </tr>\n",
       "    <tr>\n",
       "      <th>2</th>\n",
       "      <td>1</td>\n",
       "      <td>2019-06-15 00:00:00</td>\n",
       "      <td>5.000000</td>\n",
       "    </tr>\n",
       "    <tr>\n",
       "      <th>3</th>\n",
       "      <td>21</td>\n",
       "      <td>2019-06-15 04:00:00</td>\n",
       "      <td>716.200002</td>\n",
       "    </tr>\n",
       "    <tr>\n",
       "      <th>4</th>\n",
       "      <td>63</td>\n",
       "      <td>2019-06-15 08:00:00</td>\n",
       "      <td>1220.399993</td>\n",
       "    </tr>\n",
       "  </tbody>\n",
       "</table>\n",
       "</div>"
      ],
      "text/plain": [
       "   doc_count              key.日期  折前GMV.value\n",
       "0         33 2019-06-14 16:00:00  1462.699998\n",
       "1         41 2019-06-14 20:00:00  1623.040002\n",
       "2          1 2019-06-15 00:00:00     5.000000\n",
       "3         21 2019-06-15 04:00:00   716.200002\n",
       "4         63 2019-06-15 08:00:00  1220.399993"
      ]
     },
     "execution_count": 341,
     "metadata": {},
     "output_type": "execute_result"
    }
   ],
   "source": [
    "dsl ={'aggs': {'my_buckets': {'aggregations': {'折前GMV': {'sum': {'field': 'skutotal_price'}}},\n",
    "                             'composite': {'size': 9999999,\n",
    "                                           'sources': [{'日期': {'date_histogram': {'field': 'paytime',\n",
    "                                                                                  'interval': '4h',\n",
    "                                                                                  'time_zone': '+00:00'}}}\n",
    "                                                      ]}}},\n",
    "     'query': {'bool': {'must': [{'range': {'paytime': {'format':form,\n",
    "                                                           'gte': begin,\n",
    "                                                           'lte': end}}},\n",
    "                                 {'terms': {'user_id': group_3}},\n",
    "                                 {'terms': {'order_status': ['done',\n",
    "                                                             'fulfilled',\n",
    "                                                             'confirmed']}}]\n",
    "                       }}}\n",
    "es3 = Elasticsearch(['http://172.18.198.27:9200/'], timeout=30)\n",
    "res3 = es.search(index='es_order_table', doc_type='order', body=dsl,\n",
    "                                _source=False, explain=False, track_scores=False, track_total_hits=False, size=0,\n",
    "                                search_type='query_then_fetch')\n",
    "df3 = json_normalize(res3['aggregations']['my_buckets']['buckets'])\n",
    "#df.columns = map(lambda x: x.split('key.')[-1] if x.startswith('key.') else x, list(df3.columns))\n",
    "df3['key.日期'] = df3['key.日期'].apply(utc_to_date)\n",
    "df3['key.日期'] = pd.to_datetime(df3['key.日期'])\n",
    "df3.head()"
   ]
  },
  {
   "cell_type": "code",
   "execution_count": 342,
   "metadata": {},
   "outputs": [
    {
     "data": {
      "text/plain": [
       "[<matplotlib.lines.Line2D at 0x7f0936946470>,\n",
       " <matplotlib.lines.Line2D at 0x7f0936781978>,\n",
       " <matplotlib.lines.Line2D at 0x7f0936781d30>,\n",
       " <matplotlib.lines.Line2D at 0x7f0936781e80>]"
      ]
     },
     "execution_count": 342,
     "metadata": {},
     "output_type": "execute_result"
    },
    {
     "data": {
      "image/png": "[encoded data removed]",
      "text/plain": [
       "<Figure size 1440x720 with 1 Axes>"
      ]
     },
     "metadata": {},
     "output_type": "display_data"
    }
   ],
   "source": [
    "f,ax = plt.subplots(figsize = (20,10))\n",
    "plt.plot(df0['key.日期'],df0['折前GMV.value'],'r-',       #对照\n",
    "        df1['key.日期'],df1['折前GMV.value'],'b-',        #100-20\n",
    "        df2['key.日期'],df2['折前GMV.value'],'g-',        #3-3\n",
    "        df3['key.日期'],df3['折前GMV.value'],'y-'         #5-3\n",
    "        )\n"
   ]
  },
  {
   "cell_type": "code",
   "execution_count": 314,
   "metadata": {},
   "outputs": [],
   "source": []
  },
  {
   "cell_type": "code",
   "execution_count": null,
   "metadata": {},
   "outputs": [],
   "source": []
  }
 ],
 "metadata": {
  "kernelspec": {
   "display_name": "Python 3",
   "language": "python",
   "name": "python3"
  },
  "language_info": {
   "codemirror_mode": {
    "name": "ipython",
    "version": 3
   },
   "file_extension": ".py",
   "mimetype": "text/x-python",
   "name": "python",
   "nbconvert_exporter": "python",
   "pygments_lexer": "ipython3",
   "version": "3.6.6"
  }
 },
 "nbformat": 4,
 "nbformat_minor": 2
}
