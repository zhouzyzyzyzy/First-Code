{
 "cells": [
  {
   "cell_type": "code",
   "execution_count": 2,
   "metadata": {},
   "outputs": [],
   "source": [
    "import requests\n",
    "import datetime\n",
    "from elasticsearch import Elasticsearch\n",
    "from pandas.io.json import json_normalize\n",
    "import pandas as pd\n",
    "import numpy as np\n",
    "import progressbar\n",
    "import matplotlib.pyplot as plt\n",
    "\n",
    "def to_date(s):\n",
    "    dt = datetime.datetime.utcfromtimestamp(s / 1e3)\n",
    "    return dt.strftime(\"%Y-%m-%d\")"
   ]
  },
  {
   "cell_type": "code",
   "execution_count": 3,
   "metadata": {},
   "outputs": [],
   "source": [
    "dts = pd.read_csv('购买状态列表3.csv')"
   ]
  },
  {
   "cell_type": "code",
   "execution_count": 117,
   "metadata": {},
   "outputs": [
    {
     "data": {
      "text/html": [
       "<div>\n",
       "<style scoped>\n",
       "    .dataframe tbody tr th:only-of-type {\n",
       "        vertical-align: middle;\n",
       "    }\n",
       "\n",
       "    .dataframe tbody tr th {\n",
       "        vertical-align: top;\n",
       "    }\n",
       "\n",
       "    .dataframe thead th {\n",
       "        text-align: right;\n",
       "    }\n",
       "</style>\n",
       "<table border=\"1\" class=\"dataframe\">\n",
       "  <thead>\n",
       "    <tr style=\"text-align: right;\">\n",
       "      <th></th>\n",
       "      <th>Unnamed: 0</th>\n",
       "      <th>Unnamed: 0.1</th>\n",
       "      <th>Unnamed: 0.1.1</th>\n",
       "      <th>id</th>\n",
       "      <th>最后购买</th>\n",
       "      <th>天数</th>\n",
       "      <th>状态</th>\n",
       "      <th>购买数</th>\n",
       "      <th>购买金额</th>\n",
       "      <th>消费习惯</th>\n",
       "      <th>花销</th>\n",
       "    </tr>\n",
       "  </thead>\n",
       "  <tbody>\n",
       "    <tr>\n",
       "      <th>0</th>\n",
       "      <td>0</td>\n",
       "      <td>0</td>\n",
       "      <td>0</td>\n",
       "      <td>20147</td>\n",
       "      <td>2019-04-12</td>\n",
       "      <td>59</td>\n",
       "      <td>静默</td>\n",
       "      <td>3.0</td>\n",
       "      <td>26.200000</td>\n",
       "      <td>剁手</td>\n",
       "      <td>一般人</td>\n",
       "    </tr>\n",
       "    <tr>\n",
       "      <th>1</th>\n",
       "      <td>1</td>\n",
       "      <td>1</td>\n",
       "      <td>1</td>\n",
       "      <td>20156</td>\n",
       "      <td>2019-05-26</td>\n",
       "      <td>15</td>\n",
       "      <td>活跃</td>\n",
       "      <td>11.0</td>\n",
       "      <td>101.599999</td>\n",
       "      <td>剁手</td>\n",
       "      <td>有钱人</td>\n",
       "    </tr>\n",
       "    <tr>\n",
       "      <th>2</th>\n",
       "      <td>2</td>\n",
       "      <td>2</td>\n",
       "      <td>2</td>\n",
       "      <td>22088</td>\n",
       "      <td>2019-05-13</td>\n",
       "      <td>28</td>\n",
       "      <td>活跃</td>\n",
       "      <td>10.0</td>\n",
       "      <td>135.499998</td>\n",
       "      <td>剁手</td>\n",
       "      <td>有钱人</td>\n",
       "    </tr>\n",
       "    <tr>\n",
       "      <th>3</th>\n",
       "      <td>3</td>\n",
       "      <td>3</td>\n",
       "      <td>3</td>\n",
       "      <td>23837</td>\n",
       "      <td>2019-05-23</td>\n",
       "      <td>18</td>\n",
       "      <td>活跃</td>\n",
       "      <td>7.0</td>\n",
       "      <td>108.839999</td>\n",
       "      <td>剁手</td>\n",
       "      <td>有钱人</td>\n",
       "    </tr>\n",
       "    <tr>\n",
       "      <th>4</th>\n",
       "      <td>4</td>\n",
       "      <td>4</td>\n",
       "      <td>4</td>\n",
       "      <td>30292</td>\n",
       "      <td>2019-05-30</td>\n",
       "      <td>11</td>\n",
       "      <td>活跃</td>\n",
       "      <td>35.0</td>\n",
       "      <td>1192.410000</td>\n",
       "      <td>剁手</td>\n",
       "      <td>有钱人</td>\n",
       "    </tr>\n",
       "  </tbody>\n",
       "</table>\n",
       "</div>"
      ],
      "text/plain": [
       "   Unnamed: 0  Unnamed: 0.1  Unnamed: 0.1.1     id        最后购买  天数  状态   购买数  \\\n",
       "0           0             0               0  20147  2019-04-12  59  静默   3.0   \n",
       "1           1             1               1  20156  2019-05-26  15  活跃  11.0   \n",
       "2           2             2               2  22088  2019-05-13  28  活跃  10.0   \n",
       "3           3             3               3  23837  2019-05-23  18  活跃   7.0   \n",
       "4           4             4               4  30292  2019-05-30  11  活跃  35.0   \n",
       "\n",
       "          购买金额 消费习惯   花销  \n",
       "0    26.200000   剁手  一般人  \n",
       "1   101.599999   剁手  有钱人  \n",
       "2   135.499998   剁手  有钱人  \n",
       "3   108.839999   剁手  有钱人  \n",
       "4  1192.410000   剁手  有钱人  "
      ]
     },
     "execution_count": 117,
     "metadata": {},
     "output_type": "execute_result"
    }
   ],
   "source": [
    "dts.head()"
   ]
  },
  {
   "cell_type": "code",
   "execution_count": 4,
   "metadata": {},
   "outputs": [],
   "source": [
    "dts=dts.drop(['Unnamed: 0','Unnamed: 0.1','Unnamed: 0.1.1'],axis=1)"
   ]
  },
  {
   "cell_type": "code",
   "execution_count": 119,
   "metadata": {},
   "outputs": [
    {
     "data": {
      "text/html": [
       "<div>\n",
       "<style scoped>\n",
       "    .dataframe tbody tr th:only-of-type {\n",
       "        vertical-align: middle;\n",
       "    }\n",
       "\n",
       "    .dataframe tbody tr th {\n",
       "        vertical-align: top;\n",
       "    }\n",
       "\n",
       "    .dataframe thead th {\n",
       "        text-align: right;\n",
       "    }\n",
       "</style>\n",
       "<table border=\"1\" class=\"dataframe\">\n",
       "  <thead>\n",
       "    <tr style=\"text-align: right;\">\n",
       "      <th></th>\n",
       "      <th>id</th>\n",
       "      <th>最后购买</th>\n",
       "      <th>天数</th>\n",
       "      <th>状态</th>\n",
       "      <th>购买数</th>\n",
       "      <th>购买金额</th>\n",
       "      <th>消费习惯</th>\n",
       "      <th>花销</th>\n",
       "    </tr>\n",
       "  </thead>\n",
       "  <tbody>\n",
       "    <tr>\n",
       "      <th>0</th>\n",
       "      <td>20147</td>\n",
       "      <td>2019-04-12</td>\n",
       "      <td>59</td>\n",
       "      <td>静默</td>\n",
       "      <td>3.0</td>\n",
       "      <td>26.200000</td>\n",
       "      <td>剁手</td>\n",
       "      <td>一般人</td>\n",
       "    </tr>\n",
       "    <tr>\n",
       "      <th>1</th>\n",
       "      <td>20156</td>\n",
       "      <td>2019-05-26</td>\n",
       "      <td>15</td>\n",
       "      <td>活跃</td>\n",
       "      <td>11.0</td>\n",
       "      <td>101.599999</td>\n",
       "      <td>剁手</td>\n",
       "      <td>有钱人</td>\n",
       "    </tr>\n",
       "    <tr>\n",
       "      <th>2</th>\n",
       "      <td>22088</td>\n",
       "      <td>2019-05-13</td>\n",
       "      <td>28</td>\n",
       "      <td>活跃</td>\n",
       "      <td>10.0</td>\n",
       "      <td>135.499998</td>\n",
       "      <td>剁手</td>\n",
       "      <td>有钱人</td>\n",
       "    </tr>\n",
       "    <tr>\n",
       "      <th>3</th>\n",
       "      <td>23837</td>\n",
       "      <td>2019-05-23</td>\n",
       "      <td>18</td>\n",
       "      <td>活跃</td>\n",
       "      <td>7.0</td>\n",
       "      <td>108.839999</td>\n",
       "      <td>剁手</td>\n",
       "      <td>有钱人</td>\n",
       "    </tr>\n",
       "    <tr>\n",
       "      <th>4</th>\n",
       "      <td>30292</td>\n",
       "      <td>2019-05-30</td>\n",
       "      <td>11</td>\n",
       "      <td>活跃</td>\n",
       "      <td>35.0</td>\n",
       "      <td>1192.410000</td>\n",
       "      <td>剁手</td>\n",
       "      <td>有钱人</td>\n",
       "    </tr>\n",
       "  </tbody>\n",
       "</table>\n",
       "</div>"
      ],
      "text/plain": [
       "      id        最后购买  天数  状态   购买数         购买金额 消费习惯   花销\n",
       "0  20147  2019-04-12  59  静默   3.0    26.200000   剁手  一般人\n",
       "1  20156  2019-05-26  15  活跃  11.0   101.599999   剁手  有钱人\n",
       "2  22088  2019-05-13  28  活跃  10.0   135.499998   剁手  有钱人\n",
       "3  23837  2019-05-23  18  活跃   7.0   108.839999   剁手  有钱人\n",
       "4  30292  2019-05-30  11  活跃  35.0  1192.410000   剁手  有钱人"
      ]
     },
     "execution_count": 119,
     "metadata": {},
     "output_type": "execute_result"
    }
   ],
   "source": [
    "dts.head()"
   ]
  },
  {
   "cell_type": "code",
   "execution_count": 5,
   "metadata": {},
   "outputs": [
    {
     "name": "stderr",
     "output_type": "stream",
     "text": [
      "100% (64856 of 64856) |##################| Elapsed Time: 0:01:13 Time:  0:01:13\n"
     ]
    }
   ],
   "source": [
    "bar = progressbar\n",
    "worth_try,worth_look,worth_comp=[],[],[]\n",
    "for i in bar.progressbar(range(len(dts))):\n",
    "    if dts.iloc[i]['状态'] == '静默' and dts.iloc[i]['消费习惯']=='剁手' and dts.iloc[i]['花销']=='有钱人':\n",
    "        worth_try.append(dts.iloc[i]['id'])\n",
    "    elif dts.iloc[i]['状态'] == '活跃' and dts.iloc[i]['消费习惯']=='剁手' and dts.iloc[i]['花销']=='有钱人':\n",
    "        worth_look.append(dts.iloc[i]['id'])\n",
    "    elif dts.iloc[i]['状态'] == '活跃' and dts.iloc[i]['消费习惯']=='剁手' and dts.iloc[i]['花销']=='一般人':\n",
    "        worth_comp.append(dts.iloc[i]['id'])\n",
    "    else:\n",
    "        continue"
   ]
  },
  {
   "cell_type": "code",
   "execution_count": 16,
   "metadata": {},
   "outputs": [
    {
     "data": {
      "text/plain": [
       "2683"
      ]
     },
     "execution_count": 16,
     "metadata": {},
     "output_type": "execute_result"
    }
   ],
   "source": [
    "len(worth_try)# 快流失的有钱人"
   ]
  },
  {
   "cell_type": "code",
   "execution_count": 122,
   "metadata": {},
   "outputs": [
    {
     "data": {
      "text/plain": [
       "19685"
      ]
     },
     "execution_count": 122,
     "metadata": {},
     "output_type": "execute_result"
    }
   ],
   "source": [
    "len(worth_look)#活跃的有钱人"
   ]
  },
  {
   "cell_type": "code",
   "execution_count": 56,
   "metadata": {},
   "outputs": [
    {
     "data": {
      "text/plain": [
       "1842"
      ]
     },
     "execution_count": 56,
     "metadata": {},
     "output_type": "execute_result"
    }
   ],
   "source": [
    "len(worth_comp)# 活跃的一般人"
   ]
  },
  {
   "cell_type": "code",
   "execution_count": 57,
   "metadata": {},
   "outputs": [
    {
     "data": {
      "text/plain": [
       "31    0.063362\n",
       "32    0.128215\n",
       "33    0.089452\n",
       "34    0.124488\n",
       "35    0.130824\n",
       "Name: doc_count, dtype: float64"
      ]
     },
     "execution_count": 57,
     "metadata": {},
     "output_type": "execute_result"
    },
    {
     "data": {
      "image/png": "[encoded data removed]",
      "text/plain": [
       "<Figure size 432x288 with 1 Axes>"
      ]
     },
     "metadata": {
      "needs_background": "light"
     },
     "output_type": "display_data"
    }
   ],
   "source": [
    "dsl11 = {\n",
    "        'aggs': {'my_buckets': {'aggregations': {},\n",
    "                         'composite': {'size': 9999999,\n",
    "                                       'sources': [\n",
    "                                           {'日期': {'date_histogram': {'field': 'created',\n",
    "                                                                              'interval': '1d',\n",
    "                                                                              'time_zone': '+08:00'}}}\n",
    "                                       ]}}},\n",
    "         'query': {'bool': {'must': [#{'query_string': {'query': \"group_category_name='早餐档'\"}},\n",
    "                                     {'range': {'created': {'format': 'yyyy-MM-dd',\n",
    "                                                    'gte': '2019-05-05',\n",
    "                                                    'lte': '2019-06-09',\n",
    "                                                    'time_zone': '+08:00'}}},\n",
    "                             {'terms': {'app_name': ['vip-mini']}},\n",
    "                             {'terms': {'event_name': ['index', '首页']}},\n",
    "                             {'terms': {'user_id': [str(x) for x in worth_try]}},\n",
    "                            # {'terms': {'event_type': ['event']}}\n",
    "                        ]}}}\n",
    "es11 = Elasticsearch(['http://172.18.198.27:9200/'], timeout=30)\n",
    "res11 = es11.search(index='shop_pv_event', doc_type='pv_event', body=dsl11,\n",
    "                _source=False, explain=False, track_scores=False, track_total_hits=False, size=0,\n",
    "                search_type='query_then_fetch')\n",
    "df11 = json_normalize(res11['aggregations']['my_buckets']['buckets'])\n",
    "df11.columns = map(lambda x: x.split('key.')[-1] if x.startswith('key.') else x, list(df11.columns))\n",
    "df11['日期'] = df11['日期'].apply(to_date)\n",
    "df11['日期'] = pd.to_datetime(df11['日期'])\n",
    "\n",
    "\n",
    "df11['doc_count']=df11['doc_count']/len(worth_try)\n",
    "plt.plot(df11['日期'],df11['doc_count'],marker='.')\n",
    "plt.xticks(rotation='60')\n",
    "df11['doc_count'].tail()"
   ]
  },
  {
   "cell_type": "code",
   "execution_count": 58,
   "metadata": {},
   "outputs": [
    {
     "data": {
      "text/plain": [
       "31    0.242875\n",
       "32    0.235509\n",
       "33    0.187402\n",
       "34    0.214478\n",
       "35    0.233934\n",
       "Name: doc_count, dtype: float64"
      ]
     },
     "execution_count": 58,
     "metadata": {},
     "output_type": "execute_result"
    },
    {
     "data": {
      "image/png": "[encoded data removed]",
      "text/plain": [
       "<Figure size 432x288 with 1 Axes>"
      ]
     },
     "metadata": {
      "needs_background": "light"
     },
     "output_type": "display_data"
    }
   ],
   "source": [
    "dsl21 = {\n",
    "        'aggs': {'my_buckets': {'aggregations': {},\n",
    "                         'composite': {'size': 9999999,\n",
    "                                       'sources': [\n",
    "                                           {'日期': {'date_histogram': {'field': 'created',\n",
    "                                                                              'interval': '1d',\n",
    "                                                                              'time_zone': '+08:00'}}}\n",
    "                                       ]}}},\n",
    "         'query': {'bool': {'must': [#{'query_string': {'query': \"group_category_name='早餐档'\"}},\n",
    "                                     {'range': {'created': {'format': 'yyyy-MM-dd',\n",
    "                                                    'gte': '2019-05-05',\n",
    "                                                    'lte': '2019-06-09',\n",
    "                                                    'time_zone': '+08:00'}}},\n",
    "                             {'terms': {'app_name': ['vip-mini']}},\n",
    "                             {'terms': {'event_name': ['index', '首页']}},\n",
    "                             {'terms': {'user_id': [str(x) for x in worth_look]}},\n",
    "                            # {'terms': {'event_type': ['event']}}\n",
    "                        ]}}}\n",
    "es21 = Elasticsearch(['http://172.18.198.27:9200/'], timeout=30)\n",
    "res21 = es21.search(index='shop_pv_event', doc_type='pv_event', body=dsl21,\n",
    "                _source=False, explain=False, track_scores=False, track_total_hits=False, size=0,\n",
    "                search_type='query_then_fetch')\n",
    "df21 = json_normalize(res21['aggregations']['my_buckets']['buckets'])\n",
    "df21.columns = map(lambda x: x.split('key.')[-1] if x.startswith('key.') else x, list(df21.columns))\n",
    "df21['日期'] = df21['日期'].apply(to_date)\n",
    "df21['日期'] = pd.to_datetime(df21['日期'])\n",
    "df21['doc_count']=df21['doc_count']/len(worth_look)\n",
    "plt.plot(df21['日期'],df21['doc_count'],marker='.')\n",
    "plt.xticks(rotation='60')\n",
    "df21['doc_count'].tail()"
   ]
  },
  {
   "cell_type": "code",
   "execution_count": 59,
   "metadata": {},
   "outputs": [
    {
     "data": {
      "text/plain": [
       "31    0.105320\n",
       "32    0.051574\n",
       "33    0.042888\n",
       "34    0.047774\n",
       "35    0.060803\n",
       "Name: doc_count, dtype: float64"
      ]
     },
     "execution_count": 59,
     "metadata": {},
     "output_type": "execute_result"
    },
    {
     "data": {
      "image/png": "[encoded data removed]",
      "text/plain": [
       "<Figure size 432x288 with 1 Axes>"
      ]
     },
     "metadata": {
      "needs_background": "light"
     },
     "output_type": "display_data"
    }
   ],
   "source": [
    "dsl31 = {\n",
    "        'aggs': {'my_buckets': {'aggregations': {},\n",
    "                         'composite': {'size': 9999999,\n",
    "                                       'sources': [\n",
    "                                           {'日期': {'date_histogram': {'field': 'created',\n",
    "                                                                              'interval': '1d',\n",
    "                                                                              'time_zone': '+08:00'}}}\n",
    "                                       ]}}},\n",
    "         'query': {'bool': {'must': [#{'query_string': {'query': \"group_category_name='早餐档'\"}},\n",
    "                                     {'range': {'created': {'format': 'yyyy-MM-dd',\n",
    "                                                    'gte': '2019-05-05',\n",
    "                                                    'lte': '2019-06-09',\n",
    "                                                    'time_zone': '+08:00'}}},\n",
    "                             {'terms': {'app_name': ['vip-mini']}},\n",
    "                             {'terms': {'event_name': ['index', '首页']}},\n",
    "                             {'terms': {'user_id': [str(x) for x in worth_comp]}},\n",
    "                            # {'terms': {'event_type': ['event']}}\n",
    "                        ]}}}\n",
    "es31 = Elasticsearch(['http://172.18.198.27:9200/'], timeout=30)\n",
    "res31 = es31.search(index='shop_pv_event', doc_type='pv_event', body=dsl31,\n",
    "                _source=False, explain=False, track_scores=False, track_total_hits=False, size=0,\n",
    "                search_type='query_then_fetch')\n",
    "df31 = json_normalize(res31['aggregations']['my_buckets']['buckets'])\n",
    "df31.columns = map(lambda x: x.split('key.')[-1] if x.startswith('key.') else x, list(df31.columns))\n",
    "df31['日期'] = df31['日期'].apply(to_date)\n",
    "df31['日期'] = pd.to_datetime(df31['日期'])\n",
    "df31['doc_count']=df31['doc_count']/len(worth_comp)\n",
    "plt.plot(df31['日期'],df31['doc_count'],marker='.')\n",
    "plt.xticks(rotation='60')\n",
    "df31['doc_count'].tail()"
   ]
  },
  {
   "cell_type": "code",
   "execution_count": 60,
   "metadata": {},
   "outputs": [
    {
     "data": {
      "text/plain": [
       "(array([737184., 737188., 737192., 737196., 737200., 737204., 737208.,\n",
       "        737211., 737215., 737219.]), <a list of 10 Text xticklabel objects>)"
      ]
     },
     "execution_count": 60,
     "metadata": {},
     "output_type": "execute_result"
    },
    {
     "data": {
      "image/png": "[encoded data removed]",
      "text/plain": [
       "<Figure size 432x288 with 1 Axes>"
      ]
     },
     "metadata": {
      "needs_background": "light"
     },
     "output_type": "display_data"
    }
   ],
   "source": [
    "#首页\n",
    "plt.plot(df11['日期'],df11['doc_count'],'g-.',   #绿色    静默有钱人    \n",
    "         df21['日期'],df21['doc_count'],'b-.',  #蓝色    活跃有钱人\n",
    "         df31['日期'],df31['doc_count'],'r-.')   #红色    活跃一般人\n",
    "plt.xticks(rotation='60')"
   ]
  },
  {
   "cell_type": "code",
   "execution_count": 61,
   "metadata": {},
   "outputs": [],
   "source": [
    "dsl32 = {\n",
    "        'aggs': {'my_buckets': {'aggregations': {},\n",
    "                         'composite': {'size': 9999999,\n",
    "                                       'sources': [\n",
    "                                           {'日期': {'date_histogram': {'field': 'created',\n",
    "                                                                              'interval': '1d',\n",
    "                                                                              'time_zone': '+08:00'}}}\n",
    "                                       ]}}},\n",
    "         'query': {'bool': {'must': [#{'query_string': {'query': \"group_category_name='早餐档'\"}},\n",
    "                                     {'range': {'created': {'format': 'yyyy-MM-dd',\n",
    "                                                    'gte': '2019-05-05',\n",
    "                                                    'lte': '2019-06-09',\n",
    "                                                    'time_zone': '+08:00'}}},\n",
    "                             {'terms': {'app_name': ['vip-mini']}},\n",
    "                             {'terms': {'event_name': ['detail', '商家详情']}},\n",
    "                             {'terms': {'user_id': [str(x) for x in worth_comp]}},\n",
    "                            # {'terms': {'event_type': ['event']}}\n",
    "                        ]}}}\n",
    "es32 = Elasticsearch(['http://172.18.198.27:9200/'], timeout=30)\n",
    "res32 = es32.search(index='shop_pv_event', doc_type='pv_event', body=dsl32,\n",
    "                _source=False, explain=False, track_scores=False, track_total_hits=False, size=0,\n",
    "                search_type='query_then_fetch')\n",
    "df32 = json_normalize(res32['aggregations']['my_buckets']['buckets'])\n",
    "df32.columns = map(lambda x: x.split('key.')[-1] if x.startswith('key.') else x, list(df32.columns))\n",
    "df32['日期'] = df32['日期'].apply(to_date)\n",
    "df32['日期'] = pd.to_datetime(df32['日期'])\n",
    "df32['doc_count']=df32['doc_count']/len(worth_comp)"
   ]
  },
  {
   "cell_type": "code",
   "execution_count": 62,
   "metadata": {},
   "outputs": [
    {
     "data": {
      "text/plain": [
       "31    0.139396\n",
       "32    0.191949\n",
       "33    0.096906\n",
       "34    0.171450\n",
       "35    0.131196\n",
       "Name: doc_count, dtype: float64"
      ]
     },
     "execution_count": 62,
     "metadata": {},
     "output_type": "execute_result"
    }
   ],
   "source": [
    "dsl12 = {\n",
    "        'aggs': {'my_buckets': {'aggregations': {},\n",
    "                         'composite': {'size': 9999999,\n",
    "                                       'sources': [\n",
    "                                           {'日期': {'date_histogram': {'field': 'created',\n",
    "                                                                              'interval': '1d',\n",
    "                                                                              'time_zone': '+08:00'}}}\n",
    "                                       ]}}},\n",
    "         'query': {'bool': {'must': [#{'query_string': {'query': \"group_category_name='早餐档'\"}},\n",
    "                                     {'range': {'created': {'format': 'yyyy-MM-dd',\n",
    "                                                    'gte': '2019-05-05',\n",
    "                                                    'lte': '2019-06-09',\n",
    "                                                    'time_zone': '+08:00'}}},\n",
    "                             {'terms': {'app_name': ['vip-mini']}},\n",
    "                             {'terms': {'event_name': ['detail', '商家详情']}},\n",
    "                             {'terms': {'user_id': [str(x) for x in worth_try]}},\n",
    "                            # {'terms': {'event_type': ['event']}}\n",
    "                        ]}}}\n",
    "es12 = Elasticsearch(['http://172.18.198.27:9200/'], timeout=30)\n",
    "res12 = es12.search(index='shop_pv_event', doc_type='pv_event', body=dsl12,\n",
    "                _source=False, explain=False, track_scores=False, track_total_hits=False, size=0,\n",
    "                search_type='query_then_fetch')\n",
    "df12 = json_normalize(res12['aggregations']['my_buckets']['buckets'])\n",
    "df12.columns = map(lambda x: x.split('key.')[-1] if x.startswith('key.') else x, list(df12.columns))\n",
    "df12['日期'] = df12['日期'].apply(to_date)\n",
    "df12['日期'] = pd.to_datetime(df12['日期'])\n",
    "df12['doc_count']=df12['doc_count']/len(worth_try)\n",
    "df12['doc_count'].tail()"
   ]
  },
  {
   "cell_type": "code",
   "execution_count": 63,
   "metadata": {},
   "outputs": [
    {
     "data": {
      "text/plain": [
       "31    0.319990\n",
       "32    0.308560\n",
       "33    0.239624\n",
       "34    0.280671\n",
       "35    0.268275\n",
       "Name: doc_count, dtype: float64"
      ]
     },
     "execution_count": 63,
     "metadata": {},
     "output_type": "execute_result"
    }
   ],
   "source": [
    "dsl22 = {\n",
    "        'aggs': {'my_buckets': {'aggregations': {},\n",
    "                         'composite': {'size': 9999999,\n",
    "                                       'sources': [\n",
    "                                           {'日期': {'date_histogram': {'field': 'created',\n",
    "                                                                              'interval': '1d',\n",
    "                                                                              'time_zone': '+08:00'}}}\n",
    "                                       ]}}},\n",
    "         'query': {'bool': {'must': [#{'query_string': {'query': \"group_category_name='早餐档'\"}},\n",
    "                                     {'range': {'created': {'format': 'yyyy-MM-dd',\n",
    "                                                    'gte': '2019-05-05',\n",
    "                                                    'lte': '2019-06-09',\n",
    "                                                    'time_zone': '+08:00'}}},\n",
    "                             {'terms': {'app_name': ['vip-mini']}},\n",
    "                             {'terms': {'event_name': ['detail', '商家详情']}},\n",
    "                             {'terms': {'user_id': [str(x) for x in worth_look]}},\n",
    "                             #{'terms': {'event_type': ['event']}}\n",
    "                        ]}}}\n",
    "es22 = Elasticsearch(['http://172.18.198.27:9200/'], timeout=30)\n",
    "res22 = es32.search(index='shop_pv_event', doc_type='pv_event', body=dsl22,\n",
    "                _source=False, explain=False, track_scores=False, track_total_hits=False, size=0,\n",
    "                search_type='query_then_fetch')\n",
    "df22 = json_normalize(res22['aggregations']['my_buckets']['buckets'])\n",
    "df22.columns = map(lambda x: x.split('key.')[-1] if x.startswith('key.') else x, list(df22.columns))\n",
    "df22['日期'] = df22['日期'].apply(to_date)\n",
    "df22['日期'] = pd.to_datetime(df22['日期'])\n",
    "df22['doc_count']=df22['doc_count']/len(worth_look)\n",
    "df22['doc_count'].tail()"
   ]
  },
  {
   "cell_type": "code",
   "execution_count": 64,
   "metadata": {},
   "outputs": [
    {
     "data": {
      "text/plain": [
       "(array([737184., 737188., 737192., 737196., 737200., 737204., 737208.,\n",
       "        737211., 737215., 737219.]), <a list of 10 Text xticklabel objects>)"
      ]
     },
     "execution_count": 64,
     "metadata": {},
     "output_type": "execute_result"
    },
    {
     "data": {
      "image/png": "[encoded data removed]",
      "text/plain": [
       "<Figure size 432x288 with 1 Axes>"
      ]
     },
     "metadata": {
      "needs_background": "light"
     },
     "output_type": "display_data"
    }
   ],
   "source": [
    "#商家详情页\n",
    "plt.plot(df12['日期'],df12['doc_count'],'g-.',   #绿色   静默有钱人\n",
    "         df12['日期'],df22['doc_count'],'b-.',  #蓝色   活跃有钱人\n",
    "         df12['日期'],df32['doc_count'],'r-.')   #红色   活跃一般人\n",
    "plt.xticks(rotation='60')"
   ]
  },
  {
   "cell_type": "code",
   "execution_count": 65,
   "metadata": {},
   "outputs": [],
   "source": [
    "['discount-list', '五折日历列表页']\n",
    "dsl13 = {\n",
    "        'aggs': {'my_buckets': {'aggregations': {},\n",
    "                         'composite': {'size': 9999999,\n",
    "                                       'sources': [\n",
    "                                           {'日期': {'date_histogram': {'field': 'created',\n",
    "                                                                              'interval': '1d',\n",
    "                                                                              'time_zone': '+08:00'}}}\n",
    "                                       ]}}},\n",
    "         'query': {'bool': {'must': [#{'query_string': {'query': \"group_category_name='早餐档'\"}},\n",
    "                                     {'range': {'created': {'format': 'yyyy-MM-dd',\n",
    "                                                    'gte': '2019-05-05',\n",
    "                                                    'lte': '2019-06-09',\n",
    "                                                    'time_zone': '+08:00'}}},\n",
    "                             {'terms': {'app_name': ['vip-mini']}},\n",
    "                             {'terms': {'event_name': ['discount-list', '五折日历列表页']}},\n",
    "                             {'terms': {'user_id': [str(x) for x in worth_try]}},\n",
    "                            # {'terms': {'event_type': ['event']}}\n",
    "                        ]}}}\n",
    "es13 = Elasticsearch(['http://172.18.198.27:9200/'], timeout=30)\n",
    "res13 = es13.search(index='shop_pv_event', doc_type='pv_event', body=dsl13,\n",
    "                _source=False, explain=False, track_scores=False, track_total_hits=False, size=0,\n",
    "                search_type='query_then_fetch')\n",
    "df13 = json_normalize(res13['aggregations']['my_buckets']['buckets'])\n",
    "df13.columns = map(lambda x: x.split('key.')[-1] if x.startswith('key.') else x, list(df13.columns))\n",
    "df13['日期'] = df13['日期'].apply(to_date)\n",
    "df13['日期'] = pd.to_datetime(df13['日期'])\n",
    "df13['doc_count']=df13['doc_count']/len(worth_try)\n",
    "\n",
    "dsl23 = {\n",
    "        'aggs': {'my_buckets': {'aggregations': {},\n",
    "                         'composite': {'size': 9999999,\n",
    "                                       'sources': [\n",
    "                                           {'日期': {'date_histogram': {'field': 'created',\n",
    "                                                                              'interval': '1d',\n",
    "                                                                              'time_zone': '+08:00'}}}\n",
    "                                       ]}}},\n",
    "         'query': {'bool': {'must': [#{'query_string': {'query': \"group_category_name='早餐档'\"}},\n",
    "                                     {'range': {'created': {'format': 'yyyy-MM-dd',\n",
    "                                                    'gte': '2019-05-05',\n",
    "                                                    'lte': '2019-06-09',\n",
    "                                                    'time_zone': '+08:00'}}},\n",
    "                             {'terms': {'app_name': ['vip-mini']}},\n",
    "                             {'terms': {'event_name': ['discount-list', '五折日历列表页']}},\n",
    "                             {'terms': {'user_id': [str(x) for x in worth_look]}},\n",
    "                            # {'terms': {'event_type': ['event']}}\n",
    "                        ]}}}\n",
    "es23 = Elasticsearch(['http://172.18.198.27:9200/'], timeout=30)\n",
    "res23 = es23.search(index='shop_pv_event', doc_type='pv_event', body=dsl23,\n",
    "                _source=False, explain=False, track_scores=False, track_total_hits=False, size=0,\n",
    "                search_type='query_then_fetch')\n",
    "df23 = json_normalize(res23['aggregations']['my_buckets']['buckets'])\n",
    "df23.columns = map(lambda x: x.split('key.')[-1] if x.startswith('key.') else x, list(df23.columns))\n",
    "df23['日期'] = df23['日期'].apply(to_date)\n",
    "df23['日期'] = pd.to_datetime(df23['日期'])\n",
    "df23['doc_count']=df23['doc_count']/len(worth_look)\n",
    "\n",
    "dsl33 = {\n",
    "        'aggs': {'my_buckets': {'aggregations': {},\n",
    "                         'composite': {'size': 9999999,\n",
    "                                       'sources': [\n",
    "                                           {'日期': {'date_histogram': {'field': 'created',\n",
    "                                                                              'interval': '1d',\n",
    "                                                                              'time_zone': '+08:00'}}}\n",
    "                                       ]}}},\n",
    "         'query': {'bool': {'must': [#{'query_string': {'query': \"group_category_name='早餐档'\"}},\n",
    "                                     {'range': {'created': {'format': 'yyyy-MM-dd',\n",
    "                                                    'gte': '2019-05-05',\n",
    "                                                    'lte': '2019-06-09',\n",
    "                                                    'time_zone': '+08:00'}}},\n",
    "                             {'terms': {'app_name': ['vip-mini']}},\n",
    "                             {'terms': {'event_name': ['discount-list', '五折日历列表页']}},\n",
    "                             {'terms': {'user_id': [str(x) for x in worth_comp]}},\n",
    "                            # {'terms': {'event_type': ['event']}}\n",
    "                        ]}}}\n",
    "es33 = Elasticsearch(['http://172.18.198.27:9200/'], timeout=30)\n",
    "res33 = es33.search(index='shop_pv_event', doc_type='pv_event', body=dsl33,\n",
    "                _source=False, explain=False, track_scores=False, track_total_hits=False, size=0,\n",
    "                search_type='query_then_fetch')\n",
    "df33 = json_normalize(res33['aggregations']['my_buckets']['buckets'])\n",
    "df33.columns = map(lambda x: x.split('key.')[-1] if x.startswith('key.') else x, list(df33.columns))\n",
    "df33['日期'] = df33['日期'].apply(to_date)\n",
    "df33['日期'] = pd.to_datetime(df33['日期'])\n",
    "df33['doc_count']=df33['doc_count']/len(worth_comp)"
   ]
  },
  {
   "cell_type": "code",
   "execution_count": 66,
   "metadata": {},
   "outputs": [
    {
     "data": {
      "text/plain": [
       "(array([737184., 737188., 737192., 737196., 737200., 737204., 737208.,\n",
       "        737211., 737215., 737219.]), <a list of 10 Text xticklabel objects>)"
      ]
     },
     "execution_count": 66,
     "metadata": {},
     "output_type": "execute_result"
    },
    {
     "data": {
      "image/png": "[encoded data removed]",
      "text/plain": [
       "<Figure size 432x288 with 1 Axes>"
      ]
     },
     "metadata": {
      "needs_background": "light"
     },
     "output_type": "display_data"
    }
   ],
   "source": [
    "#五折日历\n",
    "plt.plot(df13['日期'],df13['doc_count'],'g-.',   #绿色   静默有钱人\n",
    "         df23['日期'],df23['doc_count'],'b-.',  #蓝色   活跃有钱人\n",
    "         df33['日期'],df33['doc_count'],'r-.')   #红色   活跃一般人\n",
    "plt.xticks(rotation='60')"
   ]
  },
  {
   "cell_type": "code",
   "execution_count": 67,
   "metadata": {},
   "outputs": [
    {
     "data": {
      "text/plain": [
       "(array([737184., 737188., 737192., 737196., 737200., 737204., 737208.,\n",
       "        737211., 737215., 737219.]), <a list of 10 Text xticklabel objects>)"
      ]
     },
     "execution_count": 67,
     "metadata": {},
     "output_type": "execute_result"
    },
    {
     "data": {
      "image/png": "[encoded data removed]",
      "text/plain": [
       "<Figure size 432x288 with 1 Axes>"
      ]
     },
     "metadata": {
      "needs_background": "light"
     },
     "output_type": "display_data"
    }
   ],
   "source": [
    "#详情页\n",
    "plt.plot(df12['日期'],df12['doc_count'],'g-.',   #绿色   静默有钱人\n",
    "         df12['日期'],df22['doc_count'],'b-.',  #蓝色   活跃有钱人\n",
    "         df12['日期'],df32['doc_count'],'r-.')   #红色   活跃一般人\n",
    "plt.xticks(rotation='60')"
   ]
  },
  {
   "cell_type": "code",
   "execution_count": 68,
   "metadata": {},
   "outputs": [
    {
     "data": {
      "text/plain": [
       "(array([737184., 737188., 737192., 737196., 737200., 737204., 737208.,\n",
       "        737211., 737215., 737219.]), <a list of 10 Text xticklabel objects>)"
      ]
     },
     "execution_count": 68,
     "metadata": {},
     "output_type": "execute_result"
    },
    {
     "data": {
      "image/png": "[encoded data removed]",
      "text/plain": [
       "<Figure size 432x288 with 1 Axes>"
      ]
     },
     "metadata": {
      "needs_background": "light"
     },
     "output_type": "display_data"
    }
   ],
   "source": [
    "#首页\n",
    "plt.plot(df11['日期'],df11['doc_count'],'g-',   #绿色    静默有钱人    \n",
    "         df21['日期'],df21['doc_count'],'b-',  #蓝色    活跃有钱人\n",
    "         df31['日期'],df31['doc_count'],'r-')   #红色    活跃一般人\n",
    "plt.xticks(rotation='60')"
   ]
  },
  {
   "cell_type": "code",
   "execution_count": 69,
   "metadata": {},
   "outputs": [
    {
     "data": {
      "text/plain": [
       "(array([737184., 737188., 737192., 737196., 737200., 737204., 737208.,\n",
       "        737211., 737215., 737219.]), <a list of 10 Text xticklabel objects>)"
      ]
     },
     "execution_count": 69,
     "metadata": {},
     "output_type": "execute_result"
    },
    {
     "data": {
      "image/png": "[encoded data removed]",
      "text/plain": [
       "<Figure size 432x288 with 1 Axes>"
      ]
     },
     "metadata": {
      "needs_background": "light"
     },
     "output_type": "display_data"
    }
   ],
   "source": [
    "#首页\n",
    "plt.plot(df11['日期'],df11['doc_count'],'g-',   #绿色    首页\n",
    "         df12['日期'],df12['doc_count'],'b-',  #蓝色    详情页\n",
    "         df13['日期'],df13['doc_count'],'r-', )  #红色    五折日历\n",
    "plt.xticks(rotation='60')"
   ]
  },
  {
   "cell_type": "code",
   "execution_count": 70,
   "metadata": {},
   "outputs": [],
   "source": [
    "#{'terms': {'event_name': ['个人中心']}}\n",
    "dsl14 = {\n",
    "        'aggs': {'my_buckets': {'aggregations': {},\n",
    "                         'composite': {'size': 9999999,\n",
    "                                       'sources': [\n",
    "                                           {'日期': {'date_histogram': {'field': 'created',\n",
    "                                                                              'interval': '1d',\n",
    "                                                                              'time_zone': '+08:00'}}}\n",
    "                                       ]}}},\n",
    "         'query': {'bool': {'must': [#{'query_string': {'query': \"group_category_name='早餐档'\"}},\n",
    "                                     {'range': {'created': {'format': 'yyyy-MM-dd',\n",
    "                                                    'gte': '2019-05-05',\n",
    "                                                    'lte': '2019-06-09',\n",
    "                                                    'time_zone': '+08:00'}}},\n",
    "                             {'terms': {'app_name': ['vip-mini']}},\n",
    "                             {'terms': {'event_name': ['我的黑卡', 'home']}},\n",
    "                             {'terms': {'user_id': [str(x) for x in worth_try]}},\n",
    "                            # {'terms': {'event_type': ['event']}}\n",
    "                        ]}}}\n",
    "es14 = Elasticsearch(['http://172.18.198.27:9200/'], timeout=30)\n",
    "res14 = es14.search(index='shop_pv_event', doc_type='pv_event', body=dsl14,\n",
    "                _source=False, explain=False, track_scores=False, track_total_hits=False, size=0,\n",
    "                search_type='query_then_fetch')\n",
    "df14 = json_normalize(res14['aggregations']['my_buckets']['buckets'])\n",
    "df14.columns = map(lambda x: x.split('key.')[-1] if x.startswith('key.') else x, list(df14.columns))\n",
    "df14['日期'] = df14['日期'].apply(to_date)\n",
    "df14['日期'] = pd.to_datetime(df14['日期'])\n",
    "df14['doc_count']=df14['doc_count']/len(worth_try)\n",
    "\n",
    "dsl24 = {\n",
    "        'aggs': {'my_buckets': {'aggregations': {},\n",
    "                         'composite': {'size': 9999999,\n",
    "                                       'sources': [\n",
    "                                           {'日期': {'date_histogram': {'field': 'created',\n",
    "                                                                              'interval': '1d',\n",
    "                                                                              'time_zone': '+08:00'}}}\n",
    "                                       ]}}},\n",
    "         'query': {'bool': {'must': [#{'query_string': {'query': \"group_category_name='早餐档'\"}},\n",
    "                                     {'range': {'created': {'format': 'yyyy-MM-dd',\n",
    "                                                    'gte': '2019-05-05',\n",
    "                                                    'lte': '2019-06-09',\n",
    "                                                    'time_zone': '+08:00'}}},\n",
    "                             {'terms': {'app_name': ['vip-mini']}},\n",
    "                             {'terms': {'event_name': ['我的黑卡', 'home']}},\n",
    "                             {'terms': {'user_id': [str(x) for x in worth_look]}},\n",
    "                            # {'terms': {'event_type': ['event']}}\n",
    "                        ]}}}\n",
    "es24 = Elasticsearch(['http://172.18.198.27:9200/'], timeout=30)\n",
    "res24 = es24.search(index='shop_pv_event', doc_type='pv_event', body=dsl24,\n",
    "                _source=False, explain=False, track_scores=False, track_total_hits=False, size=0,\n",
    "                search_type='query_then_fetch')\n",
    "df24 = json_normalize(res24['aggregations']['my_buckets']['buckets'])\n",
    "df24.columns = map(lambda x: x.split('key.')[-1] if x.startswith('key.') else x, list(df24.columns))\n",
    "df24['日期'] = df24['日期'].apply(to_date)\n",
    "df24['日期'] = pd.to_datetime(df24['日期'])\n",
    "df24['doc_count']=df24['doc_count']/len(worth_look)\n",
    "\n",
    "dsl34 = {\n",
    "        'aggs': {'my_buckets': {'aggregations': {},\n",
    "                         'composite': {'size': 9999999,\n",
    "                                       'sources': [\n",
    "                                           {'日期': {'date_histogram': {'field': 'created',\n",
    "                                                                              'interval': '1d',\n",
    "                                                                              'time_zone': '+08:00'}}}\n",
    "                                       ]}}},\n",
    "         'query': {'bool': {'must': [#{'query_string': {'query': \"group_category_name='早餐档'\"}},\n",
    "                                     {'range': {'created': {'format': 'yyyy-MM-dd',\n",
    "                                                    'gte': '2019-05-05',\n",
    "                                                    'lte': '2019-06-09',\n",
    "                                                    'time_zone': '+08:00'}}},\n",
    "                             {'terms': {'app_name': ['vip-mini']}},\n",
    "                             {'terms': {'event_name': ['我的黑卡', 'home']}},\n",
    "                             {'terms': {'user_id': [str(x) for x in worth_comp]}},\n",
    "                            # {'terms': {'event_type': ['event']}}\n",
    "                        ]}}}\n",
    "es34 = Elasticsearch(['http://172.18.198.27:9200/'], timeout=30)\n",
    "res34 = es34.search(index='shop_pv_event', doc_type='pv_event', body=dsl34,\n",
    "                _source=False, explain=False, track_scores=False, track_total_hits=False, size=0,\n",
    "                search_type='query_then_fetch')\n",
    "df34 = json_normalize(res34['aggregations']['my_buckets']['buckets'])\n",
    "df34.columns = map(lambda x: x.split('key.')[-1] if x.startswith('key.') else x, list(df34.columns))\n",
    "df34['日期'] = df34['日期'].apply(to_date)\n",
    "df34['日期'] = pd.to_datetime(df34['日期'])\n",
    "df34['doc_count']=df34['doc_count']/len(worth_comp)"
   ]
  },
  {
   "cell_type": "code",
   "execution_count": 74,
   "metadata": {},
   "outputs": [
    {
     "data": {
      "text/html": [
       "<div>\n",
       "<style scoped>\n",
       "    .dataframe tbody tr th:only-of-type {\n",
       "        vertical-align: middle;\n",
       "    }\n",
       "\n",
       "    .dataframe tbody tr th {\n",
       "        vertical-align: top;\n",
       "    }\n",
       "\n",
       "    .dataframe thead th {\n",
       "        text-align: right;\n",
       "    }\n",
       "</style>\n",
       "<table border=\"1\" class=\"dataframe\">\n",
       "  <thead>\n",
       "    <tr style=\"text-align: right;\">\n",
       "      <th></th>\n",
       "      <th>doc_count</th>\n",
       "      <th>日期</th>\n",
       "    </tr>\n",
       "  </thead>\n",
       "  <tbody>\n",
       "    <tr>\n",
       "      <th>0</th>\n",
       "      <td>0.002172</td>\n",
       "      <td>2019-05-22</td>\n",
       "    </tr>\n",
       "    <tr>\n",
       "      <th>1</th>\n",
       "      <td>0.009229</td>\n",
       "      <td>2019-05-23</td>\n",
       "    </tr>\n",
       "    <tr>\n",
       "      <th>2</th>\n",
       "      <td>0.013029</td>\n",
       "      <td>2019-05-24</td>\n",
       "    </tr>\n",
       "    <tr>\n",
       "      <th>3</th>\n",
       "      <td>0.003800</td>\n",
       "      <td>2019-05-25</td>\n",
       "    </tr>\n",
       "    <tr>\n",
       "      <th>4</th>\n",
       "      <td>0.008143</td>\n",
       "      <td>2019-05-26</td>\n",
       "    </tr>\n",
       "  </tbody>\n",
       "</table>\n",
       "</div>"
      ],
      "text/plain": [
       "   doc_count         日期\n",
       "0   0.002172 2019-05-22\n",
       "1   0.009229 2019-05-23\n",
       "2   0.013029 2019-05-24\n",
       "3   0.003800 2019-05-25\n",
       "4   0.008143 2019-05-26"
      ]
     },
     "execution_count": 74,
     "metadata": {},
     "output_type": "execute_result"
    }
   ],
   "source": [
    "df34.head()"
   ]
  },
  {
   "cell_type": "code",
   "execution_count": 73,
   "metadata": {},
   "outputs": [
    {
     "data": {
      "text/html": [
       "<div>\n",
       "<style scoped>\n",
       "    .dataframe tbody tr th:only-of-type {\n",
       "        vertical-align: middle;\n",
       "    }\n",
       "\n",
       "    .dataframe tbody tr th {\n",
       "        vertical-align: top;\n",
       "    }\n",
       "\n",
       "    .dataframe thead th {\n",
       "        text-align: right;\n",
       "    }\n",
       "</style>\n",
       "<table border=\"1\" class=\"dataframe\">\n",
       "  <thead>\n",
       "    <tr style=\"text-align: right;\">\n",
       "      <th></th>\n",
       "      <th>doc_count</th>\n",
       "      <th>日期</th>\n",
       "    </tr>\n",
       "  </thead>\n",
       "  <tbody>\n",
       "    <tr>\n",
       "      <th>0</th>\n",
       "      <td>0.003505</td>\n",
       "      <td>2019-05-22</td>\n",
       "    </tr>\n",
       "    <tr>\n",
       "      <th>1</th>\n",
       "      <td>0.020574</td>\n",
       "      <td>2019-05-23</td>\n",
       "    </tr>\n",
       "    <tr>\n",
       "      <th>2</th>\n",
       "      <td>0.024740</td>\n",
       "      <td>2019-05-24</td>\n",
       "    </tr>\n",
       "    <tr>\n",
       "      <th>3</th>\n",
       "      <td>0.023470</td>\n",
       "      <td>2019-05-25</td>\n",
       "    </tr>\n",
       "    <tr>\n",
       "      <th>4</th>\n",
       "      <td>0.021387</td>\n",
       "      <td>2019-05-26</td>\n",
       "    </tr>\n",
       "  </tbody>\n",
       "</table>\n",
       "</div>"
      ],
      "text/plain": [
       "   doc_count         日期\n",
       "0   0.003505 2019-05-22\n",
       "1   0.020574 2019-05-23\n",
       "2   0.024740 2019-05-24\n",
       "3   0.023470 2019-05-25\n",
       "4   0.021387 2019-05-26"
      ]
     },
     "execution_count": 73,
     "metadata": {},
     "output_type": "execute_result"
    }
   ],
   "source": [
    "df24.head()"
   ]
  },
  {
   "cell_type": "code",
   "execution_count": 75,
   "metadata": {},
   "outputs": [
    {
     "data": {
      "text/html": [
       "<div>\n",
       "<style scoped>\n",
       "    .dataframe tbody tr th:only-of-type {\n",
       "        vertical-align: middle;\n",
       "    }\n",
       "\n",
       "    .dataframe tbody tr th {\n",
       "        vertical-align: top;\n",
       "    }\n",
       "\n",
       "    .dataframe thead th {\n",
       "        text-align: right;\n",
       "    }\n",
       "</style>\n",
       "<table border=\"1\" class=\"dataframe\">\n",
       "  <thead>\n",
       "    <tr style=\"text-align: right;\">\n",
       "      <th></th>\n",
       "      <th>doc_count</th>\n",
       "      <th>日期</th>\n",
       "    </tr>\n",
       "  </thead>\n",
       "  <tbody>\n",
       "    <tr>\n",
       "      <th>0</th>\n",
       "      <td>0.001864</td>\n",
       "      <td>2019-05-22</td>\n",
       "    </tr>\n",
       "    <tr>\n",
       "      <th>1</th>\n",
       "      <td>0.005218</td>\n",
       "      <td>2019-05-23</td>\n",
       "    </tr>\n",
       "    <tr>\n",
       "      <th>2</th>\n",
       "      <td>0.004473</td>\n",
       "      <td>2019-05-24</td>\n",
       "    </tr>\n",
       "    <tr>\n",
       "      <th>3</th>\n",
       "      <td>0.006709</td>\n",
       "      <td>2019-05-25</td>\n",
       "    </tr>\n",
       "    <tr>\n",
       "      <th>4</th>\n",
       "      <td>0.005963</td>\n",
       "      <td>2019-05-26</td>\n",
       "    </tr>\n",
       "  </tbody>\n",
       "</table>\n",
       "</div>"
      ],
      "text/plain": [
       "   doc_count         日期\n",
       "0   0.001864 2019-05-22\n",
       "1   0.005218 2019-05-23\n",
       "2   0.004473 2019-05-24\n",
       "3   0.006709 2019-05-25\n",
       "4   0.005963 2019-05-26"
      ]
     },
     "execution_count": 75,
     "metadata": {},
     "output_type": "execute_result"
    }
   ],
   "source": [
    "df14.head()"
   ]
  },
  {
   "cell_type": "code",
   "execution_count": 76,
   "metadata": {},
   "outputs": [
    {
     "data": {
      "text/plain": [
       "(array([737202., 737204., 737206., 737208., 737210., 737211., 737213.,\n",
       "        737215., 737217.]), <a list of 9 Text xticklabel objects>)"
      ]
     },
     "execution_count": 76,
     "metadata": {},
     "output_type": "execute_result"
    },
    {
     "data": {
      "image/png": "[encoded data removed]",
      "text/plain": [
       "<Figure size 432x288 with 1 Axes>"
      ]
     },
     "metadata": {
      "needs_background": "light"
     },
     "output_type": "display_data"
    }
   ],
   "source": [
    "#我的黑卡\n",
    "plt.plot(df14['日期'],df14['doc_count'],'g-',   #绿色    静默有钱人    \n",
    "         df24['日期'],df24['doc_count'],'b-',  #蓝色    活跃有钱人\n",
    "         df34['日期'],df34['doc_count'],'r-')   #红色    活跃一般人\n",
    "plt.xticks(rotation='60')"
   ]
  },
  {
   "cell_type": "code",
   "execution_count": null,
   "metadata": {},
   "outputs": [],
   "source": [
    "{'人数(UV)': {'cardinality': {'field': 'uuid', 'precision_threshold': 100}}}"
   ]
  },
  {
   "cell_type": "code",
   "execution_count": 30,
   "metadata": {},
   "outputs": [
    {
     "data": {
      "text/html": [
       "<div>\n",
       "<style scoped>\n",
       "    .dataframe tbody tr th:only-of-type {\n",
       "        vertical-align: middle;\n",
       "    }\n",
       "\n",
       "    .dataframe tbody tr th {\n",
       "        vertical-align: top;\n",
       "    }\n",
       "\n",
       "    .dataframe thead th {\n",
       "        text-align: right;\n",
       "    }\n",
       "</style>\n",
       "<table border=\"1\" class=\"dataframe\">\n",
       "  <thead>\n",
       "    <tr style=\"text-align: right;\">\n",
       "      <th></th>\n",
       "      <th>doc_count</th>\n",
       "      <th>日期</th>\n",
       "      <th>人数(UV).value</th>\n",
       "    </tr>\n",
       "  </thead>\n",
       "  <tbody>\n",
       "    <tr>\n",
       "      <th>0</th>\n",
       "      <td>219</td>\n",
       "      <td>2019-05-04</td>\n",
       "      <td>137</td>\n",
       "    </tr>\n",
       "    <tr>\n",
       "      <th>1</th>\n",
       "      <td>182</td>\n",
       "      <td>2019-05-05</td>\n",
       "      <td>108</td>\n",
       "    </tr>\n",
       "    <tr>\n",
       "      <th>2</th>\n",
       "      <td>133</td>\n",
       "      <td>2019-05-06</td>\n",
       "      <td>84</td>\n",
       "    </tr>\n",
       "    <tr>\n",
       "      <th>3</th>\n",
       "      <td>105</td>\n",
       "      <td>2019-05-07</td>\n",
       "      <td>76</td>\n",
       "    </tr>\n",
       "    <tr>\n",
       "      <th>4</th>\n",
       "      <td>109</td>\n",
       "      <td>2019-05-08</td>\n",
       "      <td>85</td>\n",
       "    </tr>\n",
       "  </tbody>\n",
       "</table>\n",
       "</div>"
      ],
      "text/plain": [
       "   doc_count         日期  人数(UV).value\n",
       "0        219 2019-05-04           137\n",
       "1        182 2019-05-05           108\n",
       "2        133 2019-05-06            84\n",
       "3        105 2019-05-07            76\n",
       "4        109 2019-05-08            85"
      ]
     },
     "execution_count": 30,
     "metadata": {},
     "output_type": "execute_result"
    }
   ],
   "source": [
    "dsl13_1 = {\n",
    "        'aggs': {'my_buckets': {'aggregations': {'人数(UV)': {'cardinality': {'field': 'uuid', 'precision_threshold': 100}}},\n",
    "                         'composite': {'size': 9999999,\n",
    "                                       'sources': [\n",
    "                                           {'日期': {'date_histogram': {'field': 'created',\n",
    "                                                                              'interval': '1d',\n",
    "                                                                              'time_zone': '+08:00'}}}\n",
    "                                       ]}}},\n",
    "         'query': {'bool': {'must': [#{'query_string': {'query': \"group_category_name='早餐档'\"}},\n",
    "                                     {'range': {'created': {'format': 'yyyy-MM-dd',\n",
    "                                                    'gte': '2019-05-05',\n",
    "                                                    'lte': '2019-06-09',\n",
    "                                                    'time_zone': '+08:00'}}},\n",
    "                             {'terms': {'app_name': ['vip-mini']}},\n",
    "                             {'terms': {'event_name': ['discount-list', '五折日历列表页']}},\n",
    "                             {'terms': {'user_id': [str(x) for x in worth_try]}},\n",
    "                             #{'terms': {'event_type': ['event']}}\n",
    "                        ]}}}\n",
    "es13_1 = Elasticsearch(['http://172.18.198.27:9200/'], timeout=30)\n",
    "res13_1 = es13_1.search(index='shop_pv_event', doc_type='pv_event', body=dsl13_1,\n",
    "                _source=False, explain=False, track_scores=False, track_total_hits=False, size=0,\n",
    "                search_type='query_then_fetch')\n",
    "df13_1 = json_normalize(res13_1['aggregations']['my_buckets']['buckets'])\n",
    "df13_1.columns = map(lambda x: x.split('key.')[-1] if x.startswith('key.') else x, list(df13_1.columns))\n",
    "df13_1['日期'] = df13_1['日期'].apply(to_date)\n",
    "df13_1['日期'] = pd.to_datetime(df13_1['日期'])\n",
    "df13_1.head()"
   ]
  },
  {
   "cell_type": "code",
   "execution_count": 31,
   "metadata": {},
   "outputs": [],
   "source": [
    "df13_1['点击率']=df13_1['人数(UV).value']/len(worth_try)"
   ]
  },
  {
   "cell_type": "code",
   "execution_count": 43,
   "metadata": {},
   "outputs": [
    {
     "data": {
      "text/html": [
       "<div>\n",
       "<style scoped>\n",
       "    .dataframe tbody tr th:only-of-type {\n",
       "        vertical-align: middle;\n",
       "    }\n",
       "\n",
       "    .dataframe tbody tr th {\n",
       "        vertical-align: top;\n",
       "    }\n",
       "\n",
       "    .dataframe thead th {\n",
       "        text-align: right;\n",
       "    }\n",
       "</style>\n",
       "<table border=\"1\" class=\"dataframe\">\n",
       "  <thead>\n",
       "    <tr style=\"text-align: right;\">\n",
       "      <th></th>\n",
       "      <th>doc_count</th>\n",
       "      <th>日期</th>\n",
       "      <th>人数(UV).value</th>\n",
       "    </tr>\n",
       "  </thead>\n",
       "  <tbody>\n",
       "    <tr>\n",
       "      <th>0</th>\n",
       "      <td>2990</td>\n",
       "      <td>2019-05-04</td>\n",
       "      <td>1685</td>\n",
       "    </tr>\n",
       "    <tr>\n",
       "      <th>1</th>\n",
       "      <td>2934</td>\n",
       "      <td>2019-05-05</td>\n",
       "      <td>1638</td>\n",
       "    </tr>\n",
       "    <tr>\n",
       "      <th>2</th>\n",
       "      <td>3017</td>\n",
       "      <td>2019-05-06</td>\n",
       "      <td>1716</td>\n",
       "    </tr>\n",
       "    <tr>\n",
       "      <th>3</th>\n",
       "      <td>2842</td>\n",
       "      <td>2019-05-07</td>\n",
       "      <td>1584</td>\n",
       "    </tr>\n",
       "    <tr>\n",
       "      <th>4</th>\n",
       "      <td>2760</td>\n",
       "      <td>2019-05-08</td>\n",
       "      <td>1622</td>\n",
       "    </tr>\n",
       "  </tbody>\n",
       "</table>\n",
       "</div>"
      ],
      "text/plain": [
       "   doc_count         日期  人数(UV).value\n",
       "0       2990 2019-05-04          1685\n",
       "1       2934 2019-05-05          1638\n",
       "2       3017 2019-05-06          1716\n",
       "3       2842 2019-05-07          1584\n",
       "4       2760 2019-05-08          1622"
      ]
     },
     "execution_count": 43,
     "metadata": {},
     "output_type": "execute_result"
    }
   ],
   "source": [
    "dsl23_1 = {\n",
    "        'aggs': {'my_buckets': {'aggregations': {'人数(UV)': {'cardinality': {'field': 'uuid', 'precision_threshold': 100}}},\n",
    "                         'composite': {'size': 9999999,\n",
    "                                       'sources': [\n",
    "                                           {'日期': {'date_histogram': {'field': 'created',\n",
    "                                                                              'interval': '1d',\n",
    "                                                                              'time_zone': '+08:00'}}}\n",
    "                                       ]}}},\n",
    "         'query': {'bool': {'must': [#{'query_string': {'query': \"group_category_name='早餐档'\"}},\n",
    "                                     {'range': {'created': {'format': 'yyyy-MM-dd',\n",
    "                                                    'gte': '2019-05-05',\n",
    "                                                    'lte': '2019-06-09',\n",
    "                                                    'time_zone': '+08:00'}}},\n",
    "                             {'terms': {'app_name': ['vip-mini']}},\n",
    "                             {'terms': {'event_name': ['discount-list', '五折日历列表页']}},\n",
    "                             {'terms': {'user_id': [str(x) for x in worth_look]}},\n",
    "                            # {'terms': {'event_type': ['event']}}\n",
    "                        ]}}}\n",
    "es23_1 = Elasticsearch(['http://172.18.198.27:9200/'], timeout=30)\n",
    "res23_1 = es23_1.search(index='shop_pv_event', doc_type='pv_event', body=dsl23_1,\n",
    "                _source=False, explain=False, track_scores=False, track_total_hits=False, size=0,\n",
    "                search_type='query_then_fetch')\n",
    "df23_1 = json_normalize(res23_1['aggregations']['my_buckets']['buckets'])\n",
    "df23_1.columns = map(lambda x: x.split('key.')[-1] if x.startswith('key.') else x, list(df23_1.columns))\n",
    "df23_1['日期'] = df23_1['日期'].apply(to_date)\n",
    "df23_1['日期'] = pd.to_datetime(df23_1['日期'])\n",
    "df23_1.head()"
   ]
  },
  {
   "cell_type": "code",
   "execution_count": 44,
   "metadata": {},
   "outputs": [
    {
     "data": {
      "text/html": [
       "<div>\n",
       "<style scoped>\n",
       "    .dataframe tbody tr th:only-of-type {\n",
       "        vertical-align: middle;\n",
       "    }\n",
       "\n",
       "    .dataframe tbody tr th {\n",
       "        vertical-align: top;\n",
       "    }\n",
       "\n",
       "    .dataframe thead th {\n",
       "        text-align: right;\n",
       "    }\n",
       "</style>\n",
       "<table border=\"1\" class=\"dataframe\">\n",
       "  <thead>\n",
       "    <tr style=\"text-align: right;\">\n",
       "      <th></th>\n",
       "      <th>doc_count</th>\n",
       "      <th>日期</th>\n",
       "      <th>人数(UV).value</th>\n",
       "      <th>点击率</th>\n",
       "    </tr>\n",
       "  </thead>\n",
       "  <tbody>\n",
       "    <tr>\n",
       "      <th>0</th>\n",
       "      <td>2990</td>\n",
       "      <td>2019-05-04</td>\n",
       "      <td>1685</td>\n",
       "      <td>0.085598</td>\n",
       "    </tr>\n",
       "    <tr>\n",
       "      <th>1</th>\n",
       "      <td>2934</td>\n",
       "      <td>2019-05-05</td>\n",
       "      <td>1638</td>\n",
       "      <td>0.083211</td>\n",
       "    </tr>\n",
       "    <tr>\n",
       "      <th>2</th>\n",
       "      <td>3017</td>\n",
       "      <td>2019-05-06</td>\n",
       "      <td>1716</td>\n",
       "      <td>0.087173</td>\n",
       "    </tr>\n",
       "    <tr>\n",
       "      <th>3</th>\n",
       "      <td>2842</td>\n",
       "      <td>2019-05-07</td>\n",
       "      <td>1584</td>\n",
       "      <td>0.080467</td>\n",
       "    </tr>\n",
       "    <tr>\n",
       "      <th>4</th>\n",
       "      <td>2760</td>\n",
       "      <td>2019-05-08</td>\n",
       "      <td>1622</td>\n",
       "      <td>0.082398</td>\n",
       "    </tr>\n",
       "  </tbody>\n",
       "</table>\n",
       "</div>"
      ],
      "text/plain": [
       "   doc_count         日期  人数(UV).value       点击率\n",
       "0       2990 2019-05-04          1685  0.085598\n",
       "1       2934 2019-05-05          1638  0.083211\n",
       "2       3017 2019-05-06          1716  0.087173\n",
       "3       2842 2019-05-07          1584  0.080467\n",
       "4       2760 2019-05-08          1622  0.082398"
      ]
     },
     "execution_count": 44,
     "metadata": {},
     "output_type": "execute_result"
    }
   ],
   "source": [
    "df23_1['点击率']=df23_1['人数(UV).value']/len(worth_look)\n",
    "df23_1.head()"
   ]
  },
  {
   "cell_type": "code",
   "execution_count": 39,
   "metadata": {},
   "outputs": [
    {
     "data": {
      "text/html": [
       "<div>\n",
       "<style scoped>\n",
       "    .dataframe tbody tr th:only-of-type {\n",
       "        vertical-align: middle;\n",
       "    }\n",
       "\n",
       "    .dataframe tbody tr th {\n",
       "        vertical-align: top;\n",
       "    }\n",
       "\n",
       "    .dataframe thead th {\n",
       "        text-align: right;\n",
       "    }\n",
       "</style>\n",
       "<table border=\"1\" class=\"dataframe\">\n",
       "  <thead>\n",
       "    <tr style=\"text-align: right;\">\n",
       "      <th></th>\n",
       "      <th>doc_count</th>\n",
       "      <th>日期</th>\n",
       "      <th>人数(UV).value</th>\n",
       "    </tr>\n",
       "  </thead>\n",
       "  <tbody>\n",
       "    <tr>\n",
       "      <th>0</th>\n",
       "      <td>25</td>\n",
       "      <td>2019-05-04</td>\n",
       "      <td>21</td>\n",
       "    </tr>\n",
       "    <tr>\n",
       "      <th>1</th>\n",
       "      <td>71</td>\n",
       "      <td>2019-05-05</td>\n",
       "      <td>37</td>\n",
       "    </tr>\n",
       "    <tr>\n",
       "      <th>2</th>\n",
       "      <td>45</td>\n",
       "      <td>2019-05-06</td>\n",
       "      <td>31</td>\n",
       "    </tr>\n",
       "    <tr>\n",
       "      <th>3</th>\n",
       "      <td>66</td>\n",
       "      <td>2019-05-07</td>\n",
       "      <td>40</td>\n",
       "    </tr>\n",
       "    <tr>\n",
       "      <th>4</th>\n",
       "      <td>42</td>\n",
       "      <td>2019-05-08</td>\n",
       "      <td>31</td>\n",
       "    </tr>\n",
       "  </tbody>\n",
       "</table>\n",
       "</div>"
      ],
      "text/plain": [
       "   doc_count         日期  人数(UV).value\n",
       "0         25 2019-05-04            21\n",
       "1         71 2019-05-05            37\n",
       "2         45 2019-05-06            31\n",
       "3         66 2019-05-07            40\n",
       "4         42 2019-05-08            31"
      ]
     },
     "execution_count": 39,
     "metadata": {},
     "output_type": "execute_result"
    }
   ],
   "source": [
    "dsl33_1 = {\n",
    "        'aggs': {'my_buckets': {'aggregations': {'人数(UV)': {'cardinality': {'field': 'uuid', 'precision_threshold': 100}}},\n",
    "                         'composite': {'size': 9999999,\n",
    "                                       'sources': [\n",
    "                                           {'日期': {'date_histogram': {'field': 'created',\n",
    "                                                                              'interval': '1d',\n",
    "                                                                              'time_zone': '+08:00'}}}\n",
    "                                       ]}}},\n",
    "         'query': {'bool': {'must': [#{'query_string': {'query': \"group_category_name='早餐档'\"}},\n",
    "                                     {'range': {'created': {'format': 'yyyy-MM-dd',\n",
    "                                                    'gte': '2019-05-05',\n",
    "                                                    'lte': '2019-06-09',\n",
    "                                                    'time_zone': '+08:00'}}},\n",
    "                             {'terms': {'app_name': ['vip-mini']}},\n",
    "                             {'terms': {'event_name': ['discount-list', '五折日历列表页']}},\n",
    "                             {'terms': {'user_id': [str(x) for x in worth_comp]}},\n",
    "                            # {'terms': {'event_type': ['event']}}\n",
    "                        ]}}}\n",
    "es33_1 = Elasticsearch(['http://172.18.198.27:9200/'], timeout=30)\n",
    "res33_1 = es33.search(index='shop_pv_event', doc_type='pv_event', body=dsl33_1,\n",
    "                _source=False, explain=False, track_scores=False, track_total_hits=False, size=0,\n",
    "                search_type='query_then_fetch')\n",
    "df33_1 = json_normalize(res33_1['aggregations']['my_buckets']['buckets'])\n",
    "df33_1.columns = map(lambda x: x.split('key.')[-1] if x.startswith('key.') else x, list(df33_1.columns))\n",
    "df33_1['日期'] = df33_1['日期'].apply(to_date)\n",
    "df33_1['日期'] = pd.to_datetime(df33_1['日期'])\n",
    "df33_1.head()"
   ]
  },
  {
   "cell_type": "code",
   "execution_count": 41,
   "metadata": {},
   "outputs": [],
   "source": [
    "df33_1['点击率']=df33_1['人数(UV).value']/len(worth_comp)"
   ]
  },
  {
   "cell_type": "code",
   "execution_count": 45,
   "metadata": {},
   "outputs": [
    {
     "data": {
      "text/html": [
       "<div>\n",
       "<style scoped>\n",
       "    .dataframe tbody tr th:only-of-type {\n",
       "        vertical-align: middle;\n",
       "    }\n",
       "\n",
       "    .dataframe tbody tr th {\n",
       "        vertical-align: top;\n",
       "    }\n",
       "\n",
       "    .dataframe thead th {\n",
       "        text-align: right;\n",
       "    }\n",
       "</style>\n",
       "<table border=\"1\" class=\"dataframe\">\n",
       "  <thead>\n",
       "    <tr style=\"text-align: right;\">\n",
       "      <th></th>\n",
       "      <th>doc_count</th>\n",
       "      <th>日期</th>\n",
       "      <th>人数(UV).value</th>\n",
       "      <th>点击率</th>\n",
       "    </tr>\n",
       "  </thead>\n",
       "  <tbody>\n",
       "    <tr>\n",
       "      <th>0</th>\n",
       "      <td>25</td>\n",
       "      <td>2019-05-04</td>\n",
       "      <td>21</td>\n",
       "      <td>0.011401</td>\n",
       "    </tr>\n",
       "    <tr>\n",
       "      <th>1</th>\n",
       "      <td>71</td>\n",
       "      <td>2019-05-05</td>\n",
       "      <td>37</td>\n",
       "      <td>0.020087</td>\n",
       "    </tr>\n",
       "    <tr>\n",
       "      <th>2</th>\n",
       "      <td>45</td>\n",
       "      <td>2019-05-06</td>\n",
       "      <td>31</td>\n",
       "      <td>0.016830</td>\n",
       "    </tr>\n",
       "    <tr>\n",
       "      <th>3</th>\n",
       "      <td>66</td>\n",
       "      <td>2019-05-07</td>\n",
       "      <td>40</td>\n",
       "      <td>0.021716</td>\n",
       "    </tr>\n",
       "    <tr>\n",
       "      <th>4</th>\n",
       "      <td>42</td>\n",
       "      <td>2019-05-08</td>\n",
       "      <td>31</td>\n",
       "      <td>0.016830</td>\n",
       "    </tr>\n",
       "  </tbody>\n",
       "</table>\n",
       "</div>"
      ],
      "text/plain": [
       "   doc_count         日期  人数(UV).value       点击率\n",
       "0         25 2019-05-04            21  0.011401\n",
       "1         71 2019-05-05            37  0.020087\n",
       "2         45 2019-05-06            31  0.016830\n",
       "3         66 2019-05-07            40  0.021716\n",
       "4         42 2019-05-08            31  0.016830"
      ]
     },
     "execution_count": 45,
     "metadata": {},
     "output_type": "execute_result"
    }
   ],
   "source": [
    "df33_1.head()"
   ]
  },
  {
   "cell_type": "code",
   "execution_count": 51,
   "metadata": {},
   "outputs": [
    {
     "data": {
      "text/plain": [
       "(array([737184., 737188., 737192., 737196., 737200., 737204., 737208.,\n",
       "        737211., 737215., 737219.]), <a list of 10 Text xticklabel objects>)"
      ]
     },
     "execution_count": 51,
     "metadata": {},
     "output_type": "execute_result"
    },
    {
     "data": {
      "image/png": "[encoded data removed]",
      "text/plain": [
       "<Figure size 432x288 with 1 Axes>"
      ]
     },
     "metadata": {
      "needs_background": "light"
     },
     "output_type": "display_data"
    }
   ],
   "source": [
    "#五折日历\n",
    "plt.plot(df13_1['日期'],df13_1['点击率'],'g-',   #绿色   静默有钱人\n",
    "         df23_1['日期'],df23_1['点击率'],'b-',  #蓝色   活跃有钱人\n",
    "         df33_1['日期'],df33_1['点击率'],'r-')   #红色   活跃一般人\n",
    "plt.xticks(rotation='60')"
   ]
  },
  {
   "cell_type": "code",
   "execution_count": 50,
   "metadata": {},
   "outputs": [
    {
     "data": {
      "text/plain": [
       "(array([737184., 737188., 737192., 737196., 737200., 737204., 737208.,\n",
       "        737211., 737215., 737219.]), <a list of 10 Text xticklabel objects>)"
      ]
     },
     "execution_count": 50,
     "metadata": {},
     "output_type": "execute_result"
    },
    {
     "data": {
      "image/png": "[encoded data removed]",
      "text/plain": [
       "<Figure size 432x288 with 1 Axes>"
      ]
     },
     "metadata": {
      "needs_background": "light"
     },
     "output_type": "display_data"
    }
   ],
   "source": [
    "#五折日历\n",
    "plt.plot(df13['日期'],df13['doc_count'],'g-',   #绿色   静默有钱人\n",
    "         df23['日期'],df23['doc_count'],'b-',  #蓝色   活跃有钱人\n",
    "         df33['日期'],df33['doc_count'],'r-')   #红色   活跃一般人\n",
    "plt.xticks(rotation='60')"
   ]
  },
  {
   "cell_type": "code",
   "execution_count": null,
   "metadata": {},
   "outputs": [],
   "source": []
  }
 ],
 "metadata": {
  "kernelspec": {
   "display_name": "Python 3",
   "language": "python",
   "name": "python3"
  },
  "language_info": {
   "codemirror_mode": {
    "name": "ipython",
    "version": 3
   },
   "file_extension": ".py",
   "mimetype": "text/x-python",
   "name": "python",
   "nbconvert_exporter": "python",
   "pygments_lexer": "ipython3",
   "version": "3.6.6"
  }
 },
 "nbformat": 4,
 "nbformat_minor": 2
}
