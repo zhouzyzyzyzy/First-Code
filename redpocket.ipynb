{
 "cells": [
  {
   "cell_type": "code",
   "execution_count": 64,
   "metadata": {},
   "outputs": [],
   "source": [
    "import requests\n",
    "import datetime\n",
    "from elasticsearch import Elasticsearch\n",
    "from pandas.io.json import json_normalize\n",
    "import pandas as pd\n",
    "import numpy as np\n",
    "import progressbar\n",
    "import matplotlib.pyplot as plt\n",
    "import seaborn as sns; sns.set()\n",
    "def to_date(s):\n",
    "    dt = datetime.datetime.utcfromtimestamp(s / 1e3)\n",
    "    return dt.strftime(\"%Y-%m-%d\")\n",
    "def get_visit_list(s):\n",
    "    data={}\n",
    "    data['visit_list'] = s['用户ID'].tolist()\n",
    "    return pd.Series(data)"
   ]
  },
  {
   "cell_type": "code",
   "execution_count": 158,
   "metadata": {},
   "outputs": [],
   "source": [
    "def user_rebuy_plot(date):\n",
    "    dsl = {'aggs': {'my_buckets': {'composite': {'size': 9999999,\n",
    "                                       'sources': [\n",
    "                                                   {'id': {'terms': {'field': 'id'}}},\n",
    "\n",
    "                                                  ]}}},\n",
    "                 'query': {'bool': {'must': [{'range': {'first_vip_created': {'format': 'yyyy-MM-dd',\n",
    "                                                              'gte': date,\n",
    "                                                              'lte': date,\n",
    "                                                              'time_zone': '+00:00'}}}]}}}\n",
    "    es = Elasticsearch(['http://172.18.198.27:9200/'], timeout=30)\n",
    "    res = es.search(index='es_user_table', doc_type='user', body=dsl,\n",
    "                        _source=False, explain=False, track_scores=False, track_total_hits=False, size=0,\n",
    "                        search_type='query_then_fetch')\n",
    "    df1 = json_normalize(res['aggregations']['my_buckets']['buckets'])\n",
    "    df1.columns = map(lambda x: x.split('key.')[-1] if x.startswith('key.') else x, list(df1.columns))\n",
    "    \n",
    "    dsl11 = {\n",
    "        'aggs': {'my_buckets': {'aggregations': {'打开(Visitor)': {'cardinality': {'field': 'session_id', 'precision_threshold': 100}}},\n",
    "                         'composite': {'size': 9999999,\n",
    "                                       'sources': [{\"用户ID\": {\"terms\": {\"field\": 'user_id'}}},\n",
    "                                       ]}}},\n",
    "         'query': {'bool': {'must': [#{'query_string': {'query': \"group_category_name='早餐档'\"}},\n",
    "                                     {'range': {'created': {'format': 'yyyy-MM-dd',\n",
    "                                                    'gte': str(datetime.datetime.strptime(date,'%Y-%m-%d')+datetime.timedelta(days=1))[:10],\n",
    "                                                    'lte': str(datetime.datetime.strptime(date,'%Y-%m-%d')+datetime.timedelta(days=7))[:10],\n",
    "                                                    'time_zone': '+08:00'}}},\n",
    "                             {'terms': {'app_name': ['vip-mini']}},\n",
    "                            # {'terms': {'event_name': ['index', '首页']}},\n",
    "                             {'terms': {'user_id': df1['id'].tolist()}},\n",
    "                            # {'terms': {'event_type': ['event']}}\n",
    "                        ]}}}\n",
    "    es11 = Elasticsearch(['http://172.18.198.27:9200/'], timeout=30)\n",
    "    res11 = es11.search(index='shop_pv_event', doc_type='pv_event', body=dsl11,\n",
    "                    _source=False, explain=False, track_scores=False, track_total_hits=False, size=0,\n",
    "                    search_type='query_then_fetch')\n",
    "    df11 = json_normalize(res11['aggregations']['my_buckets']['buckets'])\n",
    "    df11.columns = map(lambda x: x.split('key.')[-1] if x.startswith('key.') else x, list(df11.columns))\n",
    "                                                      \n",
    "    active_list = []\n",
    "    for i in range(len(df11)):\n",
    "        if df11.iloc[i]['打开(Visitor).value']>=3:     \n",
    "            active_list.append(df11.iloc[i]['用户ID'])\n",
    "        \n",
    "    dead_list = list(set(df1['id'].tolist())-set(active_list))\n",
    "    \n",
    "    return dead_list\n",
    "\n",
    "def get_order_list(s):\n",
    "    data={}\n",
    "    data['order_list'] = s['用户ID'].tolist()\n",
    "    return pd.Series(data)"
   ]
  },
  {
   "cell_type": "code",
   "execution_count": 159,
   "metadata": {},
   "outputs": [],
   "source": [
    "def order_number_curve(date):\n",
    "    dead_list = user_rebuy_plot(date)\n",
    "    dsl_list = {\n",
    "                'query': {'bool': {'must': [\n",
    "                                            {'terms': {'user_id': dead_list}},\n",
    "                                            {'terms': {'order_status': ['confirmed',\n",
    "                                                                        'done',\n",
    "                                                                        'fulfilled']}},\n",
    "                                            {'range': {'paytime': {'format': 'yyyy-MM-dd',\n",
    "                                                              'gte': date,\n",
    "                                                              'lte': str(datetime.datetime.strptime(date,'%Y-%m-%d')+datetime.timedelta(days=7))[:10],\n",
    "                                                              'time_zone': '+00:00'}}},\n",
    "                                            ]}},\n",
    "                \"aggs\": {\n",
    "                    \"my_buckets\": {\n",
    "                        \"composite\": {\n",
    "                            'size': 9999999,\n",
    "                            \"sources\": [{\"用户ID\": {\"terms\": {\"field\": 'user_id'}}},\n",
    "                                #{\"单价\": {\"terms\": {\"field\": 'skutotal_price'}}}\n",
    "                                ]}}}}\n",
    "    es_list = Elasticsearch(['http://172.18.198.27:9200/'], timeout=30)\n",
    "    res_list = es_list.search(index='es_order_table', doc_type='order', body=dsl_list,\n",
    "                            _source=False, explain=False, track_scores=False, track_total_hits=False, size=0,\n",
    "                            search_type='query_then_fetch')\n",
    "    df_list = json_normalize(res_list['aggregations']['my_buckets']['buckets'])\n",
    "    df_list.columns = map(lambda x: x.split('key.')[-1] if x.startswith('key.') else x, list(df_list.columns))\n",
    "    \n",
    "    df_order = df_list.groupby('doc_count').apply(get_order_list).reset_index()\n",
    "    dsl_all = {\n",
    "        'aggs': {'my_buckets': {'aggregations': {'打开(Visitor)': {'cardinality': {'field': 'session_id', 'precision_threshold': 100}}},\n",
    "                         'composite': {'size': 9999999,\n",
    "                                       'sources': [{\"用户ID\": {\"terms\": {\"field\": 'user_id'}}},]}}},\n",
    "         'query': {'bool': {'must': [{'range': {'created': {'format': 'yyyy-MM-dd',\n",
    "                                                    'gte': str(datetime.datetime.strptime(date,'%Y-%m-%d')+datetime.timedelta(days=8))[:10],\n",
    "                                                    'lte': str(datetime.datetime.strptime(date,'%Y-%m-%d')+datetime.timedelta(days=14))[:10],\n",
    "                                                    'time_zone': '+08:00'}}},\n",
    "                             {'terms': {'app_name': ['vip-mini']}},\n",
    "                        ]}}}\n",
    "    es_all = Elasticsearch(['http://172.18.198.27:9200/'], timeout=30)\n",
    "    res_all = es_all.search(index='shop_pv_event', doc_type='pv_event', body=dsl_all,\n",
    "                    _source=False, explain=False, track_scores=False, track_total_hits=False, size=0,\n",
    "                    search_type='query_then_fetch')\n",
    "    df_all = json_normalize(res_all['aggregations']['my_buckets']['buckets'])\n",
    "    df_all.columns = map(lambda x: x.split('key.')[-1] if x.startswith('key.') else x, list(df_all.columns))\n",
    "    new_visit_list = df_all['用户ID'].tolist()\n",
    "    visit_list=[int(x) for x in new_visit_list]\n",
    "\n",
    "    per_rem = []\n",
    "    for i in range(len(df_order)):\n",
    "        list_together = list(set(df_order.iloc[i]['order_list']).intersection(set(visit_list)))\n",
    "        per_rem.append(len(list_together)/len(df_order.iloc[i]['order_list']))\n",
    "\n",
    "    df_order['留存率'] = per_rem  \n",
    "    return plt.plot(df_order['doc_count'],df_order['留存率'])"
   ]
  },
  {
   "cell_type": "code",
   "execution_count": 161,
   "metadata": {},
   "outputs": [
    {
     "data": {
      "text/plain": [
       "[<matplotlib.lines.Line2D at 0x7f0211baf4e0>]"
      ]
     },
     "execution_count": 161,
     "metadata": {},
     "output_type": "execute_result"
    },
    {
     "data": {
      "image/png": "[encoded data removed]",
      "text/plain": [
       "<Figure size 432x288 with 1 Axes>"
      ]
     },
     "metadata": {},
     "output_type": "display_data"
    }
   ],
   "source": [
    "date='2019-05-30'\n",
    "order_number_curve(date)"
   ]
  },
  {
   "cell_type": "markdown",
   "metadata": {},
   "source": [
    "订单划分"
   ]
  },
  {
   "cell_type": "code",
   "execution_count": 162,
   "metadata": {},
   "outputs": [],
   "source": [
    "def number_and_list(date, split_number):\n",
    "    dead_list = user_rebuy_plot(date)\n",
    "    dsl_list = {\n",
    "                'query': {'bool': {'must': [\n",
    "                                            {'terms': {'user_id': dead_list}},\n",
    "                                            {'terms': {'order_status': ['confirmed',\n",
    "                                                                        'done',\n",
    "                                                                        'fulfilled']}},\n",
    "                                            {'range': {'paytime': {'format': 'yyyy-MM-dd',\n",
    "                                                              'gte': date,\n",
    "                                                              'lte': str(datetime.datetime.strptime(date,'%Y-%m-%d')+datetime.timedelta(days=7))[:10],\n",
    "                                                              'time_zone': '+00:00'}}},\n",
    "                                            ]}},\n",
    "                \"aggs\": {\n",
    "                    \"my_buckets\": {\n",
    "                        \"composite\": {\n",
    "                            'size': 9999999,\n",
    "                            \"sources\": [{\"用户ID\": {\"terms\": {\"field\": 'user_id'}}},\n",
    "                                #{\"单价\": {\"terms\": {\"field\": 'skutotal_price'}}}\n",
    "                                ]}}}}\n",
    "    es_list = Elasticsearch(['http://172.18.198.27:9200/'], timeout=30)\n",
    "    res_list = es_list.search(index='es_order_table', doc_type='order', body=dsl_list,\n",
    "                            _source=False, explain=False, track_scores=False, track_total_hits=False, size=0,\n",
    "                            search_type='query_then_fetch')\n",
    "    df_list = json_normalize(res_list['aggregations']['my_buckets']['buckets'])\n",
    "    df_list.columns = map(lambda x: x.split('key.')[-1] if x.startswith('key.') else x, list(df_list.columns))\n",
    "    \n",
    "    target_user_list_c=[]\n",
    "    for i in range(len(df_list)):\n",
    "        if df_list.iloc[i]['doc_count'] > split_number:\n",
    "            target_user_list_c.append(df_list.iloc[i]['用户ID'])\n",
    "        #else:\n",
    "        #    continue\n",
    "    \n",
    "    target_user_list = list(set(dead_list)-set(target_user_list_c))\n",
    "    \n",
    "    return target_user_list\n",
    "            \n",
    "        "
   ]
  },
  {
   "cell_type": "code",
   "execution_count": 131,
   "metadata": {},
   "outputs": [],
   "source": [
    "user_redpocket_list=number_and_list(date, 3)"
   ]
  },
  {
   "cell_type": "code",
   "execution_count": 132,
   "metadata": {},
   "outputs": [],
   "source": [
    "def distribution_order_price(date,split_number):\n",
    "    target_user_list_1 = number_and_list(date,split_number)\n",
    "    dsl = {\n",
    "                    'query': {'bool': {'must': [\n",
    "                                                {'terms': {'user_id': [str(x) for x in target_user_list_1]}},\n",
    "                                                {'terms': {'order_status': ['confirmed',\n",
    "                                                                            'done',\n",
    "                                                                            'fulfilled']}},\n",
    "\n",
    "                                                ]}},\n",
    "                    \"aggs\": {\n",
    "                        \"my_buckets\": {\n",
    "                            \"composite\": {\n",
    "                                'size': 9999999,\n",
    "                                \"sources\": [\n",
    "                                    {\"单价\": {\"terms\": {\"field\": 'total_price'}}}\n",
    "                                    ]}}}}\n",
    "    es = Elasticsearch(['http://172.18.198.27:9200/'], timeout=30)\n",
    "    res = es.search(index='es_order_table', doc_type='order', body=dsl,\n",
    "                                _source=False, explain=False, track_scores=False, track_total_hits=False, size=0,\n",
    "                                search_type='query_then_fetch')\n",
    "    df = json_normalize(res['aggregations']['my_buckets']['buckets'])\n",
    "    df.columns = map(lambda x: x.split('key.')[-1] if x.startswith('key.') else x, list(df.columns))\n",
    "    df_123=df[df['单价']<40]\n",
    "    return sns.distplot(df_123['单价'])"
   ]
  },
  {
   "cell_type": "code",
   "execution_count": 133,
   "metadata": {},
   "outputs": [
    {
     "data": {
      "text/plain": [
       "<matplotlib.axes._subplots.AxesSubplot at 0x7f02145a4a20>"
      ]
     },
     "execution_count": 133,
     "metadata": {},
     "output_type": "execute_result"
    },
    {
     "data": {
      "image/png": "[encoded data removed]",
      "text/plain": [
       "<Figure size 432x288 with 1 Axes>"
      ]
     },
     "metadata": {},
     "output_type": "display_data"
    }
   ],
   "source": [
    "distribution_order_price('2019-05-25',3)"
   ]
  },
  {
   "cell_type": "code",
   "execution_count": 134,
   "metadata": {},
   "outputs": [],
   "source": [
    "\n",
    "def dead_list_visit(date):\n",
    "    dsl_active = {\n",
    "            'aggs': {'my_buckets': {'aggregations': {'打开(Visitor)': {'cardinality': {'field': 'session_id', 'precision_threshold': 100}}},\n",
    "                             'composite': {'size': 9999999,\n",
    "                                           'sources': [#{\"用户ID\": {\"terms\": {\"field\": 'user_id'}}},\n",
    "                                               {'日期': {'date_histogram': {'field': 'created',\n",
    "                                                                                  'interval': '1d',\n",
    "                                                                                  'time_zone': '+08:00'}}}\n",
    "                                           ]}}},\n",
    "             'query': {'bool': {'must': [{'range': {'created': {'format': 'yyyy-MM-dd',\n",
    "                                                        'gte': str(datetime.datetime.strptime(date,'%Y-%m-%d')+datetime.timedelta(days=0))[:10],\n",
    "                                                        'lte': str(datetime.datetime.strptime(date,'%Y-%m-%d')+datetime.timedelta(days=14))[:10],\n",
    "                                                        'time_zone': '+08:00'}}},\n",
    "                                 {'terms': {'app_name': ['vip-mini']}},\n",
    "                                 {'terms': {'user_id': [str(x) for x in user_redpocket_list]}},\n",
    "                            ]}}}\n",
    "    es_active = Elasticsearch(['http://172.18.198.27:9200/'], timeout=30)\n",
    "    res_active = es_active.search(index='shop_pv_event', doc_type='pv_event', body=dsl_active,\n",
    "                    _source=False, explain=False, track_scores=False, track_total_hits=False, size=0,\n",
    "                    search_type='query_then_fetch')\n",
    "    df_active = json_normalize(res_active['aggregations']['my_buckets']['buckets'])\n",
    "    df_active.columns = map(lambda x: x.split('key.')[-1] if x.startswith('key.') else x, list(df_active.columns))\n",
    "    df_active['日期'] = df_active['日期'].apply(to_date)\n",
    "    df_active['日期'] = pd.to_datetime(df_active['日期'])\n",
    "    active_per = []\n",
    "    for i in range(len(df_active)):\n",
    "        active_per.append(df_active.iloc[i]['打开(Visitor).value']/len(user_redpocket_list))\n",
    "    df_active['占比']= active_per\n",
    "\n",
    "    \n",
    "    \n",
    "    return plt.plot(df_active['日期'],df_active['占比']),plt.xticks(rotation='60')"
   ]
  },
  {
   "cell_type": "code",
   "execution_count": 135,
   "metadata": {},
   "outputs": [
    {
     "data": {
      "text/plain": [
       "([<matplotlib.lines.Line2D at 0x7f0216913128>],\n",
       " (array([737214., 737215., 737216., 737217., 737218., 737219., 737220.,\n",
       "         737221., 737222., 737223.]), <a list of 10 Text xticklabel objects>))"
      ]
     },
     "execution_count": 135,
     "metadata": {},
     "output_type": "execute_result"
    },
    {
     "data": {
      "image/png": "[encoded data removed]",
      "text/plain": [
       "<Figure size 432x288 with 1 Axes>"
      ]
     },
     "metadata": {},
     "output_type": "display_data"
    }
   ],
   "source": [
    "date = '2019-06-05'\n",
    "dead_list_visit(date)"
   ]
  },
  {
   "cell_type": "code",
   "execution_count": 168,
   "metadata": {},
   "outputs": [],
   "source": [
    "date = '2019-05-29'\n",
    "user_red_list,date_index_list,length=[],[],[]\n",
    "for i in range(8):\n",
    "    date_index=str(datetime.datetime.strptime(date,'%Y-%m-%d')+datetime.timedelta(days=i))[:10]\n",
    "    date_index_list.append(date_index)\n",
    "    length.append(len(number_and_list(date_index, 1)))\n",
    "    user_red_list.append(number_and_list(date_index, 1))"
   ]
  },
  {
   "cell_type": "code",
   "execution_count": 169,
   "metadata": {},
   "outputs": [],
   "source": [
    "val = {'date_index':date_index_list,'人数':length,'user_red':user_red_list}\n",
    "red_list=pd.DataFrame(val)"
   ]
  },
  {
   "cell_type": "code",
   "execution_count": 170,
   "metadata": {},
   "outputs": [],
   "source": [
    "all_number,per_red=[],[]\n",
    "for i in range(len(red_list)):   \n",
    "    dsl = {'aggs': {'my_buckets': {'composite': {'size': 9999999,\n",
    "                                           'sources': [\n",
    "                                                       {'id': {'terms': {'field': 'id'}}},\n",
    "\n",
    "                                                      ]}}},\n",
    "                     'query': {'bool': {'must': [{'range': {'first_vip_created': {'format': 'yyyy-MM-dd',\n",
    "                                                                  'gte': red_list.iloc[i]['date_index'],\n",
    "                                                                  'lte': red_list.iloc[i]['date_index'],\n",
    "                                                                  'time_zone': '+00:00'}}}]}}}\n",
    "    es = Elasticsearch(['http://172.18.198.27:9200/'], timeout=30)\n",
    "    res = es.search(index='es_user_table', doc_type='user', body=dsl,\n",
    "                            _source=False, explain=False, track_scores=False, track_total_hits=False, size=0,\n",
    "                            search_type='query_then_fetch')\n",
    "    df1 = json_normalize(res['aggregations']['my_buckets']['buckets'])\n",
    "    df1.columns = map(lambda x: x.split('key.')[-1] if x.startswith('key.') else x, list(df1.columns))\n",
    "    all_number.append(len(df1))\n",
    "    per_red.append(red_list.iloc[i]['人数']/len(df1))"
   ]
  },
  {
   "cell_type": "code",
   "execution_count": 171,
   "metadata": {},
   "outputs": [],
   "source": [
    "red_list['总人数']=all_number\n",
    "red_list['百分比']=per_red"
   ]
  },
  {
   "cell_type": "code",
   "execution_count": 172,
   "metadata": {},
   "outputs": [],
   "source": [
    "red_list.to_csv('新不活跃会员的列表.csv')"
   ]
  },
  {
   "cell_type": "code",
   "execution_count": 41,
   "metadata": {},
   "outputs": [],
   "source": [
    "target_user_list = number_and_list('2019-06-02',3)\n",
    "dsl = {\n",
    "                    'query': {'bool': {'must': [\n",
    "                                                {'terms': {'user_id': [str(x) for x in target_user_list]}},\n",
    "                                                {'terms': {'order_status': ['confirmed',\n",
    "                                                                            'done',\n",
    "                                                                            'fulfilled']}},\n",
    "\n",
    "                                                ]}},\n",
    "                    \"aggs\": {\n",
    "                        \"my_buckets\": {\n",
    "                            \"composite\": {\n",
    "                                'size': 9999999,\n",
    "                                \"sources\": [{'品类':{'terms':{'field':'group_category_name'}}},\n",
    "                                            {\"单价\": {\"terms\": {\"field\": 'total_price'}}},\n",
    "                                            {\"id\": {\"terms\": {\"field\": 'user_id'}}}\n",
    "                                    ]}}}}\n",
    "es = Elasticsearch(['http://172.18.198.27:9200/'], timeout=30)\n",
    "res = es.search(index='es_order_table', doc_type='order', body=dsl,\n",
    "                                _source=False, explain=False, track_scores=False, track_total_hits=False, size=0,\n",
    "                                search_type='query_then_fetch')\n",
    "df = json_normalize(res['aggregations']['my_buckets']['buckets'])\n",
    "df.columns = map(lambda x: x.split('key.')[-1] if x.startswith('key.') else x, list(df.columns))"
   ]
  },
  {
   "cell_type": "code",
   "execution_count": 47,
   "metadata": {},
   "outputs": [],
   "source": [
    "df=df[df['单价']>1]"
   ]
  },
  {
   "cell_type": "code",
   "execution_count": 48,
   "metadata": {},
   "outputs": [
    {
     "data": {
      "text/plain": [
       "[76.91999816894531,\n",
       " 106.4800033569336,\n",
       " 111.5999984741211,\n",
       " 126.36000061035156,\n",
       " 160.0800018310547,\n",
       " 208.55999755859375]"
      ]
     },
     "execution_count": 48,
     "metadata": {},
     "output_type": "execute_result"
    }
   ],
   "source": [
    "def price_cate_list(s):\n",
    "    data={}\n",
    "    data['价格列表']=s['单价'].tolist()\n",
    "    return pd.Series(data)\n",
    "\n",
    "df_list_cate = df.groupby('品类').apply(price_cate_list).reset_index()\n",
    "df_list_cate.loc[9]['价格列表']"
   ]
  },
  {
   "cell_type": "code",
   "execution_count": 49,
   "metadata": {},
   "outputs": [],
   "source": [
    "def mediannum(num):\n",
    "    listnum = [num[i] for i in range(len(num))]\n",
    "    listnum.sort()\n",
    "    lnum = len(num)\n",
    "    if lnum % 2 == 1:\n",
    "        i = int((lnum + 1) / 2)-1\n",
    "        return listnum[i]\n",
    "    else:\n",
    "        i = int(lnum / 2)-1\n",
    "        return (listnum[i] + listnum[i + 1]) / 2\n",
    "\n",
    "\n",
    "value_mean=[]\n",
    "for i in range(len(df_list_cate)):\n",
    "    value_mean.append(mediannum(df_list_cate.iloc[i]['价格列表']))"
   ]
  },
  {
   "cell_type": "code",
   "execution_count": 50,
   "metadata": {},
   "outputs": [],
   "source": [
    "df_list_cate['中位价格']=value_mean"
   ]
  },
  {
   "cell_type": "code",
   "execution_count": 51,
   "metadata": {},
   "outputs": [
    {
     "data": {
      "text/html": [
       "<div>\n",
       "<style scoped>\n",
       "    .dataframe tbody tr th:only-of-type {\n",
       "        vertical-align: middle;\n",
       "    }\n",
       "\n",
       "    .dataframe tbody tr th {\n",
       "        vertical-align: top;\n",
       "    }\n",
       "\n",
       "    .dataframe thead th {\n",
       "        text-align: right;\n",
       "    }\n",
       "</style>\n",
       "<table border=\"1\" class=\"dataframe\">\n",
       "  <thead>\n",
       "    <tr style=\"text-align: right;\">\n",
       "      <th></th>\n",
       "      <th>品类</th>\n",
       "      <th>价格列表</th>\n",
       "      <th>中位价格</th>\n",
       "    </tr>\n",
       "  </thead>\n",
       "  <tbody>\n",
       "    <tr>\n",
       "      <th>0</th>\n",
       "      <td>null</td>\n",
       "      <td>[2.799999952316284, 2.799999952316284, 2.79999...</td>\n",
       "      <td>2.800000</td>\n",
       "    </tr>\n",
       "    <tr>\n",
       "      <th>1</th>\n",
       "      <td>下午茶</td>\n",
       "      <td>[5.21999979019165, 6.960000038146973, 8.699999...</td>\n",
       "      <td>6.960000</td>\n",
       "    </tr>\n",
       "    <tr>\n",
       "      <th>2</th>\n",
       "      <td>中式烧烤/烤串</td>\n",
       "      <td>[98.5]</td>\n",
       "      <td>98.500000</td>\n",
       "    </tr>\n",
       "    <tr>\n",
       "      <th>3</th>\n",
       "      <td>创意菜</td>\n",
       "      <td>[10.0, 19.0]</td>\n",
       "      <td>14.500000</td>\n",
       "    </tr>\n",
       "    <tr>\n",
       "      <th>4</th>\n",
       "      <td>小吃</td>\n",
       "      <td>[4.0, 7.0, 8.0, 13.0, 13.0, 13.0, 13.0, 13.0, ...</td>\n",
       "      <td>13.000000</td>\n",
       "    </tr>\n",
       "    <tr>\n",
       "      <th>5</th>\n",
       "      <td>川味/重庆火锅</td>\n",
       "      <td>[209.52000427246094, 263.25, 305.17999267578125]</td>\n",
       "      <td>263.250000</td>\n",
       "    </tr>\n",
       "    <tr>\n",
       "      <th>6</th>\n",
       "      <td>快餐</td>\n",
       "      <td>[2.940000057220459, 3.0, 9.0, 15.0, 26.1000003...</td>\n",
       "      <td>26.100000</td>\n",
       "    </tr>\n",
       "    <tr>\n",
       "      <th>7</th>\n",
       "      <td>日本料理</td>\n",
       "      <td>[19.139999389648438, 20.8799991607666, 147.949...</td>\n",
       "      <td>147.949997</td>\n",
       "    </tr>\n",
       "    <tr>\n",
       "      <th>8</th>\n",
       "      <td>早餐档</td>\n",
       "      <td>[1.9600000381469727, 2.940000057220459, 2.9900...</td>\n",
       "      <td>4.700000</td>\n",
       "    </tr>\n",
       "    <tr>\n",
       "      <th>9</th>\n",
       "      <td>港式/茶餐厅</td>\n",
       "      <td>[76.91999816894531, 106.4800033569336, 111.599...</td>\n",
       "      <td>118.980000</td>\n",
       "    </tr>\n",
       "    <tr>\n",
       "      <th>10</th>\n",
       "      <td>甜品店</td>\n",
       "      <td>[12.09000015258789, 20.15999984741211, 26.5, 2...</td>\n",
       "      <td>26.500000</td>\n",
       "    </tr>\n",
       "    <tr>\n",
       "      <th>11</th>\n",
       "      <td>粤菜/早茶</td>\n",
       "      <td>[81.27999877929688, 96.4800033569336, 284.9400...</td>\n",
       "      <td>284.940002</td>\n",
       "    </tr>\n",
       "    <tr>\n",
       "      <th>12</th>\n",
       "      <td>蛋糕/甜点</td>\n",
       "      <td>[3.5199999809265137, 7.230000019073486, 7.75, ...</td>\n",
       "      <td>17.050000</td>\n",
       "    </tr>\n",
       "    <tr>\n",
       "      <th>13</th>\n",
       "      <td>西餐</td>\n",
       "      <td>[17.0, 33.5, 145.0]</td>\n",
       "      <td>33.500000</td>\n",
       "    </tr>\n",
       "    <tr>\n",
       "      <th>14</th>\n",
       "      <td>超市/便利店</td>\n",
       "      <td>[23.969999313354492, 36.2599983215332, 42.1399...</td>\n",
       "      <td>36.259998</td>\n",
       "    </tr>\n",
       "    <tr>\n",
       "      <th>15</th>\n",
       "      <td>面包甜点</td>\n",
       "      <td>[16.0]</td>\n",
       "      <td>16.000000</td>\n",
       "    </tr>\n",
       "    <tr>\n",
       "      <th>16</th>\n",
       "      <td>韩国料理</td>\n",
       "      <td>[75.04000091552734]</td>\n",
       "      <td>75.040001</td>\n",
       "    </tr>\n",
       "    <tr>\n",
       "      <th>17</th>\n",
       "      <td>音乐餐吧</td>\n",
       "      <td>[136.3000030517578]</td>\n",
       "      <td>136.300003</td>\n",
       "    </tr>\n",
       "    <tr>\n",
       "      <th>18</th>\n",
       "      <td>饮品店</td>\n",
       "      <td>[3.5, 7.5, 7.5, 7.5, 8.0, 8.0, 11.0, 13.5, 14....</td>\n",
       "      <td>13.500000</td>\n",
       "    </tr>\n",
       "  </tbody>\n",
       "</table>\n",
       "</div>"
      ],
      "text/plain": [
       "         品类                                               价格列表        中位价格\n",
       "0      null  [2.799999952316284, 2.799999952316284, 2.79999...    2.800000\n",
       "1       下午茶  [5.21999979019165, 6.960000038146973, 8.699999...    6.960000\n",
       "2   中式烧烤/烤串                                             [98.5]   98.500000\n",
       "3       创意菜                                       [10.0, 19.0]   14.500000\n",
       "4        小吃  [4.0, 7.0, 8.0, 13.0, 13.0, 13.0, 13.0, 13.0, ...   13.000000\n",
       "5   川味/重庆火锅   [209.52000427246094, 263.25, 305.17999267578125]  263.250000\n",
       "6        快餐  [2.940000057220459, 3.0, 9.0, 15.0, 26.1000003...   26.100000\n",
       "7      日本料理  [19.139999389648438, 20.8799991607666, 147.949...  147.949997\n",
       "8       早餐档  [1.9600000381469727, 2.940000057220459, 2.9900...    4.700000\n",
       "9    港式/茶餐厅  [76.91999816894531, 106.4800033569336, 111.599...  118.980000\n",
       "10      甜品店  [12.09000015258789, 20.15999984741211, 26.5, 2...   26.500000\n",
       "11    粤菜/早茶  [81.27999877929688, 96.4800033569336, 284.9400...  284.940002\n",
       "12    蛋糕/甜点  [3.5199999809265137, 7.230000019073486, 7.75, ...   17.050000\n",
       "13       西餐                                [17.0, 33.5, 145.0]   33.500000\n",
       "14   超市/便利店  [23.969999313354492, 36.2599983215332, 42.1399...   36.259998\n",
       "15     面包甜点                                             [16.0]   16.000000\n",
       "16     韩国料理                                [75.04000091552734]   75.040001\n",
       "17     音乐餐吧                                [136.3000030517578]  136.300003\n",
       "18      饮品店  [3.5, 7.5, 7.5, 7.5, 8.0, 8.0, 11.0, 13.5, 14....   13.500000"
      ]
     },
     "execution_count": 51,
     "metadata": {},
     "output_type": "execute_result"
    }
   ],
   "source": [
    "df_list_cate"
   ]
  },
  {
   "cell_type": "code",
   "execution_count": 103,
   "metadata": {},
   "outputs": [],
   "source": [
    "date='2019-05-29'\n",
    "active_list = user_rebuy_plot(date)\n",
    "dsl_list = {\n",
    "                'query': {'bool': {'must': [\n",
    "                                            {'terms': {'user_id': active_list}},#\n",
    "                                            {'terms': {'order_status': ['confirmed',\n",
    "                                                                        'done',\n",
    "                                                                        'fulfilled']}},\n",
    "                                            {'range': {'paytime': {'format': 'yyyy-MM-dd',\n",
    "                                                              'gte': date,\n",
    "                                                              'lte': str(datetime.datetime.strptime(date,'%Y-%m-%d')+datetime.timedelta(days=7))[:10],\n",
    "                                                              'time_zone': '+00:00'}}},\n",
    "                                            ]}},\n",
    "                \"aggs\": {\n",
    "                    \"my_buckets\": {\n",
    "                        \"composite\": {\n",
    "                            'size': 9999999,\n",
    "                            \"sources\": [{\"用户ID\": {\"terms\": {\"field\": 'user_id'}}},\n",
    "                                #{\"单价\": {\"terms\": {\"field\": 'skutotal_price'}}}\n",
    "                                ]}}}}\n",
    "es_list = Elasticsearch(['http://172.18.198.27:9200/'], timeout=30)\n",
    "res_list = es_list.search(index='es_order_table', doc_type='order', body=dsl_list,\n",
    "                            _source=False, explain=False, track_scores=False, track_total_hits=False, size=0,\n",
    "                            search_type='query_then_fetch')\n",
    "df_list = json_normalize(res_list['aggregations']['my_buckets']['buckets'])\n",
    "df_list.columns = map(lambda x: x.split('key.')[-1] if x.startswith('key.') else x, list(df_list.columns))\n",
    "\n",
    "target_user_list_c=[]\n",
    "for i in range(len(df_list)):\n",
    "    if df_list.iloc[i]['doc_count'] > 3:\n",
    "        target_user_list_c.append(df_list.iloc[i]['用户ID'])"
   ]
  },
  {
   "cell_type": "code",
   "execution_count": 79,
   "metadata": {},
   "outputs": [
    {
     "data": {
      "text/plain": [
       "<matplotlib.axes._subplots.AxesSubplot at 0x7f021635a9e8>"
      ]
     },
     "execution_count": 79,
     "metadata": {},
     "output_type": "execute_result"
    },
    {
     "data": {
      "image/png": "[encoded data removed]",
      "text/plain": [
       "<Figure size 432x288 with 1 Axes>"
      ]
     },
     "metadata": {},
     "output_type": "display_data"
    }
   ],
   "source": [
    "sns.distplot(df_list['doc_count'])"
   ]
  },
  {
   "cell_type": "code",
   "execution_count": 98,
   "metadata": {},
   "outputs": [
    {
     "data": {
      "text/plain": [
       "15"
      ]
     },
     "execution_count": 98,
     "metadata": {},
     "output_type": "execute_result"
    }
   ],
   "source": [
    "len(target_user_list_c)"
   ]
  },
  {
   "cell_type": "code",
   "execution_count": 104,
   "metadata": {},
   "outputs": [
    {
     "data": {
      "text/plain": [
       "100"
      ]
     },
     "execution_count": 104,
     "metadata": {},
     "output_type": "execute_result"
    }
   ],
   "source": [
    "len(active_list)"
   ]
  },
  {
   "cell_type": "code",
   "execution_count": 105,
   "metadata": {},
   "outputs": [],
   "source": [
    "dsl = {'aggs': {'my_buckets': {'composite': {'size': 9999999,\n",
    "                                       'sources': [\n",
    "                                                   {'id': {'terms': {'field': 'id'}}},\n",
    "\n",
    "                                                  ]}}},\n",
    "                 'query': {'bool': {'must': [{'range': {'first_vip_created': {'format': 'yyyy-MM-dd',\n",
    "                                                              'gte': date,\n",
    "                                                              'lte': date,\n",
    "                                                              'time_zone': '+00:00'}}}]}}}\n",
    "es = Elasticsearch(['http://172.18.198.27:9200/'], timeout=30)\n",
    "res = es.search(index='es_user_table', doc_type='user', body=dsl,\n",
    "                        _source=False, explain=False, track_scores=False, track_total_hits=False, size=0,\n",
    "                        search_type='query_then_fetch')\n",
    "df1 = json_normalize(res['aggregations']['my_buckets']['buckets'])\n",
    "df1.columns = map(lambda x: x.split('key.')[-1] if x.startswith('key.') else x, list(df1.columns))"
   ]
  },
  {
   "cell_type": "code",
   "execution_count": 107,
   "metadata": {},
   "outputs": [
    {
     "data": {
      "text/plain": [
       "2752"
      ]
     },
     "execution_count": 107,
     "metadata": {},
     "output_type": "execute_result"
    }
   ],
   "source": [
    "len(df1)"
   ]
  },
  {
   "cell_type": "code",
   "execution_count": 110,
   "metadata": {},
   "outputs": [],
   "source": [
    "dsl11 = {\n",
    "        'aggs': {'my_buckets': {'aggregations': {'打开(Visitor)': {'cardinality': {'field': 'session_id', 'precision_threshold': 100}}},\n",
    "                         'composite': {'size': 9999999,\n",
    "                                       'sources': [{\"用户ID\": {\"terms\": {\"field\": 'user_id'}}},\n",
    "                                       ]}}},\n",
    "         'query': {'bool': {'must': [#{'query_string': {'query': \"group_category_name='早餐档'\"}},\n",
    "                                     {'range': {'created': {'format': 'yyyy-MM-dd',\n",
    "                                                    'gte': str(datetime.datetime.strptime(date,'%Y-%m-%d')+datetime.timedelta(days=0))[:10],\n",
    "                                                    'lte': str(datetime.datetime.strptime(date,'%Y-%m-%d')+datetime.timedelta(days=7))[:10],\n",
    "                                                    'time_zone': '+08:00'}}},\n",
    "                             {'terms': {'app_name': ['vip-mini']}},\n",
    "                            # {'terms': {'event_name': ['index', '首页']}},\n",
    "                             {'terms': {'user_id': df1['id'].tolist()}},\n",
    "                            # {'terms': {'event_type': ['event']}}\n",
    "                        ]}}}\n",
    "es11 = Elasticsearch(['http://172.18.198.27:9200/'], timeout=30)\n",
    "res11 = es11.search(index='shop_pv_event', doc_type='pv_event', body=dsl11,\n",
    "                    _source=False, explain=False, track_scores=False, track_total_hits=False, size=0,\n",
    "                    search_type='query_then_fetch')\n",
    "df11 = json_normalize(res11['aggregations']['my_buckets']['buckets'])\n",
    "df11.columns = map(lambda x: x.split('key.')[-1] if x.startswith('key.') else x, list(df11.columns))"
   ]
  },
  {
   "cell_type": "code",
   "execution_count": 111,
   "metadata": {},
   "outputs": [
    {
     "data": {
      "text/plain": [
       "2194"
      ]
     },
     "execution_count": 111,
     "metadata": {},
     "output_type": "execute_result"
    }
   ],
   "source": [
    "len(df11)"
   ]
  },
  {
   "cell_type": "code",
   "execution_count": null,
   "metadata": {},
   "outputs": [],
   "source": []
  }
 ],
 "metadata": {
  "kernelspec": {
   "display_name": "Python 3",
   "language": "python",
   "name": "python3"
  },
  "language_info": {
   "codemirror_mode": {
    "name": "ipython",
    "version": 3
   },
   "file_extension": ".py",
   "mimetype": "text/x-python",
   "name": "python",
   "nbconvert_exporter": "python",
   "pygments_lexer": "ipython3",
   "version": "3.6.6"
  }
 },
 "nbformat": 4,
 "nbformat_minor": 2
}
