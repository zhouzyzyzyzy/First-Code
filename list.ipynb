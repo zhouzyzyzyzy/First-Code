{
 "cells": [
  {
   "cell_type": "code",
   "execution_count": 81,
   "metadata": {},
   "outputs": [],
   "source": [
    "import pandas as pd\n",
    "import datetime\n",
    "import matplotlib.pyplot as plt\n",
    "import progressbar\n",
    "import time\n",
    "import math\n",
    "\n",
    "from elasticsearch import Elasticsearch\n",
    "from pandas.io.json import json_normalize\n",
    "from pprint import pprint\n",
    "\n",
    "def to_date(s):\n",
    "    dt = datetime.datetime.fromtimestamp(s / 1e3)\n",
    "    return dt.strftime(\"%Y-%m-%d\")"
   ]
  },
  {
   "cell_type": "code",
   "execution_count": 82,
   "metadata": {},
   "outputs": [
    {
     "data": {
      "text/html": [
       "<div>\n",
       "<style scoped>\n",
       "    .dataframe tbody tr th:only-of-type {\n",
       "        vertical-align: middle;\n",
       "    }\n",
       "\n",
       "    .dataframe tbody tr th {\n",
       "        vertical-align: top;\n",
       "    }\n",
       "\n",
       "    .dataframe thead th {\n",
       "        text-align: right;\n",
       "    }\n",
       "</style>\n",
       "<table border=\"1\" class=\"dataframe\">\n",
       "  <thead>\n",
       "    <tr style=\"text-align: right;\">\n",
       "      <th></th>\n",
       "      <th>index</th>\n",
       "      <th>doc_count</th>\n",
       "      <th>日期</th>\n",
       "      <th>打开(Visitor).value</th>\n",
       "    </tr>\n",
       "  </thead>\n",
       "  <tbody>\n",
       "    <tr>\n",
       "      <th>0</th>\n",
       "      <td>1</td>\n",
       "      <td>3961</td>\n",
       "      <td>2019-05-18</td>\n",
       "      <td>1507</td>\n",
       "    </tr>\n",
       "    <tr>\n",
       "      <th>1</th>\n",
       "      <td>2</td>\n",
       "      <td>6434</td>\n",
       "      <td>2019-05-19</td>\n",
       "      <td>2370</td>\n",
       "    </tr>\n",
       "    <tr>\n",
       "      <th>2</th>\n",
       "      <td>3</td>\n",
       "      <td>12709</td>\n",
       "      <td>2019-05-20</td>\n",
       "      <td>2683</td>\n",
       "    </tr>\n",
       "    <tr>\n",
       "      <th>3</th>\n",
       "      <td>4</td>\n",
       "      <td>7949</td>\n",
       "      <td>2019-05-21</td>\n",
       "      <td>2723</td>\n",
       "    </tr>\n",
       "    <tr>\n",
       "      <th>4</th>\n",
       "      <td>5</td>\n",
       "      <td>11135</td>\n",
       "      <td>2019-05-22</td>\n",
       "      <td>2871</td>\n",
       "    </tr>\n",
       "  </tbody>\n",
       "</table>\n",
       "</div>"
      ],
      "text/plain": [
       "   index  doc_count         日期  打开(Visitor).value\n",
       "0      1       3961 2019-05-18               1507\n",
       "1      2       6434 2019-05-19               2370\n",
       "2      3      12709 2019-05-20               2683\n",
       "3      4       7949 2019-05-21               2723\n",
       "4      5      11135 2019-05-22               2871"
      ]
     },
     "execution_count": 82,
     "metadata": {},
     "output_type": "execute_result"
    }
   ],
   "source": [
    "dsl_id = {\n",
    "        'aggs': {'my_buckets': {'aggregations': {'打开(Visitor)': {'cardinality': {'field': 'session_id',\n",
    "                                                                          'precision_threshold': 100}}},\n",
    "                         'composite': {'size': 9999999,\n",
    "                                       'sources': [\n",
    "                                           {'日期': {'date_histogram': {'field': 'created',\n",
    "                                                                              'interval': '1d',\n",
    "                                                                              'time_zone': '+08:00'}}},\n",
    "                                                   {'shop_group_id': {'terms': {'field': 'shop_group_id'}}}]}}},\n",
    "         'query': {'bool': {'must': [{'range': {'created': {'format': 'yyyy-MM-dd',\n",
    "                                                    'gte': '2019-01-01',\n",
    "                                                    'lte': '2019-06-05',\n",
    "                                                    'time_zone': '+08:00'}}},\n",
    "                             {'terms': {'app_name': ['vip-mini']}},\n",
    "                             {'terms': {'event_name': ['查看大图']}},\n",
    "                            # {'terms':{\"extra_source_keyword\": [\"商家菜单\"] }},\n",
    "                             {'terms': {'event_type': ['event']}}]}}}\n",
    "\n",
    "    \n",
    "es_id = Elasticsearch(['http://172.18.198.27:9200/'], timeout=30)\n",
    "res_id = es_id.search(index='shop_pv_event', doc_type='pv_event', body=dsl_id,\n",
    "                _source=False, explain=False, track_scores=False, track_total_hits=False, size=0,\n",
    "                search_type='query_then_fetch')\n",
    "df_id = json_normalize(res_id['aggregations']['my_buckets']['buckets'])\n",
    "df_id.columns = map(lambda x: x.split('key.')[-1] if x.startswith('key.') else x, list(df_id.columns))\n",
    "df_id['日期'] = df_id['日期'].apply(to_date)\n",
    "df_id['日期'] = pd.to_datetime(df_id['日期'])\n",
    "del df_id['shop_group_id']\n",
    "df_id=df_id.drop([0]).reset_index()\n",
    "df_id.head()"
   ]
  },
  {
   "cell_type": "code",
   "execution_count": 83,
   "metadata": {},
   "outputs": [
    {
     "data": {
      "text/html": [
       "<div>\n",
       "<style scoped>\n",
       "    .dataframe tbody tr th:only-of-type {\n",
       "        vertical-align: middle;\n",
       "    }\n",
       "\n",
       "    .dataframe tbody tr th {\n",
       "        vertical-align: top;\n",
       "    }\n",
       "\n",
       "    .dataframe thead th {\n",
       "        text-align: right;\n",
       "    }\n",
       "</style>\n",
       "<table border=\"1\" class=\"dataframe\">\n",
       "  <thead>\n",
       "    <tr style=\"text-align: right;\">\n",
       "      <th></th>\n",
       "      <th>doc_count</th>\n",
       "      <th>日期</th>\n",
       "      <th>打开(Visitor).value</th>\n",
       "    </tr>\n",
       "  </thead>\n",
       "  <tbody>\n",
       "    <tr>\n",
       "      <th>0</th>\n",
       "      <td>3137</td>\n",
       "      <td>2019-05-18</td>\n",
       "      <td>1313</td>\n",
       "    </tr>\n",
       "    <tr>\n",
       "      <th>1</th>\n",
       "      <td>5214</td>\n",
       "      <td>2019-05-19</td>\n",
       "      <td>2092</td>\n",
       "    </tr>\n",
       "    <tr>\n",
       "      <th>2</th>\n",
       "      <td>5675</td>\n",
       "      <td>2019-05-20</td>\n",
       "      <td>2180</td>\n",
       "    </tr>\n",
       "    <tr>\n",
       "      <th>3</th>\n",
       "      <td>6439</td>\n",
       "      <td>2019-05-21</td>\n",
       "      <td>2421</td>\n",
       "    </tr>\n",
       "    <tr>\n",
       "      <th>4</th>\n",
       "      <td>6692</td>\n",
       "      <td>2019-05-22</td>\n",
       "      <td>2440</td>\n",
       "    </tr>\n",
       "  </tbody>\n",
       "</table>\n",
       "</div>"
      ],
      "text/plain": [
       "   doc_count         日期  打开(Visitor).value\n",
       "0       3137 2019-05-18               1313\n",
       "1       5214 2019-05-19               2092\n",
       "2       5675 2019-05-20               2180\n",
       "3       6439 2019-05-21               2421\n",
       "4       6692 2019-05-22               2440"
      ]
     },
     "execution_count": 83,
     "metadata": {},
     "output_type": "execute_result"
    }
   ],
   "source": [
    "dsl = {\n",
    "        'aggs': {'my_buckets': {'aggregations': {'打开(Visitor)': {'cardinality': {'field': 'session_id',\n",
    "                                                                          'precision_threshold': 100}}},\n",
    "                         'composite': {'size': 9999999,\n",
    "                                       'sources': [\n",
    "                                           {'日期': {'date_histogram': {'field': 'created',\n",
    "                                                                              'interval': '1d',\n",
    "                                                                              'time_zone': '+08:00'}}},\n",
    "                                                   {'shop_group_id': {'terms': {'field': 'shop_group_id'}}}]}}},\n",
    "         'query': {'bool': {'must': [{'range': {'created': {'format': 'yyyy-MM-dd',\n",
    "                                                    'gte': '2019-01-01',\n",
    "                                                    'lte': '2019-06-05',\n",
    "                                                    'time_zone': '+08:00'}}},\n",
    "                             {'terms': {'app_name': ['vip-mini']}},\n",
    "                             {'terms': {'event_name': ['查看大图']}},\n",
    "                             {'terms':{\"extra.source.keyword\": [\"商家菜单\"]}},\n",
    "                             {'terms': {'event_type': ['event']}}]}}}\n",
    "\n",
    "    \n",
    "es = Elasticsearch(['http://172.18.198.27:9200/'], timeout=30)\n",
    "res = es_id.search(index='shop_pv_event', doc_type='pv_event', body=dsl,\n",
    "                _source=False, explain=False, track_scores=False, track_total_hits=False, size=0,\n",
    "                search_type='query_then_fetch')\n",
    "df = json_normalize(res['aggregations']['my_buckets']['buckets'])\n",
    "df.columns = map(lambda x: x.split('key.')[-1] if x.startswith('key.') else x, list(df.columns))\n",
    "df['日期'] = df['日期'].apply(to_date)\n",
    "df['日期'] = pd.to_datetime(df['日期'])\n",
    "del df['shop_group_id']\n",
    "df.head()"
   ]
  },
  {
   "cell_type": "code",
   "execution_count": 84,
   "metadata": {},
   "outputs": [],
   "source": [
    "df['all']=df_id['打开(Visitor).value']"
   ]
  },
  {
   "cell_type": "code",
   "execution_count": 79,
   "metadata": {},
   "outputs": [],
   "source": [
    "#df=df.drop([len(df)-1])"
   ]
  },
  {
   "cell_type": "code",
   "execution_count": 86,
   "metadata": {},
   "outputs": [
    {
     "data": {
      "image/png": "[encoded data removed]",
      "text/plain": [
       "<Figure size 432x288 with 1 Axes>"
      ]
     },
     "metadata": {
      "needs_background": "light"
     },
     "output_type": "display_data"
    }
   ],
   "source": [
    "plt.plot(df['all'])\n",
    "plt.plot(df['打开(Visitor).value'])\n",
    "plt.title(\"click the list\",fontsize=15)\n",
    "plt.xlabel(\"days\",fontsize=12)\n",
    "plt.ylabel(\"times\",fontsize=12)\n",
    "plt.show()"
   ]
  },
  {
   "cell_type": "code",
   "execution_count": 69,
   "metadata": {},
   "outputs": [
    {
     "data": {
      "text/plain": [
       "0.8389185002120949"
      ]
     },
     "execution_count": 69,
     "metadata": {},
     "output_type": "execute_result"
    }
   ],
   "source": [
    "sum(df['打开(Visitor).value'])/sum(df['all'])"
   ]
  },
  {
   "cell_type": "code",
   "execution_count": null,
   "metadata": {},
   "outputs": [],
   "source": []
  }
 ],
 "metadata": {
  "kernelspec": {
   "display_name": "Python 3",
   "language": "python",
   "name": "python3"
  },
  "language_info": {
   "codemirror_mode": {
    "name": "ipython",
    "version": 3
   },
   "file_extension": ".py",
   "mimetype": "text/x-python",
   "name": "python",
   "nbconvert_exporter": "python",
   "pygments_lexer": "ipython3",
   "version": "3.6.6"
  }
 },
 "nbformat": 4,
 "nbformat_minor": 2
}
