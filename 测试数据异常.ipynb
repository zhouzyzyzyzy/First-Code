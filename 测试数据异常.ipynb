{
 "cells": [
  {
   "cell_type": "code",
   "execution_count": 7,
   "metadata": {},
   "outputs": [],
   "source": [
    "from elasticsearch import Elasticsearch\n",
    "import pandas as pd\n",
    "from pandas.io.json import json_normalize\n",
    "import datetime"
   ]
  },
  {
   "cell_type": "code",
   "execution_count": 13,
   "metadata": {},
   "outputs": [],
   "source": [
    "from pprint import pprint"
   ]
  },
  {
   "cell_type": "code",
   "execution_count": 58,
   "metadata": {},
   "outputs": [],
   "source": [
    "def to_datetime_utc(s):\n",
    "    dt = datetime.datetime.utcfromtimestamp(s / 1e3)\n",
    "    return dt.strftime(\"%Y-%m-%d %H\")"
   ]
  },
  {
   "cell_type": "code",
   "execution_count": 61,
   "metadata": {},
   "outputs": [],
   "source": [
    "citys={'中山市','茂名市','佛山市','阳江市'}\n"
   ]
  },
  {
   "cell_type": "code",
   "execution_count": 65,
   "metadata": {},
   "outputs": [],
   "source": [
    "dsl_m_now = {'query': {'bool': {'must': [{'range': {'paytime': {'gte': '2019-05-27 15:00:00', 'lte': '2019-05-27 15:23:59', 'format': 'yyyy-MM-dd HH:mm:ss', 'time_zone': '+00:00'}}}, {'terms': {'group_city': [city]}}, {'terms': {'order_type': ['vip_scan', 'deal']}}, {'terms': {'order_status': ['done', 'fulfilled', 'confirmed']}}, {'range': {'card_discount': {'gt': 0}}}]}}, 'aggs': {'my_buckets': {'composite': {'size': 9999999, 'sources': [{'日期': {'date_histogram': {'field': 'paytime', 'interval': '1h', 'time_zone': '+00:00'}}}, {'group_city': {'terms': {'field': 'group_city'}}}]}, 'aggregations': {'折前GMV': {'sum': {'field': 'skutotal_price'}}}}}}\n",
    "es_m_now = Elasticsearch(['http://172.18.198.27:9200/'], timeout=30)\n",
    "res_m_now = es_m.search(index=\"es_order_table\", doc_type=\"order\", body=dsl_m_now,\n",
    "            _source=True, explain=False, track_scores=False, track_total_hits=False)\n",
    "df_m_now  = json_normalize(res_m_now['aggregations']['my_buckets']['buckets'])\n",
    "df_m_now ['key.日期'] = df_m_now ['key.日期'].apply(to_datetime_utc)"
   ]
  },
  {
   "cell_type": "code",
   "execution_count": 70,
   "metadata": {},
   "outputs": [
    {
     "name": "stdout",
     "output_type": "stream",
     "text": [
      "茂名市环比异常\n",
      "茂名市同比异常\n",
      "佛山市环比正常\n",
      "佛山市同比正常\n",
      "中山市环比正常\n",
      "中山市同比正常\n",
      "阳江市环比正常\n",
      "阳江市同比正常\n"
     ]
    }
   ],
   "source": [
    "for city in citys:\n",
    "    dsl_m_now = {'query': {'bool': {'must': [{'range': {'paytime': {'gte': '2019-05-27', 'lte': '2019-05-27', 'format': 'yyyy-MM-dd', 'time_zone': '+00:00'}}}, {'terms': {'group_city': [city]}}, {'terms': {'order_type': ['vip_scan', 'deal']}}, {'terms': {'order_status': ['done', 'fulfilled', 'confirmed']}}, {'range': {'card_discount': {'gt': 0}}}]}}, 'aggs': {'my_buckets': {'composite': {'size': 9999999, 'sources': [{'日期': {'date_histogram': {'field': 'paytime', 'interval': '1h', 'time_zone': '+00:00'}}}, {'group_city': {'terms': {'field': 'group_city'}}}]}, 'aggregations': {'折前GMV': {'sum': {'field': 'skutotal_price'}}}}}}\n",
    "    es_m_now = Elasticsearch(['http://172.18.198.27:9200/'], timeout=30)\n",
    "    res_m_now = es_m.search(index=\"es_order_table\", doc_type=\"order\", body=dsl_m_now,\n",
    "                _source=True, explain=False, track_scores=False, track_total_hits=False)\n",
    "    df_m_now  = json_normalize(res_m_now['aggregations']['my_buckets']['buckets'])\n",
    "    df_m_now ['key.日期'] = df_m_now ['key.日期'].apply(to_datetime_utc)\n",
    "    dsl_m_yes={'query': {'bool': {'must': [{'range': {'paytime': {'gte': '2019-05-26', 'lte': '2019-05-26', 'format': 'yyyy-MM-dd', 'time_zone': '+00:00'}}}, {'terms': {'group_city': ['茂名市']}}, {'terms': {'order_type': ['vip_scan', 'deal']}}, {'terms': {'order_status': ['done', 'fulfilled', 'confirmed']}}, {'range': {'card_discount': {'gt': 0}}}]}}, 'aggs': {'my_buckets': {'composite': {'size': 9999999, 'sources': [{'日期': {'date_histogram': {'field': 'paytime', 'interval': '1h', 'time_zone': '+00:00'}}}, {'group_city': {'terms': {'field': 'group_city'}}}]}, 'aggregations': {'折前GMV': {'sum': {'field': 'skutotal_price'}}}}}}\n",
    "    es_m_yes = Elasticsearch(['http://172.18.198.27:9200/'], timeout=30)\n",
    "    res_m_yes = es_m_yes.search(index=\"es_order_table\", doc_type=\"order\", body=dsl_m_yes,\n",
    "                _source=True, explain=False, track_scores=False, track_total_hits=False)\n",
    "    df_m_yes  = json_normalize(res_m_yes['aggregations']['my_buckets']['buckets'])\n",
    "    df_m_yes ['key.日期'] = df_m_yes ['key.日期'].apply(to_datetime_utc)\n",
    "    if (df_m_now ['折前GMV.value'][len(df_m_now)-2]-df_m_yes ['折前GMV.value'][len(df_m_now)-2])/df_m_yes ['折前GMV.value'][len(df_m_now)-2] >0.2:#与昨天对比警报\n",
    "        print(city+'环比'+'异常')\n",
    "    else:\n",
    "        print(city+'环比'+'正常')\n",
    "    dsl_m_sev = {'query': {'bool': {'must': [{'range': {'paytime': {'gte': '2019-05-26', 'lte': '2019-05-26', 'format': 'yyyy-MM-dd', 'time_zone': '+00:00'}}}, {'terms': {'group_city': ['茂名市']}}, {'terms': {'order_type': ['vip_scan', 'deal']}}, {'terms': {'order_status': ['done', 'fulfilled', 'confirmed']}}, {'range': {'card_discount': {'gt': 0}}}]}}, 'aggs': {'my_buckets': {'composite': {'size': 9999999, 'sources': [{'日期': {'date_histogram': {'field': 'paytime', 'interval': '1h', 'time_zone': '+00:00'}}}, {'group_city': {'terms': {'field': 'group_city'}}}]}, 'aggregations': {'折前GMV': {'sum': {'field': 'skutotal_price'}}}}}}\n",
    "    es_m_sev = Elasticsearch(['http://172.18.198.27:9200/'], timeout=30)\n",
    "    res_m_sev = es_m_sev.search(index=\"es_order_table\", doc_type=\"order\", body=dsl_m_sev,\n",
    "                _source=True, explain=False, track_scores=False, track_total_hits=False)\n",
    "    df_m_sev  = json_normalize(res_m_sev['aggregations']['my_buckets']['buckets'])\n",
    "    df_m_sev ['key.日期'] = df_m_sev ['key.日期'].apply(to_datetime_utc)\n",
    "    if (df_m_now ['折前GMV.value'][len(df_m_now)-2]-df_m_sev ['折前GMV.value'][len(df_m_now)-2])/df_m_sev ['折前GMV.value'][len(df_m_now)-2] >0.15:#与七天前对比警报\n",
    "        print(city+'同比'+'异常')\n",
    "    else:\n",
    "        print(city+'同比'+'正常')\n",
    "        \n",
    "    \n",
    "    "
   ]
  },
  {
   "cell_type": "code",
   "execution_count": null,
   "metadata": {},
   "outputs": [],
   "source": []
  }
 ],
 "metadata": {
  "kernelspec": {
   "display_name": "Python 3",
   "language": "python",
   "name": "python3"
  },
  "language_info": {
   "codemirror_mode": {
    "name": "ipython",
    "version": 3
   },
   "file_extension": ".py",
   "mimetype": "text/x-python",
   "name": "python",
   "nbconvert_exporter": "python",
   "pygments_lexer": "ipython3",
   "version": "3.6.6"
  }
 },
 "nbformat": 4,
 "nbformat_minor": 2
}
