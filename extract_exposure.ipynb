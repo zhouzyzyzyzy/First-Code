{
 "cells": [
  {
   "cell_type": "code",
   "execution_count": 143,
   "metadata": {},
   "outputs": [],
   "source": [
    "import datetime\n",
    "import configure\n",
    "from aliyun.log import *\n",
    "import time"
   ]
  },
  {
   "cell_type": "code",
   "execution_count": 144,
   "metadata": {},
   "outputs": [],
   "source": [
    "def to_datetime(s):\n",
    "    dt = datetime.datetime.fromtimestamp(s / 1e3)\n",
    "    return dt.strftime(\"%Y-%m-%d %H-%M-%S\")"
   ]
  },
  {
   "cell_type": "code",
   "execution_count": 147,
   "metadata": {},
   "outputs": [],
   "source": [
    "client = LogClient(configure.endpoint, configure.access_key_id, configure.access_key)\n",
    "topic = \"\"\n",
    "query = \"* | SELECT source,page,shop_id, COUNT(*) as exposure GROUP BY page,shop_id\"\n",
    "#query = \"* | SELECT page,shop_id, COUNT(*) as exposure WHERE shop_id='%s' GROUP BY page,shop_id LIMIT 9999999999\"%str(shop_id)\n",
    "From = int(time.mktime(time.strptime('2019-06-04 11:00:00', '%Y-%m-%d %H:%M:%S')))\n",
    "To = int(time.mktime(time.strptime('2019-06-04 22:00:00', '%Y-%m-%d %H:%M:%S')))\n",
    "req3 = GetLogsRequest('mx-shop', 'bjx-show-event', From, To, topic, query)\n",
    "res = client.get_logs(req3)"
   ]
  },
  {
   "cell_type": "code",
   "execution_count": 148,
   "metadata": {},
   "outputs": [
    {
     "data": {
      "text/plain": [
       "'2019-06-06 21:04:39'"
      ]
     },
     "execution_count": 148,
     "metadata": {},
     "output_type": "execute_result"
    }
   ],
   "source": [
    "now =datetime.datetime.now()\n",
    "now_time =datetime.datetime.now().strftime(\"%Y-%m-%d %H:%M:%S\")\n",
    "now_time"
   ]
  },
  {
   "cell_type": "code",
   "execution_count": 149,
   "metadata": {},
   "outputs": [
    {
     "data": {
      "text/plain": [
       "'2019-06-06 00:00:00'"
      ]
     },
     "execution_count": 149,
     "metadata": {},
     "output_type": "execute_result"
    }
   ],
   "source": [
    "begin = datetime.datetime.now().replace(year=now.year, month=now.month,day=now.day, hour=0, minute=0, second=0)\n",
    "begin_time = datetime.datetime.now().replace(year=now.year, month=now.month,day=now.day, hour=0, minute=0, second=0).strftime(\"%Y-%m-%d %H:%M:%S\")\n",
    "begin_time"
   ]
  },
  {
   "cell_type": "code",
   "execution_count": 114,
   "metadata": {},
   "outputs": [],
   "source": [
    "def get_aggr_exposure_data(start_time, finish_time, project, logstore):\n",
    "    client = LogClient(configure.endpoint, configure.access_key_id, configure.access_key)\n",
    "    topic = ''\n",
    "    query = \"* | SELECT source,page,shop_id, COUNT(*) as exposure GROUP BY page,shop_id\"\n",
    "    From = int(time.mktime(time.strptime(start_time, '%Y-%m-%d %H:%M:%S')))\n",
    "    To = int(time.mktime(time.strptime(finish_time, '%Y-%m-%d %H:%M:%S')))\n",
    "    req3 = GetLogsRequest(project, logstore, From, To, topic, query)\n",
    "    res = client.get_logs(req3)\n",
    "    return res.get_body()"
   ]
  },
  {
   "cell_type": "code",
   "execution_count": 142,
   "metadata": {},
   "outputs": [],
   "source": [
    "exposure_result = get_aggr_exposure_data(begin_time, now_time, 'mx-shop', 'bjx-show-event')"
   ]
  },
  {
   "cell_type": "code",
   "execution_count": 93,
   "metadata": {},
   "outputs": [
    {
     "data": {
      "text/plain": [
       "{'__source__': '',\n",
       " '__time__': '1559750400',\n",
       " 'exposure': '51',\n",
       " 'page': '门店详情',\n",
       " 'shop_id': '11293',\n",
       " 'source': '猜你喜欢'}"
      ]
     },
     "execution_count": 93,
     "metadata": {},
     "output_type": "execute_result"
    }
   ],
   "source": [
    "exposure_result[0]"
   ]
  },
  {
   "cell_type": "code",
   "execution_count": 84,
   "metadata": {},
   "outputs": [],
   "source": [
    "shop_id=11245  #商家id，开始时间，结束时间"
   ]
  },
  {
   "cell_type": "code",
   "execution_count": null,
   "metadata": {},
   "outputs": [],
   "source": [
    "def get_shop_exposure(start_time, finish_time):\n",
    "    shop_list=[]\n",
    "    for i in range(len(exposure_result)):\n",
    "        if exposure_result.iloc(i)['shop_id'] not in shop_list:\n",
    "            shop_list.append(exposure_result.iloc(i)['shop_id'])\n",
    "        else：\n",
    "            continue\n",
    "    ini_list,dis_list,near_list=range(len(exposure_result)),range(len(exposure_result)),range(len(exposure_result))\n",
    "    for j in range(len(exposure_result)):\n",
    "            a = shop_list.index('exposure_result.iloc(j)['shop_id']')\n",
    "            if exposure_result.iloc(j)['source'] = '附近优惠':\n",
    "                near_list[a]=+exposure_result.iloc(j)['exposure']\n",
    "            elif exposure_result.iloc(j)['source'] = '五折日历':\n",
    "                dis_list[a]=+exposure_result.iloc(j)['exposure']\n",
    "            else:\n",
    "                continue\n",
    "            if exposure_result.iloc(j)['page'] = '首页':\n",
    "                ini_list[a]=+exposure_result.iloc(j)['exposure']\n",
    "            else\n",
    "                continue\n",
    "    shop_list.set_index=\n",
    "    \n",
    "    return"
   ]
  },
  {
   "cell_type": "code",
   "execution_count": 32,
   "metadata": {},
   "outputs": [
    {
     "ename": "TypeError",
     "evalue": "list indices must be integers or slices, not str",
     "output_type": "error",
     "traceback": [
      "\u001b[0;31m---------------------------------------------------------------------------\u001b[0m",
      "\u001b[0;31mTypeError\u001b[0m                                 Traceback (most recent call last)",
      "\u001b[0;32m<ipython-input-32-da92fdf08367>\u001b[0m in \u001b[0;36m<module>\u001b[0;34m\u001b[0m\n\u001b[1;32m      1\u001b[0m \u001b[0ma\u001b[0m\u001b[0;34m=\u001b[0m\u001b[0;34m[\u001b[0m\u001b[0;36m1\u001b[0m\u001b[0;34m,\u001b[0m\u001b[0;36m2\u001b[0m\u001b[0;34m,\u001b[0m\u001b[0;36m3\u001b[0m\u001b[0;34m]\u001b[0m\u001b[0;34m\u001b[0m\u001b[0m\n\u001b[1;32m      2\u001b[0m \u001b[0mb\u001b[0m\u001b[0;34m=\u001b[0m\u001b[0;34m[\u001b[0m\u001b[0;36m2\u001b[0m\u001b[0;34m,\u001b[0m\u001b[0;36m3\u001b[0m\u001b[0;34m,\u001b[0m\u001b[0;36m4\u001b[0m\u001b[0;34m]\u001b[0m\u001b[0;34m\u001b[0m\u001b[0m\n\u001b[0;32m----> 3\u001b[0;31m \u001b[0ma\u001b[0m\u001b[0;34m[\u001b[0m\u001b[0;34m'asd'\u001b[0m\u001b[0;34m]\u001b[0m\u001b[0;34m=\u001b[0m\u001b[0mb\u001b[0m\u001b[0;34m\u001b[0m\u001b[0m\n\u001b[0m",
      "\u001b[0;31mTypeError\u001b[0m: list indices must be integers or slices, not str"
     ]
    }
   ],
   "source": [
    "a=[1,2,3]\n",
    "b=[2,3,4]\n",
    "a."
   ]
  },
  {
   "cell_type": "code",
   "execution_count": 107,
   "metadata": {},
   "outputs": [],
   "source": [
    "def get_shop_exposure(start_time, finish_time,shop_id):\n",
    "    ini_list,dis_list,near_list = 0,0,0\n",
    "    for i in range(len(exposure_result)):\n",
    "            if exposure_result[i]['shop_id'] == str(shop_id):\n",
    "                if exposure_result[i]['source'] == '附近优惠':\n",
    "                    near_list += int(exposure_result[i]['exposure'])\n",
    "                elif exposure_result[i]['source'] == '五折日历':\n",
    "                    dis_list += int(exposure_result[i]['exposure'])\n",
    "                else:\n",
    "                    continue\n",
    "\n",
    "                if exposure_result[i]['page'] == '首页':\n",
    "                    ini_list += int(exposure_result[i]['exposure'])\n",
    "                else:\n",
    "                    continue\n",
    "            else:\n",
    "                continue\n",
    "    return ini_list,dis_list,near_list"
   ]
  },
  {
   "cell_type": "code",
   "execution_count": 108,
   "metadata": {},
   "outputs": [
    {
     "data": {
      "text/plain": [
       "(0, 0, 51)"
      ]
     },
     "execution_count": 108,
     "metadata": {},
     "output_type": "execute_result"
    }
   ],
   "source": [
    "get_shop_exposure(now, begin,10969)"
   ]
  },
  {
   "cell_type": "code",
   "execution_count": 85,
   "metadata": {},
   "outputs": [
    {
     "name": "stdout",
     "output_type": "stream",
     "text": [
      "450\n",
      "450\n",
      "0\n"
     ]
    }
   ],
   "source": [
    "ini_list,dis_list,near_list = 0,0,0\n",
    "for i in range(len(exposure_result)):\n",
    "        if exposure_result[i]['shop_id'] == str(shop_id):\n",
    "            if exposure_result[i]['source'] == '附近优惠':\n",
    "                near_list += int(exposure_result[i]['exposure'])\n",
    "            elif exposure_result[i]['source'] == '五折日历':\n",
    "                dis_list += int(exposure_result[i]['exposure'])\n",
    "            else:\n",
    "                continue\n",
    "                    \n",
    "            if exposure_result[i]['page'] == '首页':\n",
    "                ini_list += int(exposure_result[i]['exposure'])\n",
    "            else:\n",
    "                continue\n",
    "        else:\n",
    "            continue\n",
    "print(ini_list)\n",
    "print(dis_list)\n",
    "print(near_list)"
   ]
  },
  {
   "cell_type": "code",
   "execution_count": 66,
   "metadata": {},
   "outputs": [
    {
     "data": {
      "text/plain": [
       "True"
      ]
     },
     "execution_count": 66,
     "metadata": {},
     "output_type": "execute_result"
    }
   ],
   "source": [
    "shop_id=10424\n",
    "exposure_result[0]['shop_id'] == str(shop_id"
   ]
  },
  {
   "cell_type": "code",
   "execution_count": 68,
   "metadata": {},
   "outputs": [
    {
     "data": {
      "text/plain": [
       "True"
      ]
     },
     "execution_count": 68,
     "metadata": {},
     "output_type": "execute_result"
    }
   ],
   "source": [
    "exposure_result[0]['source'] == '小伙伴都喜欢'"
   ]
  },
  {
   "cell_type": "code",
   "execution_count": 79,
   "metadata": {},
   "outputs": [
    {
     "data": {
      "text/plain": [
       "100"
      ]
     },
     "execution_count": 79,
     "metadata": {},
     "output_type": "execute_result"
    }
   ],
   "source": [
    "len(exposure_result)"
   ]
  },
  {
   "cell_type": "code",
   "execution_count": 81,
   "metadata": {},
   "outputs": [
    {
     "data": {
      "text/plain": [
       "51"
      ]
     },
     "execution_count": 81,
     "metadata": {},
     "output_type": "execute_result"
    }
   ],
   "source": [
    "int(exposure_result[0]['exposure'])"
   ]
  },
  {
   "cell_type": "code",
   "execution_count": 90,
   "metadata": {},
   "outputs": [],
   "source": [
    "from configure import *"
   ]
  },
  {
   "cell_type": "code",
   "execution_count": 122,
   "metadata": {},
   "outputs": [],
   "source": [
    "def get_aggr_exposure_data(base_date,shop_id, project='mx-shop', logstore='bjx-show-event'):  #完整版\n",
    "    \"\"\"\n",
    "    用来查某一天的某个shop的每个page的曝光数\n",
    "    base_date: 格式为 '2019-06-06',\n",
    "    start_time: 为某一天的00:00:00\n",
    "    shop_id: 字符串\n",
    "    finish_time: 同一天的 23:59:59\n",
    "    \"\"\"\n",
    "    start_time = base_date+ ' '+'00:00:00'\n",
    "    finish_time = base_date+ ' '+'23:59:59'\n",
    "    client = LogClient(endpoint, access_key_id, access_key)\n",
    "    topic = ''\n",
    "    query = \"* | SELECT page,shop_id, COUNT(*) as exposure WHERE shop_id='%s' GROUP BY page,shop_id LIMIT 9999999999\"%str(shop_id)\n",
    "    From = int(time.mktime(time.strptime(start_time, '%Y-%m-%d %H:%M:%S')))\n",
    "    To = int(time.mktime(time.strptime(finish_time, '%Y-%m-%d %H:%M:%S')))\n",
    "    req3 = GetLogsRequest(project, logstore, From, To, topic, query)\n",
    "    res = client.get_logs(req3)\n",
    "    res_list = res.get_body()\n",
    "    result = {}\n",
    "    exposure_sum = 0\n",
    "    for data in res_list:\n",
    "        result[data['page']] = data['exposure']\n",
    "    for value in result.values():\n",
    "        exposure_sum += int(value)\n",
    "    return {'today_total_exposure': exposure_sum, 'today_exposure': result}"
   ]
  },
  {
   "cell_type": "code",
   "execution_count": 123,
   "metadata": {},
   "outputs": [
    {
     "data": {
      "text/plain": [
       "{'today_total_exposure': 2239,\n",
       " 'today_exposure': {'五折日历': '667',\n",
       "  '首页': '654',\n",
       "  '未知': '328',\n",
       "  '附近优惠': '83',\n",
       "  '门店详情': '458',\n",
       "  '个人中心': '49'}}"
      ]
     },
     "execution_count": 123,
     "metadata": {},
     "output_type": "execute_result"
    }
   ],
   "source": [
    "get_aggr_exposure_data('2019-06-06',\"10960\")"
   ]
  },
  {
   "cell_type": "code",
   "execution_count": 131,
   "metadata": {},
   "outputs": [],
   "source": [
    "base_date = '2019-06-06'\n",
    "start_time = base_date+ ' '+'00:00:00'\n",
    "finish_time = base_date+ ' '+'23:59:59'\n",
    "client = LogClient(endpoint, access_key_id, access_key)\n",
    "topic = ''\n",
    "query = \"* | SELECT page,shop_id, COUNT(*) as exposure WHERE shop_id='%s' GROUP BY page,shop_id LIMIT 9999999999\"%str(10969)\n",
    "From = int(time.mktime(time.strptime(start_time, '%Y-%m-%d %H:%M:%S')))\n",
    "To = int(time.mktime(time.strptime(finish_time, '%Y-%m-%d %H:%M:%S')))\n",
    "req3 = GetLogsRequest('mx-shop', 'bjx-show-event', From, To, topic, query)\n",
    "res = client.get_logs(req3)"
   ]
  },
  {
   "cell_type": "code",
   "execution_count": 125,
   "metadata": {},
   "outputs": [],
   "source": []
  },
  {
   "cell_type": "code",
   "execution_count": 132,
   "metadata": {},
   "outputs": [
    {
     "data": {
      "text/plain": [
       "<aliyun.log.getlogsrequest.GetLogsRequest at 0x7fd0fd5ea198>"
      ]
     },
     "execution_count": 132,
     "metadata": {},
     "output_type": "execute_result"
    }
   ],
   "source": [
    "req3"
   ]
  },
  {
   "cell_type": "code",
   "execution_count": 133,
   "metadata": {},
   "outputs": [
    {
     "data": {
      "text/plain": [
       "<aliyun.log.getlogsresponse.GetLogsResponse at 0x7fd0fcf962e8>"
      ]
     },
     "execution_count": 133,
     "metadata": {},
     "output_type": "execute_result"
    }
   ],
   "source": [
    "res"
   ]
  },
  {
   "cell_type": "code",
   "execution_count": 135,
   "metadata": {},
   "outputs": [
    {
     "data": {
      "text/plain": [
       "[{'__source__': '',\n",
       "  '__time__': '1559750400',\n",
       "  'exposure': '163',\n",
       "  'page': '五折日历',\n",
       "  'shop_id': '10969'},\n",
       " {'__source__': '',\n",
       "  '__time__': '1559750400',\n",
       "  'exposure': '11',\n",
       "  'page': '未知',\n",
       "  'shop_id': '10969'},\n",
       " {'__source__': '',\n",
       "  '__time__': '1559750400',\n",
       "  'exposure': '104',\n",
       "  'page': '门店详情',\n",
       "  'shop_id': '10969'},\n",
       " {'__source__': '',\n",
       "  '__time__': '1559750400',\n",
       "  'exposure': '87',\n",
       "  'page': '首页',\n",
       "  'shop_id': '10969'},\n",
       " {'__source__': '',\n",
       "  '__time__': '1559750400',\n",
       "  'exposure': '8',\n",
       "  'page': '个人中心',\n",
       "  'shop_id': '10969'},\n",
       " {'__source__': '',\n",
       "  '__time__': '1559750400',\n",
       "  'exposure': '52',\n",
       "  'page': '附近优惠',\n",
       "  'shop_id': '10969'}]"
      ]
     },
     "execution_count": 135,
     "metadata": {},
     "output_type": "execute_result"
    }
   ],
   "source": [
    "res_list = res.get_body()\n",
    "res_list"
   ]
  },
  {
   "cell_type": "code",
   "execution_count": 151,
   "metadata": {},
   "outputs": [
    {
     "ename": "LogException",
     "evalue": "{\"errorCode\": \"ParameterInvalid\", \"errorMessage\": \"line 1:9: '\\\"source\\\"' must be an aggregate expression or appear in GROUP BY clause\", \"requestId\": \"5CF90F776FE6E9B363C44928\"}",
     "output_type": "error",
     "traceback": [
      "\u001b[0;31m---------------------------------------------------------------------------\u001b[0m",
      "\u001b[0;31mLogException\u001b[0m                              Traceback (most recent call last)",
      "\u001b[0;32m<ipython-input-151-79a5772893d4>\u001b[0m in \u001b[0;36m<module>\u001b[0;34m\u001b[0m\n\u001b[1;32m      5\u001b[0m \u001b[0mTo\u001b[0m \u001b[0;34m=\u001b[0m \u001b[0mint\u001b[0m\u001b[0;34m(\u001b[0m\u001b[0mtime\u001b[0m\u001b[0;34m.\u001b[0m\u001b[0mmktime\u001b[0m\u001b[0;34m(\u001b[0m\u001b[0mtime\u001b[0m\u001b[0;34m.\u001b[0m\u001b[0mstrptime\u001b[0m\u001b[0;34m(\u001b[0m\u001b[0;34m'2019-06-04 22:00:00'\u001b[0m\u001b[0;34m,\u001b[0m \u001b[0;34m'%Y-%m-%d %H:%M:%S'\u001b[0m\u001b[0;34m)\u001b[0m\u001b[0;34m)\u001b[0m\u001b[0;34m)\u001b[0m\u001b[0;34m\u001b[0m\u001b[0m\n\u001b[1;32m      6\u001b[0m \u001b[0mreq3\u001b[0m \u001b[0;34m=\u001b[0m \u001b[0mGetLogsRequest\u001b[0m\u001b[0;34m(\u001b[0m\u001b[0;34m'mx-shop'\u001b[0m\u001b[0;34m,\u001b[0m \u001b[0;34m'bjx-show-event'\u001b[0m\u001b[0;34m,\u001b[0m \u001b[0mFrom\u001b[0m\u001b[0;34m,\u001b[0m \u001b[0mTo\u001b[0m\u001b[0;34m,\u001b[0m \u001b[0mtopic\u001b[0m\u001b[0;34m,\u001b[0m \u001b[0mquery\u001b[0m\u001b[0;34m)\u001b[0m\u001b[0;34m\u001b[0m\u001b[0m\n\u001b[0;32m----> 7\u001b[0;31m \u001b[0mres\u001b[0m \u001b[0;34m=\u001b[0m \u001b[0mclient\u001b[0m\u001b[0;34m.\u001b[0m\u001b[0mget_logs\u001b[0m\u001b[0;34m(\u001b[0m\u001b[0mreq3\u001b[0m\u001b[0;34m)\u001b[0m\u001b[0;34m\u001b[0m\u001b[0m\n\u001b[0m\u001b[1;32m      8\u001b[0m \u001b[0mres\u001b[0m\u001b[0;34m.\u001b[0m\u001b[0mget_body\u001b[0m\u001b[0;34m(\u001b[0m\u001b[0;34m)\u001b[0m\u001b[0;34m\u001b[0m\u001b[0m\n",
      "\u001b[0;32m/usr/local/lib/python3.6/site-packages/aliyun/log/logclient.py\u001b[0m in \u001b[0;36mget_logs\u001b[0;34m(self, request)\u001b[0m\n\u001b[1;32m    568\u001b[0m \u001b[0;34m\u001b[0m\u001b[0m\n\u001b[1;32m    569\u001b[0m         return self.get_log(project, logstore, from_time, to_time, topic,\n\u001b[0;32m--> 570\u001b[0;31m                             query, reverse, offset, size)\n\u001b[0m\u001b[1;32m    571\u001b[0m \u001b[0;34m\u001b[0m\u001b[0m\n\u001b[1;32m    572\u001b[0m     def get_log_all(self, project, logstore, from_time, to_time, topic=None,\n",
      "\u001b[0;32m/usr/local/lib/python3.6/site-packages/aliyun/log/logclient.py\u001b[0m in \u001b[0;36mget_log\u001b[0;34m(self, project, logstore, from_time, to_time, topic, query, reverse, offset, size)\u001b[0m\n\u001b[1;32m    536\u001b[0m \u001b[0;34m\u001b[0m\u001b[0m\n\u001b[1;32m    537\u001b[0m             \u001b[0mresource\u001b[0m \u001b[0;34m=\u001b[0m \u001b[0;34m\"/logstores/\"\u001b[0m \u001b[0;34m+\u001b[0m \u001b[0mlogstore\u001b[0m\u001b[0;34m\u001b[0m\u001b[0m\n\u001b[0;32m--> 538\u001b[0;31m             \u001b[0;34m(\u001b[0m\u001b[0mresp\u001b[0m\u001b[0;34m,\u001b[0m \u001b[0mheader\u001b[0m\u001b[0;34m)\u001b[0m \u001b[0;34m=\u001b[0m \u001b[0mself\u001b[0m\u001b[0;34m.\u001b[0m\u001b[0m_send\u001b[0m\u001b[0;34m(\u001b[0m\u001b[0;34m\"GET\"\u001b[0m\u001b[0;34m,\u001b[0m \u001b[0mproject\u001b[0m\u001b[0;34m,\u001b[0m \u001b[0;32mNone\u001b[0m\u001b[0;34m,\u001b[0m \u001b[0mresource\u001b[0m\u001b[0;34m,\u001b[0m \u001b[0mparams\u001b[0m\u001b[0;34m,\u001b[0m \u001b[0mheaders\u001b[0m\u001b[0;34m)\u001b[0m\u001b[0;34m\u001b[0m\u001b[0m\n\u001b[0m\u001b[1;32m    539\u001b[0m             \u001b[0mret\u001b[0m \u001b[0;34m=\u001b[0m \u001b[0mGetLogsResponse\u001b[0m\u001b[0;34m(\u001b[0m\u001b[0mresp\u001b[0m\u001b[0;34m,\u001b[0m \u001b[0mheader\u001b[0m\u001b[0;34m)\u001b[0m\u001b[0;34m\u001b[0m\u001b[0m\n\u001b[1;32m    540\u001b[0m             \u001b[0;32mif\u001b[0m \u001b[0mret\u001b[0m\u001b[0;34m.\u001b[0m\u001b[0mis_completed\u001b[0m\u001b[0;34m(\u001b[0m\u001b[0;34m)\u001b[0m\u001b[0;34m:\u001b[0m\u001b[0;34m\u001b[0m\u001b[0m\n",
      "\u001b[0;32m/usr/local/lib/python3.6/site-packages/aliyun/log/logclient.py\u001b[0m in \u001b[0;36m_send\u001b[0;34m(self, method, project, body, resource, params, headers, respons_body_type)\u001b[0m\n\u001b[1;32m    267\u001b[0m         \u001b[0murl\u001b[0m \u001b[0;34m=\u001b[0m \u001b[0murl\u001b[0m \u001b[0;34m+\u001b[0m \u001b[0mresource\u001b[0m\u001b[0;34m\u001b[0m\u001b[0m\n\u001b[1;32m    268\u001b[0m \u001b[0;34m\u001b[0m\u001b[0m\n\u001b[0;32m--> 269\u001b[0;31m         \u001b[0;32mreturn\u001b[0m \u001b[0mself\u001b[0m\u001b[0;34m.\u001b[0m\u001b[0m_sendRequest\u001b[0m\u001b[0;34m(\u001b[0m\u001b[0mmethod\u001b[0m\u001b[0;34m,\u001b[0m \u001b[0murl\u001b[0m\u001b[0;34m,\u001b[0m \u001b[0mparams\u001b[0m\u001b[0;34m,\u001b[0m \u001b[0mbody\u001b[0m\u001b[0;34m,\u001b[0m \u001b[0mheaders\u001b[0m\u001b[0;34m,\u001b[0m \u001b[0mrespons_body_type\u001b[0m\u001b[0;34m)\u001b[0m\u001b[0;34m\u001b[0m\u001b[0m\n\u001b[0m\u001b[1;32m    270\u001b[0m \u001b[0;34m\u001b[0m\u001b[0m\n\u001b[1;32m    271\u001b[0m     \u001b[0;34m@\u001b[0m\u001b[0mstaticmethod\u001b[0m\u001b[0;34m\u001b[0m\u001b[0m\n",
      "\u001b[0;32m/usr/local/lib/python3.6/site-packages/aliyun/log/logclient.py\u001b[0m in \u001b[0;36m_sendRequest\u001b[0;34m(self, method, url, params, body, headers, respons_body_type)\u001b[0m\n\u001b[1;32m    228\u001b[0m         \u001b[0;32mif\u001b[0m \u001b[0;34m'errorCode'\u001b[0m \u001b[0;32min\u001b[0m \u001b[0mexJson\u001b[0m \u001b[0;32mand\u001b[0m \u001b[0;34m'errorMessage'\u001b[0m \u001b[0;32min\u001b[0m \u001b[0mexJson\u001b[0m\u001b[0;34m:\u001b[0m\u001b[0;34m\u001b[0m\u001b[0m\n\u001b[1;32m    229\u001b[0m             raise LogException(exJson['errorCode'], exJson['errorMessage'], requestId,\n\u001b[0;32m--> 230\u001b[0;31m                                resp_status, resp_header, resp_body)\n\u001b[0m\u001b[1;32m    231\u001b[0m         \u001b[0;32melse\u001b[0m\u001b[0;34m:\u001b[0m\u001b[0;34m\u001b[0m\u001b[0m\n\u001b[1;32m    232\u001b[0m             \u001b[0mexJson\u001b[0m \u001b[0;34m=\u001b[0m \u001b[0;34m'. Return json is '\u001b[0m \u001b[0;34m+\u001b[0m \u001b[0mstr\u001b[0m\u001b[0;34m(\u001b[0m\u001b[0mexJson\u001b[0m\u001b[0;34m)\u001b[0m \u001b[0;32mif\u001b[0m \u001b[0mexJson\u001b[0m \u001b[0;32melse\u001b[0m \u001b[0;34m'.'\u001b[0m\u001b[0;34m\u001b[0m\u001b[0m\n",
      "\u001b[0;31mLogException\u001b[0m: {\"errorCode\": \"ParameterInvalid\", \"errorMessage\": \"line 1:9: '\\\"source\\\"' must be an aggregate expression or appear in GROUP BY clause\", \"requestId\": \"5CF90F776FE6E9B363C44928\"}"
     ]
    }
   ],
   "source": [
    "client = LogClient(configure.endpoint, configure.access_key_id, configure.access_key)\n",
    "topic = \"\"\n",
    "query = \"* | SELECT source,page,shop_id, COUNT(*) as exposure GROUP BY page,shop_id LIMIT 9999999999\"%str(10969)\n",
    "From = int(time.mktime(time.strptime('2019-06-04 11:00:00', '%Y-%m-%d %H:%M:%S')))\n",
    "To = int(time.mktime(time.strptime('2019-06-04 22:00:00', '%Y-%m-%d %H:%M:%S')))\n",
    "req3 = GetLogsRequest('mx-shop', 'bjx-show-event', From, To, topic, query)\n",
    "res = client.get_logs(req3)\n",
    "res.get_body()"
   ]
  },
  {
   "cell_type": "code",
   "execution_count": null,
   "metadata": {},
   "outputs": [],
   "source": []
  }
 ],
 "metadata": {
  "kernelspec": {
   "display_name": "Python 3",
   "language": "python",
   "name": "python3"
  },
  "language_info": {
   "codemirror_mode": {
    "name": "ipython",
    "version": 3
   },
   "file_extension": ".py",
   "mimetype": "text/x-python",
   "name": "python",
   "nbconvert_exporter": "python",
   "pygments_lexer": "ipython3",
   "version": "3.6.6"
  }
 },
 "nbformat": 4,
 "nbformat_minor": 2
}
