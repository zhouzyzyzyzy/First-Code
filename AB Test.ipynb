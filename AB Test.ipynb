{
 "cells": [
  {
   "cell_type": "code",
   "execution_count": 1,
   "metadata": {},
   "outputs": [],
   "source": [
    "import requests\n",
    "import datetime\n",
    "from elasticsearch import Elasticsearch\n",
    "from pandas.io.json import json_normalize\n",
    "import pandas as pd\n",
    "import numpy as np\n",
    "import progressbar\n",
    "import matplotlib.pyplot as plt\n",
    "import seaborn as sns; sns.set()\n",
    "def to_date(s):\n",
    "    dt = datetime.datetime.utcfromtimestamp(s / 1e3)\n",
    "    return dt.strftime(\"%Y-%m-%d\")"
   ]
  },
  {
   "cell_type": "code",
   "execution_count": 194,
   "metadata": {},
   "outputs": [
    {
     "data": {
      "text/html": [
       "<div>\n",
       "<style scoped>\n",
       "    .dataframe tbody tr th:only-of-type {\n",
       "        vertical-align: middle;\n",
       "    }\n",
       "\n",
       "    .dataframe tbody tr th {\n",
       "        vertical-align: top;\n",
       "    }\n",
       "\n",
       "    .dataframe thead th {\n",
       "        text-align: right;\n",
       "    }\n",
       "</style>\n",
       "<table border=\"1\" class=\"dataframe\">\n",
       "  <thead>\n",
       "    <tr style=\"text-align: right;\">\n",
       "      <th></th>\n",
       "      <th>doc_count</th>\n",
       "      <th>id</th>\n",
       "    </tr>\n",
       "  </thead>\n",
       "  <tbody>\n",
       "    <tr>\n",
       "      <th>0</th>\n",
       "      <td>1</td>\n",
       "      <td>161866</td>\n",
       "    </tr>\n",
       "    <tr>\n",
       "      <th>1</th>\n",
       "      <td>1</td>\n",
       "      <td>185019</td>\n",
       "    </tr>\n",
       "    <tr>\n",
       "      <th>2</th>\n",
       "      <td>1</td>\n",
       "      <td>223445</td>\n",
       "    </tr>\n",
       "    <tr>\n",
       "      <th>3</th>\n",
       "      <td>1</td>\n",
       "      <td>231421</td>\n",
       "    </tr>\n",
       "    <tr>\n",
       "      <th>4</th>\n",
       "      <td>1</td>\n",
       "      <td>244801</td>\n",
       "    </tr>\n",
       "  </tbody>\n",
       "</table>\n",
       "</div>"
      ],
      "text/plain": [
       "   doc_count      id\n",
       "0          1  161866\n",
       "1          1  185019\n",
       "2          1  223445\n",
       "3          1  231421\n",
       "4          1  244801"
      ]
     },
     "execution_count": 194,
     "metadata": {},
     "output_type": "execute_result"
    }
   ],
   "source": [
    "date='2019-05-28'                                                         #新增会员列表\n",
    "dsl = {'aggs': {'my_buckets': {'composite': {'size': 9999999,\n",
    "                                       'sources': [\n",
    "                                                   {'id': {'terms': {'field': 'id'}}},\n",
    "\n",
    "                                                  ]}}},\n",
    "                 'query': {'bool': {'must': [{'range': {'first_vip_created': {'format': 'yyyy-MM-dd',\n",
    "                                                              'gte': date,\n",
    "                                                              'lte': date,\n",
    "                                                              'time_zone': '+00:00'}}}]}}}\n",
    "es = Elasticsearch(['http://172.18.198.27:9200/'], timeout=30)\n",
    "res = es.search(index='es_user_table', doc_type='user', body=dsl,\n",
    "                        _source=False, explain=False, track_scores=False, track_total_hits=False, size=0,\n",
    "                        search_type='query_then_fetch')\n",
    "df1 = json_normalize(res['aggregations']['my_buckets']['buckets'])\n",
    "df1.columns = map(lambda x: x.split('key.')[-1] if x.startswith('key.') else x, list(df1.columns))\n",
    "df1.head()"
   ]
  },
  {
   "cell_type": "code",
   "execution_count": 195,
   "metadata": {},
   "outputs": [
    {
     "data": {
      "text/html": [
       "<div>\n",
       "<style scoped>\n",
       "    .dataframe tbody tr th:only-of-type {\n",
       "        vertical-align: middle;\n",
       "    }\n",
       "\n",
       "    .dataframe tbody tr th {\n",
       "        vertical-align: top;\n",
       "    }\n",
       "\n",
       "    .dataframe thead th {\n",
       "        text-align: right;\n",
       "    }\n",
       "</style>\n",
       "<table border=\"1\" class=\"dataframe\">\n",
       "  <thead>\n",
       "    <tr style=\"text-align: right;\">\n",
       "      <th></th>\n",
       "      <th>doc_count</th>\n",
       "      <th>father_id</th>\n",
       "      <th>id</th>\n",
       "    </tr>\n",
       "  </thead>\n",
       "  <tbody>\n",
       "    <tr>\n",
       "      <th>0</th>\n",
       "      <td>1</td>\n",
       "      <td>175963</td>\n",
       "      <td>836308</td>\n",
       "    </tr>\n",
       "    <tr>\n",
       "      <th>1</th>\n",
       "      <td>1</td>\n",
       "      <td>175963</td>\n",
       "      <td>841331</td>\n",
       "    </tr>\n",
       "    <tr>\n",
       "      <th>2</th>\n",
       "      <td>1</td>\n",
       "      <td>175963</td>\n",
       "      <td>853788</td>\n",
       "    </tr>\n",
       "    <tr>\n",
       "      <th>3</th>\n",
       "      <td>1</td>\n",
       "      <td>176009</td>\n",
       "      <td>840611</td>\n",
       "    </tr>\n",
       "    <tr>\n",
       "      <th>4</th>\n",
       "      <td>1</td>\n",
       "      <td>176009</td>\n",
       "      <td>840619</td>\n",
       "    </tr>\n",
       "  </tbody>\n",
       "</table>\n",
       "</div>"
      ],
      "text/plain": [
       "   doc_count  father_id      id\n",
       "0          1     175963  836308\n",
       "1          1     175963  841331\n",
       "2          1     175963  853788\n",
       "3          1     176009  840611\n",
       "4          1     176009  840619"
      ]
     },
     "execution_count": 195,
     "metadata": {},
     "output_type": "execute_result"
    }
   ],
   "source": [
    "dsl = {'aggs': {'my_buckets': {'composite': {'size': 9999999,'sources': [{'father_id':{'terms':{'field':'user_parent_list'}}},  #拉取会员数\n",
    "                                                       {'id': {'terms': {'field': 'id'}}},\n",
    "                                                        \n",
    "                                                     ]}}},\n",
    "          'query': {'bool': {'must': [{'terms':{'user_parent_list':[str(x) for x in df1['id']]}}\n",
    "                                ]}}}\n",
    "es_market2 = Elasticsearch(['http://172.18.198.27:9200/'], timeout=30)\n",
    "res_market2 = es_market2.search(index='es_user_table', doc_type='user', body=dsl,\n",
    "                            _source=False, explain=False, track_scores=False, track_total_hits=False, size=0,\n",
    "                            search_type='query_then_fetch')\n",
    "df_market2 = json_normalize(res_market2['aggregations']['my_buckets']['buckets'])\n",
    "df_market2.columns = map(lambda x: x.split('key.')[-1] if x.startswith('key.') else x, list(df_market2.columns))\n",
    "df_market2.head()"
   ]
  },
  {
   "cell_type": "code",
   "execution_count": 196,
   "metadata": {},
   "outputs": [
    {
     "data": {
      "text/html": [
       "<div>\n",
       "<style scoped>\n",
       "    .dataframe tbody tr th:only-of-type {\n",
       "        vertical-align: middle;\n",
       "    }\n",
       "\n",
       "    .dataframe tbody tr th {\n",
       "        vertical-align: top;\n",
       "    }\n",
       "\n",
       "    .dataframe thead th {\n",
       "        text-align: right;\n",
       "    }\n",
       "</style>\n",
       "<table border=\"1\" class=\"dataframe\">\n",
       "  <thead>\n",
       "    <tr style=\"text-align: right;\">\n",
       "      <th></th>\n",
       "      <th>sons</th>\n",
       "    </tr>\n",
       "    <tr>\n",
       "      <th>father_id</th>\n",
       "      <th></th>\n",
       "    </tr>\n",
       "  </thead>\n",
       "  <tbody>\n",
       "    <tr>\n",
       "      <th>175963</th>\n",
       "      <td>[836308, 841331, 853788]</td>\n",
       "    </tr>\n",
       "    <tr>\n",
       "      <th>176009</th>\n",
       "      <td>[840611, 840619, 840665, 840991, 843579, 846913]</td>\n",
       "    </tr>\n",
       "    <tr>\n",
       "      <th>176309</th>\n",
       "      <td>[892229]</td>\n",
       "    </tr>\n",
       "    <tr>\n",
       "      <th>176362</th>\n",
       "      <td>[838247]</td>\n",
       "    </tr>\n",
       "    <tr>\n",
       "      <th>176797</th>\n",
       "      <td>[830312, 835784, 836186, 836264, 837341, 83740...</td>\n",
       "    </tr>\n",
       "  </tbody>\n",
       "</table>\n",
       "</div>"
      ],
      "text/plain": [
       "                                                        sons\n",
       "father_id                                                   \n",
       "175963                              [836308, 841331, 853788]\n",
       "176009      [840611, 840619, 840665, 840991, 843579, 846913]\n",
       "176309                                              [892229]\n",
       "176362                                              [838247]\n",
       "176797     [830312, 835784, 836186, 836264, 837341, 83740..."
      ]
     },
     "execution_count": 196,
     "metadata": {},
     "output_type": "execute_result"
    }
   ],
   "source": [
    "def father_id_list(s):\n",
    "    data={}\n",
    "    data['sons'] = s['id'].tolist()\n",
    "    return pd.Series(data)\n",
    "\n",
    "df_list = df_market2.groupby('father_id').apply(father_id_list).reset_index()\n",
    "df_list=df_list.set_index('father_id')\n",
    "df_list.head()"
   ]
  },
  {
   "cell_type": "code",
   "execution_count": 197,
   "metadata": {},
   "outputs": [
    {
     "name": "stderr",
     "output_type": "stream",
     "text": [
      "100% (2608 of 2608) |####################| Elapsed Time: 0:00:00 Time:  0:00:00\n"
     ]
    }
   ],
   "source": [
    "length=[]\n",
    "son_list=[]\n",
    "for x in bar.progressbar(df1['id']): \n",
    "    if x not in df_list.index:\n",
    "        length.append(0)\n",
    "        son_list.append([])\n",
    "    else:\n",
    "        length.append(len(df_list.loc[x]['sons']))\n",
    "        son_list.append(df_list.loc[x]['sons'])\n",
    "\n",
    "df1['长度']=length\n",
    "df1['下线']=son_list"
   ]
  },
  {
   "cell_type": "code",
   "execution_count": 198,
   "metadata": {},
   "outputs": [
    {
     "data": {
      "text/html": [
       "<div>\n",
       "<style scoped>\n",
       "    .dataframe tbody tr th:only-of-type {\n",
       "        vertical-align: middle;\n",
       "    }\n",
       "\n",
       "    .dataframe tbody tr th {\n",
       "        vertical-align: top;\n",
       "    }\n",
       "\n",
       "    .dataframe thead th {\n",
       "        text-align: right;\n",
       "    }\n",
       "</style>\n",
       "<table border=\"1\" class=\"dataframe\">\n",
       "  <thead>\n",
       "    <tr style=\"text-align: right;\">\n",
       "      <th></th>\n",
       "      <th>doc_count</th>\n",
       "      <th>id</th>\n",
       "      <th>长度</th>\n",
       "      <th>下线</th>\n",
       "    </tr>\n",
       "  </thead>\n",
       "  <tbody>\n",
       "    <tr>\n",
       "      <th>0</th>\n",
       "      <td>1</td>\n",
       "      <td>161866</td>\n",
       "      <td>0</td>\n",
       "      <td>[]</td>\n",
       "    </tr>\n",
       "    <tr>\n",
       "      <th>1</th>\n",
       "      <td>1</td>\n",
       "      <td>185019</td>\n",
       "      <td>0</td>\n",
       "      <td>[]</td>\n",
       "    </tr>\n",
       "    <tr>\n",
       "      <th>2</th>\n",
       "      <td>1</td>\n",
       "      <td>223445</td>\n",
       "      <td>0</td>\n",
       "      <td>[]</td>\n",
       "    </tr>\n",
       "    <tr>\n",
       "      <th>3</th>\n",
       "      <td>1</td>\n",
       "      <td>231421</td>\n",
       "      <td>0</td>\n",
       "      <td>[]</td>\n",
       "    </tr>\n",
       "    <tr>\n",
       "      <th>4</th>\n",
       "      <td>1</td>\n",
       "      <td>244801</td>\n",
       "      <td>0</td>\n",
       "      <td>[]</td>\n",
       "    </tr>\n",
       "  </tbody>\n",
       "</table>\n",
       "</div>"
      ],
      "text/plain": [
       "   doc_count      id  长度  下线\n",
       "0          1  161866   0  []\n",
       "1          1  185019   0  []\n",
       "2          1  223445   0  []\n",
       "3          1  231421   0  []\n",
       "4          1  244801   0  []"
      ]
     },
     "execution_count": 198,
     "metadata": {},
     "output_type": "execute_result"
    }
   ],
   "source": [
    "df1.head()"
   ]
  },
  {
   "cell_type": "code",
   "execution_count": 199,
   "metadata": {},
   "outputs": [
    {
     "data": {
      "text/plain": [
       "<matplotlib.axes._subplots.AxesSubplot at 0x7f82826d1f98>"
      ]
     },
     "execution_count": 199,
     "metadata": {},
     "output_type": "execute_result"
    },
    {
     "data": {
      "image/png": "[encoded data removed]",
      "text/plain": [
       "<Figure size 432x288 with 1 Axes>"
      ]
     },
     "metadata": {
      "needs_background": "light"
     },
     "output_type": "display_data"
    }
   ],
   "source": [
    "df2=df1[df1['长度']!=0]\n",
    "df3=df2[df2['长度']<20]\n",
    "sns.distplot(df3['长度'])"
   ]
  },
  {
   "cell_type": "code",
   "execution_count": 200,
   "metadata": {},
   "outputs": [
    {
     "data": {
      "text/html": [
       "<div>\n",
       "<style scoped>\n",
       "    .dataframe tbody tr th:only-of-type {\n",
       "        vertical-align: middle;\n",
       "    }\n",
       "\n",
       "    .dataframe tbody tr th {\n",
       "        vertical-align: top;\n",
       "    }\n",
       "\n",
       "    .dataframe thead th {\n",
       "        text-align: right;\n",
       "    }\n",
       "</style>\n",
       "<table border=\"1\" class=\"dataframe\">\n",
       "  <thead>\n",
       "    <tr style=\"text-align: right;\">\n",
       "      <th></th>\n",
       "      <th>长度</th>\n",
       "      <th>length_list</th>\n",
       "    </tr>\n",
       "  </thead>\n",
       "  <tbody>\n",
       "    <tr>\n",
       "      <th>0</th>\n",
       "      <td>0</td>\n",
       "      <td>[161866, 185019, 223445, 231421, 244801, 26666...</td>\n",
       "    </tr>\n",
       "    <tr>\n",
       "      <th>1</th>\n",
       "      <td>1</td>\n",
       "      <td>[305433, 314246, 381004, 524791, 532918, 57022...</td>\n",
       "    </tr>\n",
       "    <tr>\n",
       "      <th>2</th>\n",
       "      <td>2</td>\n",
       "      <td>[764955, 808379, 829272, 835748, 835828, 83584...</td>\n",
       "    </tr>\n",
       "    <tr>\n",
       "      <th>3</th>\n",
       "      <td>3</td>\n",
       "      <td>[512514, 577996, 835771, 836097, 836472, 83648...</td>\n",
       "    </tr>\n",
       "    <tr>\n",
       "      <th>4</th>\n",
       "      <td>4</td>\n",
       "      <td>[836326, 836556, 837450, 838648, 839753]</td>\n",
       "    </tr>\n",
       "  </tbody>\n",
       "</table>\n",
       "</div>"
      ],
      "text/plain": [
       "   长度                                        length_list\n",
       "0   0  [161866, 185019, 223445, 231421, 244801, 26666...\n",
       "1   1  [305433, 314246, 381004, 524791, 532918, 57022...\n",
       "2   2  [764955, 808379, 829272, 835748, 835828, 83584...\n",
       "3   3  [512514, 577996, 835771, 836097, 836472, 83648...\n",
       "4   4           [836326, 836556, 837450, 838648, 839753]"
      ]
     },
     "execution_count": 200,
     "metadata": {},
     "output_type": "execute_result"
    }
   ],
   "source": [
    "def get_parent_list(s):\n",
    "    data={}\n",
    "    data['length_list'] = s['id'].tolist()\n",
    "    return pd.Series(data)\n",
    "\n",
    "df_list_1 = df1.groupby('长度').apply(get_parent_list).reset_index()\n",
    "df_list_1.head()"
   ]
  },
  {
   "cell_type": "code",
   "execution_count": 201,
   "metadata": {},
   "outputs": [
    {
     "name": "stderr",
     "output_type": "stream",
     "text": [
      "100% (19 of 19) |########################| Elapsed Time: 0:00:03 Time:  0:00:03\n"
     ]
    }
   ],
   "source": [
    "length_list,active_rate=[],[]\n",
    "for z in bar.progressbar(df_list_1['length_list']):\n",
    "    dsl_dead = {\n",
    "        'aggs': {'my_buckets': {'aggregations': {'打开(Visitor)': {'cardinality': {'field': 'session_id', 'precision_threshold': 100}}},\n",
    "                         'composite': {'size': 9999999,\n",
    "                                       'sources': [#{\"用户ID\": {\"terms\": {\"field\": 'user_id'}}},\n",
    "                                           {'日期': {'date_histogram': {'field': 'created',\n",
    "                                                                              'interval': '8d',\n",
    "                                                                              'time_zone': '+08:00'}}}\n",
    "                                       ]}}},\n",
    "         'query': {'bool': {'must': [{'range': {'created': {'format': 'yyyy-MM-dd',\n",
    "                                                    'gte': str(datetime.datetime.strptime(date,'%Y-%m-%d')+datetime.timedelta(days=1))[:10],\n",
    "                                                    'lte': str(datetime.datetime.strptime(date,'%Y-%m-%d')+datetime.timedelta(days=7))[:10],\n",
    "                                                    'time_zone': '+08:00'}}},\n",
    "                             {'terms': {'app_name': ['vip-mini']}},\n",
    "                             {'terms': {'user_id': [str(y) for y in z]}},\n",
    "                        ]}}}\n",
    "    es_dead = Elasticsearch(['http://172.18.198.27:9200/'], timeout=30)\n",
    "    res_dead = es_dead.search(index='shop_pv_event', doc_type='pv_event', body=dsl_dead,\n",
    "                    _source=False, explain=False, track_scores=False, track_total_hits=False, size=0,\n",
    "                    search_type='query_then_fetch')\n",
    "    df_dead = json_normalize(res_dead['aggregations']['my_buckets']['buckets'])\n",
    "    df_dead.columns = map(lambda x: x.split('key.')[-1] if x.startswith('key.') else x, list(df_dead.columns))\n",
    "    if len(df_dead)==0:\n",
    "        length_list.append(len(z))\n",
    "        active_rate.append(0)\n",
    "    else:\n",
    "        length_list.append(len(z))\n",
    "        active_rate.append(df_dead.iloc[0]['打开(Visitor).value']/len(z))"
   ]
  },
  {
   "cell_type": "code",
   "execution_count": 202,
   "metadata": {},
   "outputs": [],
   "source": [
    "df_list_1['访问率']=active_rate\n",
    "df_list_1['人数']=length_list"
   ]
  },
  {
   "cell_type": "code",
   "execution_count": 203,
   "metadata": {},
   "outputs": [
    {
     "data": {
      "text/plain": [
       "[<matplotlib.lines.Line2D at 0x7f82827c44e0>]"
      ]
     },
     "execution_count": 203,
     "metadata": {},
     "output_type": "execute_result"
    },
    {
     "data": {
      "image/png": "[encoded data removed]",
      "text/plain": [
       "<Figure size 432x288 with 1 Axes>"
      ]
     },
     "metadata": {
      "needs_background": "light"
     },
     "output_type": "display_data"
    }
   ],
   "source": [
    "plt.plot(df_list_1.index[0:10],df_list_1['访问率'][0:10])"
   ]
  },
  {
   "cell_type": "markdown",
   "metadata": {},
   "source": [
    "AB测"
   ]
  },
  {
   "cell_type": "code",
   "execution_count": 117,
   "metadata": {},
   "outputs": [],
   "source": []
  },
  {
   "cell_type": "markdown",
   "metadata": {},
   "source": [
    "朋友间的交流"
   ]
  },
  {
   "cell_type": "code",
   "execution_count": 278,
   "metadata": {},
   "outputs": [
    {
     "data": {
      "text/html": [
       "<div>\n",
       "<style scoped>\n",
       "    .dataframe tbody tr th:only-of-type {\n",
       "        vertical-align: middle;\n",
       "    }\n",
       "\n",
       "    .dataframe tbody tr th {\n",
       "        vertical-align: top;\n",
       "    }\n",
       "\n",
       "    .dataframe thead th {\n",
       "        text-align: right;\n",
       "    }\n",
       "</style>\n",
       "<table border=\"1\" class=\"dataframe\">\n",
       "  <thead>\n",
       "    <tr style=\"text-align: right;\">\n",
       "      <th></th>\n",
       "      <th>doc_count</th>\n",
       "      <th>id</th>\n",
       "      <th>日期</th>\n",
       "      <th>人数.value</th>\n",
       "    </tr>\n",
       "  </thead>\n",
       "  <tbody>\n",
       "    <tr>\n",
       "      <th>0</th>\n",
       "      <td>1</td>\n",
       "      <td>217038</td>\n",
       "      <td>2019-05-24</td>\n",
       "      <td>1</td>\n",
       "    </tr>\n",
       "    <tr>\n",
       "      <th>1</th>\n",
       "      <td>1</td>\n",
       "      <td>226001</td>\n",
       "      <td>2019-05-24</td>\n",
       "      <td>1</td>\n",
       "    </tr>\n",
       "    <tr>\n",
       "      <th>2</th>\n",
       "      <td>1</td>\n",
       "      <td>235997</td>\n",
       "      <td>2019-05-24</td>\n",
       "      <td>1</td>\n",
       "    </tr>\n",
       "    <tr>\n",
       "      <th>3</th>\n",
       "      <td>1</td>\n",
       "      <td>238216</td>\n",
       "      <td>2019-05-24</td>\n",
       "      <td>1</td>\n",
       "    </tr>\n",
       "    <tr>\n",
       "      <th>4</th>\n",
       "      <td>1</td>\n",
       "      <td>240200</td>\n",
       "      <td>2019-05-24</td>\n",
       "      <td>1</td>\n",
       "    </tr>\n",
       "  </tbody>\n",
       "</table>\n",
       "</div>"
      ],
      "text/plain": [
       "   doc_count      id         日期  人数.value\n",
       "0          1  217038 2019-05-24         1\n",
       "1          1  226001 2019-05-24         1\n",
       "2          1  235997 2019-05-24         1\n",
       "3          1  238216 2019-05-24         1\n",
       "4          1  240200 2019-05-24         1"
      ]
     },
     "execution_count": 278,
     "metadata": {},
     "output_type": "execute_result"
    }
   ],
   "source": [
    "def to_date(s):\n",
    "    dt = datetime.datetime.utcfromtimestamp(s / 1e3)\n",
    "    return dt.strftime(\"%Y-%m-%d\")\n",
    "\n",
    "def to_df(res):                                                                       #时间调整\n",
    "    test_df = json_normalize(res['aggregations']['my_buckets']['buckets'])\n",
    "    test_df.columns = map(lambda x: x.split('key.')[-1] if x.startswith('key.') else x, list(test_df.columns))\n",
    "    test_df['日期'] = test_df['日期'].apply(to_date)\n",
    "    test_df['日期'] = pd.to_datetime(test_df['日期'])\n",
    "    #test_df['current_vip_created']= test_df['current_vip_created'].apply(to_date)\n",
    "    #test_df['current_vip_created']= pd.to_datetime(test_df['current_vip_created'])\n",
    "    #test_df['购买列表']= test_df['购买列表'].apply(to_date)\n",
    "    #test_df['购买列表']= pd.to_datetime(test_df['购买列表'])\n",
    "    return test_df\n",
    "\n",
    "def get_result(dsl,index,doc_type):\n",
    "    es = Elasticsearch(['http://172.18.198.27:9200/'], timeout=30)\n",
    "    res = es.search(index=index, doc_type=doc_type, body=dsl,\n",
    "                        _source=False, explain=False, track_scores=False, track_total_hits=False, size=0,\n",
    "                        search_type='query_then_fetch')\n",
    "    df = to_df(res)\n",
    "    return df\n",
    "\n",
    "date='2019-05-24'\n",
    "\n",
    "dsl1 = {'aggs': {'my_buckets': { 'aggregations': {'人数': {'cardinality': {'field': 'id'}}},\n",
    "                                    'composite': {'size': 9999999,\n",
    "                                       'sources': [{'日期': {'date_histogram': {'field': 'first_vip_created',\n",
    "                                                                              'interval': '1d',\n",
    "                                                                              'time_zone': '+00:00'}}},\n",
    "                                                   {'id': {'terms': {'field': 'id'}}},\n",
    "                                                  ]}}},\n",
    " 'query': {'bool': {'must': [    {'terms':{'user_platform':['black_card']}},\n",
    "                                 {'range': {'first_vip_created': {'format': 'yyyy-MM-dd',\n",
    "                                                              'gte': date,\n",
    "                                                              'lte': str(datetime.datetime.strptime(date,'%Y-%m-%d')+datetime.timedelta(days=10))[:10],\n",
    "                                                              'time_zone': '+00:00'}}}\n",
    "                            ]}}}\n",
    "\n",
    "df1 = get_result(dsl1,'es_user_table','user')    #新增会员       \n",
    "df1.head()"
   ]
  },
  {
   "cell_type": "code",
   "execution_count": 279,
   "metadata": {},
   "outputs": [
    {
     "data": {
      "text/html": [
       "<div>\n",
       "<style scoped>\n",
       "    .dataframe tbody tr th:only-of-type {\n",
       "        vertical-align: middle;\n",
       "    }\n",
       "\n",
       "    .dataframe tbody tr th {\n",
       "        vertical-align: top;\n",
       "    }\n",
       "\n",
       "    .dataframe thead th {\n",
       "        text-align: right;\n",
       "    }\n",
       "</style>\n",
       "<table border=\"1\" class=\"dataframe\">\n",
       "  <thead>\n",
       "    <tr style=\"text-align: right;\">\n",
       "      <th></th>\n",
       "      <th>日期</th>\n",
       "      <th>vip_list</th>\n",
       "    </tr>\n",
       "  </thead>\n",
       "  <tbody>\n",
       "    <tr>\n",
       "      <th>0</th>\n",
       "      <td>2019-05-24</td>\n",
       "      <td>[217038, 226001, 235997, 238216, 240200, 24744...</td>\n",
       "    </tr>\n",
       "    <tr>\n",
       "      <th>1</th>\n",
       "      <td>2019-05-25</td>\n",
       "      <td>[209450, 210920, 213848, 237955, 245553, 24579...</td>\n",
       "    </tr>\n",
       "    <tr>\n",
       "      <th>2</th>\n",
       "      <td>2019-05-26</td>\n",
       "      <td>[204184, 212228, 244977, 245491, 247063, 25767...</td>\n",
       "    </tr>\n",
       "    <tr>\n",
       "      <th>3</th>\n",
       "      <td>2019-05-27</td>\n",
       "      <td>[214657, 235879, 245981, 247487, 252521, 26087...</td>\n",
       "    </tr>\n",
       "    <tr>\n",
       "      <th>4</th>\n",
       "      <td>2019-05-28</td>\n",
       "      <td>[161866, 185019, 223445, 231421, 244801, 26666...</td>\n",
       "    </tr>\n",
       "  </tbody>\n",
       "</table>\n",
       "</div>"
      ],
      "text/plain": [
       "          日期                                           vip_list\n",
       "0 2019-05-24  [217038, 226001, 235997, 238216, 240200, 24744...\n",
       "1 2019-05-25  [209450, 210920, 213848, 237955, 245553, 24579...\n",
       "2 2019-05-26  [204184, 212228, 244977, 245491, 247063, 25767...\n",
       "3 2019-05-27  [214657, 235879, 245981, 247487, 252521, 26087...\n",
       "4 2019-05-28  [161866, 185019, 223445, 231421, 244801, 26666..."
      ]
     },
     "execution_count": 279,
     "metadata": {},
     "output_type": "execute_result"
    }
   ],
   "source": [
    "def get_list(s):\n",
    "    data={}\n",
    "    data['vip_list'] = s['id'].tolist()\n",
    "    return pd.Series(data)\n",
    "\n",
    "df_list = df1.groupby('日期').apply(get_list).reset_index()\n",
    "df_list.head()"
   ]
  },
  {
   "cell_type": "code",
   "execution_count": 298,
   "metadata": {},
   "outputs": [
    {
     "name": "stderr",
     "output_type": "stream",
     "text": [
      "100% (11 of 11) |########################| Elapsed Time: 0:00:03 Time:  0:00:03\n"
     ]
    }
   ],
   "source": [
    "#当天行为\n",
    "baifenbi=[]\n",
    "bar = progressbar\n",
    "for i in bar.progressbar(range(len(df_list))):\n",
    "    dsl = {\n",
    "                    'query': {'bool': {'must': [\n",
    "                                                {'range': {'paytime': {'gte': str(datetime.datetime.strptime(date,'%Y-%m-%d')+datetime.timedelta(days=i))[:10], \n",
    "                                                                       'lte': str(datetime.datetime.strptime(date,'%Y-%m-%d')+datetime.timedelta(days=i))[:10], \n",
    "                                                                       'format': 'yyyy-MM-dd', 'time_zone': '+08:00'}}}, \n",
    "                                                {'terms':{'user_id': [str(y) for y in df_list.iloc[i]['vip_list']]}},\n",
    "                                                #{'terms':{'user_id': dead_list}},\n",
    "                                                {'query_string': {'query': 'skutotal_price != 0'}},\n",
    "                                                {'terms': {'order_status': ['confirmed',\n",
    "                                                                            'done',\n",
    "                                                                            'fulfilled']}},\n",
    "                                                ]}},\n",
    "                    \"aggs\": {\n",
    "                        \"my_buckets\": {\n",
    "                            \"composite\": {\n",
    "                                'size': 9999999,\n",
    "                                \"sources\": [{'日期': {'date_histogram': {'field': 'paytime', 'interval': '1d', 'time_zone': '+00:00'}}}\n",
    "                                    ]}} }}\n",
    "    es_order = Elasticsearch(['http://172.18.198.27:9200/'], timeout=30)\n",
    "    res_order = es_order.search(index='es_order_table', doc_type='order', body=dsl,\n",
    "                            _source=False, explain=False, track_scores=False, track_total_hits=False, size=0,\n",
    "                            search_type='query_then_fetch')\n",
    "    df_order = json_normalize(res_order['aggregations']['my_buckets']['buckets'])\n",
    "    df_order.columns = map(lambda x: x.split('key.')[-1] if x.startswith('key.') else x, list(df_order.columns))\n",
    "    df_order['日期'] = df_order['日期'].apply(to_date)\n",
    "    df_order['日期'] = pd.to_datetime(df_order['日期'])\n",
    "    if len(df_order)==1:\n",
    "        baifenbi.append(df_order.iloc[0]['doc_count']/len(df_list.iloc[i]['vip_list']))\n",
    "    else:\n",
    "        baifenbi.append((df_order.iloc[0]['doc_count']+df_order.iloc[1]['doc_count'])/len(df_list.iloc[i]['vip_list']))\n",
    "df_list['占比']=baifenbi"
   ]
  },
  {
   "cell_type": "code",
   "execution_count": 300,
   "metadata": {},
   "outputs": [
    {
     "data": {
      "text/plain": [
       "(array([737204., 737206., 737208., 737210., 737211., 737213.]),\n",
       " <a list of 6 Text xticklabel objects>)"
      ]
     },
     "execution_count": 300,
     "metadata": {},
     "output_type": "execute_result"
    },
    {
     "data": {
      "image/png": "[encoded data removed]",
      "text/plain": [
       "<Figure size 432x288 with 1 Axes>"
      ]
     },
     "metadata": {
      "needs_background": "light"
     },
     "output_type": "display_data"
    }
   ],
   "source": [
    "plt.plot(df_list['日期'],df_list['占比'])\n",
    "plt.xticks(rotation='60')"
   ]
  },
  {
   "cell_type": "code",
   "execution_count": 205,
   "metadata": {},
   "outputs": [],
   "source": [
    "dsl11 = {\n",
    "        'aggs': {'my_buckets': {'aggregations': {'打开(Visitor)': {'cardinality': {'field': 'session_id', 'precision_threshold': 100}}},\n",
    "                         'composite': {'size': 9999999,\n",
    "                                       'sources': [{\"用户ID\": {\"terms\": {\"field\": 'user_id'}}},\n",
    "                                           #{'日期': {'date_histogram': {'field': 'created',\n",
    "                                           #                                   'interval': '1m',\n",
    "                                           #                                   'time_zone': '+08:00'}}}\n",
    "                                       ]}}},\n",
    "         'query': {'bool': {'must': [#{'query_string': {'query': \"group_category_name='早餐档'\"}},\n",
    "                                     {'range': {'created': {'format': 'yyyy-MM-dd',\n",
    "                                                    'gte': '2019-05-25',\n",
    "                                                    'lte': '2019-05-31',\n",
    "                                                    'time_zone': '+08:00'}}},\n",
    "                             {'terms': {'app_name': ['vip-mini']}},\n",
    "                            # {'terms': {'event_name': ['index', '首页']}},\n",
    "                             {'terms': {'user_id': df1['id'].tolist()}},\n",
    "                            # {'terms': {'event_type': ['event']}}\n",
    "                        ]}}}\n",
    "es11 = Elasticsearch(['http://172.18.198.27:9200/'], timeout=30)\n",
    "res11 = es11.search(index='shop_pv_event', doc_type='pv_event', body=dsl11,\n",
    "                _source=False, explain=False, track_scores=False, track_total_hits=False, size=0,\n",
    "                search_type='query_then_fetch')\n",
    "df11 = json_normalize(res11['aggregations']['my_buckets']['buckets'])\n",
    "df11.columns = map(lambda x: x.split('key.')[-1] if x.startswith('key.') else x, list(df11.columns))"
   ]
  },
  {
   "cell_type": "code",
   "execution_count": 206,
   "metadata": {},
   "outputs": [
    {
     "name": "stderr",
     "output_type": "stream",
     "text": [
      "100% (2032 of 2032) |####################| Elapsed Time: 0:00:00 Time:  0:00:00\n"
     ]
    }
   ],
   "source": [
    "bar = progressbar                                                       #分类依据\n",
    "active_list,dead_list = [],[]\n",
    "for i in bar.progressbar(range(len(df11))):\n",
    "    if df11.iloc[i]['打开(Visitor).value']<5:\n",
    "        dead_list.append(df11.iloc[i]['用户ID'])\n",
    "    else:\n",
    "        active_list.append(df11.iloc[i]['用户ID'])"
   ]
  },
  {
   "cell_type": "code",
   "execution_count": 253,
   "metadata": {},
   "outputs": [],
   "source": [
    "dsl = {'query': {'bool': {'must':   [{'range': {'created': {'format': 'yyyy-MM-dd',\n",
    "                                                    'gte': '2019-05-25',\n",
    "                                                    'lte': '2019-05-31',\n",
    "                                                    'time_zone': '+08:00'}}},\n",
    "                                        {'terms':{'user_id': dead_list}},\n",
    "                                        #{'terms':{'session_scene': ['1007','1008']}},\n",
    "                                    ]}}, \n",
    "         'aggs': {'my_buckets': {'aggregations': {'打开(Visitor)': {'cardinality': {'field': 'session_id', 'precision_threshold': 100}}},\n",
    "                                'composite': {'size': 9999999, 'sources': [{'人': {'terms': {'field': 'user_id'}}},\n",
    "                                                       #{'场景': {'terms': {'field': 'session_scene'}}},\n",
    "                                                       #{'日期': {'date_histogram': {'field': 'created',\n",
    "                                                       #                       'interval': '1d',\n",
    "                                                       #                       'time_zone': '+08:00'}}} \n",
    "                                                                           ]}, \n",
    "                                }}}\n",
    "es_fx = Elasticsearch(['http://172.18.198.27:9200/'], timeout=30)\n",
    "res_fx = es_fx.search(index='shop_pv_event', doc_type='pv_event', body=dsl,\n",
    "                _source=False, explain=False, track_scores=False, track_total_hits=False, size=0,\n",
    "                search_type='query_then_fetch')\n",
    "df_fx = json_normalize(res_fx['aggregations']['my_buckets']['buckets'])\n",
    "df_fx.columns = map(lambda x: x.split('key.')[-1] if x.startswith('key.') else x, list(df_fx.columns))\n",
    "#df_fx['日期'] = df_fx['日期'].apply(to_date)\n",
    "#df_fx['日期'] = pd.to_datetime(df_fx['日期'])\n",
    "#df_fx['百分比']=df_fx['打开(Visitor).value']/len(active_list)"
   ]
  },
  {
   "cell_type": "code",
   "execution_count": 254,
   "metadata": {},
   "outputs": [
    {
     "data": {
      "text/plain": [
       "1915"
      ]
     },
     "execution_count": 254,
     "metadata": {},
     "output_type": "execute_result"
    }
   ],
   "source": [
    "len(df_fx)"
   ]
  },
  {
   "cell_type": "code",
   "execution_count": 255,
   "metadata": {},
   "outputs": [],
   "source": [
    "dsl = {'query': {'bool': {'must':   [{'range': {'created': {'format': 'yyyy-MM-dd',\n",
    "                                                    'gte': '2019-05-25',\n",
    "                                                    'lte': '2019-05-31',\n",
    "                                                    'time_zone': '+08:00'}}},\n",
    "                                        {'terms':{'user_id': dead_list}},\n",
    "                                        {'terms':{'session_scene': ['1007','1008']}},\n",
    "                                    ]}}, \n",
    "         'aggs': {'my_buckets': {'aggregations': {'打开(Visitor)': {'cardinality': {'field': 'session_id', 'precision_threshold': 100}}},\n",
    "                                'composite': {'size': 9999999, 'sources': [{'人': {'terms': {'field': 'user_id'}}},\n",
    "                                                       #{'场景': {'terms': {'field': 'session_scene'}}},\n",
    "                                                       #{'日期': {'date_histogram': {'field': 'created',\n",
    "                                                       #                       'interval': '1d',\n",
    "                                                       #                       'time_zone': '+08:00'}}} \n",
    "                                                                           ]}, \n",
    "                                }}}\n",
    "es_fx2 = Elasticsearch(['http://172.18.198.27:9200/'], timeout=30)\n",
    "res_fx2 = es_fx2.search(index='shop_pv_event', doc_type='pv_event', body=dsl,\n",
    "                _source=False, explain=False, track_scores=False, track_total_hits=False, size=0,\n",
    "                search_type='query_then_fetch')\n",
    "df_fx2 = json_normalize(res_fx2['aggregations']['my_buckets']['buckets'])\n",
    "df_fx2.columns = map(lambda x: x.split('key.')[-1] if x.startswith('key.') else x, list(df_fx2.columns))\n",
    "#df_fx2['日期'] = df_fx2['日期'].apply(to_date)\n",
    "#df_fx2['日期'] = pd.to_datetime(df_fx2['日期'])\n",
    "#df_fx2['百分比']=df_fx2['打开(Visitor).value']/len(dead_list)"
   ]
  },
  {
   "cell_type": "code",
   "execution_count": 256,
   "metadata": {},
   "outputs": [
    {
     "data": {
      "text/plain": [
       "454"
      ]
     },
     "execution_count": 256,
     "metadata": {},
     "output_type": "execute_result"
    }
   ],
   "source": [
    "len(df_fx2)"
   ]
  },
  {
   "cell_type": "code",
   "execution_count": 237,
   "metadata": {},
   "outputs": [
    {
     "data": {
      "text/plain": [
       "(array([737203., 737204., 737205., 737206., 737207., 737208., 737209.]),\n",
       " <a list of 7 Text xticklabel objects>)"
      ]
     },
     "execution_count": 237,
     "metadata": {},
     "output_type": "execute_result"
    },
    {
     "data": {
      "image/png": "[encoded data removed]",
      "text/plain": [
       "<Figure size 432x288 with 1 Axes>"
      ]
     },
     "metadata": {
      "needs_background": "light"
     },
     "output_type": "display_data"
    }
   ],
   "source": [
    "plt.plot(df_fx['日期'],df_fx['百分比'],'r--',\n",
    "        df_fx2['日期'],df_fx2['百分比'],'b--')\n",
    "plt.xticks(rotation='60')"
   ]
  },
  {
   "cell_type": "code",
   "execution_count": 257,
   "metadata": {},
   "outputs": [
    {
     "data": {
      "text/plain": [
       "0.2370757180156658"
      ]
     },
     "execution_count": 257,
     "metadata": {},
     "output_type": "execute_result"
    }
   ],
   "source": [
    "len(df_fx2)/len(df_fx)"
   ]
  },
  {
   "cell_type": "code",
   "execution_count": null,
   "metadata": {},
   "outputs": [],
   "source": []
  }
 ],
 "metadata": {
  "kernelspec": {
   "display_name": "Python 3",
   "language": "python",
   "name": "python3"
  },
  "language_info": {
   "codemirror_mode": {
    "name": "ipython",
    "version": 3
   },
   "file_extension": ".py",
   "mimetype": "text/x-python",
   "name": "python",
   "nbconvert_exporter": "python",
   "pygments_lexer": "ipython3",
   "version": "3.6.6"
  }
 },
 "nbformat": 4,
 "nbformat_minor": 2
}
