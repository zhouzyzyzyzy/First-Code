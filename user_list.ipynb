{
 "cells": [
  {
   "cell_type": "code",
   "execution_count": 2,
   "metadata": {},
   "outputs": [],
   "source": [
    "import requests\n",
    "import datetime\n",
    "from elasticsearch import Elasticsearch\n",
    "from pandas.io.json import json_normalize\n",
    "import pandas as pd\n",
    "import numpy as np\n",
    "import progressbar\n",
    "import matplotlib.pyplot as plt"
   ]
  },
  {
   "cell_type": "code",
   "execution_count": 3,
   "metadata": {},
   "outputs": [
    {
     "name": "stdout",
     "output_type": "stream",
     "text": [
      "{'es_user_table': {'aliases': {},\n",
      "                   'mappings': {'user': {'dynamic_templates': [{'id': {'mapping': {'type': 'long'},\n",
      "                                                                       'match': 'id'}},\n",
      "                                                               {'updated': {'mapping': {'type': 'long'},\n",
      "                                                                            'match': 'updated'}},\n",
      "                                                               {'created': {'mapping': {'type': 'long'},\n",
      "                                                                            'match': 'created'}},\n",
      "                                                               {'content': {'mapping': {'analyzer': 'ik_smart',\n",
      "                                                                                        'index': 'true',\n",
      "                                                                                        'type': 'text'},\n",
      "                                                                            'match': 'content',\n",
      "                                                                            'match_mapping_type': 'string'}},\n",
      "                                                               {'title': {'mapping': {'analyzer': 'ik_max_word',\n",
      "                                                                                      'index': 'true',\n",
      "                                                                                      'type': 'text'},\n",
      "                                                                          'match': 'title',\n",
      "                                                                          'match_mapping_type': 'string'}},\n",
      "                                                               {'str': {'mapping': {'index': 'true',\n",
      "                                                                                    'type': 'keyword'},\n",
      "                                                                        'match': '*',\n",
      "                                                                        'match_mapping_type': 'string'}}],\n",
      "                                         'properties': {'birth': {'type': 'date'},\n",
      "                                                        'city': {'type': 'keyword'},\n",
      "                                                        'current_vip_created': {'type': 'date'},\n",
      "                                                        'current_vip_duration': {'type': 'long'},\n",
      "                                                        'current_vip_expire': {'type': 'date'},\n",
      "                                                        'current_vip_plan_id': {'type': 'keyword'},\n",
      "                                                        'current_vip_price': {'type': 'float'},\n",
      "                                                        'device': {'type': 'keyword'},\n",
      "                                                        'first_login': {'type': 'keyword'},\n",
      "                                                        'first_paytime': {'type': 'date'},\n",
      "                                                        'first_vip_city': {'type': 'keyword'},\n",
      "                                                        'first_vip_created': {'type': 'date'},\n",
      "                                                        'first_vip_duration': {'type': 'long'},\n",
      "                                                        'first_vip_expire': {'type': 'date'},\n",
      "                                                        'first_vip_plan_id': {'type': 'keyword'},\n",
      "                                                        'first_vip_price': {'type': 'float'},\n",
      "                                                        'gender': {'type': 'keyword'},\n",
      "                                                        'id': {'type': 'long'},\n",
      "                                                        'img': {'type': 'keyword'},\n",
      "                                                        'last_vip_created': {'type': 'date'},\n",
      "                                                        'last_vip_duration': {'type': 'long'},\n",
      "                                                        'last_vip_expire': {'type': 'date'},\n",
      "                                                        'last_vip_plan_id': {'type': 'keyword'},\n",
      "                                                        'last_vip_price': {'type': 'float'},\n",
      "                                                        'nick_name': {'type': 'keyword'},\n",
      "                                                        'phone_number': {'type': 'keyword'},\n",
      "                                                        'real_name': {'type': 'keyword'},\n",
      "                                                        'user_expire': {'type': 'date'},\n",
      "                                                        'user_order_business_area': {'type': 'keyword'},\n",
      "                                                        'user_order_first_category': {'type': 'keyword'},\n",
      "                                                        'user_order_second_category': {'type': 'keyword'},\n",
      "                                                        'user_parent_list': {'type': 'long'},\n",
      "                                                        'user_paytime_list': {'type': 'date'},\n",
      "                                                        'user_platform': {'type': 'keyword'},\n",
      "                                                        'user_session_time_list': {'type': 'date'},\n",
      "                                                        'user_type': {'type': 'keyword'},\n",
      "                                                        'wxcity': {'type': 'keyword'}}}},\n",
      "                   'settings': {'index': {'creation_date': '1559219271498',\n",
      "                                          'number_of_replicas': '1',\n",
      "                                          'number_of_shards': '5',\n",
      "                                          'provided_name': 'es_user_table',\n",
      "                                          'uuid': 'CrtW9ivsSfanyI3jqyfsHw',\n",
      "                                          'version': {'created': '6020499'}}}}}\n"
     ]
    }
   ],
   "source": [
    "from pprint import pprint\n",
    "r = requests.get('http://172.18.198.27:9200/es_user_table')\n",
    "pprint(r.json())"
   ]
  },
  {
   "cell_type": "code",
   "execution_count": 4,
   "metadata": {},
   "outputs": [],
   "source": [
    "def to_date(s):\n",
    "    dt = datetime.datetime.utcfromtimestamp(s / 1e3)\n",
    "    return dt.strftime(\"%Y-%m-%d\")\n",
    "\n",
    "def to_df(res):                                                                       #时间调整\n",
    "    test_df = json_normalize(res['aggregations']['my_buckets']['buckets'])\n",
    "    test_df.columns = map(lambda x: x.split('key.')[-1] if x.startswith('key.') else x, list(test_df.columns))\n",
    "    #test_df['日期'] = test_df['日期'].apply(to_date)\n",
    "    #test_df['日期'] = pd.to_datetime(test_df['日期'])\n",
    "    #test_df['current_vip_created']= test_df['current_vip_created'].apply(to_date)\n",
    "    #test_df['current_vip_created']= pd.to_datetime(test_df['current_vip_created'])\n",
    "    test_df['购买列表']= test_df['购买列表'].apply(to_date)\n",
    "    #test_df['购买列表']= pd.to_datetime(test_df['购买列表'])\n",
    "    return test_df\n",
    "\n",
    "def get_result(dsl,index,doc_type):\n",
    "    es = Elasticsearch(['http://172.18.198.27:9200/'], timeout=30)\n",
    "    res = es.search(index=index, doc_type=doc_type, body=dsl,\n",
    "                        _source=False, explain=False, track_scores=False, track_total_hits=False, size=0,\n",
    "                        search_type='query_then_fetch')\n",
    "    df = to_df(res)\n",
    "    return df"
   ]
  },
  {
   "cell_type": "code",
   "execution_count": 5,
   "metadata": {},
   "outputs": [],
   "source": [
    "dsl1 = {'aggs': {'my_buckets': {'composite': {'size': 9999999,\n",
    "                                       'sources': [#{'日期': {'date_histogram': {'field': 'first_paytime',\n",
    "                                                   #                           'interval': '1d',\n",
    "                                                   #                           'time_zone': '+00:00'}}},\n",
    "                                                   {'id': {'terms': {'field': 'id'}}},\n",
    "                                                   #{'current_vip_created': {'date_histogram': {'field': 'current_vip_created',\n",
    "                                                   #                                             'interval': '1d',\n",
    "                                                   #                                             'time_zone': '+00:00'}}},\n",
    "                                                   {'购买列表': {'date_histogram': {'field': 'user_paytime_list',\n",
    "                                                                                             'interval': '1d',\n",
    "                                                                                             'time_zone': '+00:00'}}},\n",
    "                                                   #{'第一次会员由来': {'terms': {'field': 'first_vip_plan_id'}}},\n",
    "                                                   #{'最后一次会员': {'terms': {'field': 'last_vip_plan_id'}}},\n",
    "                                                  ]}}},\n",
    " 'query': {'bool': {'must': [{'range': {'first_vip_created': {'format': 'yyyy-MM-dd',\n",
    "                                                              'gte': '2019-03-28',\n",
    "                                                              'lte': '2019-06-08',\n",
    "                                                              'time_zone': '+00:00'}}}]}}}"
   ]
  },
  {
   "cell_type": "code",
   "execution_count": 8,
   "metadata": {},
   "outputs": [],
   "source": [
    "df1 = get_result(dsl1,'es_user_table','user')\n",
    "df1.head()\n",
    "df1.to_csv('购买列表.csv')"
   ]
  },
  {
   "cell_type": "code",
   "execution_count": null,
   "metadata": {},
   "outputs": [],
   "source": []
  },
  {
   "cell_type": "code",
   "execution_count": 9,
   "metadata": {},
   "outputs": [
    {
     "data": {
      "text/html": [
       "<div>\n",
       "<style scoped>\n",
       "    .dataframe tbody tr th:only-of-type {\n",
       "        vertical-align: middle;\n",
       "    }\n",
       "\n",
       "    .dataframe tbody tr th {\n",
       "        vertical-align: top;\n",
       "    }\n",
       "\n",
       "    .dataframe thead th {\n",
       "        text-align: right;\n",
       "    }\n",
       "</style>\n",
       "<table border=\"1\" class=\"dataframe\">\n",
       "  <thead>\n",
       "    <tr style=\"text-align: right;\">\n",
       "      <th></th>\n",
       "      <th>id</th>\n",
       "      <th>最后购买</th>\n",
       "    </tr>\n",
       "  </thead>\n",
       "  <tbody>\n",
       "    <tr>\n",
       "      <th>0</th>\n",
       "      <td>15420</td>\n",
       "      <td>2019-05-15</td>\n",
       "    </tr>\n",
       "    <tr>\n",
       "      <th>1</th>\n",
       "      <td>18178</td>\n",
       "      <td>2019-04-17</td>\n",
       "    </tr>\n",
       "    <tr>\n",
       "      <th>2</th>\n",
       "      <td>20089</td>\n",
       "      <td>2019-05-02</td>\n",
       "    </tr>\n",
       "    <tr>\n",
       "      <th>3</th>\n",
       "      <td>20147</td>\n",
       "      <td>2019-04-12</td>\n",
       "    </tr>\n",
       "    <tr>\n",
       "      <th>4</th>\n",
       "      <td>20156</td>\n",
       "      <td>2019-05-26</td>\n",
       "    </tr>\n",
       "  </tbody>\n",
       "</table>\n",
       "</div>"
      ],
      "text/plain": [
       "      id        最后购买\n",
       "0  15420  2019-05-15\n",
       "1  18178  2019-04-17\n",
       "2  20089  2019-05-02\n",
       "3  20147  2019-04-12\n",
       "4  20156  2019-05-26"
      ]
     },
     "execution_count": 9,
     "metadata": {},
     "output_type": "execute_result"
    }
   ],
   "source": [
    "#得到最后一次购买时间购买总次数\n",
    "df1 = pd.read_csv('购买列表.csv')\n",
    "def get_first_date(s):                                                    \n",
    "    data= {}\n",
    "    data['最后购买'] = s['购买列表'].max()\n",
    "    return pd.Series(data)\n",
    "dts = df1.groupby('id').apply(get_first_date).reset_index()\n",
    "dts.head()"
   ]
  },
  {
   "cell_type": "code",
   "execution_count": 10,
   "metadata": {},
   "outputs": [
    {
     "data": {
      "text/plain": [
       "Timestamp('2019-05-15 00:00:00')"
      ]
     },
     "execution_count": 10,
     "metadata": {},
     "output_type": "execute_result"
    }
   ],
   "source": [
    "dts['最后购买']= pd.to_datetime(dts['最后购买'])\n",
    "dts.iloc[0]['最后购买']"
   ]
  },
  {
   "cell_type": "code",
   "execution_count": 11,
   "metadata": {},
   "outputs": [
    {
     "data": {
      "text/plain": [
       "Timestamp('2019-06-09 00:00:00')"
      ]
     },
     "execution_count": 11,
     "metadata": {},
     "output_type": "execute_result"
    }
   ],
   "source": [
    "today = datetime.date.today()\n",
    "pd.to_datetime(today)"
   ]
  },
  {
   "cell_type": "code",
   "execution_count": 12,
   "metadata": {},
   "outputs": [
    {
     "data": {
      "text/plain": [
       "25"
      ]
     },
     "execution_count": 12,
     "metadata": {},
     "output_type": "execute_result"
    }
   ],
   "source": [
    "delta =pd.to_datetime(today)-dts.iloc[0]['最后购买']\n",
    "delta.days"
   ]
  },
  {
   "cell_type": "code",
   "execution_count": 13,
   "metadata": {},
   "outputs": [
    {
     "name": "stderr",
     "output_type": "stream",
     "text": [
      "100% (120291 of 120291) |################| Elapsed Time: 0:01:01 Time:  0:01:01\n"
     ]
    }
   ],
   "source": [
    "day_count = []\n",
    "bar = progressbar\n",
    "for i in bar.progressbar(range(len(dts))):\n",
    "    delta =pd.to_datetime(today)-dts.iloc[i]['最后购买']\n",
    "    day_count.append(delta.days)"
   ]
  },
  {
   "cell_type": "code",
   "execution_count": 24,
   "metadata": {},
   "outputs": [],
   "source": [
    "dts['天数'] = day_count\n",
    "dts.head()\n",
    "dts.to_csv('购买天数列表.csv')"
   ]
  },
  {
   "cell_type": "code",
   "execution_count": 15,
   "metadata": {},
   "outputs": [
    {
     "data": {
      "text/plain": [
       "120291"
      ]
     },
     "execution_count": 15,
     "metadata": {},
     "output_type": "execute_result"
    }
   ],
   "source": [
    "len(dts)"
   ]
  },
  {
   "cell_type": "code",
   "execution_count": 16,
   "metadata": {},
   "outputs": [
    {
     "data": {
      "text/plain": [
       "26.0"
      ]
     },
     "execution_count": 16,
     "metadata": {},
     "output_type": "execute_result"
    }
   ],
   "source": [
    "number = pd.Series(day_count).quantile(0.5)\n",
    "number"
   ]
  },
  {
   "cell_type": "code",
   "execution_count": 17,
   "metadata": {},
   "outputs": [
    {
     "data": {
      "text/plain": [
       "[<matplotlib.lines.Line2D at 0x7f9c817317b8>]"
      ]
     },
     "execution_count": 17,
     "metadata": {},
     "output_type": "execute_result"
    },
    {
     "data": {
      "image/png": "[encoded data removed]",
      "text/plain": [
       "<Figure size 432x288 with 1 Axes>"
      ]
     },
     "metadata": {
      "needs_background": "light"
     },
     "output_type": "display_data"
    }
   ],
   "source": [
    "plt.plot(dts['天数'])"
   ]
  },
  {
   "cell_type": "code",
   "execution_count": 18,
   "metadata": {},
   "outputs": [
    {
     "name": "stderr",
     "output_type": "stream",
     "text": [
      "100% (120291 of 120291) |################| Elapsed Time: 0:01:00 Time:  0:01:00\n"
     ]
    }
   ],
   "source": [
    "active, nonactive, status = [],[],[]\n",
    "bar = progressbar\n",
    "for i in bar.progressbar(range(len(dts))):\n",
    "    if dts.iloc[i]['天数']>30:\n",
    "        status.append('静默')\n",
    "        nonactive.append(dts.iloc[i]['id'])\n",
    "    else:\n",
    "        status.append('活跃')\n",
    "        active.append(dts.iloc[i]['id'])"
   ]
  },
  {
   "cell_type": "code",
   "execution_count": 25,
   "metadata": {},
   "outputs": [],
   "source": [
    "dts['状态'] = status\n",
    "dts.head()\n",
    "dts.to_csv('购买状态列表1.csv')"
   ]
  },
  {
   "cell_type": "code",
   "execution_count": 20,
   "metadata": {},
   "outputs": [
    {
     "data": {
      "text/plain": [
       "120291"
      ]
     },
     "execution_count": 20,
     "metadata": {},
     "output_type": "execute_result"
    }
   ],
   "source": [
    "len(dts)"
   ]
  },
  {
   "cell_type": "code",
   "execution_count": 21,
   "metadata": {},
   "outputs": [],
   "source": [
    "dsl_list = {\n",
    "                'query': {'bool': {'must': [\n",
    "                                            {'terms': {'order_type': ['vip_scan','scan']}},\n",
    "                                            {'terms': {'user_id': dts['id'].tolist()}},\n",
    "                                            #{'query_string': {'query': 'skutotal_price != 0'}},\n",
    "                                            {'terms': {'order_status': ['confirmed',\n",
    "                                                                        'done',\n",
    "                                                                        'fulfilled']}},\n",
    "                                            ]}},\n",
    "                \"aggs\": {\n",
    "                    \"my_buckets\": {\n",
    "                        \"composite\": {\n",
    "                            'size': 9999999,\n",
    "                            \"sources\": [{\"用户ID\": {\"terms\": {\"field\": 'user_id'}}},\n",
    "                               #{\"日期\": {\"date_histogram\": {\"field\": \"paytime\", \"interval\": \"1d\"}}},\n",
    "                                {\"单价\": {\"terms\": {\"field\": 'skutotal_price'}}}\n",
    "                               # {\"门店\": {\"terms\": {\"field\": 'shop_id'}}}\n",
    "                                \n",
    "                                ]\n",
    "                        }\n",
    "                    }\n",
    "                }\n",
    "            }\n",
    "es_list = Elasticsearch(['http://172.18.198.27:9200/'], timeout=30)\n",
    "res_list = es_list.search(index='es_order_table', doc_type='order', body=dsl_list,\n",
    "                        _source=False, explain=False, track_scores=False, track_total_hits=False, size=0,\n",
    "                        search_type='query_then_fetch')\n",
    "df_list = json_normalize(res_list['aggregations']['my_buckets']['buckets'])\n",
    "df_list.columns = map(lambda x: x.split('key.')[-1] if x.startswith('key.') else x, list(df_list.columns))"
   ]
  },
  {
   "cell_type": "code",
   "execution_count": 22,
   "metadata": {},
   "outputs": [],
   "source": [
    "def number_and_total(s):\n",
    "    data = {}\n",
    "    data['number_list'] = len(s['单价'])\n",
    "    data['total_list'] = s['单价'].sum()\n",
    "    return  pd.Series(data)"
   ]
  },
  {
   "cell_type": "code",
   "execution_count": 26,
   "metadata": {},
   "outputs": [],
   "source": [
    "df_abc =  df_list.groupby('用户ID').apply(number_and_total)\n",
    "df_abc.head()\n",
    "df_abc.to_csv('购买订单列表.csv')"
   ]
  },
  {
   "cell_type": "code",
   "execution_count": 27,
   "metadata": {},
   "outputs": [
    {
     "data": {
      "text/plain": [
       "92052"
      ]
     },
     "execution_count": 27,
     "metadata": {},
     "output_type": "execute_result"
    }
   ],
   "source": [
    "len(df_abc)"
   ]
  },
  {
   "cell_type": "code",
   "execution_count": 28,
   "metadata": {},
   "outputs": [
    {
     "data": {
      "text/plain": [
       "15420"
      ]
     },
     "execution_count": 28,
     "metadata": {},
     "output_type": "execute_result"
    }
   ],
   "source": [
    "df_abc.index[0]"
   ]
  },
  {
   "cell_type": "code",
   "execution_count": 29,
   "metadata": {},
   "outputs": [
    {
     "name": "stderr",
     "output_type": "stream",
     "text": [
      "100% (120291 of 120291) |################| Elapsed Time: 0:02:10 Time:  0:02:10\n"
     ]
    }
   ],
   "source": [
    "df_abc = pd.read_csv('购买订单列表.csv')\n",
    "number_id,total_id=[],[]\n",
    "for i in bar.progressbar(range(len(dts))):\n",
    "    if dts.iloc[i]['id'] in df_abc.index:\n",
    "        number_id.append(df_abc.loc[dts.iloc[i]['id']]['number_list'])\n",
    "        total_id.append(df_abc.loc[dts.iloc[i]['id']]['total_list'])\n",
    "    else:\n",
    "        number_id.append(0)\n",
    "        total_id.append(0)"
   ]
  },
  {
   "cell_type": "code",
   "execution_count": 30,
   "metadata": {},
   "outputs": [],
   "source": [
    "dts['购买数']=number_id\n",
    "dts['购买金额']=total_id"
   ]
  },
  {
   "cell_type": "code",
   "execution_count": 31,
   "metadata": {},
   "outputs": [
    {
     "data": {
      "text/html": [
       "<div>\n",
       "<style scoped>\n",
       "    .dataframe tbody tr th:only-of-type {\n",
       "        vertical-align: middle;\n",
       "    }\n",
       "\n",
       "    .dataframe tbody tr th {\n",
       "        vertical-align: top;\n",
       "    }\n",
       "\n",
       "    .dataframe thead th {\n",
       "        text-align: right;\n",
       "    }\n",
       "</style>\n",
       "<table border=\"1\" class=\"dataframe\">\n",
       "  <thead>\n",
       "    <tr style=\"text-align: right;\">\n",
       "      <th></th>\n",
       "      <th>id</th>\n",
       "      <th>最后购买</th>\n",
       "      <th>天数</th>\n",
       "      <th>状态</th>\n",
       "      <th>购买数</th>\n",
       "      <th>购买金额</th>\n",
       "    </tr>\n",
       "  </thead>\n",
       "  <tbody>\n",
       "    <tr>\n",
       "      <th>0</th>\n",
       "      <td>15420</td>\n",
       "      <td>2019-05-15</td>\n",
       "      <td>25</td>\n",
       "      <td>活跃</td>\n",
       "      <td>5.0</td>\n",
       "      <td>95.680000</td>\n",
       "    </tr>\n",
       "    <tr>\n",
       "      <th>1</th>\n",
       "      <td>18178</td>\n",
       "      <td>2019-04-17</td>\n",
       "      <td>53</td>\n",
       "      <td>静默</td>\n",
       "      <td>11.0</td>\n",
       "      <td>315.639999</td>\n",
       "    </tr>\n",
       "    <tr>\n",
       "      <th>2</th>\n",
       "      <td>20089</td>\n",
       "      <td>2019-05-02</td>\n",
       "      <td>38</td>\n",
       "      <td>静默</td>\n",
       "      <td>6.0</td>\n",
       "      <td>86.500000</td>\n",
       "    </tr>\n",
       "    <tr>\n",
       "      <th>3</th>\n",
       "      <td>20147</td>\n",
       "      <td>2019-04-12</td>\n",
       "      <td>58</td>\n",
       "      <td>静默</td>\n",
       "      <td>1.0</td>\n",
       "      <td>15.000000</td>\n",
       "    </tr>\n",
       "    <tr>\n",
       "      <th>4</th>\n",
       "      <td>20156</td>\n",
       "      <td>2019-05-26</td>\n",
       "      <td>14</td>\n",
       "      <td>活跃</td>\n",
       "      <td>10.0</td>\n",
       "      <td>94.190000</td>\n",
       "    </tr>\n",
       "  </tbody>\n",
       "</table>\n",
       "</div>"
      ],
      "text/plain": [
       "      id       最后购买  天数  状态   购买数        购买金额\n",
       "0  15420 2019-05-15  25  活跃   5.0   95.680000\n",
       "1  18178 2019-04-17  53  静默  11.0  315.639999\n",
       "2  20089 2019-05-02  38  静默   6.0   86.500000\n",
       "3  20147 2019-04-12  58  静默   1.0   15.000000\n",
       "4  20156 2019-05-26  14  活跃  10.0   94.190000"
      ]
     },
     "execution_count": 31,
     "metadata": {},
     "output_type": "execute_result"
    }
   ],
   "source": [
    "dts.head()"
   ]
  },
  {
   "cell_type": "code",
   "execution_count": 32,
   "metadata": {},
   "outputs": [
    {
     "data": {
      "text/plain": [
       "[<matplotlib.lines.Line2D at 0x7f9c77b76f28>]"
      ]
     },
     "execution_count": 32,
     "metadata": {},
     "output_type": "execute_result"
    },
    {
     "data": {
      "image/png": "[encoded data removed]",
      "text/plain": [
       "<Figure size 432x288 with 1 Axes>"
      ]
     },
     "metadata": {
      "needs_background": "light"
     },
     "output_type": "display_data"
    }
   ],
   "source": [
    "plt.plot(dts['购买数'])"
   ]
  },
  {
   "cell_type": "code",
   "execution_count": 33,
   "metadata": {},
   "outputs": [
    {
     "data": {
      "text/plain": [
       "3.0"
      ]
     },
     "execution_count": 33,
     "metadata": {},
     "output_type": "execute_result"
    }
   ],
   "source": [
    "number_med = pd.Series(dts['购买数']).quantile(0.8)\n",
    "number_med"
   ]
  },
  {
   "cell_type": "code",
   "execution_count": 34,
   "metadata": {},
   "outputs": [
    {
     "name": "stderr",
     "output_type": "stream",
     "text": [
      "100% (120291 of 120291) |################| Elapsed Time: 0:01:11 Time:  0:01:11\n"
     ]
    }
   ],
   "source": [
    "buy_a_lot, buy_a_little, status_id = [],[],[]\n",
    "bar = progressbar\n",
    "for i in bar.progressbar(range(len(dts))):\n",
    "    if dts.iloc[i]['购买数']>3:\n",
    "        status_id.append('剁手')\n",
    "        buy_a_lot.append(dts.iloc[i]['id'])\n",
    "    else:\n",
    "        status_id.append('老实')\n",
    "        buy_a_little.append(dts.iloc[i]['id'])"
   ]
  },
  {
   "cell_type": "code",
   "execution_count": 35,
   "metadata": {},
   "outputs": [],
   "source": [
    "dts['消费习惯'] = status_id\n",
    "dts.to_csv('购买状态列表2.csv')"
   ]
  },
  {
   "cell_type": "code",
   "execution_count": 37,
   "metadata": {},
   "outputs": [
    {
     "data": {
      "text/html": [
       "<div>\n",
       "<style scoped>\n",
       "    .dataframe tbody tr th:only-of-type {\n",
       "        vertical-align: middle;\n",
       "    }\n",
       "\n",
       "    .dataframe tbody tr th {\n",
       "        vertical-align: top;\n",
       "    }\n",
       "\n",
       "    .dataframe thead th {\n",
       "        text-align: right;\n",
       "    }\n",
       "</style>\n",
       "<table border=\"1\" class=\"dataframe\">\n",
       "  <thead>\n",
       "    <tr style=\"text-align: right;\">\n",
       "      <th></th>\n",
       "      <th>id</th>\n",
       "      <th>最后购买</th>\n",
       "      <th>天数</th>\n",
       "      <th>状态</th>\n",
       "      <th>购买数</th>\n",
       "      <th>购买金额</th>\n",
       "      <th>消费习惯</th>\n",
       "    </tr>\n",
       "  </thead>\n",
       "  <tbody>\n",
       "    <tr>\n",
       "      <th>0</th>\n",
       "      <td>15420</td>\n",
       "      <td>2019-05-15</td>\n",
       "      <td>25</td>\n",
       "      <td>活跃</td>\n",
       "      <td>5.0</td>\n",
       "      <td>95.680000</td>\n",
       "      <td>剁手</td>\n",
       "    </tr>\n",
       "    <tr>\n",
       "      <th>1</th>\n",
       "      <td>18178</td>\n",
       "      <td>2019-04-17</td>\n",
       "      <td>53</td>\n",
       "      <td>静默</td>\n",
       "      <td>11.0</td>\n",
       "      <td>315.639999</td>\n",
       "      <td>剁手</td>\n",
       "    </tr>\n",
       "    <tr>\n",
       "      <th>2</th>\n",
       "      <td>20089</td>\n",
       "      <td>2019-05-02</td>\n",
       "      <td>38</td>\n",
       "      <td>静默</td>\n",
       "      <td>6.0</td>\n",
       "      <td>86.500000</td>\n",
       "      <td>剁手</td>\n",
       "    </tr>\n",
       "    <tr>\n",
       "      <th>3</th>\n",
       "      <td>20147</td>\n",
       "      <td>2019-04-12</td>\n",
       "      <td>58</td>\n",
       "      <td>静默</td>\n",
       "      <td>1.0</td>\n",
       "      <td>15.000000</td>\n",
       "      <td>老实</td>\n",
       "    </tr>\n",
       "    <tr>\n",
       "      <th>4</th>\n",
       "      <td>20156</td>\n",
       "      <td>2019-05-26</td>\n",
       "      <td>14</td>\n",
       "      <td>活跃</td>\n",
       "      <td>10.0</td>\n",
       "      <td>94.190000</td>\n",
       "      <td>剁手</td>\n",
       "    </tr>\n",
       "  </tbody>\n",
       "</table>\n",
       "</div>"
      ],
      "text/plain": [
       "      id       最后购买  天数  状态   购买数        购买金额 消费习惯\n",
       "0  15420 2019-05-15  25  活跃   5.0   95.680000   剁手\n",
       "1  18178 2019-04-17  53  静默  11.0  315.639999   剁手\n",
       "2  20089 2019-05-02  38  静默   6.0   86.500000   剁手\n",
       "3  20147 2019-04-12  58  静默   1.0   15.000000   老实\n",
       "4  20156 2019-05-26  14  活跃  10.0   94.190000   剁手"
      ]
     },
     "execution_count": 37,
     "metadata": {},
     "output_type": "execute_result"
    }
   ],
   "source": [
    "dts.head()"
   ]
  },
  {
   "cell_type": "code",
   "execution_count": 36,
   "metadata": {},
   "outputs": [
    {
     "data": {
      "text/plain": [
       "11399.10000000149"
      ]
     },
     "execution_count": 36,
     "metadata": {},
     "output_type": "execute_result"
    }
   ],
   "source": [
    "dts['购买金额'].max()"
   ]
  },
  {
   "cell_type": "code",
   "execution_count": 32,
   "metadata": {},
   "outputs": [
    {
     "data": {
      "text/plain": [
       "[<matplotlib.lines.Line2D at 0x7efd8787a588>]"
      ]
     },
     "execution_count": 32,
     "metadata": {},
     "output_type": "execute_result"
    },
    {
     "data": {
      "image/png": "[encoded data removed]",
      "text/plain": [
       "<Figure size 432x288 with 1 Axes>"
      ]
     },
     "metadata": {
      "needs_background": "light"
     },
     "output_type": "display_data"
    }
   ],
   "source": [
    "plt.plot(dts['购买金额'])"
   ]
  },
  {
   "cell_type": "code",
   "execution_count": 33,
   "metadata": {},
   "outputs": [
    {
     "data": {
      "text/plain": [
       "24.170000076293945"
      ]
     },
     "execution_count": 33,
     "metadata": {},
     "output_type": "execute_result"
    }
   ],
   "source": [
    "number = pd.Series(total_id).quantile(0.5)\n",
    "number"
   ]
  },
  {
   "cell_type": "code",
   "execution_count": 47,
   "metadata": {},
   "outputs": [
    {
     "name": "stderr",
     "output_type": "stream",
     "text": [
      "100% (120291 of 120291) |################| Elapsed Time: 0:01:00 Time:  0:01:00\n"
     ]
    }
   ],
   "source": [
    "the_rich, the_poor, status_money = [],[],[]\n",
    "bar = progressbar\n",
    "for i in bar.progressbar(range(len(dts))):\n",
    "    if dts.iloc[i]['购买金额']>25:\n",
    "        status_money.append('有钱人')\n",
    "        the_rich.append(dts.iloc[i]['id'])\n",
    "    else:\n",
    "        status_money.append('一般人')\n",
    "        the_poor.append(dts.iloc[i]['id'])"
   ]
  },
  {
   "cell_type": "code",
   "execution_count": 48,
   "metadata": {},
   "outputs": [],
   "source": [
    "dts['花销'] = status_money\n",
    "dts.head()\n",
    "dts.to_csv('购买状态列表3.csv')"
   ]
  },
  {
   "cell_type": "code",
   "execution_count": 40,
   "metadata": {},
   "outputs": [],
   "source": []
  },
  {
   "cell_type": "code",
   "execution_count": 87,
   "metadata": {},
   "outputs": [],
   "source": [
    "dts = pd.read_csv('购买状态列表3.csv')"
   ]
  },
  {
   "cell_type": "code",
   "execution_count": 88,
   "metadata": {},
   "outputs": [
    {
     "data": {
      "text/html": [
       "<div>\n",
       "<style scoped>\n",
       "    .dataframe tbody tr th:only-of-type {\n",
       "        vertical-align: middle;\n",
       "    }\n",
       "\n",
       "    .dataframe tbody tr th {\n",
       "        vertical-align: top;\n",
       "    }\n",
       "\n",
       "    .dataframe thead th {\n",
       "        text-align: right;\n",
       "    }\n",
       "</style>\n",
       "<table border=\"1\" class=\"dataframe\">\n",
       "  <thead>\n",
       "    <tr style=\"text-align: right;\">\n",
       "      <th></th>\n",
       "      <th>Unnamed: 0</th>\n",
       "      <th>Unnamed: 0.1</th>\n",
       "      <th>id</th>\n",
       "      <th>最后购买</th>\n",
       "      <th>天数</th>\n",
       "      <th>状态</th>\n",
       "      <th>购买数</th>\n",
       "      <th>购买金额</th>\n",
       "      <th>消费习惯</th>\n",
       "      <th>花销</th>\n",
       "    </tr>\n",
       "  </thead>\n",
       "  <tbody>\n",
       "    <tr>\n",
       "      <th>0</th>\n",
       "      <td>0</td>\n",
       "      <td>0</td>\n",
       "      <td>15420</td>\n",
       "      <td>2019-05-15</td>\n",
       "      <td>25</td>\n",
       "      <td>活跃</td>\n",
       "      <td>5.0</td>\n",
       "      <td>95.680000</td>\n",
       "      <td>剁手</td>\n",
       "      <td>有钱人</td>\n",
       "    </tr>\n",
       "    <tr>\n",
       "      <th>1</th>\n",
       "      <td>1</td>\n",
       "      <td>1</td>\n",
       "      <td>18178</td>\n",
       "      <td>2019-04-17</td>\n",
       "      <td>53</td>\n",
       "      <td>静默</td>\n",
       "      <td>11.0</td>\n",
       "      <td>315.639999</td>\n",
       "      <td>剁手</td>\n",
       "      <td>有钱人</td>\n",
       "    </tr>\n",
       "    <tr>\n",
       "      <th>2</th>\n",
       "      <td>2</td>\n",
       "      <td>2</td>\n",
       "      <td>20089</td>\n",
       "      <td>2019-05-02</td>\n",
       "      <td>38</td>\n",
       "      <td>静默</td>\n",
       "      <td>6.0</td>\n",
       "      <td>86.500000</td>\n",
       "      <td>剁手</td>\n",
       "      <td>有钱人</td>\n",
       "    </tr>\n",
       "    <tr>\n",
       "      <th>3</th>\n",
       "      <td>3</td>\n",
       "      <td>3</td>\n",
       "      <td>20147</td>\n",
       "      <td>2019-04-12</td>\n",
       "      <td>58</td>\n",
       "      <td>静默</td>\n",
       "      <td>1.0</td>\n",
       "      <td>15.000000</td>\n",
       "      <td>老实</td>\n",
       "      <td>一般人</td>\n",
       "    </tr>\n",
       "    <tr>\n",
       "      <th>4</th>\n",
       "      <td>4</td>\n",
       "      <td>4</td>\n",
       "      <td>20156</td>\n",
       "      <td>2019-05-26</td>\n",
       "      <td>14</td>\n",
       "      <td>活跃</td>\n",
       "      <td>10.0</td>\n",
       "      <td>94.190000</td>\n",
       "      <td>剁手</td>\n",
       "      <td>有钱人</td>\n",
       "    </tr>\n",
       "  </tbody>\n",
       "</table>\n",
       "</div>"
      ],
      "text/plain": [
       "   Unnamed: 0  Unnamed: 0.1     id        最后购买  天数  状态   购买数        购买金额 消费习惯  \\\n",
       "0           0             0  15420  2019-05-15  25  活跃   5.0   95.680000   剁手   \n",
       "1           1             1  18178  2019-04-17  53  静默  11.0  315.639999   剁手   \n",
       "2           2             2  20089  2019-05-02  38  静默   6.0   86.500000   剁手   \n",
       "3           3             3  20147  2019-04-12  58  静默   1.0   15.000000   老实   \n",
       "4           4             4  20156  2019-05-26  14  活跃  10.0   94.190000   剁手   \n",
       "\n",
       "    花销  \n",
       "0  有钱人  \n",
       "1  有钱人  \n",
       "2  有钱人  \n",
       "3  一般人  \n",
       "4  有钱人  "
      ]
     },
     "execution_count": 88,
     "metadata": {},
     "output_type": "execute_result"
    }
   ],
   "source": [
    "dts.head()"
   ]
  },
  {
   "cell_type": "code",
   "execution_count": 66,
   "metadata": {},
   "outputs": [],
   "source": []
  },
  {
   "cell_type": "code",
   "execution_count": 97,
   "metadata": {},
   "outputs": [
    {
     "data": {
      "text/plain": [
       "0     5.0\n",
       "1    11.0\n",
       "2     6.0\n",
       "3     1.0\n",
       "4    10.0\n",
       "Name: 购买数, dtype: float64"
      ]
     },
     "execution_count": 97,
     "metadata": {},
     "output_type": "execute_result"
    }
   ],
   "source": [
    "sns.set()\n",
    "x=dts['购买数'][0:8000]\n",
    "x.head()"
   ]
  },
  {
   "cell_type": "code",
   "execution_count": 74,
   "metadata": {},
   "outputs": [],
   "source": [
    "xyz = sns.load_dataset(x)\n",
    "ax = plot(x=\"购买数\", y=\"\", data=xyz)"
   ]
  },
  {
   "cell_type": "code",
   "execution_count": 98,
   "metadata": {},
   "outputs": [
    {
     "data": {
      "text/plain": [
       "<matplotlib.axes._subplots.AxesSubplot at 0x7f9c71bb0e48>"
      ]
     },
     "execution_count": 98,
     "metadata": {},
     "output_type": "execute_result"
    },
    {
     "data": {
      "image/png": "[encoded data removed]",
      "text/plain": [
       "<Figure size 432x288 with 1 Axes>"
      ]
     },
     "metadata": {},
     "output_type": "display_data"
    }
   ],
   "source": [
    "sns.distplot(x)"
   ]
  },
  {
   "cell_type": "code",
   "execution_count": null,
   "metadata": {},
   "outputs": [],
   "source": []
  }
 ],
 "metadata": {
  "kernelspec": {
   "display_name": "Python 3",
   "language": "python",
   "name": "python3"
  },
  "language_info": {
   "codemirror_mode": {
    "name": "ipython",
    "version": 3
   },
   "file_extension": ".py",
   "mimetype": "text/x-python",
   "name": "python",
   "nbconvert_exporter": "python",
   "pygments_lexer": "ipython3",
   "version": "3.6.6"
  }
 },
 "nbformat": 4,
 "nbformat_minor": 2
}
