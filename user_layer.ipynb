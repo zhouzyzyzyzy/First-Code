{
 "cells": [
  {
   "cell_type": "code",
   "execution_count": 210,
   "metadata": {},
   "outputs": [],
   "source": [
    "import requests\n",
    "import datetime\n",
    "from elasticsearch import Elasticsearch\n",
    "from pandas.io.json import json_normalize\n",
    "import pandas as pd\n",
    "import numpy as np\n",
    "import progressbar\n",
    "import matplotlib.pyplot as plt\n",
    "import seaborn as sns; sns.set()\n",
    "def to_date(s):\n",
    "    dt = datetime.datetime.utcfromtimestamp(s / 1e3)\n",
    "    return dt.strftime(\"%Y-%m-%d\")\n",
    "\n",
    "def to_df(res):                                                                       #时间调整\n",
    "    test_df = json_normalize(res['aggregations']['my_buckets']['buckets'])\n",
    "    test_df.columns = map(lambda x: x.split('key.')[-1] if x.startswith('key.') else x, list(test_df.columns))\n",
    "    #test_df['日期'] = test_df['日期'].apply(to_date)\n",
    "    #test_df['日期'] = pd.to_datetime(test_df['日期'])\n",
    "    #test_df['current_vip_created']= test_df['current_vip_created'].apply(to_date)\n",
    "    #test_df['current_vip_created']= pd.to_datetime(test_df['current_vip_created'])\n",
    "    #test_df['购买列表']= test_df['购买列表'].apply(to_date)\n",
    "    #test_df['购买列表']= pd.to_datetime(test_df['购买列表'])\n",
    "    return test_df\n",
    "\n",
    "def get_result(dsl,index,doc_type):\n",
    "    es = Elasticsearch(['http://172.18.198.27:9200/'], timeout=30)\n",
    "    res = es.search(index=index, doc_type=doc_type, body=dsl,\n",
    "                        _source=False, explain=False, track_scores=False, track_total_hits=False, size=0,\n",
    "                        search_type='query_then_fetch')\n",
    "    df = to_df(res)\n",
    "    return df\n",
    "\n",
    "dsl1 = {'aggs': {'my_buckets': {'composite': {'size': 9999999,\n",
    "                                       'sources': [\n",
    "                                                   {'id': {'terms': {'field': 'id'}}},\n",
    "\n",
    "                                                  ]}}},\n",
    " 'query': {'bool': {'must': [{'range': {'first_vip_created': {'format': 'yyyy-MM-dd',\n",
    "                                                              'gte': '2019-05-23',\n",
    "                                                              'lte': '2019-05-23',\n",
    "                                                              'time_zone': '+00:00'}}}]}}}"
   ]
  },
  {
   "cell_type": "code",
   "execution_count": 211,
   "metadata": {},
   "outputs": [],
   "source": [
    "df1 = get_result(dsl1,'es_user_table','user')"
   ]
  },
  {
   "cell_type": "code",
   "execution_count": 212,
   "metadata": {},
   "outputs": [
    {
     "data": {
      "text/plain": [
       "3841"
      ]
     },
     "execution_count": 212,
     "metadata": {},
     "output_type": "execute_result"
    }
   ],
   "source": [
    "df1['id'].nunique()"
   ]
  },
  {
   "cell_type": "code",
   "execution_count": 213,
   "metadata": {},
   "outputs": [],
   "source": [
    "dsl11 = {\n",
    "        'aggs': {'my_buckets': {'aggregations': {'打开(Visitor)': {'cardinality': {'field': 'session_id', 'precision_threshold': 100}}},\n",
    "                         'composite': {'size': 9999999,\n",
    "                                       'sources': [{\"用户ID\": {\"terms\": {\"field\": 'user_id'}}},\n",
    "                                           #{'日期': {'date_histogram': {'field': 'created',\n",
    "                                           #                                   'interval': '1m',\n",
    "                                           #                                   'time_zone': '+08:00'}}}\n",
    "                                       ]}}},\n",
    "         'query': {'bool': {'must': [#{'query_string': {'query': \"group_category_name='早餐档'\"}},\n",
    "                                     {'range': {'created': {'format': 'yyyy-MM-dd',\n",
    "                                                    'gte': '2019-05-24',\n",
    "                                                    'lte': '2019-05-30',\n",
    "                                                    'time_zone': '+08:00'}}},\n",
    "                             {'terms': {'app_name': ['vip-mini']}},\n",
    "                            # {'terms': {'event_name': ['index', '首页']}},\n",
    "                             {'terms': {'user_id': df1['id'].tolist()}},\n",
    "                            # {'terms': {'event_type': ['event']}}\n",
    "                        ]}}}\n",
    "es11 = Elasticsearch(['http://172.18.198.27:9200/'], timeout=30)\n",
    "res11 = es11.search(index='shop_pv_event', doc_type='pv_event', body=dsl11,\n",
    "                _source=False, explain=False, track_scores=False, track_total_hits=False, size=0,\n",
    "                search_type='query_then_fetch')\n",
    "df11 = json_normalize(res11['aggregations']['my_buckets']['buckets'])\n",
    "df11.columns = map(lambda x: x.split('key.')[-1] if x.startswith('key.') else x, list(df11.columns))\n",
    "#df11['日期'] = df11['日期'].apply(to_date)\n",
    "#df11['日期'] = pd.to_datetime(df11['日期'])"
   ]
  },
  {
   "cell_type": "code",
   "execution_count": 214,
   "metadata": {},
   "outputs": [
    {
     "data": {
      "text/plain": [
       "1119"
      ]
     },
     "execution_count": 214,
     "metadata": {},
     "output_type": "execute_result"
    }
   ],
   "source": [
    "len(df11)"
   ]
  },
  {
   "cell_type": "code",
   "execution_count": 215,
   "metadata": {},
   "outputs": [
    {
     "data": {
      "text/html": [
       "<div>\n",
       "<style scoped>\n",
       "    .dataframe tbody tr th:only-of-type {\n",
       "        vertical-align: middle;\n",
       "    }\n",
       "\n",
       "    .dataframe tbody tr th {\n",
       "        vertical-align: top;\n",
       "    }\n",
       "\n",
       "    .dataframe thead th {\n",
       "        text-align: right;\n",
       "    }\n",
       "</style>\n",
       "<table border=\"1\" class=\"dataframe\">\n",
       "  <thead>\n",
       "    <tr style=\"text-align: right;\">\n",
       "      <th></th>\n",
       "      <th>doc_count</th>\n",
       "      <th>用户ID</th>\n",
       "      <th>打开(Visitor).value</th>\n",
       "    </tr>\n",
       "  </thead>\n",
       "  <tbody>\n",
       "    <tr>\n",
       "      <th>0</th>\n",
       "      <td>76</td>\n",
       "      <td>239985</td>\n",
       "      <td>5</td>\n",
       "    </tr>\n",
       "    <tr>\n",
       "      <th>1</th>\n",
       "      <td>7</td>\n",
       "      <td>264951</td>\n",
       "      <td>1</td>\n",
       "    </tr>\n",
       "    <tr>\n",
       "      <th>2</th>\n",
       "      <td>9</td>\n",
       "      <td>265739</td>\n",
       "      <td>2</td>\n",
       "    </tr>\n",
       "    <tr>\n",
       "      <th>3</th>\n",
       "      <td>15</td>\n",
       "      <td>306921</td>\n",
       "      <td>4</td>\n",
       "    </tr>\n",
       "    <tr>\n",
       "      <th>4</th>\n",
       "      <td>129</td>\n",
       "      <td>310608</td>\n",
       "      <td>3</td>\n",
       "    </tr>\n",
       "  </tbody>\n",
       "</table>\n",
       "</div>"
      ],
      "text/plain": [
       "   doc_count    用户ID  打开(Visitor).value\n",
       "0         76  239985                  5\n",
       "1          7  264951                  1\n",
       "2          9  265739                  2\n",
       "3         15  306921                  4\n",
       "4        129  310608                  3"
      ]
     },
     "execution_count": 215,
     "metadata": {},
     "output_type": "execute_result"
    }
   ],
   "source": [
    "df11.head()"
   ]
  },
  {
   "cell_type": "code",
   "execution_count": 216,
   "metadata": {},
   "outputs": [
    {
     "data": {
      "text/plain": [
       "92"
      ]
     },
     "execution_count": 216,
     "metadata": {},
     "output_type": "execute_result"
    }
   ],
   "source": [
    "df11['打开(Visitor).value'].max()"
   ]
  },
  {
   "cell_type": "code",
   "execution_count": 217,
   "metadata": {},
   "outputs": [
    {
     "data": {
      "text/plain": [
       "[<matplotlib.lines.Line2D at 0x7fcd7e788940>]"
      ]
     },
     "execution_count": 217,
     "metadata": {},
     "output_type": "execute_result"
    },
    {
     "data": {
      "image/png": "[encoded data removed]",
      "text/plain": [
       "<Figure size 432x288 with 1 Axes>"
      ]
     },
     "metadata": {},
     "output_type": "display_data"
    }
   ],
   "source": [
    "plt.plot(df11['打开(Visitor).value'])"
   ]
  },
  {
   "cell_type": "code",
   "execution_count": 218,
   "metadata": {},
   "outputs": [
    {
     "data": {
      "text/plain": [
       "<matplotlib.axes._subplots.AxesSubplot at 0x7fcd827211d0>"
      ]
     },
     "execution_count": 218,
     "metadata": {},
     "output_type": "execute_result"
    },
    {
     "data": {
      "image/png": "[encoded data removed]",
      "text/plain": [
       "<Figure size 432x288 with 1 Axes>"
      ]
     },
     "metadata": {},
     "output_type": "display_data"
    }
   ],
   "source": [
    "df_new=df11[df11['打开(Visitor).value']<=30]\n",
    "sns.distplot(df_new['打开(Visitor).value'])"
   ]
  },
  {
   "cell_type": "code",
   "execution_count": 219,
   "metadata": {},
   "outputs": [
    {
     "data": {
      "text/plain": [
       "0.9964253798033958"
      ]
     },
     "execution_count": 219,
     "metadata": {},
     "output_type": "execute_result"
    }
   ],
   "source": [
    "len(df_new)/len(df11)"
   ]
  },
  {
   "cell_type": "code",
   "execution_count": 220,
   "metadata": {},
   "outputs": [
    {
     "data": {
      "text/html": [
       "<div>\n",
       "<style scoped>\n",
       "    .dataframe tbody tr th:only-of-type {\n",
       "        vertical-align: middle;\n",
       "    }\n",
       "\n",
       "    .dataframe tbody tr th {\n",
       "        vertical-align: top;\n",
       "    }\n",
       "\n",
       "    .dataframe thead th {\n",
       "        text-align: right;\n",
       "    }\n",
       "</style>\n",
       "<table border=\"1\" class=\"dataframe\">\n",
       "  <thead>\n",
       "    <tr style=\"text-align: right;\">\n",
       "      <th></th>\n",
       "      <th>用户ID</th>\n",
       "      <th>打开(Visitor).value</th>\n",
       "    </tr>\n",
       "  </thead>\n",
       "  <tbody>\n",
       "    <tr>\n",
       "      <th>0</th>\n",
       "      <td>239985</td>\n",
       "      <td>5</td>\n",
       "    </tr>\n",
       "    <tr>\n",
       "      <th>1</th>\n",
       "      <td>264951</td>\n",
       "      <td>1</td>\n",
       "    </tr>\n",
       "    <tr>\n",
       "      <th>2</th>\n",
       "      <td>265739</td>\n",
       "      <td>2</td>\n",
       "    </tr>\n",
       "    <tr>\n",
       "      <th>3</th>\n",
       "      <td>306921</td>\n",
       "      <td>4</td>\n",
       "    </tr>\n",
       "    <tr>\n",
       "      <th>4</th>\n",
       "      <td>310608</td>\n",
       "      <td>3</td>\n",
       "    </tr>\n",
       "  </tbody>\n",
       "</table>\n",
       "</div>"
      ],
      "text/plain": [
       "     用户ID  打开(Visitor).value\n",
       "0  239985                  5\n",
       "1  264951                  1\n",
       "2  265739                  2\n",
       "3  306921                  4\n",
       "4  310608                  3"
      ]
     },
     "execution_count": 220,
     "metadata": {},
     "output_type": "execute_result"
    }
   ],
   "source": [
    "df_new=df_new.drop(['doc_count'],axis=1)\n",
    "df_new.head()"
   ]
  },
  {
   "cell_type": "code",
   "execution_count": 221,
   "metadata": {},
   "outputs": [
    {
     "data": {
      "text/html": [
       "<div>\n",
       "<style scoped>\n",
       "    .dataframe tbody tr th:only-of-type {\n",
       "        vertical-align: middle;\n",
       "    }\n",
       "\n",
       "    .dataframe tbody tr th {\n",
       "        vertical-align: top;\n",
       "    }\n",
       "\n",
       "    .dataframe thead th {\n",
       "        text-align: right;\n",
       "    }\n",
       "</style>\n",
       "<table border=\"1\" class=\"dataframe\">\n",
       "  <thead>\n",
       "    <tr style=\"text-align: right;\">\n",
       "      <th></th>\n",
       "      <th>打开(Visitor).value</th>\n",
       "      <th>visit_list</th>\n",
       "    </tr>\n",
       "  </thead>\n",
       "  <tbody>\n",
       "    <tr>\n",
       "      <th>0</th>\n",
       "      <td>1</td>\n",
       "      <td>[264951, 326640, 327622, 329670, 332229, 39732...</td>\n",
       "    </tr>\n",
       "    <tr>\n",
       "      <th>1</th>\n",
       "      <td>2</td>\n",
       "      <td>[265739, 319627, 325337, 386187, 487350, 51702...</td>\n",
       "    </tr>\n",
       "    <tr>\n",
       "      <th>2</th>\n",
       "      <td>3</td>\n",
       "      <td>[310608, 311700, 322007, 580419, 654158, 67583...</td>\n",
       "    </tr>\n",
       "    <tr>\n",
       "      <th>3</th>\n",
       "      <td>4</td>\n",
       "      <td>[306921, 420907, 429444, 438060, 552034, 55301...</td>\n",
       "    </tr>\n",
       "    <tr>\n",
       "      <th>4</th>\n",
       "      <td>5</td>\n",
       "      <td>[239985, 345136, 356005, 520856, 525396, 65010...</td>\n",
       "    </tr>\n",
       "  </tbody>\n",
       "</table>\n",
       "</div>"
      ],
      "text/plain": [
       "   打开(Visitor).value                                         visit_list\n",
       "0                  1  [264951, 326640, 327622, 329670, 332229, 39732...\n",
       "1                  2  [265739, 319627, 325337, 386187, 487350, 51702...\n",
       "2                  3  [310608, 311700, 322007, 580419, 654158, 67583...\n",
       "3                  4  [306921, 420907, 429444, 438060, 552034, 55301...\n",
       "4                  5  [239985, 345136, 356005, 520856, 525396, 65010..."
      ]
     },
     "execution_count": 221,
     "metadata": {},
     "output_type": "execute_result"
    }
   ],
   "source": [
    "def get_visit_list(s):\n",
    "    data={}\n",
    "    data['visit_list'] = s['用户ID'].tolist()\n",
    "    return pd.Series(data)\n",
    "\n",
    "df_list = df_new.groupby('打开(Visitor).value').apply(get_visit_list).reset_index()\n",
    "df_list.head()"
   ]
  },
  {
   "cell_type": "code",
   "execution_count": 222,
   "metadata": {},
   "outputs": [],
   "source": [
    "dsl_all = {\n",
    "        'aggs': {'my_buckets': {'aggregations': {'打开(Visitor)': {'cardinality': {'field': 'session_id', 'precision_threshold': 100}}},\n",
    "                         'composite': {'size': 9999999,\n",
    "                                       'sources': [{\"用户ID\": {\"terms\": {\"field\": 'user_id'}}},\n",
    "                                           #{'日期': {'date_histogram': {'field': 'created',\n",
    "                                           #                                   'interval': '1m',\n",
    "                                           #                                   'time_zone': '+08:00'}}}\n",
    "                                       ]}}},\n",
    "         'query': {'bool': {'must': [#{'query_string': {'query': \"group_category_name='早餐档'\"}},\n",
    "                                     {'range': {'created': {'format': 'yyyy-MM-dd',\n",
    "                                                    'gte': '2019-05-31',\n",
    "                                                    'lte': '2019-06-06',\n",
    "                                                    'time_zone': '+08:00'}}},\n",
    "                             {'terms': {'app_name': ['vip-mini']}},\n",
    "                            # {'terms': {'event_name': ['index', '首页']}},\n",
    "                            # {'terms': {'user_id': df1['id'].tolist()}},\n",
    "                            # {'terms': {'event_type': ['event']}}\n",
    "                        ]}}}\n",
    "es_all = Elasticsearch(['http://172.18.198.27:9200/'], timeout=30)\n",
    "res_all = es_all.search(index='shop_pv_event', doc_type='pv_event', body=dsl_all,\n",
    "                _source=False, explain=False, track_scores=False, track_total_hits=False, size=0,\n",
    "                search_type='query_then_fetch')\n",
    "df_all = json_normalize(res_all['aggregations']['my_buckets']['buckets'])\n",
    "df_all.columns = map(lambda x: x.split('key.')[-1] if x.startswith('key.') else x, list(df_all.columns))"
   ]
  },
  {
   "cell_type": "code",
   "execution_count": 223,
   "metadata": {},
   "outputs": [],
   "source": [
    "new_visit_list = df_all['用户ID'].tolist()    #新一个月的用户访问列表"
   ]
  },
  {
   "cell_type": "code",
   "execution_count": 224,
   "metadata": {},
   "outputs": [
    {
     "name": "stderr",
     "output_type": "stream",
     "text": [
      "100% (20 of 20) |########################| Elapsed Time: 0:00:00 Time:  0:00:00\n"
     ]
    }
   ],
   "source": [
    "bar = progressbar\n",
    "per_rem = []\n",
    "for i in bar.progressbar(range(len(df_list))):\n",
    "    list_together = list(set(df_list.iloc[i]['visit_list']).intersection(set(new_visit_list)))\n",
    "    per_rem.append(len(list_together)/len(df_list.iloc[i]['visit_list']))\n",
    "                         \n",
    "df_list['留存率'] = per_rem                   \n",
    "                         \n",
    "                         "
   ]
  },
  {
   "cell_type": "code",
   "execution_count": 225,
   "metadata": {},
   "outputs": [
    {
     "data": {
      "text/plain": [
       "401"
      ]
     },
     "execution_count": 225,
     "metadata": {},
     "output_type": "execute_result"
    }
   ],
   "source": [
    "len(df_list.iloc[0]['visit_list'])"
   ]
  },
  {
   "cell_type": "code",
   "execution_count": 226,
   "metadata": {},
   "outputs": [
    {
     "data": {
      "text/plain": [
       "[<matplotlib.lines.Line2D at 0x7fcd8c7fa7b8>]"
      ]
     },
     "execution_count": 226,
     "metadata": {},
     "output_type": "execute_result"
    },
    {
     "data": {
      "image/png": "[encoded data removed]",
      "text/plain": [
       "<Figure size 432x288 with 1 Axes>"
      ]
     },
     "metadata": {},
     "output_type": "display_data"
    }
   ],
   "source": [
    "plt.plot(df_list['留存率'])"
   ]
  },
  {
   "cell_type": "code",
   "execution_count": 237,
   "metadata": {},
   "outputs": [
    {
     "name": "stderr",
     "output_type": "stream",
     "text": [
      "100% (1119 of 1119) |####################| Elapsed Time: 0:00:00 Time:  0:00:00\n"
     ]
    }
   ],
   "source": [
    "bar = progressbar                                                       #分类依据\n",
    "active_list,dead_list = [],[]\n",
    "for i in bar.progressbar(range(len(df11))):\n",
    "    if df11.iloc[i]['打开(Visitor).value']<5:\n",
    "        dead_list.append(df11.iloc[i]['用户ID'])\n",
    "    else:\n",
    "        active_list.append(df11.iloc[i]['用户ID'])"
   ]
  },
  {
   "cell_type": "code",
   "execution_count": 238,
   "metadata": {},
   "outputs": [
    {
     "data": {
      "text/plain": [
       "953"
      ]
     },
     "execution_count": 238,
     "metadata": {},
     "output_type": "execute_result"
    }
   ],
   "source": [
    "len(dead_list)"
   ]
  },
  {
   "cell_type": "code",
   "execution_count": 239,
   "metadata": {},
   "outputs": [
    {
     "data": {
      "text/plain": [
       "166"
      ]
     },
     "execution_count": 239,
     "metadata": {},
     "output_type": "execute_result"
    }
   ],
   "source": [
    "len(active_list)"
   ]
  },
  {
   "cell_type": "code",
   "execution_count": 307,
   "metadata": {},
   "outputs": [],
   "source": [
    "dsl_dead = {\n",
    "        'aggs': {'my_buckets': {'aggregations': {'打开(Visitor)': {'cardinality': {'field': 'session_id', 'precision_threshold': 100}}},\n",
    "                         'composite': {'size': 9999999,\n",
    "                                       'sources': [#{\"用户ID\": {\"terms\": {\"field\": 'user_id'}}},\n",
    "                                           {'日期': {'date_histogram': {'field': 'created',\n",
    "                                                                              'interval': '1d',\n",
    "                                                                              'time_zone': '+08:00'}}}\n",
    "                                       ]}}},\n",
    "         'query': {'bool': {'must': [{'range': {'created': {'format': 'yyyy-MM-dd',\n",
    "                                                    'gte': '2019-05-24',\n",
    "                                                    'lte': '2019-06-06',\n",
    "                                                    'time_zone': '+08:00'}}},\n",
    "                             {'terms': {'app_name': ['vip-mini']}},\n",
    "                             {'terms': {'user_id': dead_list}},\n",
    "                        ]}}}\n",
    "es_dead = Elasticsearch(['http://172.18.198.27:9200/'], timeout=30)\n",
    "res_dead = es_dead.search(index='shop_pv_event', doc_type='pv_event', body=dsl_dead,\n",
    "                _source=False, explain=False, track_scores=False, track_total_hits=False, size=0,\n",
    "                search_type='query_then_fetch')\n",
    "df_dead = json_normalize(res_dead['aggregations']['my_buckets']['buckets'])\n",
    "df_dead.columns = map(lambda x: x.split('key.')[-1] if x.startswith('key.') else x, list(df_dead.columns))\n",
    "df_dead['日期'] = df_dead['日期'].apply(to_date)\n",
    "df_dead['日期'] = pd.to_datetime(df_dead['日期'])"
   ]
  },
  {
   "cell_type": "code",
   "execution_count": 308,
   "metadata": {},
   "outputs": [
    {
     "data": {
      "text/html": [
       "<div>\n",
       "<style scoped>\n",
       "    .dataframe tbody tr th:only-of-type {\n",
       "        vertical-align: middle;\n",
       "    }\n",
       "\n",
       "    .dataframe tbody tr th {\n",
       "        vertical-align: top;\n",
       "    }\n",
       "\n",
       "    .dataframe thead th {\n",
       "        text-align: right;\n",
       "    }\n",
       "</style>\n",
       "<table border=\"1\" class=\"dataframe\">\n",
       "  <thead>\n",
       "    <tr style=\"text-align: right;\">\n",
       "      <th></th>\n",
       "      <th>doc_count</th>\n",
       "      <th>日期</th>\n",
       "      <th>打开(Visitor).value</th>\n",
       "    </tr>\n",
       "  </thead>\n",
       "  <tbody>\n",
       "    <tr>\n",
       "      <th>0</th>\n",
       "      <td>5451</td>\n",
       "      <td>2019-05-23</td>\n",
       "      <td>556</td>\n",
       "    </tr>\n",
       "    <tr>\n",
       "      <th>1</th>\n",
       "      <td>3934</td>\n",
       "      <td>2019-05-24</td>\n",
       "      <td>337</td>\n",
       "    </tr>\n",
       "    <tr>\n",
       "      <th>2</th>\n",
       "      <td>2618</td>\n",
       "      <td>2019-05-25</td>\n",
       "      <td>273</td>\n",
       "    </tr>\n",
       "    <tr>\n",
       "      <th>3</th>\n",
       "      <td>2255</td>\n",
       "      <td>2019-05-26</td>\n",
       "      <td>258</td>\n",
       "    </tr>\n",
       "    <tr>\n",
       "      <th>4</th>\n",
       "      <td>1856</td>\n",
       "      <td>2019-05-27</td>\n",
       "      <td>243</td>\n",
       "    </tr>\n",
       "  </tbody>\n",
       "</table>\n",
       "</div>"
      ],
      "text/plain": [
       "   doc_count         日期  打开(Visitor).value\n",
       "0       5451 2019-05-23                556\n",
       "1       3934 2019-05-24                337\n",
       "2       2618 2019-05-25                273\n",
       "3       2255 2019-05-26                258\n",
       "4       1856 2019-05-27                243"
      ]
     },
     "execution_count": 308,
     "metadata": {},
     "output_type": "execute_result"
    }
   ],
   "source": [
    "df_dead.head()"
   ]
  },
  {
   "cell_type": "code",
   "execution_count": 309,
   "metadata": {},
   "outputs": [
    {
     "name": "stderr",
     "output_type": "stream",
     "text": [
      "100% (14 of 14) |########################| Elapsed Time: 0:00:00 Time:  0:00:00\n"
     ]
    }
   ],
   "source": [
    "bar = progressbar\n",
    "dead_per = []\n",
    "for i in bar.progressbar(range(len(df_dead))):\n",
    "    dead_per.append(df_dead.iloc[i]['打开(Visitor).value']/len(dead_list))\n",
    "df_dead['占比']= dead_per"
   ]
  },
  {
   "cell_type": "code",
   "execution_count": 310,
   "metadata": {},
   "outputs": [],
   "source": [
    "dsl_active = {\n",
    "        'aggs': {'my_buckets': {'aggregations': {'打开(Visitor)': {'cardinality': {'field': 'session_id', 'precision_threshold': 100}}},\n",
    "                         'composite': {'size': 9999999,\n",
    "                                       'sources': [#{\"用户ID\": {\"terms\": {\"field\": 'user_id'}}},\n",
    "                                           {'日期': {'date_histogram': {'field': 'created',\n",
    "                                                                              'interval': '1d',\n",
    "                                                                              'time_zone': '+08:00'}}}\n",
    "                                       ]}}},\n",
    "         'query': {'bool': {'must': [{'range': {'created': {'format': 'yyyy-MM-dd',\n",
    "                                                    'gte': '2019-05-24',\n",
    "                                                    'lte': '2019-06-06',\n",
    "                                                    'time_zone': '+08:00'}}},\n",
    "                             {'terms': {'app_name': ['vip-mini']}},\n",
    "                             {'terms': {'user_id': active_list}},\n",
    "                        ]}}}\n",
    "es_active = Elasticsearch(['http://172.18.198.27:9200/'], timeout=30)\n",
    "res_active = es_active.search(index='shop_pv_event', doc_type='pv_event', body=dsl_active,\n",
    "                _source=False, explain=False, track_scores=False, track_total_hits=False, size=0,\n",
    "                search_type='query_then_fetch')\n",
    "df_active = json_normalize(res_active['aggregations']['my_buckets']['buckets'])\n",
    "df_active.columns = map(lambda x: x.split('key.')[-1] if x.startswith('key.') else x, list(df_active.columns))\n",
    "df_active['日期'] = df_active['日期'].apply(to_date)\n",
    "df_active['日期'] = pd.to_datetime(df_active['日期'])"
   ]
  },
  {
   "cell_type": "code",
   "execution_count": 311,
   "metadata": {},
   "outputs": [
    {
     "data": {
      "text/html": [
       "<div>\n",
       "<style scoped>\n",
       "    .dataframe tbody tr th:only-of-type {\n",
       "        vertical-align: middle;\n",
       "    }\n",
       "\n",
       "    .dataframe tbody tr th {\n",
       "        vertical-align: top;\n",
       "    }\n",
       "\n",
       "    .dataframe thead th {\n",
       "        text-align: right;\n",
       "    }\n",
       "</style>\n",
       "<table border=\"1\" class=\"dataframe\">\n",
       "  <thead>\n",
       "    <tr style=\"text-align: right;\">\n",
       "      <th></th>\n",
       "      <th>doc_count</th>\n",
       "      <th>日期</th>\n",
       "      <th>打开(Visitor).value</th>\n",
       "    </tr>\n",
       "  </thead>\n",
       "  <tbody>\n",
       "    <tr>\n",
       "      <th>0</th>\n",
       "      <td>4427</td>\n",
       "      <td>2019-05-23</td>\n",
       "      <td>352</td>\n",
       "    </tr>\n",
       "    <tr>\n",
       "      <th>1</th>\n",
       "      <td>4119</td>\n",
       "      <td>2019-05-24</td>\n",
       "      <td>303</td>\n",
       "    </tr>\n",
       "    <tr>\n",
       "      <th>2</th>\n",
       "      <td>2967</td>\n",
       "      <td>2019-05-25</td>\n",
       "      <td>243</td>\n",
       "    </tr>\n",
       "    <tr>\n",
       "      <th>3</th>\n",
       "      <td>3484</td>\n",
       "      <td>2019-05-26</td>\n",
       "      <td>248</td>\n",
       "    </tr>\n",
       "    <tr>\n",
       "      <th>4</th>\n",
       "      <td>3048</td>\n",
       "      <td>2019-05-27</td>\n",
       "      <td>226</td>\n",
       "    </tr>\n",
       "  </tbody>\n",
       "</table>\n",
       "</div>"
      ],
      "text/plain": [
       "   doc_count         日期  打开(Visitor).value\n",
       "0       4427 2019-05-23                352\n",
       "1       4119 2019-05-24                303\n",
       "2       2967 2019-05-25                243\n",
       "3       3484 2019-05-26                248\n",
       "4       3048 2019-05-27                226"
      ]
     },
     "execution_count": 311,
     "metadata": {},
     "output_type": "execute_result"
    }
   ],
   "source": [
    "df_active.head()"
   ]
  },
  {
   "cell_type": "code",
   "execution_count": 312,
   "metadata": {},
   "outputs": [
    {
     "name": "stderr",
     "output_type": "stream",
     "text": [
      "100% (14 of 14) |########################| Elapsed Time: 0:00:00 Time:  0:00:00\n"
     ]
    }
   ],
   "source": [
    "bar = progressbar\n",
    "active_per = []\n",
    "for i in bar.progressbar(range(len(df_active))):\n",
    "    active_per.append(df_active.iloc[i]['打开(Visitor).value']/len(active_list))\n",
    "df_active['占比']= active_per"
   ]
  },
  {
   "cell_type": "code",
   "execution_count": 313,
   "metadata": {},
   "outputs": [
    {
     "data": {
      "text/plain": [
       "(array([737202., 737204., 737206., 737208., 737210., 737211., 737213.,\n",
       "        737215.]), <a list of 8 Text xticklabel objects>)"
      ]
     },
     "execution_count": 313,
     "metadata": {},
     "output_type": "execute_result"
    },
    {
     "data": {
      "image/png": "[encoded data removed]",
      "text/plain": [
       "<Figure size 432x288 with 1 Axes>"
      ]
     },
     "metadata": {},
     "output_type": "display_data"
    }
   ],
   "source": [
    "plt.plot(df_active['日期'],df_active['占比'],'r-',\n",
    "        df_dead['日期'],df_dead['占比'],'b-')\n",
    "plt.xticks(rotation='60')"
   ]
  },
  {
   "cell_type": "code",
   "execution_count": null,
   "metadata": {},
   "outputs": [],
   "source": []
  },
  {
   "cell_type": "markdown",
   "metadata": {},
   "source": [
    "页面浏览"
   ]
  },
  {
   "cell_type": "code",
   "execution_count": 265,
   "metadata": {},
   "outputs": [],
   "source": [
    "dsl_de = {'query': {'bool': {'must': \n",
    "                                    [{'range': {'created': {'gte': '2019-05-24', \n",
    "                                                            'lte': '2019-05-30', \n",
    "                                                            'format': 'yyyy-MM-dd', 'time_zone': '+08:00'}}}, \n",
    "                                     {'terms':{'user_id': dead_list}},\n",
    "                                    ]}}, \n",
    "         'aggs': {'my_buckets': {'composite': {'size': 9999999, 'sources': [\n",
    "                                                    #{'日期': {'date_histogram': {'field': 'created', 'interval': '1d', 'time_zone': '+08:00'}}},\n",
    "                                                     {'current_page': {'terms': {'field': 'current_page'}}}, \n",
    "                                                                           ]}, \n",
    "                                }}}\n",
    "es_de = Elasticsearch(['http://172.18.198.27:9200/'], timeout=30)\n",
    "res_de = es_de.search(index='shop_pv_event', doc_type='pv_event', body=dsl_de,\n",
    "                _source=False, explain=False, track_scores=False, track_total_hits=False, size=0,\n",
    "                search_type='query_then_fetch')\n",
    "df_de = json_normalize(res_de['aggregations']['my_buckets']['buckets'])\n",
    "df_de.columns = map(lambda x: x.split('key.')[-1] if x.startswith('key.') else x, list(df_de.columns))\n",
    "#df_de['日期'] = df_de['日期'].apply(to_date)\n",
    "#df_de['日期'] = pd.to_datetime(df_de['日期'])"
   ]
  },
  {
   "cell_type": "code",
   "execution_count": 266,
   "metadata": {},
   "outputs": [],
   "source": [
    "dsl_ac = {'query': {'bool': {'must': \n",
    "                                    [{'range': {'created': {'gte': '2019-05-24', \n",
    "                                                            'lte': '2019-05-30', \n",
    "                                                            'format': 'yyyy-MM-dd', 'time_zone': '+08:00'}}}, \n",
    "                                     {'terms':{'user_id':active_list}},\n",
    "                                    ]}}, \n",
    "         'aggs': {'my_buckets': {'composite': {'size': 9999999, 'sources': [\n",
    "                                             # {'日期': {'date_histogram': {'field': 'created', 'interval': '1d', 'time_zone': '+08:00'}}},\n",
    "                                              {'current_page': {'terms': {'field': 'current_page'}}}, \n",
    "                                                                           ]}, \n",
    "                                }}}\n",
    "es_ac = Elasticsearch(['http://172.18.198.27:9200/'], timeout=30)\n",
    "res_ac = es_ac.search(index='shop_pv_event', doc_type='pv_event', body=dsl_ac,\n",
    "                _source=False, explain=False, track_scores=False, track_total_hits=False, size=0,\n",
    "                search_type='query_then_fetch')\n",
    "df_ac = json_normalize(res_ac['aggregations']['my_buckets']['buckets'])\n",
    "df_ac.columns = map(lambda x: x.split('key.')[-1] if x.startswith('key.') else x, list(df_ac.columns))\n",
    "#df_ac['日期'] = df_ac['日期'].apply(to_date)\n",
    "#df_ac['日期'] = pd.to_datetime(df_ac['日期'])"
   ]
  },
  {
   "cell_type": "code",
   "execution_count": 267,
   "metadata": {},
   "outputs": [
    {
     "data": {
      "text/html": [
       "<div>\n",
       "<style scoped>\n",
       "    .dataframe tbody tr th:only-of-type {\n",
       "        vertical-align: middle;\n",
       "    }\n",
       "\n",
       "    .dataframe tbody tr th {\n",
       "        vertical-align: top;\n",
       "    }\n",
       "\n",
       "    .dataframe thead th {\n",
       "        text-align: right;\n",
       "    }\n",
       "</style>\n",
       "<table border=\"1\" class=\"dataframe\">\n",
       "  <thead>\n",
       "    <tr style=\"text-align: right;\">\n",
       "      <th></th>\n",
       "      <th>doc_count</th>\n",
       "      <th>current_page</th>\n",
       "    </tr>\n",
       "  </thead>\n",
       "  <tbody>\n",
       "    <tr>\n",
       "      <th>0</th>\n",
       "      <td>11</td>\n",
       "      <td></td>\n",
       "    </tr>\n",
       "    <tr>\n",
       "      <th>1</th>\n",
       "      <td>114</td>\n",
       "      <td>TOP榜单</td>\n",
       "    </tr>\n",
       "    <tr>\n",
       "      <th>2</th>\n",
       "      <td>667</td>\n",
       "      <td>discount</td>\n",
       "    </tr>\n",
       "    <tr>\n",
       "      <th>3</th>\n",
       "      <td>609</td>\n",
       "      <td>index</td>\n",
       "    </tr>\n",
       "    <tr>\n",
       "      <th>4</th>\n",
       "      <td>14</td>\n",
       "      <td>packets</td>\n",
       "    </tr>\n",
       "  </tbody>\n",
       "</table>\n",
       "</div>"
      ],
      "text/plain": [
       "   doc_count current_page\n",
       "0         11             \n",
       "1        114        TOP榜单\n",
       "2        667     discount\n",
       "3        609        index\n",
       "4         14      packets"
      ]
     },
     "execution_count": 267,
     "metadata": {},
     "output_type": "execute_result"
    }
   ],
   "source": [
    "df_de.head()"
   ]
  },
  {
   "cell_type": "code",
   "execution_count": 276,
   "metadata": {},
   "outputs": [],
   "source": [
    "df_de_ten = df_de.sort_values('doc_count',ascending=False)[0:10]"
   ]
  },
  {
   "cell_type": "code",
   "execution_count": 277,
   "metadata": {},
   "outputs": [],
   "source": [
    "df_ac_ten = df_ac.sort_values('doc_count',ascending=False)[0:10]"
   ]
  },
  {
   "cell_type": "code",
   "execution_count": 286,
   "metadata": {},
   "outputs": [
    {
     "data": {
      "text/html": [
       "<div>\n",
       "<style scoped>\n",
       "    .dataframe tbody tr th:only-of-type {\n",
       "        vertical-align: middle;\n",
       "    }\n",
       "\n",
       "    .dataframe tbody tr th {\n",
       "        vertical-align: top;\n",
       "    }\n",
       "\n",
       "    .dataframe thead th {\n",
       "        text-align: right;\n",
       "    }\n",
       "</style>\n",
       "<table border=\"1\" class=\"dataframe\">\n",
       "  <thead>\n",
       "    <tr style=\"text-align: right;\">\n",
       "      <th></th>\n",
       "      <th>doc_count</th>\n",
       "      <th>current_page</th>\n",
       "    </tr>\n",
       "  </thead>\n",
       "  <tbody>\n",
       "    <tr>\n",
       "      <th>39</th>\n",
       "      <td>5968</td>\n",
       "      <td>首页</td>\n",
       "    </tr>\n",
       "    <tr>\n",
       "      <th>19</th>\n",
       "      <td>3858</td>\n",
       "      <td>商家详情</td>\n",
       "    </tr>\n",
       "    <tr>\n",
       "      <th>7</th>\n",
       "      <td>1721</td>\n",
       "      <td>webview</td>\n",
       "    </tr>\n",
       "    <tr>\n",
       "      <th>30</th>\n",
       "      <td>1255</td>\n",
       "      <td>支付页</td>\n",
       "    </tr>\n",
       "    <tr>\n",
       "      <th>12</th>\n",
       "      <td>972</td>\n",
       "      <td>五折日历列表页</td>\n",
       "    </tr>\n",
       "    <tr>\n",
       "      <th>36</th>\n",
       "      <td>803</td>\n",
       "      <td>键盘页</td>\n",
       "    </tr>\n",
       "    <tr>\n",
       "      <th>38</th>\n",
       "      <td>783</td>\n",
       "      <td>领取小黑卡</td>\n",
       "    </tr>\n",
       "    <tr>\n",
       "      <th>37</th>\n",
       "      <td>766</td>\n",
       "      <td>附近优惠</td>\n",
       "    </tr>\n",
       "    <tr>\n",
       "      <th>2</th>\n",
       "      <td>667</td>\n",
       "      <td>discount</td>\n",
       "    </tr>\n",
       "    <tr>\n",
       "      <th>3</th>\n",
       "      <td>609</td>\n",
       "      <td>index</td>\n",
       "    </tr>\n",
       "  </tbody>\n",
       "</table>\n",
       "</div>"
      ],
      "text/plain": [
       "    doc_count current_page\n",
       "39       5968           首页\n",
       "19       3858         商家详情\n",
       "7        1721      webview\n",
       "30       1255          支付页\n",
       "12        972      五折日历列表页\n",
       "36        803          键盘页\n",
       "38        783        领取小黑卡\n",
       "37        766         附近优惠\n",
       "2         667     discount\n",
       "3         609        index"
      ]
     },
     "execution_count": 286,
     "metadata": {},
     "output_type": "execute_result"
    }
   ],
   "source": [
    "df_de_ten"
   ]
  },
  {
   "cell_type": "code",
   "execution_count": 282,
   "metadata": {},
   "outputs": [
    {
     "data": {
      "text/html": [
       "<div>\n",
       "<style scoped>\n",
       "    .dataframe tbody tr th:only-of-type {\n",
       "        vertical-align: middle;\n",
       "    }\n",
       "\n",
       "    .dataframe tbody tr th {\n",
       "        vertical-align: top;\n",
       "    }\n",
       "\n",
       "    .dataframe thead th {\n",
       "        text-align: right;\n",
       "    }\n",
       "</style>\n",
       "<table border=\"1\" class=\"dataframe\">\n",
       "  <thead>\n",
       "    <tr style=\"text-align: right;\">\n",
       "      <th></th>\n",
       "      <th>doc_count</th>\n",
       "      <th>current_page</th>\n",
       "    </tr>\n",
       "  </thead>\n",
       "  <tbody>\n",
       "    <tr>\n",
       "      <th>37</th>\n",
       "      <td>6865</td>\n",
       "      <td>首页</td>\n",
       "    </tr>\n",
       "    <tr>\n",
       "      <th>16</th>\n",
       "      <td>5967</td>\n",
       "      <td>商家详情</td>\n",
       "    </tr>\n",
       "    <tr>\n",
       "      <th>10</th>\n",
       "      <td>1761</td>\n",
       "      <td>五折日历列表页</td>\n",
       "    </tr>\n",
       "    <tr>\n",
       "      <th>24</th>\n",
       "      <td>1241</td>\n",
       "      <td>我的收益</td>\n",
       "    </tr>\n",
       "    <tr>\n",
       "      <th>7</th>\n",
       "      <td>1218</td>\n",
       "      <td>webview</td>\n",
       "    </tr>\n",
       "    <tr>\n",
       "      <th>28</th>\n",
       "      <td>758</td>\n",
       "      <td>支付页</td>\n",
       "    </tr>\n",
       "    <tr>\n",
       "      <th>35</th>\n",
       "      <td>727</td>\n",
       "      <td>附近优惠</td>\n",
       "    </tr>\n",
       "    <tr>\n",
       "      <th>2</th>\n",
       "      <td>542</td>\n",
       "      <td>discount</td>\n",
       "    </tr>\n",
       "    <tr>\n",
       "      <th>34</th>\n",
       "      <td>520</td>\n",
       "      <td>键盘页</td>\n",
       "    </tr>\n",
       "    <tr>\n",
       "      <th>36</th>\n",
       "      <td>487</td>\n",
       "      <td>领取小黑卡</td>\n",
       "    </tr>\n",
       "  </tbody>\n",
       "</table>\n",
       "</div>"
      ],
      "text/plain": [
       "    doc_count current_page\n",
       "37       6865           首页\n",
       "16       5967         商家详情\n",
       "10       1761      五折日历列表页\n",
       "24       1241         我的收益\n",
       "7        1218      webview\n",
       "28        758          支付页\n",
       "35        727         附近优惠\n",
       "2         542     discount\n",
       "34        520          键盘页\n",
       "36        487        领取小黑卡"
      ]
     },
     "execution_count": 282,
     "metadata": {},
     "output_type": "execute_result"
    }
   ],
   "source": [
    "df_ac_ten"
   ]
  },
  {
   "cell_type": "code",
   "execution_count": null,
   "metadata": {},
   "outputs": [],
   "source": []
  },
  {
   "cell_type": "code",
   "execution_count": null,
   "metadata": {},
   "outputs": [],
   "source": []
  },
  {
   "cell_type": "markdown",
   "metadata": {},
   "source": [
    "开通来源  #first_vip_plan_id"
   ]
  },
  {
   "cell_type": "code",
   "execution_count": 303,
   "metadata": {},
   "outputs": [],
   "source": [
    "dsl_source = {'aggs': {'my_buckets': {'composite': {'size': 9999999,\n",
    "                                       'sources': [{'会员由来': {'terms': {'field': 'first_vip_plan_id'}}}\n",
    "                                                  # {'id': {'terms': {'field': 'id'}}},     \n",
    "                                                  ]}}},\n",
    "                             'query': {'bool': {'must': [{'terms':{'id': active_list}},\n",
    "                            ]}}}\n",
    "es_source = Elasticsearch(['http://172.18.198.27:9200/'], timeout=30)\n",
    "res_source = es_source.search(index='es_user_table', doc_type='user', body=dsl_source,\n",
    "                        _source=False, explain=False, track_scores=False, track_total_hits=False, size=0,\n",
    "                        search_type='query_then_fetch')\n",
    "df_source = json_normalize(res_source['aggregations']['my_buckets']['buckets'])\n",
    "df_source.columns = map(lambda x: x.split('key.')[-1] if x.startswith('key.') else x, list(df_source.columns))"
   ]
  },
  {
   "cell_type": "code",
   "execution_count": 304,
   "metadata": {},
   "outputs": [
    {
     "data": {
      "text/html": [
       "<div>\n",
       "<style scoped>\n",
       "    .dataframe tbody tr th:only-of-type {\n",
       "        vertical-align: middle;\n",
       "    }\n",
       "\n",
       "    .dataframe tbody tr th {\n",
       "        vertical-align: top;\n",
       "    }\n",
       "\n",
       "    .dataframe thead th {\n",
       "        text-align: right;\n",
       "    }\n",
       "</style>\n",
       "<table border=\"1\" class=\"dataframe\">\n",
       "  <thead>\n",
       "    <tr style=\"text-align: right;\">\n",
       "      <th></th>\n",
       "      <th>doc_count</th>\n",
       "      <th>会员由来</th>\n",
       "    </tr>\n",
       "  </thead>\n",
       "  <tbody>\n",
       "    <tr>\n",
       "      <th>0</th>\n",
       "      <td>155</td>\n",
       "      <td>分销渠道</td>\n",
       "    </tr>\n",
       "    <tr>\n",
       "      <th>1</th>\n",
       "      <td>11</td>\n",
       "      <td>原价购买</td>\n",
       "    </tr>\n",
       "  </tbody>\n",
       "</table>\n",
       "</div>"
      ],
      "text/plain": [
       "   doc_count  会员由来\n",
       "0        155  分销渠道\n",
       "1         11  原价购买"
      ]
     },
     "execution_count": 304,
     "metadata": {},
     "output_type": "execute_result"
    }
   ],
   "source": [
    "df_source.head()"
   ]
  },
  {
   "cell_type": "code",
   "execution_count": 305,
   "metadata": {},
   "outputs": [],
   "source": [
    "dsl_source = {'aggs': {'my_buckets': {'composite': {'size': 9999999,\n",
    "                                       'sources': [{'会员由来': {'terms': {'field': 'first_vip_plan_id'}}}\n",
    "                                                  # {'id': {'terms': {'field': 'id'}}},     \n",
    "                                                  ]}}},\n",
    "                             'query': {'bool': {'must': [{'terms':{'id': dead_list}},\n",
    "                            ]}}}\n",
    "es_source = Elasticsearch(['http://172.18.198.27:9200/'], timeout=30)\n",
    "res_source = es_source.search(index='es_user_table', doc_type='user', body=dsl_source,\n",
    "                        _source=False, explain=False, track_scores=False, track_total_hits=False, size=0,\n",
    "                        search_type='query_then_fetch')\n",
    "df_source = json_normalize(res_source['aggregations']['my_buckets']['buckets'])\n",
    "df_source.columns = map(lambda x: x.split('key.')[-1] if x.startswith('key.') else x, list(df_source.columns))"
   ]
  },
  {
   "cell_type": "code",
   "execution_count": 306,
   "metadata": {},
   "outputs": [
    {
     "data": {
      "text/html": [
       "<div>\n",
       "<style scoped>\n",
       "    .dataframe tbody tr th:only-of-type {\n",
       "        vertical-align: middle;\n",
       "    }\n",
       "\n",
       "    .dataframe tbody tr th {\n",
       "        vertical-align: top;\n",
       "    }\n",
       "\n",
       "    .dataframe thead th {\n",
       "        text-align: right;\n",
       "    }\n",
       "</style>\n",
       "<table border=\"1\" class=\"dataframe\">\n",
       "  <thead>\n",
       "    <tr style=\"text-align: right;\">\n",
       "      <th></th>\n",
       "      <th>doc_count</th>\n",
       "      <th>会员由来</th>\n",
       "    </tr>\n",
       "  </thead>\n",
       "  <tbody>\n",
       "    <tr>\n",
       "      <th>0</th>\n",
       "      <td>930</td>\n",
       "      <td>分销渠道</td>\n",
       "    </tr>\n",
       "    <tr>\n",
       "      <th>1</th>\n",
       "      <td>12</td>\n",
       "      <td>前置购买</td>\n",
       "    </tr>\n",
       "    <tr>\n",
       "      <th>2</th>\n",
       "      <td>11</td>\n",
       "      <td>原价购买</td>\n",
       "    </tr>\n",
       "  </tbody>\n",
       "</table>\n",
       "</div>"
      ],
      "text/plain": [
       "   doc_count  会员由来\n",
       "0        930  分销渠道\n",
       "1         12  前置购买\n",
       "2         11  原价购买"
      ]
     },
     "execution_count": 306,
     "metadata": {},
     "output_type": "execute_result"
    }
   ],
   "source": [
    "df_source.head()"
   ]
  },
  {
   "cell_type": "code",
   "execution_count": 370,
   "metadata": {},
   "outputs": [],
   "source": [
    "dsl_de = {'query': {'bool': {'must': \n",
    "                                    [{'range': {'created': {'gte': '2019-05-24', \n",
    "                                                            'lte': '2019-05-30', \n",
    "                                                            'format': 'yyyy-MM-dd', 'time_zone': '+08:00'}}}, \n",
    "                                        {'terms':{'user_id': dead_list}},\n",
    "                                    ]}}, \n",
    "         'aggs': {'my_buckets': {'composite': {'size': 9999999, 'sources': [\n",
    "                                                    #{'日期': {'date_histogram': {'field': 'created', 'interval': '1d', 'time_zone': '+08:00'}}},\n",
    "                                                     {'行为': {'terms': {'field': 'event_name'}}}, \n",
    "                                                                           ]}, \n",
    "                                }}}\n",
    "es_de = Elasticsearch(['http://172.18.198.27:9200/'], timeout=30)\n",
    "res_de = es_de.search(index='shop_pv_event', doc_type='pv_event', body=dsl_de,\n",
    "                _source=False, explain=False, track_scores=False, track_total_hits=False, size=0,\n",
    "                search_type='query_then_fetch')\n",
    "df_de = json_normalize(res_de['aggregations']['my_buckets']['buckets'])\n",
    "df_de.columns = map(lambda x: x.split('key.')[-1] if x.startswith('key.') else x, list(df_de.columns))"
   ]
  },
  {
   "cell_type": "code",
   "execution_count": 371,
   "metadata": {},
   "outputs": [],
   "source": [
    "df_de=df_de.sort_values('doc_count',ascending=False).reset_index()\n",
    "dsl_ac = {'query': {'bool': {'must': \n",
    "                                    [{'range': {'created': {'gte': '2019-05-24', \n",
    "                                                            'lte': '2019-05-30', \n",
    "                                                            'format': 'yyyy-MM-dd', 'time_zone': '+08:00'}}}, \n",
    "                                        {'terms':{'user_id': active_list}},\n",
    "                                    ]}}, \n",
    "         'aggs': {'my_buckets': {'composite': {'size': 9999999, 'sources': [\n",
    "                                                    #{'日期': {'date_histogram': {'field': 'created', 'interval': '1d', 'time_zone': '+08:00'}}},\n",
    "                                                     {'行为': {'terms': {'field': 'event_name'}}}, \n",
    "                                                                           ]}, \n",
    "                                }}}\n",
    "es_ac = Elasticsearch(['http://172.18.198.27:9200/'], timeout=30)\n",
    "res_ac = es_ac.search(index='shop_pv_event', doc_type='pv_event', body=dsl_ac,\n",
    "                _source=False, explain=False, track_scores=False, track_total_hits=False, size=0,\n",
    "                search_type='query_then_fetch')\n",
    "df_ac = json_normalize(res_ac['aggregations']['my_buckets']['buckets'])\n",
    "df_ac.columns = map(lambda x: x.split('key.')[-1] if x.startswith('key.') else x, list(df_ac.columns))\n",
    "df_ac=df_ac.sort_values('doc_count',ascending=False).reset_index()"
   ]
  },
  {
   "cell_type": "code",
   "execution_count": 372,
   "metadata": {},
   "outputs": [],
   "source": [
    "df_de['doc_count']=df_de['doc_count']/len(dead_list)\n",
    "df_ac['doc_count']=df_ac['doc_count']/len(active_list)\n",
    "df_de=df_de[0:10]\n",
    "df_de['活doc_count']=df_ac['doc_count'][0:10].tolist()\n",
    "df_de['活行为']=df_ac['行为'][0:10].tolist()"
   ]
  },
  {
   "cell_type": "code",
   "execution_count": 373,
   "metadata": {},
   "outputs": [
    {
     "data": {
      "text/html": [
       "<div>\n",
       "<style scoped>\n",
       "    .dataframe tbody tr th:only-of-type {\n",
       "        vertical-align: middle;\n",
       "    }\n",
       "\n",
       "    .dataframe tbody tr th {\n",
       "        vertical-align: top;\n",
       "    }\n",
       "\n",
       "    .dataframe thead th {\n",
       "        text-align: right;\n",
       "    }\n",
       "</style>\n",
       "<table border=\"1\" class=\"dataframe\">\n",
       "  <thead>\n",
       "    <tr style=\"text-align: right;\">\n",
       "      <th></th>\n",
       "      <th>index</th>\n",
       "      <th>doc_count</th>\n",
       "      <th>行为</th>\n",
       "      <th>活doc_count</th>\n",
       "      <th>活行为</th>\n",
       "    </tr>\n",
       "  </thead>\n",
       "  <tbody>\n",
       "    <tr>\n",
       "      <th>0</th>\n",
       "      <td>69</td>\n",
       "      <td>4.803778</td>\n",
       "      <td>获取定位</td>\n",
       "      <td>31.831325</td>\n",
       "      <td>获取定位</td>\n",
       "    </tr>\n",
       "    <tr>\n",
       "      <th>1</th>\n",
       "      <td>16</td>\n",
       "      <td>1.668416</td>\n",
       "      <td>webview</td>\n",
       "      <td>11.487952</td>\n",
       "      <td>商家详情</td>\n",
       "    </tr>\n",
       "    <tr>\n",
       "      <th>2</th>\n",
       "      <td>88</td>\n",
       "      <td>1.545645</td>\n",
       "      <td>首页</td>\n",
       "      <td>11.174699</td>\n",
       "      <td>进入门店详情</td>\n",
       "    </tr>\n",
       "    <tr>\n",
       "      <th>3</th>\n",
       "      <td>61</td>\n",
       "      <td>1.367261</td>\n",
       "      <td>用户站点</td>\n",
       "      <td>9.174699</td>\n",
       "      <td>首页</td>\n",
       "    </tr>\n",
       "    <tr>\n",
       "      <th>4</th>\n",
       "      <td>33</td>\n",
       "      <td>1.323190</td>\n",
       "      <td>商家详情</td>\n",
       "      <td>8.295181</td>\n",
       "      <td>用户站点</td>\n",
       "    </tr>\n",
       "    <tr>\n",
       "      <th>5</th>\n",
       "      <td>80</td>\n",
       "      <td>1.299056</td>\n",
       "      <td>进入门店详情</td>\n",
       "      <td>7.066265</td>\n",
       "      <td>返回</td>\n",
       "    </tr>\n",
       "    <tr>\n",
       "      <th>6</th>\n",
       "      <td>73</td>\n",
       "      <td>0.924449</td>\n",
       "      <td>返回</td>\n",
       "      <td>6.777108</td>\n",
       "      <td>webview</td>\n",
       "    </tr>\n",
       "    <tr>\n",
       "      <th>7</th>\n",
       "      <td>84</td>\n",
       "      <td>0.825813</td>\n",
       "      <td>键盘页</td>\n",
       "      <td>4.566265</td>\n",
       "      <td>查看大图</td>\n",
       "    </tr>\n",
       "    <tr>\n",
       "      <th>8</th>\n",
       "      <td>51</td>\n",
       "      <td>0.688353</td>\n",
       "      <td>支付页</td>\n",
       "      <td>4.343373</td>\n",
       "      <td>我的收益</td>\n",
       "    </tr>\n",
       "    <tr>\n",
       "      <th>9</th>\n",
       "      <td>50</td>\n",
       "      <td>0.648478</td>\n",
       "      <td>支付成功</td>\n",
       "      <td>3.457831</td>\n",
       "      <td>进入分销_button</td>\n",
       "    </tr>\n",
       "  </tbody>\n",
       "</table>\n",
       "</div>"
      ],
      "text/plain": [
       "   index  doc_count       行为  活doc_count          活行为\n",
       "0     69   4.803778     获取定位   31.831325         获取定位\n",
       "1     16   1.668416  webview   11.487952         商家详情\n",
       "2     88   1.545645       首页   11.174699       进入门店详情\n",
       "3     61   1.367261     用户站点    9.174699           首页\n",
       "4     33   1.323190     商家详情    8.295181         用户站点\n",
       "5     80   1.299056   进入门店详情    7.066265           返回\n",
       "6     73   0.924449       返回    6.777108      webview\n",
       "7     84   0.825813      键盘页    4.566265         查看大图\n",
       "8     51   0.688353      支付页    4.343373         我的收益\n",
       "9     50   0.648478     支付成功    3.457831  进入分销_button"
      ]
     },
     "execution_count": 373,
     "metadata": {},
     "output_type": "execute_result"
    }
   ],
   "source": [
    "df_de.head(10)"
   ]
  },
  {
   "cell_type": "code",
   "execution_count": 385,
   "metadata": {},
   "outputs": [],
   "source": [
    "dsl = {'query': {'bool': {'must': \n",
    "                                    [{'range': {'created': {'gte': '2019-05-24', \n",
    "                                                            'lte': '2019-06-06', \n",
    "                                                            'format': 'yyyy-MM-dd', 'time_zone': '+08:00'}}}, \n",
    "                                        {'terms':{'user_id': active_list}},\n",
    "                                        #{'terms':{'user_id': dead_list}},\n",
    "                                        {'terms': {'event_name': ['我的收益']}}\n",
    "                                    ]}}, \n",
    "         'aggs': {'my_buckets': {'composite': {'size': 9999999, 'sources': [\n",
    "                                                    {'日期': {'date_histogram': {'field': 'created', 'interval': '1d', 'time_zone': '+08:00'}}},\n",
    "                                                     #{'行为': {'terms': {'field': 'event_name'}}}, \n",
    "                                                                           ]}, \n",
    "                                }}}\n",
    "es_sy = Elasticsearch(['http://172.18.198.27:9200/'], timeout=30)\n",
    "res_sy = es_sy.search(index='shop_pv_event', doc_type='pv_event', body=dsl,\n",
    "                _source=False, explain=False, track_scores=False, track_total_hits=False, size=0,\n",
    "                search_type='query_then_fetch')\n",
    "df_sy = json_normalize(res_sy['aggregations']['my_buckets']['buckets'])\n",
    "df_sy.columns = map(lambda x: x.split('key.')[-1] if x.startswith('key.') else x, list(df_sy.columns))\n",
    "df_sy['日期'] = df_sy['日期'].apply(to_date)\n",
    "df_sy['日期'] = pd.to_datetime(df_sy['日期'])\n",
    "df_sy['doc_count']=df_sy['doc_count']/len(active_list)"
   ]
  },
  {
   "cell_type": "code",
   "execution_count": 386,
   "metadata": {},
   "outputs": [
    {
     "data": {
      "text/html": [
       "<div>\n",
       "<style scoped>\n",
       "    .dataframe tbody tr th:only-of-type {\n",
       "        vertical-align: middle;\n",
       "    }\n",
       "\n",
       "    .dataframe tbody tr th {\n",
       "        vertical-align: top;\n",
       "    }\n",
       "\n",
       "    .dataframe thead th {\n",
       "        text-align: right;\n",
       "    }\n",
       "</style>\n",
       "<table border=\"1\" class=\"dataframe\">\n",
       "  <thead>\n",
       "    <tr style=\"text-align: right;\">\n",
       "      <th></th>\n",
       "      <th>doc_count</th>\n",
       "      <th>日期</th>\n",
       "      <th>死doc_count</th>\n",
       "    </tr>\n",
       "  </thead>\n",
       "  <tbody>\n",
       "    <tr>\n",
       "      <th>0</th>\n",
       "      <td>1.006024</td>\n",
       "      <td>2019-05-23</td>\n",
       "      <td>0.086044</td>\n",
       "    </tr>\n",
       "    <tr>\n",
       "      <th>1</th>\n",
       "      <td>1.108434</td>\n",
       "      <td>2019-05-24</td>\n",
       "      <td>0.054565</td>\n",
       "    </tr>\n",
       "    <tr>\n",
       "      <th>2</th>\n",
       "      <td>0.722892</td>\n",
       "      <td>2019-05-25</td>\n",
       "      <td>0.031480</td>\n",
       "    </tr>\n",
       "    <tr>\n",
       "      <th>3</th>\n",
       "      <td>0.512048</td>\n",
       "      <td>2019-05-26</td>\n",
       "      <td>0.023085</td>\n",
       "    </tr>\n",
       "    <tr>\n",
       "      <th>4</th>\n",
       "      <td>0.500000</td>\n",
       "      <td>2019-05-27</td>\n",
       "      <td>0.013641</td>\n",
       "    </tr>\n",
       "  </tbody>\n",
       "</table>\n",
       "</div>"
      ],
      "text/plain": [
       "   doc_count         日期  死doc_count\n",
       "0   1.006024 2019-05-23    0.086044\n",
       "1   1.108434 2019-05-24    0.054565\n",
       "2   0.722892 2019-05-25    0.031480\n",
       "3   0.512048 2019-05-26    0.023085\n",
       "4   0.500000 2019-05-27    0.013641"
      ]
     },
     "execution_count": 386,
     "metadata": {},
     "output_type": "execute_result"
    }
   ],
   "source": [
    "dsl = {'query': {'bool': {'must': \n",
    "                                    [{'range': {'created': {'gte': '2019-05-24', \n",
    "                                                            'lte': '2019-06-06', \n",
    "                                                            'format': 'yyyy-MM-dd', 'time_zone': '+08:00'}}}, \n",
    "                                        #{'terms':{'user_id': active_list}},\n",
    "                                        {'terms':{'user_id': dead_list}},\n",
    "                                        {'terms': {'event_name': ['我的收益']}}\n",
    "                                    ]}}, \n",
    "         'aggs': {'my_buckets': {'composite': {'size': 9999999, 'sources': [\n",
    "                                                    {'日期': {'date_histogram': {'field': 'created', 'interval': '1d', 'time_zone': '+08:00'}}},\n",
    "                                                     #{'行为': {'terms': {'field': 'event_name'}}}, \n",
    "                                                                           ]}, \n",
    "                                }}}\n",
    "es_sy2 = Elasticsearch(['http://172.18.198.27:9200/'], timeout=30)\n",
    "res_sy2 = es_sy2.search(index='shop_pv_event', doc_type='pv_event', body=dsl,\n",
    "                _source=False, explain=False, track_scores=False, track_total_hits=False, size=0,\n",
    "                search_type='query_then_fetch')\n",
    "df_sy2 = json_normalize(res_sy2['aggregations']['my_buckets']['buckets'])\n",
    "df_sy2.columns = map(lambda x: x.split('key.')[-1] if x.startswith('key.') else x, list(df_sy2.columns))\n",
    "df_sy2['日期'] = df_sy2['日期'].apply(to_date)\n",
    "df_sy2['日期'] = pd.to_datetime(df_sy2['日期'])\n",
    "df_sy2['doc_count']=df_sy2['doc_count']/len(dead_list)\n",
    "df_sy['死doc_count']=df_sy2['doc_count']\n",
    "df_sy.head()"
   ]
  },
  {
   "cell_type": "code",
   "execution_count": 387,
   "metadata": {},
   "outputs": [
    {
     "data": {
      "text/plain": [
       "(array([737202., 737204., 737206., 737208., 737210., 737211., 737213.,\n",
       "        737215.]), <a list of 8 Text xticklabel objects>)"
      ]
     },
     "execution_count": 387,
     "metadata": {},
     "output_type": "execute_result"
    },
    {
     "data": {
      "image/png": "[encoded data removed]",
      "text/plain": [
       "<Figure size 432x288 with 1 Axes>"
      ]
     },
     "metadata": {},
     "output_type": "display_data"
    }
   ],
   "source": [
    "#我的收益 点击率\n",
    "plt.plot(df_sy['日期'],df_sy['doc_count'],'r-',\n",
    "         df_sy['日期'],df_sy['死doc_count'],'b-')\n",
    "plt.xticks(rotation='60')"
   ]
  },
  {
   "cell_type": "code",
   "execution_count": 394,
   "metadata": {},
   "outputs": [],
   "source": [
    "dsl = {\n",
    "                'query': {'bool': {'must': [\n",
    "                                            {'range': {'paytime': {'gte': '2019-05-24', \n",
    "                                                                   'lte': '2019-06-06', \n",
    "                                                                   'format': 'yyyy-MM-dd', 'time_zone': '+08:00'}}}, \n",
    "                                            {'terms':{'user_id': dead_list}},\n",
    "                                            #{'terms':{'user_id': dead_list}},\n",
    "                                            {'query_string': {'query': 'skutotal_price != 0'}},\n",
    "                                            {'terms': {'order_status': ['confirmed',\n",
    "                                                                        'done',\n",
    "                                                                        'fulfilled']}},\n",
    "                                            ]}},\n",
    "                \"aggs\": {\n",
    "                    \"my_buckets\": {\n",
    "                        \"composite\": {\n",
    "                            'size': 9999999,\n",
    "                            \"sources\": [{'日期': {'date_histogram': {'field': 'paytime', 'interval': '1d', 'time_zone': '+00:00'}}}\n",
    "                                ]}} }}\n",
    "es_order = Elasticsearch(['http://172.18.198.27:9200/'], timeout=30)\n",
    "res_order = es_order.search(index='es_order_table', doc_type='order', body=dsl,\n",
    "                        _source=False, explain=False, track_scores=False, track_total_hits=False, size=0,\n",
    "                        search_type='query_then_fetch')\n",
    "df_order = json_normalize(res_order['aggregations']['my_buckets']['buckets'])\n",
    "df_order.columns = map(lambda x: x.split('key.')[-1] if x.startswith('key.') else x, list(df_order.columns))\n",
    "df_order['日期'] = df_order['日期'].apply(to_date)\n",
    "df_order['日期'] = pd.to_datetime(df_order['日期'])\n",
    "df_order['doc_count']=df_order['doc_count']/len(dead_list)"
   ]
  },
  {
   "cell_type": "code",
   "execution_count": 395,
   "metadata": {},
   "outputs": [
    {
     "data": {
      "text/html": [
       "<div>\n",
       "<style scoped>\n",
       "    .dataframe tbody tr th:only-of-type {\n",
       "        vertical-align: middle;\n",
       "    }\n",
       "\n",
       "    .dataframe tbody tr th {\n",
       "        vertical-align: top;\n",
       "    }\n",
       "\n",
       "    .dataframe thead th {\n",
       "        text-align: right;\n",
       "    }\n",
       "</style>\n",
       "<table border=\"1\" class=\"dataframe\">\n",
       "  <thead>\n",
       "    <tr style=\"text-align: right;\">\n",
       "      <th></th>\n",
       "      <th>doc_count</th>\n",
       "      <th>日期</th>\n",
       "      <th>活doc_count</th>\n",
       "    </tr>\n",
       "  </thead>\n",
       "  <tbody>\n",
       "    <tr>\n",
       "      <th>0</th>\n",
       "      <td>0.266527</td>\n",
       "      <td>2019-05-23</td>\n",
       "      <td>1.530120</td>\n",
       "    </tr>\n",
       "    <tr>\n",
       "      <th>1</th>\n",
       "      <td>0.163694</td>\n",
       "      <td>2019-05-24</td>\n",
       "      <td>0.939759</td>\n",
       "    </tr>\n",
       "    <tr>\n",
       "      <th>2</th>\n",
       "      <td>0.103882</td>\n",
       "      <td>2019-05-25</td>\n",
       "      <td>0.596386</td>\n",
       "    </tr>\n",
       "    <tr>\n",
       "      <th>3</th>\n",
       "      <td>0.093389</td>\n",
       "      <td>2019-05-26</td>\n",
       "      <td>0.536145</td>\n",
       "    </tr>\n",
       "    <tr>\n",
       "      <th>4</th>\n",
       "      <td>0.103882</td>\n",
       "      <td>2019-05-27</td>\n",
       "      <td>0.596386</td>\n",
       "    </tr>\n",
       "  </tbody>\n",
       "</table>\n",
       "</div>"
      ],
      "text/plain": [
       "   doc_count         日期  活doc_count\n",
       "0   0.266527 2019-05-23    1.530120\n",
       "1   0.163694 2019-05-24    0.939759\n",
       "2   0.103882 2019-05-25    0.596386\n",
       "3   0.093389 2019-05-26    0.536145\n",
       "4   0.103882 2019-05-27    0.596386"
      ]
     },
     "execution_count": 395,
     "metadata": {},
     "output_type": "execute_result"
    }
   ],
   "source": [
    "dsl = {\n",
    "                'query': {'bool': {'must': [\n",
    "                                            {'range': {'paytime': {'gte': '2019-05-24', \n",
    "                                                                   'lte': '2019-06-06', \n",
    "                                                                   'format': 'yyyy-MM-dd', 'time_zone': '+08:00'}}}, \n",
    "                                            #{'terms':{'user_id': dead_list}},\n",
    "                                            {'terms':{'user_id': dead_list}},\n",
    "                                            {'query_string': {'query': 'skutotal_price != 0'}},\n",
    "                                            {'terms': {'order_status': ['confirmed',\n",
    "                                                                        'done',\n",
    "                                                                        'fulfilled']}},\n",
    "                                            ]}},\n",
    "                \"aggs\": {\n",
    "                    \"my_buckets\": {\n",
    "                        \"composite\": {\n",
    "                            'size': 9999999,\n",
    "                            \"sources\": [{'日期': {'date_histogram': {'field': 'paytime', 'interval': '1d', 'time_zone': '+00:00'}}}\n",
    "                                ]}} }}\n",
    "es_order2 = Elasticsearch(['http://172.18.198.27:9200/'], timeout=30)\n",
    "res_order2 = es_order2.search(index='es_order_table', doc_type='order', body=dsl,\n",
    "                        _source=False, explain=False, track_scores=False, track_total_hits=False, size=0,\n",
    "                        search_type='query_then_fetch')\n",
    "df_order2 = json_normalize(res_order2['aggregations']['my_buckets']['buckets'])\n",
    "df_order2.columns = map(lambda x: x.split('key.')[-1] if x.startswith('key.') else x, list(df_order2.columns))\n",
    "df_order2['日期'] = df_order2['日期'].apply(to_date)\n",
    "df_order2['日期'] = pd.to_datetime(df_order2['日期'])\n",
    "df_order2['doc_count']=df_order2['doc_count']/len(active_list)\n",
    "df_order['活doc_count']=df_order2['doc_count']\n",
    "df_order.head()"
   ]
  },
  {
   "cell_type": "code",
   "execution_count": 398,
   "metadata": {},
   "outputs": [
    {
     "data": {
      "text/plain": [
       "(array([737202., 737204., 737206., 737208., 737210., 737211., 737213.,\n",
       "        737215.]), <a list of 8 Text xticklabel objects>)"
      ]
     },
     "execution_count": 398,
     "metadata": {},
     "output_type": "execute_result"
    },
    {
     "data": {
      "image/png": "[encoded data removed]",
      "text/plain": [
       "<Figure size 432x288 with 1 Axes>"
      ]
     },
     "metadata": {},
     "output_type": "display_data"
    }
   ],
   "source": [
    "#下单率\n",
    "plt.plot(df_order['日期'],df_order['doc_count'],'b-',    #人均订单\n",
    "         df_order['日期'],df_order['活doc_count'],'r-',\n",
    "         df_sy['日期'],df_sy['doc_count'],'r--',      #我的收益点击率\n",
    "         df_sy['日期'],df_sy['死doc_count'],'b--'\n",
    "        )\n",
    "plt.xticks(rotation='60')"
   ]
  },
  {
   "cell_type": "code",
   "execution_count": 417,
   "metadata": {},
   "outputs": [],
   "source": [
    "dsl = {'aggs': {'my_buckets': {'composite': {'size': 9999999,'sources': [\n",
    "                                                   {'id': {'terms': {'field': 'id'}}},\n",
    "                                                 ]}}},\n",
    "      'query': {'bool': {'must': [{'terms':{'user_parent_list':active_list}}\n",
    "                            ]}}}\n",
    "es_market = Elasticsearch(['http://172.18.198.27:9200/'], timeout=30)\n",
    "res_market = es_market.search(index='es_user_table', doc_type='user', body=dsl,\n",
    "                        _source=False, explain=False, track_scores=False, track_total_hits=False, size=0,\n",
    "                        search_type='query_then_fetch')\n",
    "df_market = json_normalize(res_market['aggregations']['my_buckets']['buckets'])\n",
    "df_market.columns = map(lambda x: x.split('key.')[-1] if x.startswith('key.') else x, list(df_market.columns))"
   ]
  },
  {
   "cell_type": "code",
   "execution_count": 422,
   "metadata": {},
   "outputs": [
    {
     "data": {
      "text/plain": [
       "8.168674698795181"
      ]
     },
     "execution_count": 422,
     "metadata": {},
     "output_type": "execute_result"
    }
   ],
   "source": [
    "df_market['id'].nunique()/len(active_list)"
   ]
  },
  {
   "cell_type": "code",
   "execution_count": 418,
   "metadata": {},
   "outputs": [],
   "source": [
    "dsl = {'aggs': {'my_buckets': {'composite': {'size': 9999999,'sources': [\n",
    "                                                   {'id': {'terms': {'field': 'id'}}},\n",
    "                                                 ]}}},\n",
    "      'query': {'bool': {'must': [{'terms':{'user_parent_list':dead_list}}\n",
    "                            ]}}}\n",
    "es_market2 = Elasticsearch(['http://172.18.198.27:9200/'], timeout=30)\n",
    "res_market2 = es_market2.search(index='es_user_table', doc_type='user', body=dsl,\n",
    "                        _source=False, explain=False, track_scores=False, track_total_hits=False, size=0,\n",
    "                        search_type='query_then_fetch')\n",
    "df_market2 = json_normalize(res_market2['aggregations']['my_buckets']['buckets'])\n",
    "df_market2.columns = map(lambda x: x.split('key.')[-1] if x.startswith('key.') else x, list(df_market2.columns))"
   ]
  },
  {
   "cell_type": "code",
   "execution_count": 423,
   "metadata": {},
   "outputs": [
    {
     "data": {
      "text/plain": [
       "0.4438614900314795"
      ]
     },
     "execution_count": 423,
     "metadata": {},
     "output_type": "execute_result"
    }
   ],
   "source": [
    "df_market2['id'].nunique()/len(dead_list)"
   ]
  },
  {
   "cell_type": "code",
   "execution_count": 472,
   "metadata": {},
   "outputs": [
    {
     "data": {
      "text/html": [
       "<div>\n",
       "<style scoped>\n",
       "    .dataframe tbody tr th:only-of-type {\n",
       "        vertical-align: middle;\n",
       "    }\n",
       "\n",
       "    .dataframe tbody tr th {\n",
       "        vertical-align: top;\n",
       "    }\n",
       "\n",
       "    .dataframe thead th {\n",
       "        text-align: right;\n",
       "    }\n",
       "</style>\n",
       "<table border=\"1\" class=\"dataframe\">\n",
       "  <thead>\n",
       "    <tr style=\"text-align: right;\">\n",
       "      <th></th>\n",
       "      <th>场景</th>\n",
       "      <th>百分比</th>\n",
       "    </tr>\n",
       "  </thead>\n",
       "  <tbody>\n",
       "    <tr>\n",
       "      <th>1089</th>\n",
       "      <td>121</td>\n",
       "      <td>0.728916</td>\n",
       "    </tr>\n",
       "    <tr>\n",
       "      <th>1011</th>\n",
       "      <td>91</td>\n",
       "      <td>0.548193</td>\n",
       "    </tr>\n",
       "    <tr>\n",
       "      <th>1047</th>\n",
       "      <td>72</td>\n",
       "      <td>0.433735</td>\n",
       "    </tr>\n",
       "    <tr>\n",
       "      <th>1048</th>\n",
       "      <td>55</td>\n",
       "      <td>0.331325</td>\n",
       "    </tr>\n",
       "    <tr>\n",
       "      <th>1014</th>\n",
       "      <td>54</td>\n",
       "      <td>0.325301</td>\n",
       "    </tr>\n",
       "    <tr>\n",
       "      <th>1001</th>\n",
       "      <td>53</td>\n",
       "      <td>0.319277</td>\n",
       "    </tr>\n",
       "    <tr>\n",
       "      <th>1007</th>\n",
       "      <td>41</td>\n",
       "      <td>0.246988</td>\n",
       "    </tr>\n",
       "    <tr>\n",
       "      <th>1008</th>\n",
       "      <td>36</td>\n",
       "      <td>0.216867</td>\n",
       "    </tr>\n",
       "    <tr>\n",
       "      <th>1027</th>\n",
       "      <td>19</td>\n",
       "      <td>0.114458</td>\n",
       "    </tr>\n",
       "    <tr>\n",
       "      <th></th>\n",
       "      <td>11</td>\n",
       "      <td>0.066265</td>\n",
       "    </tr>\n",
       "    <tr>\n",
       "      <th>1012</th>\n",
       "      <td>5</td>\n",
       "      <td>0.030120</td>\n",
       "    </tr>\n",
       "    <tr>\n",
       "      <th>1005</th>\n",
       "      <td>4</td>\n",
       "      <td>0.024096</td>\n",
       "    </tr>\n",
       "    <tr>\n",
       "      <th>1023</th>\n",
       "      <td>4</td>\n",
       "      <td>0.024096</td>\n",
       "    </tr>\n",
       "    <tr>\n",
       "      <th>1024</th>\n",
       "      <td>4</td>\n",
       "      <td>0.024096</td>\n",
       "    </tr>\n",
       "    <tr>\n",
       "      <th>1106</th>\n",
       "      <td>3</td>\n",
       "      <td>0.018072</td>\n",
       "    </tr>\n",
       "    <tr>\n",
       "      <th>1000</th>\n",
       "      <td>2</td>\n",
       "      <td>0.012048</td>\n",
       "    </tr>\n",
       "    <tr>\n",
       "      <th>1035</th>\n",
       "      <td>1</td>\n",
       "      <td>0.006024</td>\n",
       "    </tr>\n",
       "    <tr>\n",
       "      <th>1096</th>\n",
       "      <td>1</td>\n",
       "      <td>0.006024</td>\n",
       "    </tr>\n",
       "    <tr>\n",
       "      <th>1013</th>\n",
       "      <td>1</td>\n",
       "      <td>0.006024</td>\n",
       "    </tr>\n",
       "    <tr>\n",
       "      <th>1006</th>\n",
       "      <td>1</td>\n",
       "      <td>0.006024</td>\n",
       "    </tr>\n",
       "  </tbody>\n",
       "</table>\n",
       "</div>"
      ],
      "text/plain": [
       "       场景       百分比\n",
       "1089  121  0.728916\n",
       "1011   91  0.548193\n",
       "1047   72  0.433735\n",
       "1048   55  0.331325\n",
       "1014   54  0.325301\n",
       "1001   53  0.319277\n",
       "1007   41  0.246988\n",
       "1008   36  0.216867\n",
       "1027   19  0.114458\n",
       "       11  0.066265\n",
       "1012    5  0.030120\n",
       "1005    4  0.024096\n",
       "1023    4  0.024096\n",
       "1024    4  0.024096\n",
       "1106    3  0.018072\n",
       "1000    2  0.012048\n",
       "1035    1  0.006024\n",
       "1096    1  0.006024\n",
       "1013    1  0.006024\n",
       "1006    1  0.006024"
      ]
     },
     "execution_count": 472,
     "metadata": {},
     "output_type": "execute_result"
    }
   ],
   "source": [
    "dsl = {'query': {'bool': {'must': \n",
    "                                    [#{'range': {'created': {'gte': '2019-05-24', \n",
    "                                     #                       'lte': '2019-06-06', \n",
    "                                     #                       'format': 'yyyy-MM-dd', 'time_zone': '+08:00'}}}, \n",
    "                                        {'terms':{'user_id': active_list}},\n",
    "                                        #{'terms':{'user_id': dead_list}},\n",
    "                                        #{'terms': {'event_name': ['我的收益']}}\n",
    "                                    ]}}, \n",
    "         'aggs': {'my_buckets': {'composite': {'size': 9999999, 'sources': [{'人': {'terms': {'field': 'user_id'}}},\n",
    "                                                   {'场景': {'terms': {'field': 'session_scene'}}},\n",
    "                                                    \n",
    "                                                                           ]}, \n",
    "                                }}}\n",
    "es_fx = Elasticsearch(['http://172.18.198.27:9200/'], timeout=30)\n",
    "res_fx = es_fx.search(index='shop_pv_event', doc_type='pv_event', body=dsl,\n",
    "                _source=False, explain=False, track_scores=False, track_total_hits=False, size=0,\n",
    "                search_type='query_then_fetch')\n",
    "df_fx = json_normalize(res_fx['aggregations']['my_buckets']['buckets'])\n",
    "df_fx.columns = map(lambda x: x.split('key.')[-1] if x.startswith('key.') else x, list(df_fx.columns))\n",
    "df_active_list=df_fx['场景'].value_counts()\n",
    "df_form_active=pd.DataFrame(df_active_list)\n",
    "df_form_active.head()\n",
    "active_per=df_form_active['场景']/len(active_list)\n",
    "df_form_active['百分比']=active_per\n",
    "df_form_active"
   ]
  },
  {
   "cell_type": "code",
   "execution_count": 473,
   "metadata": {},
   "outputs": [
    {
     "data": {
      "text/html": [
       "<div>\n",
       "<style scoped>\n",
       "    .dataframe tbody tr th:only-of-type {\n",
       "        vertical-align: middle;\n",
       "    }\n",
       "\n",
       "    .dataframe tbody tr th {\n",
       "        vertical-align: top;\n",
       "    }\n",
       "\n",
       "    .dataframe thead th {\n",
       "        text-align: right;\n",
       "    }\n",
       "</style>\n",
       "<table border=\"1\" class=\"dataframe\">\n",
       "  <thead>\n",
       "    <tr style=\"text-align: right;\">\n",
       "      <th></th>\n",
       "      <th>场景</th>\n",
       "      <th>百分比</th>\n",
       "    </tr>\n",
       "  </thead>\n",
       "  <tbody>\n",
       "    <tr>\n",
       "      <th>1047</th>\n",
       "      <td>507</td>\n",
       "      <td>0.532004</td>\n",
       "    </tr>\n",
       "    <tr>\n",
       "      <th>1011</th>\n",
       "      <td>439</td>\n",
       "      <td>0.460651</td>\n",
       "    </tr>\n",
       "    <tr>\n",
       "      <th>1089</th>\n",
       "      <td>402</td>\n",
       "      <td>0.421826</td>\n",
       "    </tr>\n",
       "    <tr>\n",
       "      <th>1048</th>\n",
       "      <td>242</td>\n",
       "      <td>0.253935</td>\n",
       "    </tr>\n",
       "    <tr>\n",
       "      <th>1014</th>\n",
       "      <td>181</td>\n",
       "      <td>0.189927</td>\n",
       "    </tr>\n",
       "    <tr>\n",
       "      <th>1001</th>\n",
       "      <td>175</td>\n",
       "      <td>0.183631</td>\n",
       "    </tr>\n",
       "    <tr>\n",
       "      <th>1007</th>\n",
       "      <td>151</td>\n",
       "      <td>0.158447</td>\n",
       "    </tr>\n",
       "    <tr>\n",
       "      <th>1008</th>\n",
       "      <td>88</td>\n",
       "      <td>0.092340</td>\n",
       "    </tr>\n",
       "    <tr>\n",
       "      <th>1027</th>\n",
       "      <td>75</td>\n",
       "      <td>0.078699</td>\n",
       "    </tr>\n",
       "    <tr>\n",
       "      <th></th>\n",
       "      <td>68</td>\n",
       "      <td>0.071354</td>\n",
       "    </tr>\n",
       "    <tr>\n",
       "      <th>1058</th>\n",
       "      <td>20</td>\n",
       "      <td>0.020986</td>\n",
       "    </tr>\n",
       "    <tr>\n",
       "      <th>1024</th>\n",
       "      <td>14</td>\n",
       "      <td>0.014690</td>\n",
       "    </tr>\n",
       "    <tr>\n",
       "      <th>1049</th>\n",
       "      <td>3</td>\n",
       "      <td>0.003148</td>\n",
       "    </tr>\n",
       "    <tr>\n",
       "      <th>1023</th>\n",
       "      <td>3</td>\n",
       "      <td>0.003148</td>\n",
       "    </tr>\n",
       "    <tr>\n",
       "      <th>1118</th>\n",
       "      <td>2</td>\n",
       "      <td>0.002099</td>\n",
       "    </tr>\n",
       "    <tr>\n",
       "      <th>1035</th>\n",
       "      <td>2</td>\n",
       "      <td>0.002099</td>\n",
       "    </tr>\n",
       "    <tr>\n",
       "      <th>1006</th>\n",
       "      <td>1</td>\n",
       "      <td>0.001049</td>\n",
       "    </tr>\n",
       "    <tr>\n",
       "      <th>1000</th>\n",
       "      <td>1</td>\n",
       "      <td>0.001049</td>\n",
       "    </tr>\n",
       "    <tr>\n",
       "      <th>1106</th>\n",
       "      <td>1</td>\n",
       "      <td>0.001049</td>\n",
       "    </tr>\n",
       "    <tr>\n",
       "      <th>1012</th>\n",
       "      <td>1</td>\n",
       "      <td>0.001049</td>\n",
       "    </tr>\n",
       "    <tr>\n",
       "      <th>1090</th>\n",
       "      <td>1</td>\n",
       "      <td>0.001049</td>\n",
       "    </tr>\n",
       "    <tr>\n",
       "      <th>1005</th>\n",
       "      <td>1</td>\n",
       "      <td>0.001049</td>\n",
       "    </tr>\n",
       "  </tbody>\n",
       "</table>\n",
       "</div>"
      ],
      "text/plain": [
       "       场景       百分比\n",
       "1047  507  0.532004\n",
       "1011  439  0.460651\n",
       "1089  402  0.421826\n",
       "1048  242  0.253935\n",
       "1014  181  0.189927\n",
       "1001  175  0.183631\n",
       "1007  151  0.158447\n",
       "1008   88  0.092340\n",
       "1027   75  0.078699\n",
       "       68  0.071354\n",
       "1058   20  0.020986\n",
       "1024   14  0.014690\n",
       "1049    3  0.003148\n",
       "1023    3  0.003148\n",
       "1118    2  0.002099\n",
       "1035    2  0.002099\n",
       "1006    1  0.001049\n",
       "1000    1  0.001049\n",
       "1106    1  0.001049\n",
       "1012    1  0.001049\n",
       "1090    1  0.001049\n",
       "1005    1  0.001049"
      ]
     },
     "execution_count": 473,
     "metadata": {},
     "output_type": "execute_result"
    }
   ],
   "source": [
    "dsl = {'query': {'bool': {'must': \n",
    "                                    [#{'range': {'created': {'gte': '2019-05-24', \n",
    "                                     #                       'lte': '2019-06-06', \n",
    "                                     #                       'format': 'yyyy-MM-dd', 'time_zone': '+08:00'}}}, \n",
    "                                        #{'terms':{'user_id': active_list}},\n",
    "                                        {'terms':{'user_id': dead_list}},\n",
    "                                        #{'terms': {'event_name': ['我的收益']}}\n",
    "                                    ]}}, \n",
    "         'aggs': {'my_buckets': {'composite': {'size': 9999999, 'sources': [{'人': {'terms': {'field': 'user_id'}}},\n",
    "                                                   {'场景': {'terms': {'field': 'session_scene'}}},\n",
    "                                                     ]}, \n",
    "                                }}}\n",
    "es_fx = Elasticsearch(['http://172.18.198.27:9200/'], timeout=30)\n",
    "res_fx = es_fx.search(index='shop_pv_event', doc_type='pv_event', body=dsl,\n",
    "                _source=False, explain=False, track_scores=False, track_total_hits=False, size=0,\n",
    "                search_type='query_then_fetch')\n",
    "df_fx = json_normalize(res_fx['aggregations']['my_buckets']['buckets'])\n",
    "df_fx.columns = map(lambda x: x.split('key.')[-1] if x.startswith('key.') else x, list(df_fx.columns))\n",
    "df_dead_list=df_fx['场景'].value_counts()\n",
    "pd.DataFrame(df_dead_list).to_csv('死亡用户场景.csv')\n",
    "df_form_dead=pd.DataFrame(df_dead_list)\n",
    "dead_per=df_form_dead['场景']/len(dead_list)\n",
    "df_form_dead['百分比']=dead_per\n",
    "df_form_dead"
   ]
  },
  {
   "cell_type": "code",
   "execution_count": 459,
   "metadata": {},
   "outputs": [],
   "source": []
  },
  {
   "cell_type": "code",
   "execution_count": null,
   "metadata": {},
   "outputs": [],
   "source": []
  }
 ],
 "metadata": {
  "kernelspec": {
   "display_name": "Python 3",
   "language": "python",
   "name": "python3"
  },
  "language_info": {
   "codemirror_mode": {
    "name": "ipython",
    "version": 3
   },
   "file_extension": ".py",
   "mimetype": "text/x-python",
   "name": "python",
   "nbconvert_exporter": "python",
   "pygments_lexer": "ipython3",
   "version": "3.6.6"
  }
 },
 "nbformat": 4,
 "nbformat_minor": 2
}
