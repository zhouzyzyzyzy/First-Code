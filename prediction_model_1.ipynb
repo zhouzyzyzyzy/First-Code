{
 "cells": [
  {
   "cell_type": "code",
   "execution_count": 309,
   "metadata": {},
   "outputs": [],
   "source": [
    "import requests\n",
    "import datetime\n",
    "from elasticsearch import Elasticsearch\n",
    "from pandas.io.json import json_normalize\n",
    "import pandas as pd\n",
    "import numpy as np\n",
    "import progressbar\n",
    "import matplotlib.pyplot as plt\n",
    "import seaborn as sns; sns.set()\n",
    "import math\n",
    "def to_date(s):\n",
    "    dt = datetime.datetime.utcfromtimestamp(s / 1e3)\n",
    "    return dt.strftime(\"%Y-%m-%d\")\n",
    "def get_visit_list(s):\n",
    "    data={}\n",
    "    data['visit_list'] = s['用户ID'].tolist()\n",
    "    return pd.Series(data)\n",
    "def get_buy_rate(s):\n",
    "    data={}\n",
    "    data['buy_list'] = s['会员ID'].tolist()\n",
    "    return pd.Series(data)\n",
    "\n",
    "def user_rebuy_plot(date,visit_times):\n",
    "    dsl = {'aggs': {'my_buckets': {'composite': {'size': 9999999,\n",
    "                                       'sources': [\n",
    "                                                   {'id': {'terms': {'field': 'id'}}},\n",
    "\n",
    "                                                  ]}}},\n",
    "                 'query': {'bool': {'must': [{'range': {'first_vip_created': {'format': 'yyyy-MM-dd',\n",
    "                                                              'gte': date,\n",
    "                                                              'lte': date,\n",
    "                                                              'time_zone': '+00:00'}}}]}}}\n",
    "    es = Elasticsearch(['http://172.18.198.27:9200/'], timeout=30)\n",
    "    res = es.search(index='es_user_table', doc_type='user', body=dsl,\n",
    "                        _source=False, explain=False, track_scores=False, track_total_hits=False, size=0,\n",
    "                        search_type='query_then_fetch')\n",
    "    df1 = json_normalize(res['aggregations']['my_buckets']['buckets'])\n",
    "    df1.columns = map(lambda x: x.split('key.')[-1] if x.startswith('key.') else x, list(df1.columns))\n",
    "    \n",
    "    dsl11 = {\n",
    "        'aggs': {'my_buckets': {'aggregations': {'打开(Visitor)': {'cardinality': {'field': 'session_id', 'precision_threshold': 100}}},\n",
    "                         'composite': {'size': 9999999,\n",
    "                                       'sources': [{\"用户ID\": {\"terms\": {\"field\": 'user_id'}}},\n",
    "                                       ]}}},\n",
    "         'query': {'bool': {'must': [{'range': {'created': {'format': 'yyyy-MM-dd',\n",
    "                                                    'gte': str(datetime.datetime.strptime(date,'%Y-%m-%d')+datetime.timedelta(days=1))[:10],\n",
    "                                                    'lte': str(datetime.datetime.strptime(date,'%Y-%m-%d')+datetime.timedelta(days=7))[:10],\n",
    "                                                    'time_zone': '+08:00'}}},\n",
    "                             {'terms': {'app_name': ['vip-mini']}},\n",
    "                             {'terms': {'user_id': df1['id'].tolist()}},\n",
    "                        ]}}}\n",
    "    es11 = Elasticsearch(['http://172.18.198.27:9200/'], timeout=30)\n",
    "    res11 = es11.search(index='shop_pv_event', doc_type='pv_event', body=dsl11,\n",
    "                    _source=False, explain=False, track_scores=False, track_total_hits=False, size=0,\n",
    "                    search_type='query_then_fetch')\n",
    "    df11 = json_normalize(res11['aggregations']['my_buckets']['buckets'])\n",
    "    df11.columns = map(lambda x: x.split('key.')[-1] if x.startswith('key.') else x, list(df11.columns))\n",
    "                                                      \n",
    "    active_list = []\n",
    "    for i in range(len(df11)):\n",
    "        if df11.iloc[i]['打开(Visitor).value']>=visit_times:                                          ####访问次数调整\n",
    "            active_list.append(df11.iloc[i]['用户ID'])\n",
    "        \n",
    "    dead_list = list(set(df1['id'].tolist())-set(active_list))\n",
    "    \n",
    "    return dead_list\n",
    "\n",
    "def get_order_list(s):\n",
    "    data={}\n",
    "    data['order_list'] = s['用户ID'].tolist()\n",
    "    return pd.Series(data)\n",
    "\n",
    "\n",
    "def number_and_list(date, split_number,visit_times):\n",
    "    dead_list = user_rebuy_plot(date,visit_times)\n",
    "    dsl_list = {\n",
    "                'query': {'bool': {'must': [\n",
    "                                            {'terms': {'user_id': dead_list}},\n",
    "                                            {'terms': {'order_status': ['confirmed',\n",
    "                                                                        'done',\n",
    "                                                                        'fulfilled']}},\n",
    "                                            {'range': {'paytime': {'format': 'yyyy-MM-dd',\n",
    "                                                              'gte': date,\n",
    "                                                              'lte': str(datetime.datetime.strptime(date,'%Y-%m-%d')+datetime.timedelta(days=7))[:10],\n",
    "                                                              'time_zone': '+00:00'}}},\n",
    "                                            ]}},\n",
    "                \"aggs\": {\n",
    "                    \"my_buckets\": {\n",
    "                        \"composite\": {\n",
    "                            'size': 9999999,\n",
    "                            \"sources\": [{\"用户ID\": {\"terms\": {\"field\": 'user_id'}}},\n",
    "                                #{\"单价\": {\"terms\": {\"field\": 'skutotal_price'}}}\n",
    "                                ]}}}}\n",
    "    es_list = Elasticsearch(['http://172.18.198.27:9200/'], timeout=30)\n",
    "    res_list = es_list.search(index='es_order_table', doc_type='order', body=dsl_list,\n",
    "                            _source=False, explain=False, track_scores=False, track_total_hits=False, size=0,\n",
    "                            search_type='query_then_fetch')\n",
    "    df_list = json_normalize(res_list['aggregations']['my_buckets']['buckets'])\n",
    "    df_list.columns = map(lambda x: x.split('key.')[-1] if x.startswith('key.') else x, list(df_list.columns))\n",
    "    \n",
    "    target_user_list_c=[]\n",
    "    for i in range(len(df_list)):\n",
    "        if df_list.iloc[i]['doc_count'] > split_number:                           \n",
    "            target_user_list_c.append(df_list.iloc[i]['用户ID'])\n",
    "        #else:\n",
    "        #    continue\n",
    "    \n",
    "    target_user_list = list(set(dead_list)-set(target_user_list_c))\n",
    "    \n",
    "    return target_user_list"
   ]
  },
  {
   "cell_type": "code",
   "execution_count": 117,
   "metadata": {},
   "outputs": [],
   "source": [
    "date = '2019-05-31'\n",
    "user_red_list,date_index_list,length=[],[],[]\n",
    "for i in range(10):\n",
    "    date_index=str(datetime.datetime.strptime(date,'%Y-%m-%d')+datetime.timedelta(days=i))[:10]\n",
    "    date_index_list.append(date_index)\n",
    "    length.append(len(number_and_list(date_index, 1,3)))\n",
    "    user_red_list.append(number_and_list(date_index, 1,3))\n",
    "    \n",
    "val = {'date_index':date_index_list,'人数':length,'user_red':user_red_list}\n",
    "red_list=pd.DataFrame(val)"
   ]
  },
  {
   "cell_type": "code",
   "execution_count": 118,
   "metadata": {},
   "outputs": [
    {
     "data": {
      "text/html": [
       "<div>\n",
       "<style scoped>\n",
       "    .dataframe tbody tr th:only-of-type {\n",
       "        vertical-align: middle;\n",
       "    }\n",
       "\n",
       "    .dataframe tbody tr th {\n",
       "        vertical-align: top;\n",
       "    }\n",
       "\n",
       "    .dataframe thead th {\n",
       "        text-align: right;\n",
       "    }\n",
       "</style>\n",
       "<table border=\"1\" class=\"dataframe\">\n",
       "  <thead>\n",
       "    <tr style=\"text-align: right;\">\n",
       "      <th></th>\n",
       "      <th>date_index</th>\n",
       "      <th>人数</th>\n",
       "      <th>user_red</th>\n",
       "    </tr>\n",
       "  </thead>\n",
       "  <tbody>\n",
       "    <tr>\n",
       "      <th>0</th>\n",
       "      <td>2019-05-31</td>\n",
       "      <td>1686</td>\n",
       "      <td>[851968, 851969, 851972, 696327, 851977, 85198...</td>\n",
       "    </tr>\n",
       "    <tr>\n",
       "      <th>1</th>\n",
       "      <td>2019-06-01</td>\n",
       "      <td>1701</td>\n",
       "      <td>[860160, 860164, 856073, 860173, 860176, 85608...</td>\n",
       "    </tr>\n",
       "    <tr>\n",
       "      <th>2</th>\n",
       "      <td>2019-06-02</td>\n",
       "      <td>1376</td>\n",
       "      <td>[864264, 864270, 598044, 860240, 860242, 86025...</td>\n",
       "    </tr>\n",
       "    <tr>\n",
       "      <th>3</th>\n",
       "      <td>2019-06-03</td>\n",
       "      <td>1265</td>\n",
       "      <td>[647176, 864273, 864274, 864275, 864276, 86427...</td>\n",
       "    </tr>\n",
       "    <tr>\n",
       "      <th>4</th>\n",
       "      <td>2019-06-04</td>\n",
       "      <td>1274</td>\n",
       "      <td>[868352, 868356, 868360, 868361, 868363, 86836...</td>\n",
       "    </tr>\n",
       "  </tbody>\n",
       "</table>\n",
       "</div>"
      ],
      "text/plain": [
       "   date_index    人数                                           user_red\n",
       "0  2019-05-31  1686  [851968, 851969, 851972, 696327, 851977, 85198...\n",
       "1  2019-06-01  1701  [860160, 860164, 856073, 860173, 860176, 85608...\n",
       "2  2019-06-02  1376  [864264, 864270, 598044, 860240, 860242, 86025...\n",
       "3  2019-06-03  1265  [647176, 864273, 864274, 864275, 864276, 86427...\n",
       "4  2019-06-04  1274  [868352, 868356, 868360, 868361, 868363, 86836..."
      ]
     },
     "execution_count": 118,
     "metadata": {},
     "output_type": "execute_result"
    }
   ],
   "source": [
    "red_list.head()"
   ]
  },
  {
   "cell_type": "markdown",
   "metadata": {},
   "source": [
    "多项式回归"
   ]
  },
  {
   "cell_type": "code",
   "execution_count": 275,
   "metadata": {},
   "outputs": [],
   "source": [
    "date = '2019-05-31'\n",
    "people_list=number_and_list(date, 1,3)\n",
    "dsl ={'aggs': {'my_buckets': {'aggregations': {},\n",
    "                             'composite': {'size': 9999999,\n",
    "                                           'sources': [{'日期': {'date_histogram': {'field': 'paytime',\n",
    "                                                                                  'interval': '1d',\n",
    "                                                                                  'time_zone': '+00:00'}}},\n",
    "                                                       {'会员ID':{'terms':{'field':'user_id'}}},\n",
    "                                                       ]}}},\n",
    "     'query': {'bool': {'must': [{'range': {'paytime': {'gte': date, \n",
    "                                                        'lte': str(datetime.datetime.strptime(date,'%Y-%m-%d')+datetime.timedelta(days=7))[:10], \n",
    "                                                         'format': 'yyyy-MM-dd', 'time_zone': '+00:00'}}}, \n",
    "                                 {'terms':{'user_id': people_list}},\n",
    "                                 {'terms': {'order_status': ['done',\n",
    "                                                             'fulfilled',\n",
    "                                                             'confirmed']}}]\n",
    "                       }}}\n",
    "es = Elasticsearch(['http://172.18.198.27:9200/'], timeout=30)\n",
    "res = es.search(index='es_order_table', doc_type='order', body=dsl,\n",
    "                                _source=False, explain=False, track_scores=False, track_total_hits=False, size=0,\n",
    "                                search_type='query_then_fetch')\n",
    "df = json_normalize(res['aggregations']['my_buckets']['buckets'])\n",
    "df.columns = map(lambda x: x.split('key.')[-1] if x.startswith('key.') else x, list(df.columns))\n",
    "df['日期'] = df['日期'].apply(to_date)\n",
    "\n",
    "df_date=df.groupby('日期').apply(get_buy_rate)"
   ]
  },
  {
   "cell_type": "code",
   "execution_count": 276,
   "metadata": {},
   "outputs": [],
   "source": [
    "for i in range(len(df_date)-1):\n",
    "    if str(datetime.datetime.strptime(df_date.index[i],'%Y-%m-%d')+datetime.timedelta(days=1))[:10] not in df_date.index:\n",
    "        df_date.loc[str(datetime.datetime.strptime(df_date.index[i],'%Y-%m-%d')+datetime.timedelta(days=1))[:10]]= [[]]\n",
    "df_date=df_date.reset_index()\n",
    "df_date=df_date.sort_values(by=['日期'])"
   ]
  },
  {
   "cell_type": "code",
   "execution_count": 277,
   "metadata": {},
   "outputs": [],
   "source": [
    "df_date=df_date.reset_index()"
   ]
  },
  {
   "cell_type": "code",
   "execution_count": 278,
   "metadata": {},
   "outputs": [
    {
     "data": {
      "text/html": [
       "<div>\n",
       "<style scoped>\n",
       "    .dataframe tbody tr th:only-of-type {\n",
       "        vertical-align: middle;\n",
       "    }\n",
       "\n",
       "    .dataframe tbody tr th {\n",
       "        vertical-align: top;\n",
       "    }\n",
       "\n",
       "    .dataframe thead th {\n",
       "        text-align: right;\n",
       "    }\n",
       "</style>\n",
       "<table border=\"1\" class=\"dataframe\">\n",
       "  <thead>\n",
       "    <tr style=\"text-align: right;\">\n",
       "      <th></th>\n",
       "      <th>index</th>\n",
       "      <th>日期</th>\n",
       "      <th>buy_list</th>\n",
       "    </tr>\n",
       "  </thead>\n",
       "  <tbody>\n",
       "    <tr>\n",
       "      <th>0</th>\n",
       "      <td>0</td>\n",
       "      <td>2019-05-31</td>\n",
       "      <td>[285573, 309289, 339761, 429083, 433373, 43562...</td>\n",
       "    </tr>\n",
       "    <tr>\n",
       "      <th>1</th>\n",
       "      <td>1</td>\n",
       "      <td>2019-06-01</td>\n",
       "      <td>[389402, 661612, 850721, 852073, 853622, 85372...</td>\n",
       "    </tr>\n",
       "    <tr>\n",
       "      <th>2</th>\n",
       "      <td>2</td>\n",
       "      <td>2019-06-02</td>\n",
       "      <td>[565081, 683807, 716061, 851495, 851633, 85171...</td>\n",
       "    </tr>\n",
       "    <tr>\n",
       "      <th>3</th>\n",
       "      <td>3</td>\n",
       "      <td>2019-06-03</td>\n",
       "      <td>[541620, 851621, 851868, 851870, 851918, 85203...</td>\n",
       "    </tr>\n",
       "    <tr>\n",
       "      <th>4</th>\n",
       "      <td>4</td>\n",
       "      <td>2019-06-04</td>\n",
       "      <td>[851652, 851915]</td>\n",
       "    </tr>\n",
       "    <tr>\n",
       "      <th>5</th>\n",
       "      <td>5</td>\n",
       "      <td>2019-06-05</td>\n",
       "      <td>[850765, 851011, 852857]</td>\n",
       "    </tr>\n",
       "    <tr>\n",
       "      <th>6</th>\n",
       "      <td>6</td>\n",
       "      <td>2019-06-06</td>\n",
       "      <td>[522967, 850548, 851010, 851274, 853711]</td>\n",
       "    </tr>\n",
       "    <tr>\n",
       "      <th>7</th>\n",
       "      <td>7</td>\n",
       "      <td>2019-06-07</td>\n",
       "      <td>[735788, 852024, 852822, 853710]</td>\n",
       "    </tr>\n",
       "  </tbody>\n",
       "</table>\n",
       "</div>"
      ],
      "text/plain": [
       "   index          日期                                           buy_list\n",
       "0      0  2019-05-31  [285573, 309289, 339761, 429083, 433373, 43562...\n",
       "1      1  2019-06-01  [389402, 661612, 850721, 852073, 853622, 85372...\n",
       "2      2  2019-06-02  [565081, 683807, 716061, 851495, 851633, 85171...\n",
       "3      3  2019-06-03  [541620, 851621, 851868, 851870, 851918, 85203...\n",
       "4      4  2019-06-04                                   [851652, 851915]\n",
       "5      5  2019-06-05                           [850765, 851011, 852857]\n",
       "6      6  2019-06-06           [522967, 850548, 851010, 851274, 853711]\n",
       "7      7  2019-06-07                   [735788, 852024, 852822, 853710]"
      ]
     },
     "execution_count": 278,
     "metadata": {},
     "output_type": "execute_result"
    }
   ],
   "source": [
    "df_date"
   ]
  },
  {
   "cell_type": "code",
   "execution_count": 279,
   "metadata": {},
   "outputs": [],
   "source": [
    "df_date=df_date.drop(['index'],axis=1)"
   ]
  },
  {
   "cell_type": "code",
   "execution_count": 280,
   "metadata": {},
   "outputs": [
    {
     "data": {
      "text/html": [
       "<div>\n",
       "<style scoped>\n",
       "    .dataframe tbody tr th:only-of-type {\n",
       "        vertical-align: middle;\n",
       "    }\n",
       "\n",
       "    .dataframe tbody tr th {\n",
       "        vertical-align: top;\n",
       "    }\n",
       "\n",
       "    .dataframe thead th {\n",
       "        text-align: right;\n",
       "    }\n",
       "</style>\n",
       "<table border=\"1\" class=\"dataframe\">\n",
       "  <thead>\n",
       "    <tr style=\"text-align: right;\">\n",
       "      <th></th>\n",
       "      <th>日期</th>\n",
       "      <th>buy_list</th>\n",
       "    </tr>\n",
       "  </thead>\n",
       "  <tbody>\n",
       "    <tr>\n",
       "      <th>0</th>\n",
       "      <td>2019-05-31</td>\n",
       "      <td>[285573, 309289, 339761, 429083, 433373, 43562...</td>\n",
       "    </tr>\n",
       "    <tr>\n",
       "      <th>1</th>\n",
       "      <td>2019-06-01</td>\n",
       "      <td>[389402, 661612, 850721, 852073, 853622, 85372...</td>\n",
       "    </tr>\n",
       "    <tr>\n",
       "      <th>2</th>\n",
       "      <td>2019-06-02</td>\n",
       "      <td>[565081, 683807, 716061, 851495, 851633, 85171...</td>\n",
       "    </tr>\n",
       "    <tr>\n",
       "      <th>3</th>\n",
       "      <td>2019-06-03</td>\n",
       "      <td>[541620, 851621, 851868, 851870, 851918, 85203...</td>\n",
       "    </tr>\n",
       "    <tr>\n",
       "      <th>4</th>\n",
       "      <td>2019-06-04</td>\n",
       "      <td>[851652, 851915]</td>\n",
       "    </tr>\n",
       "    <tr>\n",
       "      <th>5</th>\n",
       "      <td>2019-06-05</td>\n",
       "      <td>[850765, 851011, 852857]</td>\n",
       "    </tr>\n",
       "    <tr>\n",
       "      <th>6</th>\n",
       "      <td>2019-06-06</td>\n",
       "      <td>[522967, 850548, 851010, 851274, 853711]</td>\n",
       "    </tr>\n",
       "    <tr>\n",
       "      <th>7</th>\n",
       "      <td>2019-06-07</td>\n",
       "      <td>[735788, 852024, 852822, 853710]</td>\n",
       "    </tr>\n",
       "  </tbody>\n",
       "</table>\n",
       "</div>"
      ],
      "text/plain": [
       "           日期                                           buy_list\n",
       "0  2019-05-31  [285573, 309289, 339761, 429083, 433373, 43562...\n",
       "1  2019-06-01  [389402, 661612, 850721, 852073, 853622, 85372...\n",
       "2  2019-06-02  [565081, 683807, 716061, 851495, 851633, 85171...\n",
       "3  2019-06-03  [541620, 851621, 851868, 851870, 851918, 85203...\n",
       "4  2019-06-04                                   [851652, 851915]\n",
       "5  2019-06-05                           [850765, 851011, 852857]\n",
       "6  2019-06-06           [522967, 850548, 851010, 851274, 853711]\n",
       "7  2019-06-07                   [735788, 852024, 852822, 853710]"
      ]
     },
     "execution_count": 280,
     "metadata": {},
     "output_type": "execute_result"
    }
   ],
   "source": [
    "df_date"
   ]
  },
  {
   "cell_type": "code",
   "execution_count": 303,
   "metadata": {},
   "outputs": [],
   "source": [
    "number,percentage=[],[]\n",
    "for i in range(len(df_date)):\n",
    "    number.append(len(df_date.iloc[i]['buy_list']))\n",
    "    percentage.append(len(df_date.iloc[i]['buy_list'])/len(red_list.iloc[0]['user_red']))\n",
    "df_date['人数']=number\n",
    "df_date['百分比']=percentage"
   ]
  },
  {
   "cell_type": "code",
   "execution_count": 304,
   "metadata": {},
   "outputs": [
    {
     "data": {
      "text/html": [
       "<div>\n",
       "<style scoped>\n",
       "    .dataframe tbody tr th:only-of-type {\n",
       "        vertical-align: middle;\n",
       "    }\n",
       "\n",
       "    .dataframe tbody tr th {\n",
       "        vertical-align: top;\n",
       "    }\n",
       "\n",
       "    .dataframe thead th {\n",
       "        text-align: right;\n",
       "    }\n",
       "</style>\n",
       "<table border=\"1\" class=\"dataframe\">\n",
       "  <thead>\n",
       "    <tr style=\"text-align: right;\">\n",
       "      <th></th>\n",
       "      <th>日期</th>\n",
       "      <th>buy_list</th>\n",
       "      <th>人数</th>\n",
       "      <th>百分比</th>\n",
       "    </tr>\n",
       "  </thead>\n",
       "  <tbody>\n",
       "    <tr>\n",
       "      <th>0</th>\n",
       "      <td>2019-05-31</td>\n",
       "      <td>[285573, 309289, 339761, 429083, 433373, 43562...</td>\n",
       "      <td>801</td>\n",
       "      <td>0.475089</td>\n",
       "    </tr>\n",
       "    <tr>\n",
       "      <th>1</th>\n",
       "      <td>2019-06-01</td>\n",
       "      <td>[389402, 661612, 850721, 852073, 853622, 85372...</td>\n",
       "      <td>7</td>\n",
       "      <td>0.004152</td>\n",
       "    </tr>\n",
       "    <tr>\n",
       "      <th>2</th>\n",
       "      <td>2019-06-02</td>\n",
       "      <td>[565081, 683807, 716061, 851495, 851633, 85171...</td>\n",
       "      <td>8</td>\n",
       "      <td>0.004745</td>\n",
       "    </tr>\n",
       "    <tr>\n",
       "      <th>3</th>\n",
       "      <td>2019-06-03</td>\n",
       "      <td>[541620, 851621, 851868, 851870, 851918, 85203...</td>\n",
       "      <td>10</td>\n",
       "      <td>0.005931</td>\n",
       "    </tr>\n",
       "    <tr>\n",
       "      <th>4</th>\n",
       "      <td>2019-06-04</td>\n",
       "      <td>[851652, 851915]</td>\n",
       "      <td>2</td>\n",
       "      <td>0.001186</td>\n",
       "    </tr>\n",
       "    <tr>\n",
       "      <th>5</th>\n",
       "      <td>2019-06-05</td>\n",
       "      <td>[850765, 851011, 852857]</td>\n",
       "      <td>3</td>\n",
       "      <td>0.001779</td>\n",
       "    </tr>\n",
       "    <tr>\n",
       "      <th>6</th>\n",
       "      <td>2019-06-06</td>\n",
       "      <td>[522967, 850548, 851010, 851274, 853711]</td>\n",
       "      <td>5</td>\n",
       "      <td>0.002966</td>\n",
       "    </tr>\n",
       "    <tr>\n",
       "      <th>7</th>\n",
       "      <td>2019-06-07</td>\n",
       "      <td>[735788, 852024, 852822, 853710]</td>\n",
       "      <td>4</td>\n",
       "      <td>0.002372</td>\n",
       "    </tr>\n",
       "  </tbody>\n",
       "</table>\n",
       "</div>"
      ],
      "text/plain": [
       "           日期                                           buy_list   人数  \\\n",
       "0  2019-05-31  [285573, 309289, 339761, 429083, 433373, 43562...  801   \n",
       "1  2019-06-01  [389402, 661612, 850721, 852073, 853622, 85372...    7   \n",
       "2  2019-06-02  [565081, 683807, 716061, 851495, 851633, 85171...    8   \n",
       "3  2019-06-03  [541620, 851621, 851868, 851870, 851918, 85203...   10   \n",
       "4  2019-06-04                                   [851652, 851915]    2   \n",
       "5  2019-06-05                           [850765, 851011, 852857]    3   \n",
       "6  2019-06-06           [522967, 850548, 851010, 851274, 853711]    5   \n",
       "7  2019-06-07                   [735788, 852024, 852822, 853710]    4   \n",
       "\n",
       "        百分比  \n",
       "0  0.475089  \n",
       "1  0.004152  \n",
       "2  0.004745  \n",
       "3  0.005931  \n",
       "4  0.001186  \n",
       "5  0.001779  \n",
       "6  0.002966  \n",
       "7  0.002372  "
      ]
     },
     "execution_count": 304,
     "metadata": {},
     "output_type": "execute_result"
    }
   ],
   "source": [
    "df_date"
   ]
  },
  {
   "cell_type": "code",
   "execution_count": 316,
   "metadata": {},
   "outputs": [
    {
     "data": {
      "text/plain": [
       "array([-0.0067264 ,  0.08663725, -0.32947432,  0.34767077])"
      ]
     },
     "execution_count": 316,
     "metadata": {},
     "output_type": "execute_result"
    }
   ],
   "source": [
    "coeff = np.polyfit(df_date.index,np.log1p(df_date['百分比']),3)\n",
    "coeff"
   ]
  },
  {
   "cell_type": "code",
   "execution_count": 317,
   "metadata": {},
   "outputs": [
    {
     "data": {
      "text/plain": [
       "-4.345844269420185"
      ]
     },
     "execution_count": 317,
     "metadata": {},
     "output_type": "execute_result"
    }
   ],
   "source": [
    "day=df_date.index[-1]+1\n",
    "value=coeff[0]*day**3+coeff[1]*day*2+coeff[2]*day**1+coeff[3]*day**0\n",
    "value"
   ]
  },
  {
   "cell_type": "code",
   "execution_count": 319,
   "metadata": {},
   "outputs": [
    {
     "name": "stderr",
     "output_type": "stream",
     "text": [
      "/usr/local/lib/python3.6/site-packages/ipykernel_launcher.py:5: DeprecationWarning: object of type <class 'float'> cannot be safely interpreted as an integer.\n",
      "  \"\"\"\n"
     ]
    }
   ],
   "source": [
    "start=0 #输入需要绘制的起始值（从左到右）\n",
    "stop=8 #输入需要绘制的终点值\n",
    "step=0.1#输入步长\n",
    "num=(stop-start)/step #计算点的个数\n",
    "x = np.linspace(start,stop,num)\n",
    "y = math.e**(coeff[0]*x**3+coeff[1]*x*2+coeff[2]*x**1+coeff[3]*x**0)-1"
   ]
  },
  {
   "cell_type": "code",
   "execution_count": 320,
   "metadata": {},
   "outputs": [
    {
     "data": {
      "text/plain": [
       "[<matplotlib.lines.Line2D at 0x7f70f4df0e48>]"
      ]
     },
     "execution_count": 320,
     "metadata": {},
     "output_type": "execute_result"
    },
    {
     "data": {
      "image/png": "[encoded data removed]",
      "text/plain": [
       "<Figure size 1440x720 with 1 Axes>"
      ]
     },
     "metadata": {},
     "output_type": "display_data"
    }
   ],
   "source": [
    "f,ax = plt.subplots(figsize = (20,10))\n",
    "plt.scatter(df_date.index,df_date['百分比'])\n",
    "plt.plot(x,y)"
   ]
  },
  {
   "cell_type": "markdown",
   "metadata": {},
   "source": [
    "留存率曲线拟合"
   ]
  },
  {
   "cell_type": "code",
   "execution_count": null,
   "metadata": {},
   "outputs": [],
   "source": []
  }
 ],
 "metadata": {
  "kernelspec": {
   "display_name": "Python 3",
   "language": "python",
   "name": "python3"
  },
  "language_info": {
   "codemirror_mode": {
    "name": "ipython",
    "version": 3
   },
   "file_extension": ".py",
   "mimetype": "text/x-python",
   "name": "python",
   "nbconvert_exporter": "python",
   "pygments_lexer": "ipython3",
   "version": "3.6.6"
  }
 },
 "nbformat": 4,
 "nbformat_minor": 2
}
