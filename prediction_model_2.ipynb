{
 "cells": [
  {
   "cell_type": "code",
   "execution_count": 1,
   "metadata": {},
   "outputs": [],
   "source": [
    "import requests\n",
    "import datetime\n",
    "from elasticsearch import Elasticsearch\n",
    "from pandas.io.json import json_normalize\n",
    "import pandas as pd\n",
    "import numpy as np\n",
    "import progressbar\n",
    "import matplotlib.pyplot as plt\n",
    "import seaborn as sns; sns.set()\n",
    "\n",
    "from scipy.optimize import leastsq\n",
    "\n",
    "import pylab as pl\n",
    "import math"
   ]
  },
  {
   "cell_type": "code",
   "execution_count": 28,
   "metadata": {},
   "outputs": [],
   "source": [
    "def to_date(s):\n",
    "    dt = datetime.datetime.utcfromtimestamp(s / 1e3)\n",
    "    return dt.strftime(\"%Y-%m-%d\")\n",
    "def get_visit_list(s):\n",
    "    data={}\n",
    "    data['visit_list'] = s['用户ID'].tolist()\n",
    "    return pd.Series(data)\n",
    "def get_buy_rate(s):\n",
    "    data={}\n",
    "    data['buy_list'] = s['会员ID'].tolist()\n",
    "    return pd.Series(data)\n",
    "def get_vip_list(s):\n",
    "    data={}\n",
    "    data['vip_list'] = s['id'].tolist()\n",
    "    return pd.Series(data)\n",
    "def func(x,p):#函数\n",
    "    A,B=p\n",
    "    return A*np.log(x)+B\n",
    "\n",
    "def residuals(p,y,x):#残差\n",
    "    ret =y-func(x,p)\n",
    "    return ret\n"
   ]
  },
  {
   "cell_type": "code",
   "execution_count": 11,
   "metadata": {},
   "outputs": [],
   "source": [
    "date = '2019-06-03'\n",
    "dsl = {'aggs': {'my_buckets': {'composite': {'size': 9999999,\n",
    "                                       'sources': [\n",
    "                                                   {'id': {'terms': {'field': 'id'}}},\n",
    "\n",
    "                                                  ]}}},\n",
    "                 'query': {'bool': {'must': [{'range': {'first_vip_created': {'format': 'yyyy-MM-dd',\n",
    "                                                              'gte': date,\n",
    "                                                              'lte': date,\n",
    "                                                              'time_zone': '+00:00'}}}]}}}\n",
    "es = Elasticsearch(['http://172.18.198.27:9200/'], timeout=30)\n",
    "res = es.search(index='es_user_table', doc_type='user', body=dsl,\n",
    "                        _source=False, explain=False, track_scores=False, track_total_hits=False, size=0,\n",
    "                        search_type='query_then_fetch')\n",
    "df1 = json_normalize(res['aggregations']['my_buckets']['buckets'])\n",
    "df1.columns = map(lambda x: x.split('key.')[-1] if x.startswith('key.') else x, list(df1.columns))\n",
    "new_member_list=df1['id'].tolist()"
   ]
  },
  {
   "cell_type": "code",
   "execution_count": 12,
   "metadata": {},
   "outputs": [],
   "source": [
    "dsl ={'aggs': {'my_buckets': {'aggregations': {},\n",
    "                             'composite': {'size': 9999999,\n",
    "                                           'sources': [{'日期': {'date_histogram': {'field': 'paytime',\n",
    "                                                                                  'interval': '1d',\n",
    "                                                                                  'time_zone': '+00:00'}}},\n",
    "                                                       {'会员ID':{'terms':{'field':'user_id'}}},\n",
    "                                                       ]}}},\n",
    "     'query': {'bool': {'must': [{'range': {'paytime': {'gte': str(datetime.datetime.strptime(date,'%Y-%m-%d')+datetime.timedelta(days=1))[:10], \n",
    "                                                        'lte': str(datetime.datetime.strptime(date,'%Y-%m-%d')+datetime.timedelta(days=7))[:10], \n",
    "                                                         'format': 'yyyy-MM-dd', 'time_zone': '+00:00'}}}, \n",
    "                                 {'terms':{'user_id': new_member_list}},\n",
    "                                 {'terms': {'order_status': ['done',\n",
    "                                                             'fulfilled',\n",
    "                                                             'confirmed']}}]\n",
    "                       }}}\n",
    "es = Elasticsearch(['http://172.18.198.27:9200/'], timeout=30)\n",
    "res = es.search(index='es_order_table', doc_type='order', body=dsl,\n",
    "                                _source=False, explain=False, track_scores=False, track_total_hits=False, size=0,\n",
    "                                search_type='query_then_fetch')\n",
    "df = json_normalize(res['aggregations']['my_buckets']['buckets'])\n",
    "df.columns = map(lambda x: x.split('key.')[-1] if x.startswith('key.') else x, list(df.columns))\n",
    "df['日期'] = df['日期'].apply(to_date)\n",
    "\n",
    "df_date=df.groupby('日期').apply(get_buy_rate)"
   ]
  },
  {
   "cell_type": "code",
   "execution_count": 13,
   "metadata": {},
   "outputs": [
    {
     "data": {
      "text/html": [
       "<div>\n",
       "<style scoped>\n",
       "    .dataframe tbody tr th:only-of-type {\n",
       "        vertical-align: middle;\n",
       "    }\n",
       "\n",
       "    .dataframe tbody tr th {\n",
       "        vertical-align: top;\n",
       "    }\n",
       "\n",
       "    .dataframe thead th {\n",
       "        text-align: right;\n",
       "    }\n",
       "</style>\n",
       "<table border=\"1\" class=\"dataframe\">\n",
       "  <thead>\n",
       "    <tr style=\"text-align: right;\">\n",
       "      <th></th>\n",
       "      <th>buy_list</th>\n",
       "    </tr>\n",
       "    <tr>\n",
       "      <th>日期</th>\n",
       "      <th></th>\n",
       "    </tr>\n",
       "  </thead>\n",
       "  <tbody>\n",
       "    <tr>\n",
       "      <th>2019-06-04</th>\n",
       "      <td>[561602, 609065, 634628, 690584, 787990, 80951...</td>\n",
       "    </tr>\n",
       "    <tr>\n",
       "      <th>2019-06-05</th>\n",
       "      <td>[245397, 326659, 391584, 468331, 497092, 60906...</td>\n",
       "    </tr>\n",
       "    <tr>\n",
       "      <th>2019-06-06</th>\n",
       "      <td>[493785, 497092, 690584, 793954, 799404, 82767...</td>\n",
       "    </tr>\n",
       "    <tr>\n",
       "      <th>2019-06-07</th>\n",
       "      <td>[326659, 391584, 493785, 584609, 690584, 69176...</td>\n",
       "    </tr>\n",
       "    <tr>\n",
       "      <th>2019-06-08</th>\n",
       "      <td>[342443, 572517, 584609, 609065, 690584, 73896...</td>\n",
       "    </tr>\n",
       "    <tr>\n",
       "      <th>2019-06-09</th>\n",
       "      <td>[609065, 690584, 794419, 799404, 809511, 84971...</td>\n",
       "    </tr>\n",
       "    <tr>\n",
       "      <th>2019-06-10</th>\n",
       "      <td>[493785, 561602, 634628, 690584, 787990, 85169...</td>\n",
       "    </tr>\n",
       "  </tbody>\n",
       "</table>\n",
       "</div>"
      ],
      "text/plain": [
       "                                                     buy_list\n",
       "日期                                                           \n",
       "2019-06-04  [561602, 609065, 634628, 690584, 787990, 80951...\n",
       "2019-06-05  [245397, 326659, 391584, 468331, 497092, 60906...\n",
       "2019-06-06  [493785, 497092, 690584, 793954, 799404, 82767...\n",
       "2019-06-07  [326659, 391584, 493785, 584609, 690584, 69176...\n",
       "2019-06-08  [342443, 572517, 584609, 609065, 690584, 73896...\n",
       "2019-06-09  [609065, 690584, 794419, 799404, 809511, 84971...\n",
       "2019-06-10  [493785, 561602, 634628, 690584, 787990, 85169..."
      ]
     },
     "execution_count": 13,
     "metadata": {},
     "output_type": "execute_result"
    }
   ],
   "source": [
    "df_date"
   ]
  },
  {
   "cell_type": "code",
   "execution_count": 14,
   "metadata": {},
   "outputs": [],
   "source": [
    "number,percentage=[],[]\n",
    "for i in range(len(df_date)):\n",
    "    number.append(len(df_date.iloc[i]['buy_list']))\n",
    "    percentage.append(len(df_date.iloc[i]['buy_list'])/len(new_member_list))\n",
    "df_date['人数']=number\n",
    "df_date['百分比']=percentage"
   ]
  },
  {
   "cell_type": "code",
   "execution_count": 15,
   "metadata": {},
   "outputs": [
    {
     "data": {
      "text/html": [
       "<div>\n",
       "<style scoped>\n",
       "    .dataframe tbody tr th:only-of-type {\n",
       "        vertical-align: middle;\n",
       "    }\n",
       "\n",
       "    .dataframe tbody tr th {\n",
       "        vertical-align: top;\n",
       "    }\n",
       "\n",
       "    .dataframe thead th {\n",
       "        text-align: right;\n",
       "    }\n",
       "</style>\n",
       "<table border=\"1\" class=\"dataframe\">\n",
       "  <thead>\n",
       "    <tr style=\"text-align: right;\">\n",
       "      <th></th>\n",
       "      <th>buy_list</th>\n",
       "      <th>人数</th>\n",
       "      <th>百分比</th>\n",
       "    </tr>\n",
       "    <tr>\n",
       "      <th>日期</th>\n",
       "      <th></th>\n",
       "      <th></th>\n",
       "      <th></th>\n",
       "    </tr>\n",
       "  </thead>\n",
       "  <tbody>\n",
       "    <tr>\n",
       "      <th>2019-06-04</th>\n",
       "      <td>[561602, 609065, 634628, 690584, 787990, 80951...</td>\n",
       "      <td>46</td>\n",
       "      <td>0.029431</td>\n",
       "    </tr>\n",
       "    <tr>\n",
       "      <th>2019-06-05</th>\n",
       "      <td>[245397, 326659, 391584, 468331, 497092, 60906...</td>\n",
       "      <td>53</td>\n",
       "      <td>0.033909</td>\n",
       "    </tr>\n",
       "    <tr>\n",
       "      <th>2019-06-06</th>\n",
       "      <td>[493785, 497092, 690584, 793954, 799404, 82767...</td>\n",
       "      <td>32</td>\n",
       "      <td>0.020473</td>\n",
       "    </tr>\n",
       "    <tr>\n",
       "      <th>2019-06-07</th>\n",
       "      <td>[326659, 391584, 493785, 584609, 690584, 69176...</td>\n",
       "      <td>20</td>\n",
       "      <td>0.012796</td>\n",
       "    </tr>\n",
       "    <tr>\n",
       "      <th>2019-06-08</th>\n",
       "      <td>[342443, 572517, 584609, 609065, 690584, 73896...</td>\n",
       "      <td>34</td>\n",
       "      <td>0.021753</td>\n",
       "    </tr>\n",
       "    <tr>\n",
       "      <th>2019-06-09</th>\n",
       "      <td>[609065, 690584, 794419, 799404, 809511, 84971...</td>\n",
       "      <td>27</td>\n",
       "      <td>0.017274</td>\n",
       "    </tr>\n",
       "    <tr>\n",
       "      <th>2019-06-10</th>\n",
       "      <td>[493785, 561602, 634628, 690584, 787990, 85169...</td>\n",
       "      <td>25</td>\n",
       "      <td>0.015995</td>\n",
       "    </tr>\n",
       "  </tbody>\n",
       "</table>\n",
       "</div>"
      ],
      "text/plain": [
       "                                                     buy_list  人数       百分比\n",
       "日期                                                                         \n",
       "2019-06-04  [561602, 609065, 634628, 690584, 787990, 80951...  46  0.029431\n",
       "2019-06-05  [245397, 326659, 391584, 468331, 497092, 60906...  53  0.033909\n",
       "2019-06-06  [493785, 497092, 690584, 793954, 799404, 82767...  32  0.020473\n",
       "2019-06-07  [326659, 391584, 493785, 584609, 690584, 69176...  20  0.012796\n",
       "2019-06-08  [342443, 572517, 584609, 609065, 690584, 73896...  34  0.021753\n",
       "2019-06-09  [609065, 690584, 794419, 799404, 809511, 84971...  27  0.017274\n",
       "2019-06-10  [493785, 561602, 634628, 690584, 787990, 85169...  25  0.015995"
      ]
     },
     "execution_count": 15,
     "metadata": {},
     "output_type": "execute_result"
    }
   ],
   "source": [
    "df_date"
   ]
  },
  {
   "cell_type": "code",
   "execution_count": 17,
   "metadata": {},
   "outputs": [
    {
     "data": {
      "text/plain": [
       "[<matplotlib.lines.Line2D at 0x7f93405a3668>]"
      ]
     },
     "execution_count": 17,
     "metadata": {},
     "output_type": "execute_result"
    },
    {
     "data": {
      "image/png": "[encoded data removed]",
      "text/plain": [
       "<Figure size 432x288 with 1 Axes>"
      ]
     },
     "metadata": {},
     "output_type": "display_data"
    }
   ],
   "source": [
    "plt.plot(df_date['人数'])"
   ]
  },
  {
   "cell_type": "code",
   "execution_count": 18,
   "metadata": {},
   "outputs": [
    {
     "data": {
      "text/plain": [
       "[<matplotlib.lines.Line2D at 0x7f933e445898>]"
      ]
     },
     "execution_count": 18,
     "metadata": {},
     "output_type": "execute_result"
    },
    {
     "data": {
      "image/png": "[encoded data removed]",
      "text/plain": [
       "<Figure size 432x288 with 1 Axes>"
      ]
     },
     "metadata": {},
     "output_type": "display_data"
    }
   ],
   "source": [
    "#list_number=[]\n",
    "#for i in np.log10(df_date['人数']).tolist():\n",
    "#    list_number.append(np.log10(i))\n",
    "#plt.plot(list_number)"
   ]
  },
  {
   "cell_type": "code",
   "execution_count": 32,
   "metadata": {},
   "outputs": [
    {
     "data": {
      "text/plain": [
       "[<matplotlib.lines.Line2D at 0x7f933e24cb00>]"
      ]
     },
     "execution_count": 32,
     "metadata": {},
     "output_type": "execute_result"
    },
    {
     "data": {
      "image/png": "[encoded data removed]",
      "text/plain": [
       "<Figure size 432x288 with 1 Axes>"
      ]
     },
     "metadata": {},
     "output_type": "display_data"
    }
   ],
   "source": [
    "x3=np.linspace(1,8,1000) #用于画图精度的调节\n",
    "x0=[1,2,3,4,5,6,7] #x变量,\n",
    "x2=np.array(x0) #向量化x变量\n",
    "y0=df_date['人数'].tolist()  #y\n",
    "#y0=np.log10(df_date['人数']).tolist() #y\n",
    "y2=np.array(y0)#向量化\n",
    "p0=[1,50]#取值起始点\n",
    " \n",
    " \n",
    "qs=leastsq(residuals,p0,args=(y2,x2)) #最小二乘法\n",
    "#print (qs[0])      #为最佳的拟合函数参数\n",
    "\n",
    "pl.plot(x0,y0,label='Real',color='red') #画出实际图像\n",
    "pl.plot(x3,func(x3,qs[0]),label='sim',color='blue') #预测图像"
   ]
  },
  {
   "cell_type": "code",
   "execution_count": 21,
   "metadata": {},
   "outputs": [
    {
     "data": {
      "text/plain": [
       "array([-13.24633838,  49.98959602])"
      ]
     },
     "execution_count": 21,
     "metadata": {},
     "output_type": "execute_result"
    }
   ],
   "source": [
    "qs[0]"
   ]
  },
  {
   "cell_type": "code",
   "execution_count": 23,
   "metadata": {},
   "outputs": [
    {
     "data": {
      "text/plain": [
       "20.884415774681898"
      ]
     },
     "execution_count": 23,
     "metadata": {},
     "output_type": "execute_result"
    }
   ],
   "source": [
    "predic = 9\n",
    "buy_value= (qs[0][0]*np.log(predic)+qs[0][1])\n",
    "buy_value"
   ]
  },
  {
   "cell_type": "markdown",
   "metadata": {},
   "source": [
    "GMV预测模型"
   ]
  },
  {
   "cell_type": "code",
   "execution_count": 54,
   "metadata": {},
   "outputs": [
    {
     "data": {
      "text/html": [
       "<div>\n",
       "<style scoped>\n",
       "    .dataframe tbody tr th:only-of-type {\n",
       "        vertical-align: middle;\n",
       "    }\n",
       "\n",
       "    .dataframe tbody tr th {\n",
       "        vertical-align: top;\n",
       "    }\n",
       "\n",
       "    .dataframe thead th {\n",
       "        text-align: right;\n",
       "    }\n",
       "</style>\n",
       "<table border=\"1\" class=\"dataframe\">\n",
       "  <thead>\n",
       "    <tr style=\"text-align: right;\">\n",
       "      <th></th>\n",
       "      <th>doc_count</th>\n",
       "      <th>日期</th>\n",
       "      <th>折前GMV.value</th>\n",
       "    </tr>\n",
       "  </thead>\n",
       "  <tbody>\n",
       "    <tr>\n",
       "      <th>0</th>\n",
       "      <td>62</td>\n",
       "      <td>2019-06-05</td>\n",
       "      <td>1634.299998</td>\n",
       "    </tr>\n",
       "    <tr>\n",
       "      <th>1</th>\n",
       "      <td>33</td>\n",
       "      <td>2019-06-06</td>\n",
       "      <td>1336.799995</td>\n",
       "    </tr>\n",
       "    <tr>\n",
       "      <th>2</th>\n",
       "      <td>25</td>\n",
       "      <td>2019-06-07</td>\n",
       "      <td>1455.099998</td>\n",
       "    </tr>\n",
       "    <tr>\n",
       "      <th>3</th>\n",
       "      <td>36</td>\n",
       "      <td>2019-06-08</td>\n",
       "      <td>1458.609999</td>\n",
       "    </tr>\n",
       "    <tr>\n",
       "      <th>4</th>\n",
       "      <td>32</td>\n",
       "      <td>2019-06-09</td>\n",
       "      <td>1128.690000</td>\n",
       "    </tr>\n",
       "    <tr>\n",
       "      <th>5</th>\n",
       "      <td>28</td>\n",
       "      <td>2019-06-10</td>\n",
       "      <td>1136.300000</td>\n",
       "    </tr>\n",
       "    <tr>\n",
       "      <th>6</th>\n",
       "      <td>35</td>\n",
       "      <td>2019-06-11</td>\n",
       "      <td>1825.500000</td>\n",
       "    </tr>\n",
       "    <tr>\n",
       "      <th>7</th>\n",
       "      <td>34</td>\n",
       "      <td>2019-06-12</td>\n",
       "      <td>1454.200000</td>\n",
       "    </tr>\n",
       "    <tr>\n",
       "      <th>8</th>\n",
       "      <td>37</td>\n",
       "      <td>2019-06-13</td>\n",
       "      <td>1555.889999</td>\n",
       "    </tr>\n",
       "  </tbody>\n",
       "</table>\n",
       "</div>"
      ],
      "text/plain": [
       "   doc_count          日期  折前GMV.value\n",
       "0         62  2019-06-05  1634.299998\n",
       "1         33  2019-06-06  1336.799995\n",
       "2         25  2019-06-07  1455.099998\n",
       "3         36  2019-06-08  1458.609999\n",
       "4         32  2019-06-09  1128.690000\n",
       "5         28  2019-06-10  1136.300000\n",
       "6         35  2019-06-11  1825.500000\n",
       "7         34  2019-06-12  1454.200000\n",
       "8         37  2019-06-13  1555.889999"
      ]
     },
     "execution_count": 54,
     "metadata": {},
     "output_type": "execute_result"
    }
   ],
   "source": [
    "dsl ={'aggs': {'my_buckets': {'aggregations': {'折前GMV': {'sum': {'field': 'skutotal_price'}}},\n",
    "                             'composite': {'size': 9999999,\n",
    "                                           'sources': [{'日期': {'date_histogram': {'field': 'paytime',\n",
    "                                                                                  'interval': '1d',\n",
    "                                                                                  'time_zone': '+00:00'}}},\n",
    "                                                       #{'会员ID':{'terms':{'field':'user_id'}}},\n",
    "                                                       ]}}},\n",
    "     'query': {'bool': {'must': [{'range': {'paytime': {'gte': str(datetime.datetime.strptime(date,'%Y-%m-%d')+datetime.timedelta(days=1))[:10],\n",
    "                                                        'lte': str(datetime.datetime.strptime(date,'%Y-%m-%d')+datetime.timedelta(days=9))[:10], \n",
    "                                                         'format': 'yyyy-MM-dd', 'time_zone': '+00:00'}}}, \n",
    "                                 {'terms':{'user_id': new_member_list}},\n",
    "                                 {'terms': {'order_status': ['done',\n",
    "                                                             'fulfilled',\n",
    "                                                             'confirmed']}}]\n",
    "                       }}}\n",
    "es = Elasticsearch(['http://172.18.198.27:9200/'], timeout=30)\n",
    "res = es.search(index='es_order_table', doc_type='order', body=dsl,\n",
    "                                _source=False, explain=False, track_scores=False, track_total_hits=False, size=0,\n",
    "                                search_type='query_then_fetch')\n",
    "df = json_normalize(res['aggregations']['my_buckets']['buckets'])\n",
    "df.columns = map(lambda x: x.split('key.')[-1] if x.startswith('key.') else x, list(df.columns))\n",
    "df['日期'] = df['日期'].apply(to_date)\n",
    "df"
   ]
  },
  {
   "cell_type": "code",
   "execution_count": 25,
   "metadata": {},
   "outputs": [
    {
     "data": {
      "text/plain": [
       "[<matplotlib.lines.Line2D at 0x7f934050b8d0>]"
      ]
     },
     "execution_count": 25,
     "metadata": {},
     "output_type": "execute_result"
    },
    {
     "data": {
      "image/png": "[encoded data removed]",
      "text/plain": [
       "<Figure size 432x288 with 1 Axes>"
      ]
     },
     "metadata": {},
     "output_type": "display_data"
    }
   ],
   "source": [
    "plt.plot(df['折前GMV.value'])"
   ]
  },
  {
   "cell_type": "code",
   "execution_count": 34,
   "metadata": {},
   "outputs": [
    {
     "data": {
      "text/plain": [
       "[<matplotlib.lines.Line2D at 0x7f933e173320>]"
      ]
     },
     "execution_count": 34,
     "metadata": {},
     "output_type": "execute_result"
    },
    {
     "data": {
      "image/png": "[encoded data removed]",
      "text/plain": [
       "<Figure size 432x288 with 1 Axes>"
      ]
     },
     "metadata": {},
     "output_type": "display_data"
    }
   ],
   "source": [
    "x3=np.linspace(1,8,1000) #用于画图精度的调节\n",
    "x0=[1,2,3,4,5,6,7] #x变量, 在这里2,3,7全部减1\n",
    "x2=np.array(x0) #向量化x变量\n",
    "y0=df['折前GMV.value'].tolist() #y\n",
    "y2=np.array(y0)#向量化\n",
    "p0=[1,2800]#取值起始点\n",
    " \n",
    " \n",
    "qs=leastsq(residuals,p0,args=(y2,x2)) #最小二乘法\n",
    "#print (qs[0])      #为最佳的拟合函数参数\n",
    "\n",
    "pl.plot(x0,y0,label='Real',color='red') #画出实际图像\n",
    "pl.plot(x3,func(x3,qs[0]),label='sim',color='blue') #预测图像"
   ]
  },
  {
   "cell_type": "code",
   "execution_count": 29,
   "metadata": {},
   "outputs": [
    {
     "data": {
      "text/plain": [
       "830.5375305772841"
      ]
     },
     "execution_count": 29,
     "metadata": {},
     "output_type": "execute_result"
    }
   ],
   "source": [
    "predic = 8\n",
    "GMV_value= qs[0][0]*np.log(predic)+qs[0][1]\n",
    "GMV_value"
   ]
  },
  {
   "cell_type": "markdown",
   "metadata": {},
   "source": [
    "封装函数"
   ]
  },
  {
   "cell_type": "code",
   "execution_count": 35,
   "metadata": {},
   "outputs": [],
   "source": [
    "def predict_next_day_pop(date):\n",
    "    dsl = {'aggs': {'my_buckets': {'composite': {'size': 9999999,\n",
    "                                       'sources': [\n",
    "                                                   {'id': {'terms': {'field': 'id'}}},\n",
    "\n",
    "                                                  ]}}},\n",
    "                 'query': {'bool': {'must': [{'range': {'first_vip_created': {'format': 'yyyy-MM-dd',\n",
    "                                                              'gte': date,\n",
    "                                                              'lte': date,\n",
    "                                                              'time_zone': '+00:00'}}}]}}}\n",
    "    es = Elasticsearch(['http://172.18.198.27:9200/'], timeout=30)\n",
    "    res = es.search(index='es_user_table', doc_type='user', body=dsl,\n",
    "                            _source=False, explain=False, track_scores=False, track_total_hits=False, size=0,\n",
    "                            search_type='query_then_fetch')\n",
    "    df1 = json_normalize(res['aggregations']['my_buckets']['buckets'])\n",
    "    df1.columns = map(lambda x: x.split('key.')[-1] if x.startswith('key.') else x, list(df1.columns))\n",
    "    new_member_list=df1['id'].tolist()\n",
    "    dsl ={'aggs': {'my_buckets': {'aggregations': {'折前GMV': {'sum': {'field': 'skutotal_price'}}},\n",
    "                             'composite': {'size': 9999999,\n",
    "                                           'sources': [{'日期': {'date_histogram': {'field': 'paytime',\n",
    "                                                                                  'interval': '1d',\n",
    "                                                                                  'time_zone': '+00:00'}}},\n",
    "                                                       {'会员ID':{'terms':{'field':'user_id'}}},\n",
    "                                                       ]}}},\n",
    "     'query': {'bool': {'must': [{'range': {'paytime': {'gte': str(datetime.datetime.strptime(date,'%Y-%m-%d')+datetime.timedelta(days=1))[:10],  \n",
    "                                                        'lte': str(datetime.datetime.strptime(date,'%Y-%m-%d')+datetime.timedelta(days=7))[:10], \n",
    "                                                         'format': 'yyyy-MM-dd', 'time_zone': '+00:00'}}}, \n",
    "                                 {'terms':{'user_id': new_member_list}},\n",
    "                                 {'terms': {'order_status': ['done',\n",
    "                                                             'fulfilled',\n",
    "                                                             'confirmed']}}]\n",
    "                       }}}\n",
    "    es = Elasticsearch(['http://172.18.198.27:9200/'], timeout=30)\n",
    "    res = es.search(index='es_order_table', doc_type='order', body=dsl,\n",
    "                                    _source=False, explain=False, track_scores=False, track_total_hits=False, size=0,\n",
    "                                    search_type='query_then_fetch')\n",
    "    df = json_normalize(res['aggregations']['my_buckets']['buckets'])\n",
    "    df.columns = map(lambda x: x.split('key.')[-1] if x.startswith('key.') else x, list(df.columns))\n",
    "    df['日期'] = df['日期'].apply(to_date)\n",
    "\n",
    "    df_date=df.groupby('日期').apply(get_buy_rate)\n",
    "    \n",
    "    number=[]\n",
    "    for i in range(len(df_date)):\n",
    "        number.append(len(df_date.iloc[i]['buy_list']))\n",
    "    df_date['人数']=number\n",
    "\n",
    "\n",
    "    x3=np.linspace(1,8,1000) #用于画图精度的调节\n",
    "    x0=[1,2,3,4,5,6,7] #x变量, 在这里2,3,7全部减1\n",
    "    x2=np.array(x0) #向量化x变量\n",
    "    y0=df_date['人数'].tolist() #y\n",
    "    #y0=np.log10(df_date['人数']).tolist() #y\n",
    "    y2=np.array(y0)#向量化\n",
    "    p0=[1,2800]#取值起始点\n",
    "\n",
    "    qs=leastsq(residuals,p0,args=(y2,x2)) #最小二乘法\n",
    "    \n",
    "    return qs,pl.plot(x0,y0,label='Real',color='red'),pl.plot(x3,func(x3,qs[0]),label='sim',color='blue') #预测图像\n",
    "    "
   ]
  },
  {
   "cell_type": "code",
   "execution_count": 36,
   "metadata": {},
   "outputs": [],
   "source": [
    "def predict_next_day_GMV(date):\n",
    "    dsl = {'aggs': {'my_buckets': {'composite': {'size': 9999999,\n",
    "                                       'sources': [\n",
    "                                                   {'id': {'terms': {'field': 'id'}}},\n",
    "\n",
    "                                                  ]}}},\n",
    "                 'query': {'bool': {'must': [{'range': {'first_vip_created': {'format': 'yyyy-MM-dd',\n",
    "                                                              'gte': date,\n",
    "                                                              'lte': date,\n",
    "                                                              'time_zone': '+00:00'}}}]}}}\n",
    "    es = Elasticsearch(['http://172.18.198.27:9200/'], timeout=30)\n",
    "    res = es.search(index='es_user_table', doc_type='user', body=dsl,\n",
    "                            _source=False, explain=False, track_scores=False, track_total_hits=False, size=0,\n",
    "                            search_type='query_then_fetch')\n",
    "    df1 = json_normalize(res['aggregations']['my_buckets']['buckets'])\n",
    "    df1.columns = map(lambda x: x.split('key.')[-1] if x.startswith('key.') else x, list(df1.columns))\n",
    "    new_member_list=df1['id'].tolist()\n",
    "    \n",
    "    dsl ={'aggs': {'my_buckets': {'aggregations': {'折前GMV': {'sum': {'field': 'skutotal_price'}}},\n",
    "                             'composite': {'size': 9999999,\n",
    "                                           'sources': [{'日期': {'date_histogram': {'field': 'paytime',\n",
    "                                                                                  'interval': '1d',\n",
    "                                                                                  'time_zone': '+00:00'}}},\n",
    "                                                       #{'会员ID':{'terms':{'field':'user_id'}}},\n",
    "                                                       ]}}},\n",
    "     'query': {'bool': {'must': [{'range': {'paytime': {'gte': str(datetime.datetime.strptime(date,'%Y-%m-%d')+datetime.timedelta(days=1))[:10],\n",
    "                                                        'lte': str(datetime.datetime.strptime(date,'%Y-%m-%d')+datetime.timedelta(days=7))[:10], \n",
    "                                                         'format': 'yyyy-MM-dd', 'time_zone': '+00:00'}}}, \n",
    "                                 {'terms':{'user_id': new_member_list}},\n",
    "                                 {'terms': {'order_status': ['done',\n",
    "                                                             'fulfilled',\n",
    "                                                             'confirmed']}}]\n",
    "                       }}}\n",
    "    es = Elasticsearch(['http://172.18.198.27:9200/'], timeout=30)\n",
    "    res = es.search(index='es_order_table', doc_type='order', body=dsl,\n",
    "                                    _source=False, explain=False, track_scores=False, track_total_hits=False, size=0,\n",
    "                                    search_type='query_then_fetch')\n",
    "    df = json_normalize(res['aggregations']['my_buckets']['buckets'])\n",
    "    df.columns = map(lambda x: x.split('key.')[-1] if x.startswith('key.') else x, list(df.columns))\n",
    "    df['日期'] = df['日期'].apply(to_date)\n",
    "\n",
    "    x3=np.linspace(1,8,1000) #用于画图精度的调节\n",
    "    x0=[1,2,3,4,5,6,7] #x变量, \n",
    "    x2=np.array(x0) #向量化x变量\n",
    "    y0=df['折前GMV.value'].tolist() #y\n",
    "    y2=np.array(y0)#向量化\n",
    "    p0=[1,4.5]#取值起始点\n",
    "    \n",
    "    qs=leastsq(residuals,p0,args=(y2,x2)) #最小二乘法\n",
    "    #print (qs[0])      #为最佳的拟合函数参数\n",
    " \n",
    "    return qs,pl.plot(x0,y0,label='Real',color='red'),pl.plot(x3,func(x3,qs[0]),label='sim',color='blue') #预测图像"
   ]
  },
  {
   "cell_type": "code",
   "execution_count": 37,
   "metadata": {},
   "outputs": [],
   "source": [
    "def reality_eight_value(date):\n",
    "    dsl = {'aggs': {'my_buckets': {'composite': {'size': 9999999,\n",
    "                                       'sources': [{'id': {'terms': {'field': 'id'}}}]}}},\n",
    "                 'query': {'bool': {'must': [{'range': {'first_vip_created': {'format': 'yyyy-MM-dd','gte': date,'lte': date,'time_zone': '+00:00'}}}]}}}\n",
    "    es = Elasticsearch(['http://172.18.198.27:9200/'], timeout=30)\n",
    "    res = es.search(index='es_user_table', doc_type='user', body=dsl,\n",
    "                            _source=False, explain=False, track_scores=False, track_total_hits=False, size=0,\n",
    "                            search_type='query_then_fetch')\n",
    "    df1 = json_normalize(res['aggregations']['my_buckets']['buckets'])\n",
    "    df1.columns = map(lambda x: x.split('key.')[-1] if x.startswith('key.') else x, list(df1.columns))\n",
    "    new_member_list=df1['id'].tolist()\n",
    "    dsl ={'aggs': {'my_buckets': {'aggregations': {'折前GMV': {'sum': {'field': 'skutotal_price'}}},\n",
    "                             'composite': {'size': 9999999,\n",
    "                                           'sources': [#{'日期': {'date_histogram': {'field': 'paytime',\n",
    "                                                       #                           'interval': '1d',\n",
    "                                                       #                           'time_zone': '+00:00'}}},\n",
    "                                                       {'会员ID':{'terms':{'field':'user_id'}}},\n",
    "                                                       ]}}},\n",
    "     'query': {'bool': {'must': [{'range': {'paytime': {'gte': str(datetime.datetime.strptime(date,'%Y-%m-%d')+datetime.timedelta(days=8))[:10],\n",
    "                                                        'lte': str(datetime.datetime.strptime(date,'%Y-%m-%d')+datetime.timedelta(days=8))[:10], \n",
    "                                                         'format': 'yyyy-MM-dd', 'time_zone': '+00:00'}}}, \n",
    "                                 {'terms':{'user_id': new_member_list}},\n",
    "                                 {'terms': {'order_status': ['done',\n",
    "                                                             'fulfilled',\n",
    "                                                             'confirmed']}}]\n",
    "                       }}}\n",
    "    es = Elasticsearch(['http://172.18.198.27:9200/'], timeout=30)\n",
    "    res = es.search(index='es_order_table', doc_type='order', body=dsl,\n",
    "                                    _source=False, explain=False, track_scores=False, track_total_hits=False, size=0,\n",
    "                                    search_type='query_then_fetch')\n",
    "    df = json_normalize(res['aggregations']['my_buckets']['buckets'])\n",
    "    df.columns = map(lambda x: x.split('key.')[-1] if x.startswith('key.') else x, list(df.columns))\n",
    "    pop = len(df)\n",
    "    GMV_real = df['折前GMV.value'].sum()\n",
    "    return pop,GMV_real"
   ]
  },
  {
   "cell_type": "code",
   "execution_count": 117,
   "metadata": {},
   "outputs": [
    {
     "data": {
      "text/plain": [
       "((array([-13.24633819,  49.98959578]), 1),\n",
       " [<matplotlib.lines.Line2D at 0x7f933db5f5f8>],\n",
       " [<matplotlib.lines.Line2D at 0x7f933db5f7b8>])"
      ]
     },
     "execution_count": 117,
     "metadata": {},
     "output_type": "execute_result"
    },
    {
     "data": {
      "image/png": "[encoded data removed]",
      "text/plain": [
       "<Figure size 432x288 with 1 Axes>"
      ]
     },
     "metadata": {},
     "output_type": "display_data"
    }
   ],
   "source": [
    "date = '2019-06-03'\n",
    "predict_next_day_pop(date)"
   ]
  },
  {
   "cell_type": "code",
   "execution_count": 119,
   "metadata": {},
   "outputs": [
    {
     "data": {
      "text/plain": [
       "830.5375305772841"
      ]
     },
     "execution_count": 119,
     "metadata": {},
     "output_type": "execute_result"
    },
    {
     "data": {
      "image/png": "[encoded data removed]",
      "text/plain": [
       "<Figure size 432x288 with 1 Axes>"
      ]
     },
     "metadata": {},
     "output_type": "display_data"
    }
   ],
   "source": [
    "new_day=8\n",
    "predict_GMV=predict_next_day_GMV(date)[0][0][0]*np.log(new_day)+predict_next_day_GMV(date)[0][0][1]\n",
    "predict_GMV"
   ]
  },
  {
   "cell_type": "code",
   "execution_count": 120,
   "metadata": {},
   "outputs": [
    {
     "data": {
      "text/plain": [
       "(31, 1825.5000002384186)"
      ]
     },
     "execution_count": 120,
     "metadata": {},
     "output_type": "execute_result"
    }
   ],
   "source": [
    "reality_eight_value(date)"
   ]
  },
  {
   "cell_type": "code",
   "execution_count": 121,
   "metadata": {},
   "outputs": [
    {
     "data": {
      "text/plain": [
       "0.2759803263552219"
      ]
     },
     "execution_count": 121,
     "metadata": {},
     "output_type": "execute_result"
    }
   ],
   "source": [
    "diff_pop=(reality_eight_value(date)[0]-predict_pop)/reality_eight_value(date)[0]\n",
    "diff_pop"
   ]
  },
  {
   "cell_type": "code",
   "execution_count": 122,
   "metadata": {},
   "outputs": [
    {
     "data": {
      "text/plain": [
       "0.5450355899924337"
      ]
     },
     "execution_count": 122,
     "metadata": {},
     "output_type": "execute_result"
    }
   ],
   "source": [
    "diff_GMV=(reality_eight_value(date)[1]-predict_GMV)/reality_eight_value(date)[1]\n",
    "diff_GMV"
   ]
  },
  {
   "cell_type": "markdown",
   "metadata": {},
   "source": [
    "切片"
   ]
  },
  {
   "cell_type": "code",
   "execution_count": 56,
   "metadata": {},
   "outputs": [],
   "source": [
    "dsl = {'aggs': {'my_buckets': {'composite': {'size': 9999999,\n",
    "                                       'sources': [{'日期': {'date_histogram': {'field': 'first_vip_created',\n",
    "                                                                              'interval': '1d',\n",
    "                                                                              'time_zone': '+00:00'}}},\n",
    "                                                   {'id': {'terms': {'field': 'id'}}},\n",
    "\n",
    "                                                  ]}}},\n",
    "                 'query': {'bool': {'must': [{'range': {'first_vip_created': {'format': 'yyyy-MM-dd',\n",
    "                                                              'gte': '2019-03-01',\n",
    "                                                              'lte': '2019-06-04',\n",
    "                                                              'time_zone': '+00:00'}}}]}}}\n",
    "es = Elasticsearch(['http://172.18.198.27:9200/'], timeout=30)\n",
    "res = es.search(index='es_user_table', doc_type='user', body=dsl,\n",
    "                        _source=False, explain=False, track_scores=False, track_total_hits=False, size=0,\n",
    "                        search_type='query_then_fetch')\n",
    "df1 = json_normalize(res['aggregations']['my_buckets']['buckets'])\n",
    "df1.columns = map(lambda x: x.split('key.')[-1] if x.startswith('key.') else x, list(df1.columns))\n",
    "df1['日期']= df1['日期'].apply(to_date)\n",
    "#new_member_list=df1['id'].tolist()"
   ]
  },
  {
   "cell_type": "code",
   "execution_count": 57,
   "metadata": {},
   "outputs": [],
   "source": [
    "dts=df1.groupby('日期').apply(get_vip_list).reset_index()"
   ]
  },
  {
   "cell_type": "code",
   "execution_count": 58,
   "metadata": {},
   "outputs": [
    {
     "name": "stderr",
     "output_type": "stream",
     "text": [
      "100% (96 of 96) |########################| Elapsed Time: 0:00:15 Time:  0:00:15\n"
     ]
    }
   ],
   "source": [
    "GMV_1,GMV_2,GMV_3,GMV_4,GMV_5,GMV_6,GMV_7,GMV_8,GMV_9,GMV_10,GMV_11,GMV_12,GMV_13,GMV_14=[],[],[],[],[],[],[],[],[],[],[],[],[],[]\n",
    "bar = progressbar\n",
    "for i in bar.progressbar(range(len(dts))):\n",
    "    date=dts.iloc[i]['日期']\n",
    "    dsl ={'aggs': {'my_buckets': {'aggregations': {'折前GMV': {'sum': {'field': 'skutotal_price'}}},\n",
    "                             'composite': {'size': 9999999,\n",
    "                                           'sources': [{'日期': {'date_histogram': {'field': 'paytime',\n",
    "                                                                                  'interval': '1d',\n",
    "                                                                                  'time_zone': '+00:00'}}},\n",
    "                                                       ]}}},\n",
    "     'query': {'bool': {'must': [{'range': {'paytime': {'gte': str(datetime.datetime.strptime(date,'%Y-%m-%d')+datetime.timedelta(days=1))[:10],\n",
    "                                                        'lte': str(datetime.datetime.strptime(date,'%Y-%m-%d')+datetime.timedelta(days=14))[:10], \n",
    "                                                         'format': 'yyyy-MM-dd', 'time_zone': '+00:00'}}}, \n",
    "                                 {'terms':{'user_id': dts.iloc[i]['vip_list']}},\n",
    "                                 {'terms': {'order_status': ['done',\n",
    "                                                             'fulfilled',\n",
    "                                                             'confirmed']}}]\n",
    "                       }}}\n",
    "    es = Elasticsearch(['http://172.18.198.27:9200/'], timeout=30)\n",
    "    res = es.search(index='es_order_table', doc_type='order', body=dsl,\n",
    "                                    _source=False, explain=False, track_scores=False, track_total_hits=False, size=0,\n",
    "                                    search_type='query_then_fetch')\n",
    "    df = json_normalize(res['aggregations']['my_buckets']['buckets'])\n",
    "    df.columns = map(lambda x: x.split('key.')[-1] if x.startswith('key.') else x, list(df.columns))\n",
    "    GMV_1.append(df.iloc[0]['折前GMV.value'])\n",
    "    GMV_2.append(df.iloc[1]['折前GMV.value'])\n",
    "    GMV_3.append(df.iloc[2]['折前GMV.value'])\n",
    "    GMV_4.append(df.iloc[3]['折前GMV.value'])\n",
    "    GMV_5.append(df.iloc[4]['折前GMV.value'])\n",
    "    GMV_6.append(df.iloc[5]['折前GMV.value'])\n",
    "    GMV_7.append(df.iloc[6]['折前GMV.value'])\n",
    "    GMV_8.append(df.iloc[7]['折前GMV.value'])\n",
    "    GMV_9.append(df.iloc[8]['折前GMV.value'])\n",
    "    GMV_10.append(df.iloc[9]['折前GMV.value'])\n",
    "    GMV_11.append(df.iloc[10]['折前GMV.value'])\n",
    "    GMV_12.append(df.iloc[11]['折前GMV.value'])\n",
    "    GMV_13.append(df.iloc[12]['折前GMV.value'])\n",
    "    GMV_14.append(df.iloc[13]['折前GMV.value'])\n",
    "    "
   ]
  },
  {
   "cell_type": "code",
   "execution_count": 59,
   "metadata": {},
   "outputs": [],
   "source": [
    "dts['第一天']=GMV_1\n",
    "dts['第二天']=GMV_2\n",
    "dts['第三天']=GMV_3\n",
    "dts['第四天']=GMV_4\n",
    "dts['第五天']=GMV_5\n",
    "dts['第六天']=GMV_6\n",
    "dts['第七天']=GMV_7\n",
    "dts['第八天']=GMV_8\n",
    "dts['第九天']=GMV_9\n",
    "dts['第十天']=GMV_10\n",
    "dts['第十一天']=GMV_11\n",
    "dts['第十二天']=GMV_12\n",
    "dts['第十三天']=GMV_13\n",
    "dts['第十四天']=GMV_14"
   ]
  },
  {
   "cell_type": "code",
   "execution_count": 61,
   "metadata": {},
   "outputs": [],
   "source": [
    "sum_1=dts['第一天'].sum()/len(dts)\n",
    "sum_2=dts['第二天'].sum()/len(dts)\n",
    "sum_3=dts['第三天'].sum()/len(dts)\n",
    "sum_4=dts['第四天'].sum()/len(dts)\n",
    "sum_5=dts['第五天'].sum()/len(dts)\n",
    "sum_6=dts['第六天'].sum()/len(dts)\n",
    "sum_7=dts['第七天'].sum()/len(dts)\n",
    "sum_8=dts['第八天'].sum()/len(dts)\n",
    "sum_9=dts['第九天'].sum()/len(dts)\n",
    "sum_10=dts['第十天'].sum()/len(dts)\n",
    "sum_11=dts['第十一天'].sum()/len(dts)\n",
    "sum_12=dts['第十二天'].sum()/len(dts)\n",
    "sum_13=dts['第十三天'].sum()/len(dts)\n",
    "sum_14=dts['第十四天'].sum()/len(dts)"
   ]
  },
  {
   "cell_type": "code",
   "execution_count": 62,
   "metadata": {},
   "outputs": [],
   "source": [
    "all_list=[sum_1,sum_2,sum_3,sum_4,sum_5,sum_6,sum_7,sum_8,sum_9,sum_10,sum_11,sum_12,sum_13,sum_14]"
   ]
  },
  {
   "cell_type": "code",
   "execution_count": 63,
   "metadata": {},
   "outputs": [
    {
     "data": {
      "text/plain": [
       "([<matplotlib.lines.Line2D at 0x7f6199d5ec50>],\n",
       " [<matplotlib.lines.Line2D at 0x7f6199d5e1d0>])"
      ]
     },
     "execution_count": 63,
     "metadata": {},
     "output_type": "execute_result"
    },
    {
     "data": {
      "image/png": "[encoded data removed]",
      "text/plain": [
       "<Figure size 432x288 with 1 Axes>"
      ]
     },
     "metadata": {
      "needs_background": "light"
     },
     "output_type": "display_data"
    }
   ],
   "source": [
    "x3=np.linspace(1,15,1000) #用于画图精度的调节\n",
    "x0=[1,2,3,4,5,6,7,8,9,10,11,12,13,14] #x变量, \n",
    "x2=np.array(x0) #向量化x变量\n",
    "y0=all_list #y\n",
    "y2=np.array(y0)#向量化\n",
    "p0=[1,3000]#取值起始点\n",
    "    \n",
    "qs=leastsq(residuals,p0,args=(y2,x2)) #最小二乘法\n",
    "pl.plot(x0,y0,label='Real',color='red'),pl.plot(x3,func(x3,qs[0]),label='sim',color='blue') #预测图像"
   ]
  },
  {
   "cell_type": "code",
   "execution_count": null,
   "metadata": {},
   "outputs": [],
   "source": []
  },
  {
   "cell_type": "code",
   "execution_count": null,
   "metadata": {},
   "outputs": [],
   "source": []
  }
 ],
 "metadata": {
  "kernelspec": {
   "display_name": "Python 3",
   "language": "python",
   "name": "python3"
  },
  "language_info": {
   "codemirror_mode": {
    "name": "ipython",
    "version": 3
   },
   "file_extension": ".py",
   "mimetype": "text/x-python",
   "name": "python",
   "nbconvert_exporter": "python",
   "pygments_lexer": "ipython3",
   "version": "3.6.6"
  }
 },
 "nbformat": 4,
 "nbformat_minor": 2
}
